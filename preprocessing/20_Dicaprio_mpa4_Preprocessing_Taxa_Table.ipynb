{
 "cells": [
  {
   "cell_type": "code",
   "execution_count": 0,
   "metadata": {
    "application/vnd.databricks.v1+cell": {
     "cellMetadata": {
      "byteLimit": 2048000,
      "rowLimit": 10000
     },
     "inputWidgets": {},
     "nuid": "3e31ec87-3105-40d1-b6df-6f64c8bb8c5d",
     "showTitle": false,
     "tableResultSettingsMap": {},
     "title": ""
    }
   },
   "outputs": [],
   "source": [
    "%load_ext autoreload\n",
    "%autoreload 2"
   ]
  },
  {
   "cell_type": "code",
   "execution_count": 0,
   "metadata": {
    "application/vnd.databricks.v1+cell": {
     "cellMetadata": {
      "byteLimit": 2048000,
      "rowLimit": 10000
     },
     "inputWidgets": {},
     "nuid": "413e0c66-89ed-40c6-8dad-7f986b7964f0",
     "showTitle": false,
     "tableResultSettingsMap": {},
     "title": ""
    }
   },
   "outputs": [],
   "source": [
    "level_mapping = {\n",
    "    'd': 'domain',\n",
    "    'p': 'phylum',\n",
    "    'c': 'class',\n",
    "    'o': 'order',\n",
    "    'f': 'family',\n",
    "    'g': 'genus',\n",
    "    's': 'species'\n",
    "}"
   ]
  },
  {
   "cell_type": "markdown",
   "metadata": {
    "application/vnd.databricks.v1+cell": {
     "cellMetadata": {
      "byteLimit": 2048000,
      "rowLimit": 10000
     },
     "inputWidgets": {},
     "nuid": "b2c980de-dbd3-4ff5-aebf-17fa29f50e8f",
     "showTitle": false,
     "tableResultSettingsMap": {},
     "title": ""
    }
   },
   "source": [
    "# Data loading & exploration"
   ]
  },
  {
   "cell_type": "code",
   "execution_count": 0,
   "metadata": {
    "application/vnd.databricks.v1+cell": {
     "cellMetadata": {
      "byteLimit": 2048000,
      "rowLimit": 10000
     },
     "inputWidgets": {},
     "nuid": "589ece0d-bf0f-4585-a0ee-79560a4fcbb9",
     "showTitle": false,
     "tableResultSettingsMap": {
      "0": {
       "dataGridStateBlob": "{\"version\":1,\"tableState\":{\"columnPinning\":{\"left\":[\"#row_number#\"],\"right\":[]},\"columnSizing\":{},\"columnVisibility\":{}},\"settings\":{\"columns\":{}},\"syncTimestamp\":1752748145561}",
       "filterBlob": null,
       "queryPlanFiltersBlob": null,
       "tableResultIndex": 0
      }
     },
     "title": ""
    }
   },
   "outputs": [],
   "source": [
    "df_raw = spark.read.table(\"onesource_eu_dev_rni.onebiome.mpa_4\")\n",
    "display(df_raw)"
   ]
  },
  {
   "cell_type": "code",
   "execution_count": 0,
   "metadata": {
    "application/vnd.databricks.v1+cell": {
     "cellMetadata": {
      "byteLimit": 2048000,
      "rowLimit": 10000
     },
     "inputWidgets": {},
     "nuid": "b76b82d4-4121-4ce6-b454-a2b4518290b3",
     "showTitle": false,
     "tableResultSettingsMap": {},
     "title": ""
    }
   },
   "outputs": [],
   "source": [
    "num_samples = df_raw.count()\n",
    "print(f\"Number of samples in df_raw: {num_samples}\")\n",
    "\n",
    "num_columns = len(df_raw.columns)\n",
    "print(f\"Number of columns in df_raw: {num_columns}\")\n",
    "\n"
   ]
  },
  {
   "cell_type": "code",
   "execution_count": 0,
   "metadata": {
    "application/vnd.databricks.v1+cell": {
     "cellMetadata": {
      "byteLimit": 2048000,
      "rowLimit": 10000
     },
     "inputWidgets": {},
     "nuid": "91c89b65-2e9b-4f4d-94a5-4f41734e3037",
     "showTitle": false,
     "tableResultSettingsMap": {},
     "title": ""
    }
   },
   "outputs": [],
   "source": [
    "memory_size_gb = df_raw.rdd.map(lambda row: len(str(row))).sum() / (1024 ** 3)\n",
    "print(f\"Memory size of df_raw: {memory_size_gb:.2f} GB\")"
   ]
  },
  {
   "cell_type": "code",
   "execution_count": 0,
   "metadata": {
    "application/vnd.databricks.v1+cell": {
     "cellMetadata": {
      "byteLimit": 2048000,
      "rowLimit": 10000
     },
     "inputWidgets": {},
     "nuid": "815ff11f-d22e-4d7b-8024-4b7ec5de75ef",
     "showTitle": false,
     "tableResultSettingsMap": {},
     "title": ""
    }
   },
   "outputs": [],
   "source": [
    "print(df_raw.select('version').distinct().collect())\n",
    "df_raw = df_raw.drop('version')"
   ]
  },
  {
   "cell_type": "markdown",
   "metadata": {
    "application/vnd.databricks.v1+cell": {
     "cellMetadata": {
      "byteLimit": 2048000,
      "rowLimit": 10000
     },
     "inputWidgets": {},
     "nuid": "48a3d1ff-dbec-4f83-948d-06bd9f32b2de",
     "showTitle": false,
     "tableResultSettingsMap": {},
     "title": ""
    }
   },
   "source": [
    "### Check the finest taxonomic level"
   ]
  },
  {
   "cell_type": "code",
   "execution_count": 0,
   "metadata": {
    "application/vnd.databricks.v1+cell": {
     "cellMetadata": {
      "byteLimit": 2048000,
      "rowLimit": 10000
     },
     "inputWidgets": {},
     "nuid": "c860a63f-8947-4d3c-bb65-1ec0a8310b4b",
     "showTitle": false,
     "tableResultSettingsMap": {},
     "title": ""
    }
   },
   "outputs": [],
   "source": [
    "import pandas as pd\n",
    "df_raw = df_raw.toPandas().set_index('barcode')\n",
    "df_raw = df_raw.apply(pd.to_numeric, errors='coerce')\n",
    "df_raw"
   ]
  },
  {
   "cell_type": "code",
   "execution_count": 0,
   "metadata": {
    "application/vnd.databricks.v1+cell": {
     "cellMetadata": {
      "byteLimit": 2048000,
      "rowLimit": 10000
     },
     "inputWidgets": {},
     "nuid": "9bfdaadb-9947-4125-b7fa-1eb669b342a9",
     "showTitle": false,
     "tableResultSettingsMap": {},
     "title": ""
    }
   },
   "outputs": [],
   "source": [
    "for i, col in enumerate(df_raw.columns[26:35]):\n",
    "    print(i+26, col)"
   ]
  },
  {
   "cell_type": "code",
   "execution_count": 0,
   "metadata": {
    "application/vnd.databricks.v1+cell": {
     "cellMetadata": {
      "byteLimit": 2048000,
      "rowLimit": 10000
     },
     "inputWidgets": {},
     "nuid": "407cf553-f57a-4b28-a648-d804604b22e2",
     "showTitle": false,
     "tableResultSettingsMap": {},
     "title": ""
    }
   },
   "outputs": [],
   "source": [
    "for i in range(26, 30):\n",
    "    print(i, df_raw.columns[i], df_raw.iloc[:, i].sum())"
   ]
  },
  {
   "cell_type": "code",
   "execution_count": 0,
   "metadata": {
    "application/vnd.databricks.v1+cell": {
     "cellMetadata": {
      "byteLimit": 2048000,
      "rowLimit": 10000
     },
     "inputWidgets": {},
     "nuid": "25aef1f2-ca8f-49ec-b710-a54f453d6ab7",
     "showTitle": false,
     "tableResultSettingsMap": {},
     "title": ""
    }
   },
   "outputs": [],
   "source": [
    "df_raw.iloc[:, 11:21]"
   ]
  },
  {
   "cell_type": "code",
   "execution_count": 0,
   "metadata": {
    "application/vnd.databricks.v1+cell": {
     "cellMetadata": {
      "byteLimit": 2048000,
      "rowLimit": 10000
     },
     "inputWidgets": {},
     "nuid": "cabc0103-e2a7-4009-af03-0016743729c6",
     "showTitle": false,
     "tableResultSettingsMap": {},
     "title": ""
    }
   },
   "outputs": [],
   "source": [
    "import pandas as pd\n",
    "\n",
    "# Check if the values in the specified columns are the same\n",
    "columns_to_check = df_raw.columns[df_raw.columns.str.startswith('barcode')]\n",
    "print(columns_to_check)\n",
    "all(df_raw[columns_to_check[0]].equals(df_raw[col]) for col in columns_to_check[1:4])\n"
   ]
  },
  {
   "cell_type": "code",
   "execution_count": 0,
   "metadata": {
    "application/vnd.databricks.v1+cell": {
     "cellMetadata": {
      "byteLimit": 2048000,
      "rowLimit": 10000
     },
     "inputWidgets": {},
     "nuid": "5e9766e5-579e-4018-8932-ccaa8f895eca",
     "showTitle": false,
     "tableResultSettingsMap": {},
     "title": ""
    }
   },
   "outputs": [],
   "source": [
    "df_raw.drop(columns=columns_to_check, inplace=True)"
   ]
  },
  {
   "cell_type": "markdown",
   "metadata": {
    "application/vnd.databricks.v1+cell": {
     "cellMetadata": {
      "byteLimit": 2048000,
      "rowLimit": 10000
     },
     "inputWidgets": {},
     "nuid": "360590c3-2094-4e87-b7ac-ab291d5780f1",
     "showTitle": false,
     "tableResultSettingsMap": {},
     "title": ""
    }
   },
   "source": [
    "### bacteria percentage"
   ]
  },
  {
   "cell_type": "code",
   "execution_count": 0,
   "metadata": {
    "application/vnd.databricks.v1+cell": {
     "cellMetadata": {
      "byteLimit": 2048000,
      "rowLimit": 10000
     },
     "inputWidgets": {},
     "nuid": "4dd6bff3-c986-4398-85fb-fbec899fb7f4",
     "showTitle": false,
     "tableResultSettingsMap": {},
     "title": ""
    }
   },
   "outputs": [],
   "source": [
    "\n",
    "df_raw['d__bacteria'].hist()\n"
   ]
  },
  {
   "cell_type": "markdown",
   "metadata": {
    "application/vnd.databricks.v1+cell": {
     "cellMetadata": {
      "byteLimit": 2048000,
      "rowLimit": 10000
     },
     "inputWidgets": {},
     "nuid": "f6b0f1e3-2504-43e5-ae34-a6f4aad93701",
     "showTitle": false,
     "tableResultSettingsMap": {},
     "title": ""
    }
   },
   "source": [
    "### Unique values in at each taxonomic level"
   ]
  },
  {
   "cell_type": "code",
   "execution_count": 0,
   "metadata": {
    "application/vnd.databricks.v1+cell": {
     "cellMetadata": {
      "byteLimit": 2048000,
      "rowLimit": 10000
     },
     "inputWidgets": {},
     "nuid": "3c5396eb-7fdb-405c-816d-674742ec2cfc",
     "showTitle": false,
     "tableResultSettingsMap": {},
     "title": ""
    }
   },
   "outputs": [],
   "source": [
    "import matplotlib.pyplot as plt\n",
    "\n",
    "# Count the occurrences of each unique value \n",
    "from collections import Counter\n",
    "taxa_counts = Counter([level_mapping[col.split('|')[-1][0]] for col in df_raw.columns])\n",
    "\n",
    "# Plot the counts\n",
    "plt.figure(figsize=(10, 6))\n",
    "plt.bar(taxa_counts.keys(),taxa_counts.values(), edgecolor='k')\n",
    "for i, (taxa, count) in enumerate(taxa_counts.items()):\n",
    "    plt.text(i, count + 0.5, str(count), ha='center', va='bottom')\n",
    "plt.xlabel('Taxa')\n",
    "plt.ylabel('Count')\n",
    "plt.title('Count of Each Unique Value in Each Taxonomic level')\n",
    "plt.xticks(rotation=90)\n",
    "plt.show()"
   ]
  },
  {
   "cell_type": "code",
   "execution_count": 0,
   "metadata": {
    "application/vnd.databricks.v1+cell": {
     "cellMetadata": {
      "byteLimit": 2048000,
      "rowLimit": 10000
     },
     "inputWidgets": {},
     "nuid": "de398d9f-e3af-4652-9215-e0fcdbe4095a",
     "showTitle": false,
     "tableResultSettingsMap": {},
     "title": ""
    }
   },
   "outputs": [],
   "source": [
    "lvls = ['o', 'f', 'g', 's']\n",
    "dict_df_level = dict()\n",
    "for lvl in lvls:\n",
    "    level = level_mapping[lvl]\n",
    "\n",
    "    # filter the columns based on the level\n",
    "    df_level = df_raw[[col for col in df_raw.columns if col.split('|')[-1].startswith(lvl)]].dropna(axis=1, how='all')\n",
    "    num_col = df_level.shape[1]\n",
    "\n",
    "    # remove all zero columns -> absence\n",
    "    df_level = df_level.fillna(0).loc[:, (df_level != 0).any(axis=0)]  \n",
    "    print(\"number of all zero columns: \", num_col - df_level.shape[1])\n",
    "\n",
    "    # rename the columns\n",
    "    if lvl == 's':  \n",
    "        # species level: if species absent, complete by genus_unknown \n",
    "        df_level.columns = [col.split('|')[-1][3:] if col.split('|')[-1][3:] != '' else col.split('|')[-2][3:] + '_' for col in df_level.columns]  # get genus_species\n",
    "        num_underscore_cols = (df_level.columns == '_').sum()\n",
    "        if num_underscore_cols > 0:\n",
    "            print(f\"number of columns lacking both genus and species: {num_underscore_cols}\")\n",
    "            df_level = df_level.loc[:, df_level.columns != '_']\n",
    "        df_level.columns = [col + 'unknown' if col.endswith('_') else col for col in df_level.columns]\n",
    "        df_level.columns = df_level.columns.str.capitalize()  # capitalize first letter to get Genus_species\n",
    "\n",
    "    else:  \n",
    "        # other levels, only for stats, will not be used in the next steps\n",
    "        df_level.columns = [col.split('|')[-1][3:] for col in df_level.columns]  \n",
    "        df_level.columns = df_level.columns.str.lower()\n",
    "\n",
    "    df_level = df_level.drop(columns=[''], errors='ignore')  # remove if level information absent\n",
    "    print(f'level: {level}, shape: {df_level.shape}')\n",
    "    dict_df_level[level] = df_level"
   ]
  },
  {
   "cell_type": "code",
   "execution_count": 0,
   "metadata": {
    "application/vnd.databricks.v1+cell": {
     "cellMetadata": {
      "byteLimit": 2048000,
      "rowLimit": 10000
     },
     "inputWidgets": {},
     "nuid": "f9490f7f-0317-4f40-b390-a029e041054e",
     "showTitle": false,
     "tableResultSettingsMap": {},
     "title": ""
    }
   },
   "outputs": [],
   "source": [
    "\n",
    "import matplotlib.pyplot as plt\n",
    "levels = ['order', 'family', 'genus', 'species']\n",
    "fig, axes = plt.subplots(2, 2, figsize=(8, 6))\n",
    "axes = axes.flatten()\n",
    "for i, level in enumerate(levels):\n",
    "    dict_df_level[level].fillna(0).sum(axis=1).hist(ax=axes[i], bins=100)\n",
    "    axes[i].xaxis.set_major_formatter(plt.FuncFormatter(lambda x, _: f'{x:.4f}'))\n",
    "    axes[i].set_title(f'Distribution of sum for {level} level')\n",
    "plt.tight_layout()\n",
    "plt.show()\n"
   ]
  },
  {
   "cell_type": "code",
   "execution_count": 0,
   "metadata": {
    "application/vnd.databricks.v1+cell": {
     "cellMetadata": {
      "byteLimit": 2048000,
      "rowLimit": 10000
     },
     "inputWidgets": {},
     "nuid": "55eddaff-59f9-4120-aa62-09c7c9fc8f51",
     "showTitle": false,
     "tableResultSettingsMap": {},
     "title": ""
    }
   },
   "outputs": [],
   "source": [
    "def save_df_to_table(df, table_name):\n",
    "    df.reset_index(inplace=True)\n",
    "    df_spark = spark.createDataFrame(df)\n",
    "    spark.sql(f\"DROP TABLE IF EXISTS onesource_eu_dev_rni.onebiome.{table_name}\")\n",
    "    df_spark.write.format(\"delta\").mode(\"overwrite\").saveAsTable(f\"onesource_eu_dev_rni.onebiome.{table_name}\")\n"
   ]
  },
  {
   "cell_type": "code",
   "execution_count": 0,
   "metadata": {
    "application/vnd.databricks.v1+cell": {
     "cellMetadata": {
      "byteLimit": 2048000,
      "rowLimit": 10000
     },
     "inputWidgets": {},
     "nuid": "b9590321-94ad-4f55-8948-6d21e62e989f",
     "showTitle": false,
     "tableResultSettingsMap": {},
     "title": ""
    }
   },
   "outputs": [],
   "source": [
    "# for level, df in dict_df_level.items():\n",
    "#     print(level)\n",
    "#     save_df_to_table(df, f'mpa4_{level}_level')\n",
    "\n",
    "save_df_to_table(dict_df_level['species'], 'mpa4_species_level_reformated')"
   ]
  },
  {
   "cell_type": "markdown",
   "metadata": {
    "application/vnd.databricks.v1+cell": {
     "cellMetadata": {},
     "inputWidgets": {},
     "nuid": "1df2c6c7-b746-4b27-8c8a-4f39b1b3926e",
     "showTitle": false,
     "tableResultSettingsMap": {},
     "title": ""
    }
   },
   "source": []
  }
 ],
 "metadata": {
  "application/vnd.databricks.v1+notebook": {
   "computePreferences": null,
   "dashboards": [],
   "environmentMetadata": {
    "base_environment": "",
    "environment_version": "2"
   },
   "inputWidgetPreferences": null,
   "language": "python",
   "notebookMetadata": {
    "pythonIndentUnit": 4
   },
   "notebookName": "20_Dicaprio_mpa4_Preprocessing_Taxa_Table",
   "widgets": {}
  },
  "language_info": {
   "name": "python"
  }
 },
 "nbformat": 4,
 "nbformat_minor": 0
}
