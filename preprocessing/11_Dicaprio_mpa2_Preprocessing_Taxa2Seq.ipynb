{
 "cells": [
  {
   "cell_type": "markdown",
   "metadata": {
    "application/vnd.databricks.v1+cell": {
     "cellMetadata": {},
     "inputWidgets": {},
     "nuid": "a62884d2-ab14-4b9c-a433-2a771be85c57",
     "showTitle": false,
     "tableResultSettingsMap": {},
     "title": ""
    }
   },
   "source": [
    "# 1. data loading"
   ]
  },
  {
   "cell_type": "code",
   "execution_count": 0,
   "metadata": {
    "application/vnd.databricks.v1+cell": {
     "cellMetadata": {
      "byteLimit": 2048000,
      "rowLimit": 10000
     },
     "inputWidgets": {},
     "nuid": "d1bbf63b-890b-4d5c-b70a-7f5a79790263",
     "showTitle": false,
     "tableResultSettingsMap": {},
     "title": ""
    }
   },
   "outputs": [],
   "source": [
    "df_genus = spark.table(\"onesource_eu_dev_rni.onebiome.mpa_2_genus_table\").toPandas().fillna(0)\n",
    "print(\"Number of samples:\", len(df_genus), \", Number of unique taxa:\", len(df_genus.columns))"
   ]
  },
  {
   "cell_type": "code",
   "execution_count": 0,
   "metadata": {
    "application/vnd.databricks.v1+cell": {
     "cellMetadata": {
      "byteLimit": 2048000,
      "rowLimit": 10000
     },
     "inputWidgets": {},
     "nuid": "03bd920e-904a-484a-8d43-b067e1430f3a",
     "showTitle": false,
     "tableResultSettingsMap": {},
     "title": ""
    }
   },
   "outputs": [],
   "source": [
    "df_genus = df_genus.loc[:, (df_genus != 0).any(axis=0)]\n",
    "df_genus.columns = df_genus.columns.str.lower()\n",
    "print(\"Number of samples:\", len(df_genus), \", Number of unique taxa:\", len(df_genus.columns))"
   ]
  },
  {
   "cell_type": "markdown",
   "metadata": {
    "application/vnd.databricks.v1+cell": {
     "cellMetadata": {},
     "inputWidgets": {},
     "nuid": "2c15f184-709c-495c-8b4f-b60d9bf8bccc",
     "showTitle": false,
     "tableResultSettingsMap": {},
     "title": ""
    }
   },
   "source": [
    "# 2. generate taxa sequence"
   ]
  },
  {
   "cell_type": "code",
   "execution_count": 0,
   "metadata": {
    "application/vnd.databricks.v1+cell": {
     "cellMetadata": {
      "byteLimit": 2048000,
      "rowLimit": 10000
     },
     "inputWidgets": {},
     "nuid": "748477d2-d2ab-43b6-a636-7422f0a1553b",
     "showTitle": false,
     "tableResultSettingsMap": {},
     "title": ""
    }
   },
   "outputs": [],
   "source": [
    "list_sequences = []\n",
    "for _, row in df_genus.iterrows():\n",
    "    ranked_vars = row[row != 0].sort_values(ascending=False).index.tolist()  \n",
    "    list_sequences.append(ranked_vars) "
   ]
  },
  {
   "cell_type": "code",
   "execution_count": 0,
   "metadata": {
    "application/vnd.databricks.v1+cell": {
     "cellMetadata": {
      "byteLimit": 2048000,
      "rowLimit": 10000
     },
     "inputWidgets": {},
     "nuid": "9589adcb-7e49-4ba6-865d-d9677b5d193c",
     "showTitle": false,
     "tableResultSettingsMap": {},
     "title": ""
    }
   },
   "outputs": [],
   "source": [
    "MAX_SEQ_LENGTH = max([len(seq) for seq in list_sequences])\n",
    "print(MAX_SEQ_LENGTH)\n",
    "import matplotlib.pyplot as plt\n",
    "plt.hist([len(seq) for seq in list_sequences], bins=100);"
   ]
  },
  {
   "cell_type": "markdown",
   "metadata": {
    "application/vnd.databricks.v1+cell": {
     "cellMetadata": {},
     "inputWidgets": {},
     "nuid": "1f2829d4-deb4-4cd8-b360-21a45767a0fb",
     "showTitle": false,
     "tableResultSettingsMap": {},
     "title": ""
    }
   },
   "source": [
    "--> length of the sequence: from 0 to 64, number of unique values: "
   ]
  },
  {
   "cell_type": "code",
   "execution_count": 0,
   "metadata": {
    "application/vnd.databricks.v1+cell": {
     "cellMetadata": {
      "byteLimit": 2048000,
      "rowLimit": 10000
     },
     "inputWidgets": {},
     "nuid": "17725e30-e08d-4468-9080-94e3167f53db",
     "showTitle": false,
     "tableResultSettingsMap": {},
     "title": ""
    }
   },
   "outputs": [],
   "source": [
    "sequences = [\" \".join(seq) for seq in list_sequences]\n",
    "len(sequences)"
   ]
  },
  {
   "cell_type": "markdown",
   "metadata": {
    "application/vnd.databricks.v1+cell": {
     "cellMetadata": {},
     "inputWidgets": {},
     "nuid": "5e66edec-76ad-41f5-84ce-ab271f8267df",
     "showTitle": false,
     "tableResultSettingsMap": {},
     "title": ""
    }
   },
   "source": [
    "# 3. Save in Unity Catalog\n"
   ]
  },
  {
   "cell_type": "code",
   "execution_count": 0,
   "metadata": {
    "application/vnd.databricks.v1+cell": {
     "cellMetadata": {
      "byteLimit": 2048000,
      "rowLimit": 10000
     },
     "inputWidgets": {},
     "nuid": "103cff3b-f7d5-40c9-ab0a-a6e87a397663",
     "showTitle": false,
     "tableResultSettingsMap": {},
     "title": ""
    }
   },
   "outputs": [],
   "source": [
    "from pyspark.sql import Row\n",
    "df = spark.createDataFrame([Row(sequence=seq) for seq in sequences])\n",
    "df.write.mode(\"overwrite\").saveAsTable(\"onesource_eu_dev_rni.onebiome.mpa_2_genus_sequences\")"
   ]
  },
  {
   "cell_type": "markdown",
   "metadata": {
    "application/vnd.databricks.v1+cell": {
     "cellMetadata": {},
     "inputWidgets": {},
     "nuid": "696edf11-e606-473b-a6cf-3e263f224efb",
     "showTitle": false,
     "tableResultSettingsMap": {},
     "title": ""
    }
   },
   "source": [
    "# 4. Create the taxa id mapper"
   ]
  },
  {
   "cell_type": "code",
   "execution_count": 0,
   "metadata": {
    "application/vnd.databricks.v1+cell": {
     "cellMetadata": {
      "byteLimit": 2048000,
      "rowLimit": 10000
     },
     "inputWidgets": {},
     "nuid": "98352d53-31c3-47a9-8615-4251cfd84679",
     "showTitle": false,
     "tableResultSettingsMap": {},
     "title": ""
    }
   },
   "outputs": [],
   "source": [
    "UNIQUE_TAXA = df_genus.columns.sort_values()\n",
    "UNIQUE_TAXA"
   ]
  },
  {
   "cell_type": "code",
   "execution_count": 0,
   "metadata": {
    "application/vnd.databricks.v1+cell": {
     "cellMetadata": {
      "byteLimit": 2048000,
      "rowLimit": 10000
     },
     "inputWidgets": {},
     "nuid": "1a51353d-b37d-4054-b4f1-7b7a1d08d1fe",
     "showTitle": false,
     "tableResultSettingsMap": {},
     "title": ""
    }
   },
   "outputs": [],
   "source": [
    "import json\n",
    "\n",
    "with open('../data/token_to_id.json', 'r') as file:\n",
    "    token_to_id = json.load(file)"
   ]
  },
  {
   "cell_type": "code",
   "execution_count": 0,
   "metadata": {
    "application/vnd.databricks.v1+cell": {
     "cellMetadata": {
      "byteLimit": 2048000,
      "rowLimit": 10000
     },
     "inputWidgets": {},
     "nuid": "66747f83-4126-4aaa-8cd9-d777cfdb37f5",
     "showTitle": false,
     "tableResultSettingsMap": {},
     "title": ""
    }
   },
   "outputs": [],
   "source": [
    "metagenomics_genus_set = set(token_to_id.keys())\n",
    "dicaprio_genus_set = set(UNIQUE_TAXA)\n",
    "\n",
    "\n",
    "superposition = metagenomics_genus_set & dicaprio_genus_set\n",
    "only_in_metagenomics = metagenomics_genus_set - dicaprio_genus_set\n",
    "only_in_dicaprio = dicaprio_genus_set - metagenomics_genus_set\n",
    "\n",
    "len(metagenomics_genus_set), len(superposition), len(only_in_metagenomics), len(only_in_dicaprio)"
   ]
  },
  {
   "cell_type": "code",
   "execution_count": 0,
   "metadata": {
    "application/vnd.databricks.v1+cell": {
     "cellMetadata": {},
     "inputWidgets": {},
     "nuid": "b26d26e5-579a-429a-823d-681cc691e3bb",
     "showTitle": false,
     "tableResultSettingsMap": {},
     "title": ""
    }
   },
   "outputs": [],
   "source": [
    "!pip install matplotlib-venn"
   ]
  },
  {
   "cell_type": "code",
   "execution_count": 0,
   "metadata": {
    "application/vnd.databricks.v1+cell": {
     "cellMetadata": {
      "byteLimit": 2048000,
      "rowLimit": 10000
     },
     "inputWidgets": {},
     "nuid": "62e195aa-2426-4761-8da9-3be384435505",
     "showTitle": false,
     "tableResultSettingsMap": {},
     "title": ""
    }
   },
   "outputs": [],
   "source": [
    "import matplotlib.pyplot as plt\n",
    "\n",
    "from matplotlib_venn import venn2\n",
    "\n",
    "\n",
    "# Create the venn diagram\n",
    "plt.figure(figsize=(6, 4))\n",
    "venn2([metagenomics_genus_set, dicaprio_genus_set], ('curatedMetagenomics', 'Dicaprio'))\n",
    "\n",
    "# Display the plot\n",
    "plt.title('# of unique genera in curatedMetagenomics and Dicaprio')\n",
    "plt.show()"
   ]
  },
  {
   "cell_type": "code",
   "execution_count": 0,
   "metadata": {
    "application/vnd.databricks.v1+cell": {
     "cellMetadata": {
      "byteLimit": 2048000,
      "rowLimit": 10000
     },
     "inputWidgets": {},
     "nuid": "4deb387a-fb09-4a2f-a8ce-cb2ff81cb7c4",
     "showTitle": false,
     "tableResultSettingsMap": {},
     "title": ""
    }
   },
   "outputs": [],
   "source": [
    "# # option 1: extend the existing mapper\n",
    "# metagenomic_last_taxa_id = list(token_to_id.values())[-1] \n",
    "# print(metagenomic_last_taxa_id)\n",
    "# for idx, taxa in enumerate(only_in_dicaprio):\n",
    "#     token_to_id[taxa] = idx + metagenomic_last_taxa_id + 1\n",
    "# token_to_id\n",
    "# with open('../data/token2id_metagenomic_dicaprio.json', 'w') as file:\n",
    "#     json.dump(token_to_id, file) "
   ]
  },
  {
   "cell_type": "code",
   "execution_count": 0,
   "metadata": {
    "application/vnd.databricks.v1+cell": {
     "cellMetadata": {
      "byteLimit": 2048000,
      "rowLimit": 10000
     },
     "inputWidgets": {},
     "nuid": "cdac72e2-6d03-4d67-9cfa-9d8c90f402d1",
     "showTitle": false,
     "tableResultSettingsMap": {},
     "title": ""
    }
   },
   "outputs": [],
   "source": [
    "# option 2: create a new mapper\n",
    "union = sorted(list(metagenomics_genus_set | dicaprio_genus_set))\n",
    "\n",
    "token2id_genus = {taxa: idx + 4 for idx, taxa in enumerate(union)}\n",
    "token2id_genus\n"
   ]
  },
  {
   "cell_type": "code",
   "execution_count": 0,
   "metadata": {
    "application/vnd.databricks.v1+cell": {
     "cellMetadata": {
      "byteLimit": 2048000,
      "rowLimit": 10000
     },
     "inputWidgets": {},
     "nuid": "2055b121-f49b-40a4-a51a-0d59de71de66",
     "showTitle": false,
     "tableResultSettingsMap": {},
     "title": ""
    }
   },
   "outputs": [],
   "source": [
    "len(union)"
   ]
  },
  {
   "cell_type": "code",
   "execution_count": 0,
   "metadata": {
    "application/vnd.databricks.v1+cell": {
     "cellMetadata": {
      "byteLimit": 2048000,
      "rowLimit": 10000
     },
     "inputWidgets": {},
     "nuid": "64baa889-a894-45c6-afd8-6096fbbcfc09",
     "showTitle": false,
     "tableResultSettingsMap": {},
     "title": ""
    }
   },
   "outputs": [],
   "source": [
    "with open('../data/token2id_628_genus.json', 'w') as file:\n",
    "    json.dump(token_to_id, file) "
   ]
  }
 ],
 "metadata": {
  "application/vnd.databricks.v1+notebook": {
   "computePreferences": null,
   "dashboards": [],
   "environmentMetadata": {
    "base_environment": "",
    "environment_version": "2"
   },
   "inputWidgetPreferences": null,
   "language": "python",
   "notebookMetadata": {
    "pythonIndentUnit": 4
   },
   "notebookName": "11_Dicaprio_mpa2_Preprocessing_Taxa2Seq",
   "widgets": {}
  },
  "language_info": {
   "name": "python"
  }
 },
 "nbformat": 4,
 "nbformat_minor": 0
}
