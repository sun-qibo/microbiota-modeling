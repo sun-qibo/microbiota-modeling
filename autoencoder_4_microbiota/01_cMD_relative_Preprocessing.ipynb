{
 "cells": [
  {
   "cell_type": "code",
   "execution_count": 0,
   "metadata": {
    "application/vnd.databricks.v1+cell": {
     "cellMetadata": {
      "byteLimit": 2048000,
      "rowLimit": 10000
     },
     "inputWidgets": {},
     "nuid": "864dc9ee-c9a2-4887-b399-becbb316191d",
     "showTitle": false,
     "tableResultSettingsMap": {},
     "title": ""
    }
   },
   "outputs": [],
   "source": [
    "%load_ext autoreload\n",
    "%autoreload 2"
   ]
  },
  {
   "cell_type": "code",
   "execution_count": 0,
   "metadata": {
    "application/vnd.databricks.v1+cell": {
     "cellMetadata": {
      "byteLimit": 2048000,
      "rowLimit": 10000
     },
     "inputWidgets": {},
     "nuid": "b14b76dc-e7c2-4c64-8782-94ee527080d4",
     "showTitle": false,
     "tableResultSettingsMap": {},
     "title": ""
    }
   },
   "outputs": [],
   "source": [
    "import os\n",
    "import warnings\n",
    "\n",
    "import numpy as np\n",
    "import pandas as pd\n",
    "\n",
    "import matplotlib.pyplot as plt\n",
    "import seaborn as sns\n",
    "%matplotlib inline\n",
    "warnings.filterwarnings('ignore')\n",
    "\n",
    "from utils import *"
   ]
  },
  {
   "cell_type": "code",
   "execution_count": 0,
   "metadata": {
    "application/vnd.databricks.v1+cell": {
     "cellMetadata": {
      "byteLimit": 2048000,
      "rowLimit": 10000
     },
     "collapsed": true,
     "inputWidgets": {},
     "nuid": "d7dce6e4-3d66-4df2-8a4d-3dc1f98226fe",
     "showTitle": false,
     "tableResultSettingsMap": {},
     "title": ""
    }
   },
   "outputs": [],
   "source": [
    "# # todo standardise pipeline\n",
    "# import os\n",
    "# import pandas as pd\n",
    "# import numpy as np\n",
    "# import joblib  # For efficient saving and loading\n",
    "\n",
    "# # Define paths\n",
    "# BASE_DIR = \"data\"\n",
    "\n",
    "# def ensure_dir(directory):\n",
    "#     \"\"\"Ensure directory exists.\"\"\"\n",
    "#     if not os.path.exists(directory):\n",
    "#         os.makedirs(directory)\n",
    "\n",
    "# def load_or_compute(filepath, func, *args, **kwargs):\n",
    "#     \"\"\"\n",
    "#     Check if the processed file exists. \n",
    "#     If yes, load and return the data; otherwise, compute, save, and return.\n",
    "#     \"\"\"\n",
    "#     if os.path.exists(filepath):\n",
    "#         print(f\"Loading existing data: {filepath}\")\n",
    "#         return joblib.load(filepath)\n",
    "#     else:\n",
    "#         print(f\"Processing and saving data: {filepath}\")\n",
    "#         data = func(*args, **kwargs)\n",
    "#         joblib.dump(data, filepath)\n",
    "#         return data\n",
    "\n",
    "# # Define processing steps\n",
    "# def load_data(filepath):\n",
    "#     \"\"\"Load raw dataset.\"\"\"\n",
    "#     return pd.read_csv(filepath)\n",
    "\n",
    "# def log_transform(df, cols):\n",
    "#     \"\"\"Apply log transformation to specified columns.\"\"\"\n",
    "#     df_transformed = df.copy()\n",
    "#     for col in cols:\n",
    "#         df_transformed[col] = np.log1p(df_transformed[col])  # log(1 + x) to avoid log(0) issues\n",
    "#     return df_transformed\n",
    "\n",
    "# def scale_data(df):\n",
    "#     \"\"\"Min-max scale all numeric columns.\"\"\"\n",
    "#     from sklearn.preprocessing import MinMaxScaler\n",
    "#     scaler = MinMaxScaler()\n",
    "#     df_scaled = df.copy()\n",
    "#     df_scaled[df.select_dtypes(include=[np.number]).columns] = scaler.fit_transform(df_scaled.select_dtypes(include=[np.number]))\n",
    "#     return df_scaled\n",
    "\n",
    "# def remove_high_corr(df, threshold=0.9):\n",
    "#     \"\"\"Remove one of two highly correlated columns above a threshold.\"\"\"\n",
    "#     corr_matrix = df.corr().abs()\n",
    "#     upper = corr_matrix.where(np.triu(np.ones(corr_matrix.shape), k=1).astype(bool))\n",
    "#     to_drop = [column for column in upper.columns if any(upper[column] > threshold)]\n",
    "#     return df.drop(columns=to_drop)\n",
    "\n",
    "# # Process Pipeline\n",
    "# def process_pipeline(raw_data_path):\n",
    "#     \"\"\"Execute the processing pipeline step-by-step, saving intermediate results.\"\"\"\n",
    "#     ensure_dir(BASE_DIR)\n",
    "\n",
    "#     # Step 1: Load data\n",
    "#     data = load_or_compute(f\"{BASE_DIR}/raw_data.pkl\", load_data, raw_data_path)\n",
    "\n",
    "#     # Step 2: Log transformation\n",
    "#     log_cols = [\"feature1\", \"feature2\"]  # Replace with actual numeric columns needing log transformation\n",
    "#     data_log = load_or_compute(f\"{BASE_DIR}/log_transformed.pkl\", log_transform, data, log_cols)\n",
    "\n",
    "#     # Step 3: Scaling\n",
    "#     data_scaled = load_or_compute(f\"{BASE_DIR}/scaled.pkl\", scale_data, data_log)\n",
    "\n",
    "#     # Step 4: Remove highly correlated columns\n",
    "#     final_data = load_or_compute(f\"{BASE_DIR}/cleaned.pkl\", remove_high_corr, data_scaled)\n",
    "\n",
    "#     return final_data\n",
    "\n",
    "# # Run pipeline\n",
    "# processed_df = process_pipeline(\"path/to/your/dataset.csv\")\n"
   ]
  },
  {
   "cell_type": "markdown",
   "metadata": {
    "application/vnd.databricks.v1+cell": {
     "cellMetadata": {
      "byteLimit": 2048000,
      "rowLimit": 10000
     },
     "inputWidgets": {},
     "nuid": "2f0f5693-8a3a-44d1-8cec-dfceff860c6f",
     "showTitle": false,
     "tableResultSettingsMap": {},
     "title": ""
    }
   },
   "source": [
    "# absolute counts "
   ]
  },
  {
   "cell_type": "markdown",
   "metadata": {
    "application/vnd.databricks.v1+cell": {
     "cellMetadata": {
      "byteLimit": 2048000,
      "rowLimit": 10000
     },
     "inputWidgets": {},
     "nuid": "275fadf1-46cd-4110-9587-a83ca7ad3fff",
     "showTitle": false,
     "tableResultSettingsMap": {},
     "title": ""
    }
   },
   "source": [
    "**absolute counts**\n"
   ]
  },
  {
   "cell_type": "code",
   "execution_count": 0,
   "metadata": {
    "application/vnd.databricks.v1+cell": {
     "cellMetadata": {
      "byteLimit": 2048000,
      "rowLimit": 10000
     },
     "inputWidgets": {},
     "nuid": "c20137a5-b79d-4bbb-ae03-6c6bc542c5c2",
     "showTitle": false,
     "tableResultSettingsMap": {},
     "title": ""
    }
   },
   "outputs": [],
   "source": [
    "df_counts = pd.read_csv('../data/taxa_data_counts.csv', sep=',', header=0, index_col=0)\n",
    "df_counts.fillna(0, inplace=True)\n",
    "df_counts.columns = df_counts.columns.str.replace('[', '').str.replace(']', '')\n",
    "df_counts"
   ]
  },
  {
   "cell_type": "code",
   "execution_count": 0,
   "metadata": {
    "application/vnd.databricks.v1+cell": {
     "cellMetadata": {
      "byteLimit": 2048000,
      "rowLimit": 10000
     },
     "inputWidgets": {},
     "nuid": "cb54c405-8990-41de-929f-dab1a5b6d7c6",
     "showTitle": false,
     "tableResultSettingsMap": {},
     "title": ""
    }
   },
   "outputs": [],
   "source": [
    "plot_data_distribution(df_counts, 'taxa counts')"
   ]
  },
  {
   "cell_type": "markdown",
   "metadata": {
    "application/vnd.databricks.v1+cell": {
     "cellMetadata": {
      "byteLimit": 2048000,
      "rowLimit": 10000
     },
     "inputWidgets": {},
     "nuid": "ed702b0a-075f-45ce-b4f2-a0a5865e1372",
     "showTitle": false,
     "tableResultSettingsMap": {},
     "title": ""
    }
   },
   "source": [
    "**to genus**"
   ]
  },
  {
   "cell_type": "code",
   "execution_count": 0,
   "metadata": {
    "application/vnd.databricks.v1+cell": {
     "cellMetadata": {
      "byteLimit": 2048000,
      "rowLimit": 10000
     },
     "inputWidgets": {},
     "nuid": "88ae8cf6-d0ce-4454-b152-f5ae2f13c259",
     "showTitle": false,
     "tableResultSettingsMap": {},
     "title": ""
    }
   },
   "outputs": [],
   "source": [
    "df_genus_counts = df_counts.groupby(df_counts.columns.str.split(' ').str[0], axis=1).sum()\n",
    "print(df_genus_counts.shape)\n",
    "plot_data_distribution(df_genus_counts, 'genus counts')"
   ]
  },
  {
   "cell_type": "markdown",
   "metadata": {
    "application/vnd.databricks.v1+cell": {
     "cellMetadata": {
      "byteLimit": 2048000,
      "rowLimit": 10000
     },
     "inputWidgets": {},
     "nuid": "40e226b9-7c8e-4a95-a0ee-adf0ab4ba1ac",
     "showTitle": false,
     "tableResultSettingsMap": {},
     "title": ""
    }
   },
   "source": [
    "**log transformation**"
   ]
  },
  {
   "cell_type": "code",
   "execution_count": 0,
   "metadata": {
    "application/vnd.databricks.v1+cell": {
     "cellMetadata": {
      "byteLimit": 2048000,
      "rowLimit": 10000
     },
     "inputWidgets": {},
     "nuid": "b1133d77-c3d6-400c-bd11-d2369ea533b3",
     "showTitle": false,
     "tableResultSettingsMap": {},
     "title": ""
    }
   },
   "outputs": [],
   "source": [
    "pseudo_count = 10 ** np.log10(df_genus_counts[df_genus_counts > 0].min().min()**2 / df_genus_counts.max().max())\n",
    "print(pseudo_count)\n",
    "df_genus_counts_log = df_genus_counts.applymap(lambda x: np.log10(x + pseudo_count))\n",
    "\n",
    "plot_data_distribution(df_genus_counts_log, 'Log10 Genus-level counts')"
   ]
  },
  {
   "cell_type": "markdown",
   "metadata": {
    "application/vnd.databricks.v1+cell": {
     "cellMetadata": {
      "byteLimit": 2048000,
      "rowLimit": 10000
     },
     "inputWidgets": {},
     "nuid": "327fd724-57b6-4660-b4ce-e3c9b0ea11ad",
     "showTitle": false,
     "tableResultSettingsMap": {},
     "title": ""
    }
   },
   "source": [
    "**rescale to 0-1**"
   ]
  },
  {
   "cell_type": "code",
   "execution_count": 0,
   "metadata": {
    "application/vnd.databricks.v1+cell": {
     "cellMetadata": {
      "byteLimit": 2048000,
      "rowLimit": 10000
     },
     "inputWidgets": {},
     "nuid": "55c3a2bc-d9ce-4a13-b357-229b62306778",
     "showTitle": false,
     "tableResultSettingsMap": {},
     "title": ""
    }
   },
   "outputs": [],
   "source": [
    "df_genus_counts_log_scaled = (df_genus_counts_log - df_genus_counts_log.min().min())/(df_genus_counts_log.max().max() - df_genus_counts_log.min().min())\n",
    "print(df_genus_counts_log_scaled.min().min(), df_genus_counts_log_scaled.max().max())\n",
    "\n",
    "plot_data_distribution(df_genus_counts_log_scaled, 'Rescaled_log10 Genus-level counts')"
   ]
  },
  {
   "cell_type": "code",
   "execution_count": 0,
   "metadata": {
    "application/vnd.databricks.v1+cell": {
     "cellMetadata": {
      "byteLimit": 2048000,
      "rowLimit": 10000
     },
     "inputWidgets": {},
     "nuid": "1bbe1159-3f16-4720-b4b9-579058ebae86",
     "showTitle": false,
     "tableResultSettingsMap": {},
     "title": ""
    }
   },
   "outputs": [],
   "source": [
    "df_genus_counts_log_scaled.to_csv('../data/genus_counts_log_scaled.csv', sep='\\t', header=True, index=True)"
   ]
  },
  {
   "cell_type": "code",
   "execution_count": 0,
   "metadata": {
    "application/vnd.databricks.v1+cell": {
     "cellMetadata": {
      "byteLimit": 2048000,
      "rowLimit": 10000
     },
     "inputWidgets": {},
     "nuid": "6ff52eef-5891-419d-bc66-d53146442249",
     "showTitle": false,
     "tableResultSettingsMap": {},
     "title": ""
    }
   },
   "outputs": [],
   "source": [
    "df_genus_counts_log_reduced = feature_reduction_pipeline(df_genus_counts_log, variance_threshold=0.01, correlation_threshold=0.8, viz_corr_clusters=True, fname='df_genus_counts_log_reduced')"
   ]
  },
  {
   "cell_type": "code",
   "execution_count": 0,
   "metadata": {
    "application/vnd.databricks.v1+cell": {
     "cellMetadata": {
      "byteLimit": 2048000,
      "rowLimit": 10000
     },
     "inputWidgets": {},
     "nuid": "95606b3b-2319-41ec-bba7-cf0db95e10bd",
     "showTitle": false,
     "tableResultSettingsMap": {},
     "title": ""
    }
   },
   "outputs": [],
   "source": [
    "from utils import *\n",
    "df_genus_counts_log_scaled_reduced = feature_reduction_pipeline(df_genus_counts_log_scaled, variance_threshold=0.01, correlation_threshold=0.8, viz_corr_clusters=True,fname='df_genus_counts_log_scaled_reduced')\n"
   ]
  },
  {
   "cell_type": "code",
   "execution_count": 0,
   "metadata": {
    "application/vnd.databricks.v1+cell": {
     "cellMetadata": {
      "byteLimit": 2048000,
      "rowLimit": 10000
     },
     "inputWidgets": {},
     "nuid": "6bf7f4d6-a09a-4b7e-a3b3-17aa9ca31028",
     "showTitle": false,
     "tableResultSettingsMap": {},
     "title": ""
    }
   },
   "outputs": [],
   "source": [
    "plot_data_distribution(df_genus_counts_log_scaled_reduced, 'Log10 Genus-level counts after feature reduction')"
   ]
  },
  {
   "cell_type": "code",
   "execution_count": 0,
   "metadata": {
    "application/vnd.databricks.v1+cell": {
     "cellMetadata": {
      "byteLimit": 2048000,
      "rowLimit": 10000
     },
     "inputWidgets": {},
     "nuid": "895881d2-730a-400d-bb1d-31a32691d3d9",
     "showTitle": false,
     "tableResultSettingsMap": {},
     "title": ""
    }
   },
   "outputs": [],
   "source": [
    "df_genus_counts_log_scaled_reduced.to_csv('../data/genus_counts_log_scaled_reduced.csv', sep='\\t', header=True, index=True)"
   ]
  },
  {
   "cell_type": "markdown",
   "metadata": {
    "application/vnd.databricks.v1+cell": {
     "cellMetadata": {
      "byteLimit": 2048000,
      "rowLimit": 10000
     },
     "inputWidgets": {},
     "nuid": "e6ea78ce-c432-4371-8adb-d98b77c68345",
     "showTitle": false,
     "tableResultSettingsMap": {},
     "title": ""
    }
   },
   "source": [
    "# log abundance\n"
   ]
  },
  {
   "cell_type": "code",
   "execution_count": 0,
   "metadata": {
    "application/vnd.databricks.v1+cell": {
     "cellMetadata": {
      "byteLimit": 2048000,
      "rowLimit": 10000
     },
     "inputWidgets": {},
     "nuid": "bfeafa0d-73b8-4190-a7f0-331faa4cf967",
     "showTitle": false,
     "tableResultSettingsMap": {},
     "title": ""
    }
   },
   "outputs": [],
   "source": [
    "\n",
    "df_log = pd.read_csv('../data/processed_log_abundance.csv', sep='\\t', header=0, index_col=0)\n",
    "df_log"
   ]
  },
  {
   "cell_type": "code",
   "execution_count": 0,
   "metadata": {
    "application/vnd.databricks.v1+cell": {
     "cellMetadata": {
      "byteLimit": 2048000,
      "rowLimit": 10000
     },
     "inputWidgets": {},
     "nuid": "de67aa1f-7360-4970-9e58-b78cf3e61b0e",
     "showTitle": false,
     "tableResultSettingsMap": {},
     "title": ""
    }
   },
   "outputs": [],
   "source": [
    "lst_taxa = list(df_log.columns)"
   ]
  },
  {
   "cell_type": "code",
   "execution_count": 0,
   "metadata": {
    "application/vnd.databricks.v1+cell": {
     "cellMetadata": {
      "byteLimit": 2048000,
      "rowLimit": 10000
     },
     "inputWidgets": {},
     "nuid": "e0c2e536-8116-4e08-b07e-35e65749b254",
     "showTitle": false,
     "tableResultSettingsMap": {},
     "title": ""
    }
   },
   "outputs": [],
   "source": [
    "corr_matrix_log = df_log.corr().abs()"
   ]
  },
  {
   "cell_type": "code",
   "execution_count": 0,
   "metadata": {
    "application/vnd.databricks.v1+cell": {
     "cellMetadata": {
      "byteLimit": 2048000,
      "rowLimit": 10000
     },
     "inputWidgets": {},
     "nuid": "121432d1-0bb5-482f-bad7-953972df822c",
     "showTitle": false,
     "tableResultSettingsMap": {},
     "title": ""
    }
   },
   "outputs": [],
   "source": [
    "print(np.__version__)"
   ]
  },
  {
   "cell_type": "markdown",
   "metadata": {
    "application/vnd.databricks.v1+cell": {
     "cellMetadata": {},
     "inputWidgets": {},
     "nuid": "f314a934-c233-4ecb-89f2-391873e7b292",
     "showTitle": false,
     "tableResultSettingsMap": {},
     "title": ""
    }
   },
   "source": [
    "1.26.4 (13/02/2025) Qibo - GPU - small"
   ]
  },
  {
   "cell_type": "code",
   "execution_count": 0,
   "metadata": {
    "application/vnd.databricks.v1+cell": {
     "cellMetadata": {
      "byteLimit": 2048000,
      "rowLimit": 10000
     },
     "inputWidgets": {},
     "nuid": "2a17b128-2a6b-4c52-bc8a-4f0d104704d8",
     "showTitle": false,
     "tableResultSettingsMap": {},
     "title": ""
    }
   },
   "outputs": [],
   "source": [
    "upper_log = corr_matrix_log.where(np.triu(np.ones(corr_matrix_log.shape), k=1).astype(bool))\n",
    "to_drop_log = [column for column in upper_log.columns if any(upper_log[column] > 0.8)]\n",
    "len(to_drop_log)"
   ]
  },
  {
   "cell_type": "code",
   "execution_count": 0,
   "metadata": {
    "application/vnd.databricks.v1+cell": {
     "cellMetadata": {
      "byteLimit": 2048000,
      "rowLimit": 10000
     },
     "inputWidgets": {},
     "nuid": "81327e7d-6758-4ca6-8aaf-023a7140c1dc",
     "showTitle": false,
     "tableResultSettingsMap": {},
     "title": ""
    }
   },
   "outputs": [],
   "source": [
    "dct_corr_to_drop = {}\n",
    "for column in upper_log.columns:\n",
    "    if any(upper_log[column] > 0.8):\n",
    "        dct_corr_to_drop[column] = list(upper_log.index[upper_log[column] > 0.8])\n",
    "dct_corr_to_drop"
   ]
  },
  {
   "cell_type": "code",
   "execution_count": 0,
   "metadata": {
    "application/vnd.databricks.v1+cell": {
     "cellMetadata": {
      "byteLimit": 2048000,
      "rowLimit": 10000
     },
     "inputWidgets": {},
     "nuid": "591c927d-e42e-43fb-9289-641a5da2475c",
     "showTitle": false,
     "tableResultSettingsMap": {},
     "title": ""
    }
   },
   "outputs": [],
   "source": [
    "df_log_drop08 = df_log.drop(columns=to_drop_log, axis=1, inplace=False)\n",
    "print(df_log_drop08.shape)\n",
    "df_log_drop08.max().max(), df_log_drop08.min().min()"
   ]
  },
  {
   "cell_type": "code",
   "execution_count": 0,
   "metadata": {
    "application/vnd.databricks.v1+cell": {
     "cellMetadata": {
      "byteLimit": 2048000,
      "rowLimit": 10000
     },
     "inputWidgets": {},
     "nuid": "7e9f4919-bd68-42ee-b075-778c840ca370",
     "showTitle": false,
     "tableResultSettingsMap": {},
     "title": ""
    }
   },
   "outputs": [],
   "source": [
    "df_log_drop08_scaled = (df_log_drop08 - df_log_drop08.min().min()) /(df_log_drop08.max().max() - df_log_drop08.min().min())\n",
    "df_log_drop08_scaled.max().max(), df_log_drop08_scaled.min().min()"
   ]
  },
  {
   "cell_type": "code",
   "execution_count": 0,
   "metadata": {
    "application/vnd.databricks.v1+cell": {
     "cellMetadata": {
      "byteLimit": 2048000,
      "rowLimit": 10000
     },
     "inputWidgets": {},
     "nuid": "2b68f6e4-e2ce-4321-9386-c3bc1e941eb5",
     "showTitle": false,
     "tableResultSettingsMap": {},
     "title": ""
    }
   },
   "outputs": [],
   "source": [
    "df_log_drop08_scaled.to_csv('../data/processed_log_drop08_scaled.csv', sep='\\t', header=True, index=True)"
   ]
  },
  {
   "cell_type": "code",
   "execution_count": 0,
   "metadata": {
    "application/vnd.databricks.v1+cell": {
     "cellMetadata": {
      "byteLimit": 2048000,
      "rowLimit": 10000
     },
     "inputWidgets": {},
     "nuid": "6a3b77f1-61d7-4f74-b32e-1cd5d30a338f",
     "showTitle": false,
     "tableResultSettingsMap": {},
     "title": ""
    }
   },
   "outputs": [],
   "source": [
    "to_drop_log = [column for column in upper_log.columns if any(upper_log[column] > 0.9)]\n",
    "len(to_drop_log)"
   ]
  },
  {
   "cell_type": "markdown",
   "metadata": {
    "application/vnd.databricks.v1+cell": {
     "cellMetadata": {},
     "inputWidgets": {},
     "nuid": "b83722ad-4c1b-4c01-a3f6-2d492c0a02ca",
     "showTitle": false,
     "tableResultSettingsMap": {},
     "title": ""
    }
   },
   "source": [
    "# original abundance data"
   ]
  },
  {
   "cell_type": "code",
   "execution_count": 0,
   "metadata": {
    "application/vnd.databricks.v1+cell": {
     "cellMetadata": {
      "byteLimit": 2048000,
      "rowLimit": 10000
     },
     "inputWidgets": {},
     "nuid": "3f72bd31-930c-4e87-816d-411c410ed3f2",
     "showTitle": false,
     "tableResultSettingsMap": {},
     "title": ""
    }
   },
   "outputs": [],
   "source": [
    "df_abundance = pd.read_csv(\"../data/taxa_data.txt\", sep='\\t', header=0, index_col=0)\n",
    "df_abundance.columns = df_abundance.columns.str.replace('[', '').str.replace(']', '')\n",
    "df_abundance = df_abundance.fillna(0)\n",
    "print(df_abundance.shape)\n",
    "df_abundance"
   ]
  },
  {
   "cell_type": "code",
   "execution_count": 0,
   "metadata": {
    "application/vnd.databricks.v1+cell": {
     "cellMetadata": {
      "byteLimit": 2048000,
      "rowLimit": 10000
     },
     "inputWidgets": {},
     "nuid": "cf6e59c4-8b90-46b6-bf02-6dd18b00472a",
     "showTitle": false,
     "tableResultSettingsMap": {},
     "title": ""
    }
   },
   "outputs": [],
   "source": [
    "df_abundance = df_abundance.loc[:, (df_abundance != 0).any(axis=0)]\n",
    "df_abundance.shape"
   ]
  },
  {
   "cell_type": "code",
   "execution_count": 0,
   "metadata": {
    "application/vnd.databricks.v1+cell": {
     "cellMetadata": {
      "byteLimit": 2048000,
      "rowLimit": 10000
     },
     "inputWidgets": {},
     "nuid": "07423165-48be-4fa3-8366-cda0f3d09457",
     "showTitle": false,
     "tableResultSettingsMap": {},
     "title": ""
    }
   },
   "outputs": [],
   "source": [
    "# remove highly associated taxa\n",
    "corr_matrix = df_abundance.corr().abs()\n",
    "upper = corr_matrix.where(np.triu(np.ones(corr_matrix.shape), k=1).astype(np.bool))\n",
    "to_drop = [column for column in upper.columns if any(upper[column] > 0.9)]\n",
    "len(to_drop)"
   ]
  },
  {
   "cell_type": "code",
   "execution_count": 0,
   "metadata": {
    "application/vnd.databricks.v1+cell": {
     "cellMetadata": {
      "byteLimit": 2048000,
      "rowLimit": 10000
     },
     "inputWidgets": {},
     "nuid": "827110ce-a9f0-4516-b6f8-9eed64fc2287",
     "showTitle": false,
     "tableResultSettingsMap": {},
     "title": ""
    }
   },
   "outputs": [],
   "source": [
    "!pip install matplotlib-venn"
   ]
  },
  {
   "cell_type": "code",
   "execution_count": 0,
   "metadata": {
    "application/vnd.databricks.v1+cell": {
     "cellMetadata": {
      "byteLimit": 2048000,
      "rowLimit": 10000
     },
     "inputWidgets": {},
     "nuid": "5c4e653c-a60a-4023-9b41-2e3f5ef9ab12",
     "showTitle": false,
     "tableResultSettingsMap": {},
     "title": ""
    }
   },
   "outputs": [],
   "source": [
    "import matplotlib.pyplot as plt\n",
    "from matplotlib_venn import venn2\n",
    "\n",
    "venn2([set(to_drop), set(to_drop_log)], ('to_drop', 'to_drop_log'))\n",
    "plt.show()"
   ]
  },
  {
   "cell_type": "code",
   "execution_count": 0,
   "metadata": {
    "application/vnd.databricks.v1+cell": {
     "cellMetadata": {
      "byteLimit": 2048000,
      "rowLimit": 10000
     },
     "inputWidgets": {},
     "nuid": "a7f739e7-fd08-4222-905e-9fe819c4c0ee",
     "showTitle": false,
     "tableResultSettingsMap": {},
     "title": ""
    }
   },
   "outputs": [],
   "source": [
    "threshold = 0.8\n",
    "to_drop_log = [column for column in upper_log.columns if any(upper_log[column] > threshold)]\n",
    "to_drop = [column for column in upper.columns if any(upper[column] > threshold)]\n",
    "venn2([set(to_drop), set(to_drop_log)], ('to_drop', 'to_drop_log'))\n"
   ]
  },
  {
   "cell_type": "code",
   "execution_count": 0,
   "metadata": {
    "application/vnd.databricks.v1+cell": {
     "cellMetadata": {},
     "inputWidgets": {},
     "nuid": "82ec03f7-f91d-4c34-acda-4f5a8ba8e970",
     "showTitle": false,
     "tableResultSettingsMap": {},
     "title": ""
    }
   },
   "outputs": [],
   "source": [
    "df_abundance_reduced = df_abundance.drop(columns=to_drop, axis=1, inplace=False)\n"
   ]
  },
  {
   "cell_type": "code",
   "execution_count": 0,
   "metadata": {
    "application/vnd.databricks.v1+cell": {
     "cellMetadata": {
      "byteLimit": 2048000,
      "rowLimit": 10000
     },
     "inputWidgets": {},
     "nuid": "e12d15bf-9521-43b7-85eb-4a734cc448fb",
     "showTitle": false,
     "tableResultSettingsMap": {},
     "title": ""
    }
   },
   "outputs": [],
   "source": [
    "df_abundance.max().max()"
   ]
  },
  {
   "cell_type": "code",
   "execution_count": 0,
   "metadata": {
    "application/vnd.databricks.v1+cell": {
     "cellMetadata": {
      "byteLimit": 2048000,
      "rowLimit": 10000
     },
     "inputWidgets": {},
     "nuid": "0e1a42ad-41d0-47f2-81af-898c1e7a7b6a",
     "showTitle": false,
     "tableResultSettingsMap": {},
     "title": ""
    }
   },
   "outputs": [],
   "source": [
    "df_abundance.to_csv('../data/processed_abundance.csv', sep='\\t', header=True, index=True)"
   ]
  },
  {
   "cell_type": "code",
   "execution_count": 0,
   "metadata": {
    "application/vnd.databricks.v1+cell": {
     "cellMetadata": {
      "byteLimit": 2048000,
      "rowLimit": 10000
     },
     "inputWidgets": {},
     "nuid": "f0ba9733-1463-4cfc-a758-726e12cfee84",
     "showTitle": false,
     "tableResultSettingsMap": {},
     "title": ""
    }
   },
   "outputs": [],
   "source": [
    "10 ** np.log10(df_abundance[df_abundance > 0].min().min() **2 / df_abundance.max().max())"
   ]
  },
  {
   "cell_type": "code",
   "execution_count": 0,
   "metadata": {
    "application/vnd.databricks.v1+cell": {
     "cellMetadata": {
      "byteLimit": 2048000,
      "rowLimit": 10000
     },
     "inputWidgets": {},
     "nuid": "ff7865f6-1e89-4512-8a0a-3408237b57cd",
     "showTitle": false,
     "tableResultSettingsMap": {},
     "title": ""
    }
   },
   "outputs": [],
   "source": [
    "df_log = df_abundance.applymap(lambda x: np.log10(x + 9e-12))\n",
    "print(df_log.shape)\n",
    "df_log.to_csv('../data/processed_log_abundance.csv', sep='\\t', header=True, index=True)\n",
    "df_log"
   ]
  },
  {
   "cell_type": "code",
   "execution_count": 0,
   "metadata": {
    "application/vnd.databricks.v1+cell": {
     "cellMetadata": {
      "byteLimit": 2048000,
      "rowLimit": 10000
     },
     "inputWidgets": {},
     "nuid": "4177d48a-b383-4541-8135-ad09c0c1c252",
     "showTitle": false,
     "tableResultSettingsMap": {},
     "title": ""
    }
   },
   "outputs": [],
   "source": [
    "df_meta = pd.read_csv(\"../data/metadata.txt\", sep='\\t', header=0, index_col=0)\n",
    "df_meta"
   ]
  },
  {
   "cell_type": "code",
   "execution_count": 0,
   "metadata": {
    "application/vnd.databricks.v1+cell": {
     "cellMetadata": {
      "byteLimit": 2048000,
      "rowLimit": 10000
     },
     "inputWidgets": {},
     "nuid": "bafaf0a4-a331-484f-9ad2-7a32c5c91f97",
     "showTitle": false,
     "tableResultSettingsMap": {},
     "title": ""
    }
   },
   "outputs": [],
   "source": [
    "df_abundance.index.equals(df_meta.index)\n"
   ]
  },
  {
   "cell_type": "code",
   "execution_count": 0,
   "metadata": {
    "application/vnd.databricks.v1+cell": {
     "cellMetadata": {
      "byteLimit": 2048000,
      "rowLimit": 10000
     },
     "inputWidgets": {},
     "nuid": "27f14eb9-ecee-4243-aab5-adc9ea2ff7dc",
     "showTitle": false,
     "tableResultSettingsMap": {},
     "title": ""
    }
   },
   "outputs": [],
   "source": [
    "# Calculate proportion of healthy individuals by age\n",
    "df_meta['healthy'] = df_meta['disease'] == 'healthy'\n",
    "proportion_healthy_df = df_meta.groupby('age')['healthy'].mean().reset_index(name='proportion_healthy')\n",
    "proportion_healthy_df"
   ]
  },
  {
   "cell_type": "code",
   "execution_count": 0,
   "metadata": {
    "application/vnd.databricks.v1+cell": {
     "cellMetadata": {
      "byteLimit": 2048000,
      "rowLimit": 10000
     },
     "inputWidgets": {},
     "nuid": "8334152f-4f49-4612-8a56-a8c564cf9292",
     "showTitle": false,
     "tableResultSettingsMap": {},
     "title": ""
    }
   },
   "outputs": [],
   "source": [
    "import seaborn as sns\n",
    "import matplotlib.pyplot as plt\n",
    "\n",
    "# Plot histogram\n",
    "sns.histplot(data=df_meta, x='age', bins=int(df_meta['age'].max() + 1), hue='age_category')\n",
    "plt.xlabel('Age')\n",
    "plt.ylabel('Frequency')\n",
    "plt.title('Distribution of Age')"
   ]
  },
  {
   "cell_type": "code",
   "execution_count": 0,
   "metadata": {
    "application/vnd.databricks.v1+cell": {
     "cellMetadata": {
      "byteLimit": 2048000,
      "rowLimit": 10000
     },
     "inputWidgets": {},
     "nuid": "5d63148b-4b20-40bf-8ae8-92298b00b8a5",
     "showTitle": false,
     "tableResultSettingsMap": {},
     "title": ""
    }
   },
   "outputs": [],
   "source": [
    "# Plot histogram\n",
    "sns.histplot(data=df_meta[df_meta['age'] > 0], x='age', bins=int(df_meta['age'].max()), hue='gender', multiple='stack')\n",
    "plt.xlabel('Age')\n",
    "plt.ylabel('Frequency')\n",
    "plt.title('Distribution of Age (age > 0)')\n",
    "\n",
    "# Create a secondary y-axis\n",
    "ax1 = plt.gca()\n",
    "ax2 = ax1.twinx()\n",
    "\n",
    "# Add curve for proportion of healthy individuals\n",
    "sns.lineplot(data=proportion_healthy_df[proportion_healthy_df['age'].isin(df_meta['age'][df_meta['age'] > 0])], x='age', y='proportion_healthy', color='green', label='Proportion Healthy', ax=ax2)\n",
    "ax2.set_ylabel('Proportion Healthy')\n",
    "\n",
    "plt.legend(loc='upper center')\n",
    "plt.show()"
   ]
  },
  {
   "cell_type": "code",
   "execution_count": 0,
   "metadata": {
    "application/vnd.databricks.v1+cell": {
     "cellMetadata": {
      "byteLimit": 2048000,
      "rowLimit": 10000
     },
     "inputWidgets": {},
     "nuid": "3dc94b47-9c02-4898-a33d-77c512978896",
     "showTitle": false,
     "tableResultSettingsMap": {},
     "title": ""
    }
   },
   "outputs": [],
   "source": [
    "# remove age = 0 and remove disease \n",
    "df_meta_healthy = df_meta[df_meta['healthy']]\n",
    "df_meta_healthy_not_newborn = df_meta_healthy[df_meta_healthy['age'] > 0]"
   ]
  },
  {
   "cell_type": "code",
   "execution_count": 0,
   "metadata": {
    "application/vnd.databricks.v1+cell": {
     "cellMetadata": {
      "byteLimit": 2048000,
      "rowLimit": 10000
     },
     "inputWidgets": {},
     "nuid": "12b4c3f0-596f-4546-a6df-86dc346fae59",
     "showTitle": false,
     "tableResultSettingsMap": {},
     "title": ""
    }
   },
   "outputs": [],
   "source": [
    "df_meta_healthy_not_newborn.groupby('age')['healthy'].mean().reset_index(name='proportion_healthy')"
   ]
  },
  {
   "cell_type": "code",
   "execution_count": 0,
   "metadata": {
    "application/vnd.databricks.v1+cell": {
     "cellMetadata": {
      "byteLimit": 2048000,
      "rowLimit": 10000
     },
     "inputWidgets": {},
     "nuid": "cd5a7e86-2311-4924-8635-1b8a2fdb70e5",
     "showTitle": false,
     "tableResultSettingsMap": {},
     "title": ""
    }
   },
   "outputs": [],
   "source": [
    "df_meta_healthy_not_newborn.groupby('age')['healthy'].mean().reset_index(name='proportion_healthy').proportion_healthy.unique()"
   ]
  },
  {
   "cell_type": "code",
   "execution_count": 0,
   "metadata": {
    "application/vnd.databricks.v1+cell": {
     "cellMetadata": {
      "byteLimit": 2048000,
      "rowLimit": 10000
     },
     "inputWidgets": {},
     "nuid": "125e4767-6cd4-4916-acc6-38c5a94ede58",
     "showTitle": false,
     "tableResultSettingsMap": {},
     "title": ""
    }
   },
   "outputs": [],
   "source": [
    "# Plot histogram\n",
    "sns.histplot(data=df_meta_healthy_not_newborn, x='age', bins=int(df_meta['age'].max()-1), hue='gender', multiple='stack')\n",
    "plt.xlabel('Age')\n",
    "plt.ylabel('Frequency')\n",
    "plt.title('Distribution of Age for Healthy age > 0 Samples')\n",
    "\n",
    "# Create a secondary y-axis\n",
    "ax1 = plt.gca()\n",
    "ax2 = ax1.twinx()\n",
    "\n",
    "plt.legend(loc='upper center')\n",
    "\n",
    ";"
   ]
  },
  {
   "cell_type": "code",
   "execution_count": 0,
   "metadata": {
    "application/vnd.databricks.v1+cell": {
     "cellMetadata": {
      "byteLimit": 2048000,
      "rowLimit": 10000
     },
     "inputWidgets": {},
     "nuid": "150d8fd6-b195-4ac5-b182-b73bf4c6a907",
     "showTitle": false,
     "tableResultSettingsMap": {},
     "title": ""
    }
   },
   "outputs": [],
   "source": [
    "df_meta_healthy_not_newborn[['age']].to_csv('../data/age.csv', sep='\\t', header=False, index=True)"
   ]
  },
  {
   "cell_type": "markdown",
   "metadata": {
    "application/vnd.databricks.v1+cell": {
     "cellMetadata": {},
     "inputWidgets": {},
     "nuid": "bc774b96-981d-449c-b71e-4c22614eaf16",
     "showTitle": false,
     "tableResultSettingsMap": {},
     "title": ""
    }
   },
   "source": [
    "## disease pred data"
   ]
  },
  {
   "cell_type": "code",
   "execution_count": 0,
   "metadata": {
    "application/vnd.databricks.v1+cell": {
     "cellMetadata": {
      "byteLimit": 2048000,
      "rowLimit": 10000
     },
     "inputWidgets": {},
     "nuid": "8a9cf4ea-d649-4c2f-aae3-a790cb025751",
     "showTitle": false,
     "tableResultSettingsMap": {},
     "title": ""
    }
   },
   "outputs": [],
   "source": [
    "df_disease = df_meta['disease'].str.get_dummies(sep=';')\n",
    "df_disease\n"
   ]
  },
  {
   "cell_type": "code",
   "execution_count": 0,
   "metadata": {
    "application/vnd.databricks.v1+cell": {
     "cellMetadata": {
      "byteLimit": 2048000,
      "rowLimit": 10000
     },
     "inputWidgets": {},
     "nuid": "55bd4a6b-21c5-4b0b-8202-f88aecdcc6ac",
     "showTitle": false,
     "tableResultSettingsMap": {},
     "title": ""
    }
   },
   "outputs": [],
   "source": [
    "plt.figure(figsize=(18, 5))\n",
    "sum_dis = df_disease.sum(axis=0)\n",
    "print(sum_dis.sort_values(ascending=False))\n",
    "sns.barplot(x=sum_dis.index, y=sum_dis.values)\n",
    "plt.xticks(rotation=60, fontsize=10, ha='right');\n",
    "\n"
   ]
  },
  {
   "cell_type": "code",
   "execution_count": 0,
   "metadata": {
    "application/vnd.databricks.v1+cell": {
     "cellMetadata": {
      "byteLimit": 2048000,
      "rowLimit": 10000
     },
     "inputWidgets": {},
     "nuid": "b67b15ee-8a55-4734-ba37-cd5672ade0f7",
     "showTitle": false,
     "tableResultSettingsMap": {},
     "title": ""
    }
   },
   "outputs": [],
   "source": [
    "df_disease[['T2D']].to_csv('../DeepMicro/data/T2D.csv', sep=',', header=False, index=False)"
   ]
  },
  {
   "cell_type": "code",
   "execution_count": 0,
   "metadata": {
    "application/vnd.databricks.v1+cell": {
     "cellMetadata": {
      "byteLimit": 2048000,
      "rowLimit": 10000
     },
     "inputWidgets": {},
     "nuid": "7042387e-c79f-4ff2-b860-4b8fde248f46",
     "showTitle": false,
     "tableResultSettingsMap": {},
     "title": ""
    }
   },
   "outputs": [],
   "source": [
    "df_disease['sample_id'] = df_meta['sample_id']\n",
    "df_data = pd.merge(df_disease[['sample_id', 'T2D']], df_abundance, on=\"sample_id\", how='inner')\n",
    "df_data"
   ]
  },
  {
   "cell_type": "code",
   "execution_count": 0,
   "metadata": {
    "application/vnd.databricks.v1+cell": {
     "cellMetadata": {
      "byteLimit": 2048000,
      "rowLimit": 10000
     },
     "inputWidgets": {},
     "nuid": "be74342e-3880-4dd4-8f0c-1082b5a4ffc8",
     "showTitle": false,
     "tableResultSettingsMap": {},
     "title": ""
    }
   },
   "outputs": [],
   "source": [
    "df_data['T2D'].value_counts()"
   ]
  },
  {
   "cell_type": "code",
   "execution_count": 0,
   "metadata": {
    "application/vnd.databricks.v1+cell": {
     "cellMetadata": {
      "byteLimit": 2048000,
      "rowLimit": 10000
     },
     "inputWidgets": {},
     "nuid": "00c6a892-9cfe-4939-8e3b-2136d45ef3d1",
     "showTitle": false,
     "tableResultSettingsMap": {},
     "title": ""
    }
   },
   "outputs": [],
   "source": [
    "df_data['target'] = df_data['T2D']"
   ]
  },
  {
   "cell_type": "code",
   "execution_count": 0,
   "metadata": {
    "application/vnd.databricks.v1+cell": {
     "cellMetadata": {
      "byteLimit": 2048000,
      "rowLimit": 10000
     },
     "inputWidgets": {},
     "nuid": "aaae37ab-83d8-4ba5-91ef-42f128fed382",
     "showTitle": false,
     "tableResultSettingsMap": {},
     "title": ""
    }
   },
   "outputs": [],
   "source": [
    "df_data.drop(columns=['sample_id', 'T2D'], inplace=True)\n",
    "df_data"
   ]
  },
  {
   "cell_type": "code",
   "execution_count": 0,
   "metadata": {
    "application/vnd.databricks.v1+cell": {
     "cellMetadata": {
      "byteLimit": 2048000,
      "rowLimit": 10000
     },
     "inputWidgets": {},
     "nuid": "472cc084-8ac6-4a7a-bb4d-3393fab7b693",
     "showTitle": false,
     "tableResultSettingsMap": {},
     "title": ""
    }
   },
   "outputs": [],
   "source": [
    "# df_data.to_csv('../data/processed_log_abundance_t2d.csv', sep='\\t', header=True, index=False)"
   ]
  },
  {
   "cell_type": "code",
   "execution_count": 0,
   "metadata": {
    "application/vnd.databricks.v1+cell": {
     "cellMetadata": {
      "byteLimit": 2048000,
      "rowLimit": 10000
     },
     "inputWidgets": {},
     "nuid": "af9b9eb4-c50d-469f-aa40-6fe0e5ed3146",
     "showTitle": false,
     "tableResultSettingsMap": {},
     "title": ""
    }
   },
   "outputs": [],
   "source": [
    "df_data.isna().any(axis=1).sum()"
   ]
  },
  {
   "cell_type": "markdown",
   "metadata": {
    "application/vnd.databricks.v1+cell": {
     "cellMetadata": {},
     "inputWidgets": {},
     "nuid": "761fc924-7663-414b-b2d6-e4d19ac8c64b",
     "showTitle": false,
     "tableResultSettingsMap": {},
     "title": ""
    }
   },
   "source": [
    "# genus level abundance"
   ]
  },
  {
   "cell_type": "code",
   "execution_count": 0,
   "metadata": {
    "application/vnd.databricks.v1+cell": {
     "cellMetadata": {
      "byteLimit": 2048000,
      "rowLimit": 10000
     },
     "inputWidgets": {},
     "nuid": "1f68df4c-be3d-4cab-9a49-10a12e88a866",
     "showTitle": false,
     "tableResultSettingsMap": {},
     "title": ""
    }
   },
   "outputs": [],
   "source": [
    "from utils_data import *"
   ]
  },
  {
   "cell_type": "code",
   "execution_count": 0,
   "metadata": {
    "application/vnd.databricks.v1+cell": {
     "cellMetadata": {
      "byteLimit": 2048000,
      "rowLimit": 10000
     },
     "inputWidgets": {},
     "nuid": "4dbc42ac-5a5a-432c-aefe-8baa6ff7eeb1",
     "showTitle": false,
     "tableResultSettingsMap": {},
     "title": ""
    }
   },
   "outputs": [],
   "source": [
    "plot_data_distribution(df_abundance, 'Species-level Abundance')"
   ]
  },
  {
   "cell_type": "code",
   "execution_count": 0,
   "metadata": {
    "application/vnd.databricks.v1+cell": {
     "cellMetadata": {
      "byteLimit": 2048000,
      "rowLimit": 10000
     },
     "inputWidgets": {},
     "nuid": "3eea3e94-1b68-44b9-b4ec-29adab9e10b1",
     "showTitle": false,
     "tableResultSettingsMap": {},
     "title": ""
    }
   },
   "outputs": [],
   "source": [
    "# Group columns by their starting word and sum their values\n",
    "df_genus = df_abundance.groupby(df_abundance.columns.str.split(' ').str[0], axis=1).sum()\n",
    "\n",
    "df_genus"
   ]
  },
  {
   "cell_type": "code",
   "execution_count": 0,
   "metadata": {
    "application/vnd.databricks.v1+cell": {
     "cellMetadata": {
      "byteLimit": 2048000,
      "rowLimit": 10000
     },
     "inputWidgets": {},
     "nuid": "b4a3e676-ce39-4817-981c-933e339a7887",
     "showTitle": false,
     "tableResultSettingsMap": {},
     "title": ""
    }
   },
   "outputs": [],
   "source": [
    "plot_data_distribution(df_genus, 'Genus-level Abundance')"
   ]
  },
  {
   "cell_type": "code",
   "execution_count": 0,
   "metadata": {
    "application/vnd.databricks.v1+cell": {
     "cellMetadata": {
      "byteLimit": 2048000,
      "rowLimit": 10000
     },
     "inputWidgets": {},
     "nuid": "e5cf40cb-3a0a-4eb9-824d-b0d9d7f5b5b3",
     "showTitle": false,
     "tableResultSettingsMap": {},
     "title": ""
    }
   },
   "outputs": [],
   "source": [
    "# corr_matrix_genus = df_genus.corr().abs()\n",
    "# upper = corr_matrix_genus.where(np.triu(np.ones(corr_matrix_genus.shape), k=1).astype(bool))\n",
    "# to_drop = [column for column in upper.columns if any(upper[column] > 0.8)]\n",
    "# print(len(to_drop))\n",
    "# to_drop"
   ]
  },
  {
   "cell_type": "code",
   "execution_count": 0,
   "metadata": {
    "application/vnd.databricks.v1+cell": {
     "cellMetadata": {
      "byteLimit": 2048000,
      "rowLimit": 10000
     },
     "inputWidgets": {},
     "nuid": "d1e25668-2b5a-46b9-b69b-e78c65f0e0d7",
     "showTitle": false,
     "tableResultSettingsMap": {},
     "title": ""
    }
   },
   "outputs": [],
   "source": [
    "10 ** np.log10(df_genus[df_genus > 0].min().min()**2 / df_genus.max().max())"
   ]
  },
  {
   "cell_type": "code",
   "execution_count": 0,
   "metadata": {
    "application/vnd.databricks.v1+cell": {
     "cellMetadata": {},
     "inputWidgets": {},
     "nuid": "a7342ceb-3f2a-41d3-bb0d-4c406d46ea58",
     "showTitle": false,
     "tableResultSettingsMap": {},
     "title": ""
    }
   },
   "outputs": [],
   "source": [
    "df_genus_log = df_genus.applymap(lambda x: np.log10(x + 9e-12))"
   ]
  },
  {
   "cell_type": "code",
   "execution_count": 0,
   "metadata": {
    "application/vnd.databricks.v1+cell": {
     "cellMetadata": {
      "byteLimit": 2048000,
      "rowLimit": 10000
     },
     "inputWidgets": {},
     "nuid": "72505137-18ab-4e7d-b814-91c5b1aa5dc2",
     "showTitle": false,
     "tableResultSettingsMap": {},
     "title": ""
    }
   },
   "outputs": [],
   "source": [
    "plot_data_distribution(df_genus_log, 'Log10 Genus-level Abundance')"
   ]
  },
  {
   "cell_type": "code",
   "execution_count": 0,
   "metadata": {
    "application/vnd.databricks.v1+cell": {
     "cellMetadata": {
      "byteLimit": 2048000,
      "rowLimit": 10000
     },
     "inputWidgets": {},
     "nuid": "27d1fb88-aa03-4b0a-9805-9022398142a1",
     "showTitle": false,
     "tableResultSettingsMap": {},
     "title": ""
    }
   },
   "outputs": [],
   "source": [
    "corr_matrix_genus = df_genus_log.corr().abs()\n",
    "upper = corr_matrix_genus.where(np.triu(np.ones(corr_matrix_genus.shape), k=1).astype(bool))\n",
    "to_drop = [column for column in upper.columns if any(upper[column] > 0.8)]\n",
    "print(len(to_drop))\n",
    "to_drop"
   ]
  },
  {
   "cell_type": "code",
   "execution_count": 0,
   "metadata": {
    "application/vnd.databricks.v1+cell": {
     "cellMetadata": {
      "byteLimit": 2048000,
      "rowLimit": 10000
     },
     "inputWidgets": {},
     "nuid": "6ea0e7a0-3918-41e1-8b00-892517abd32b",
     "showTitle": false,
     "tableResultSettingsMap": {},
     "title": ""
    }
   },
   "outputs": [],
   "source": [
    "df_genus_log_drop08 = df_genus_log.drop(columns=to_drop, axis=1, inplace=False)\n",
    "print(df_genus_log_drop08.shape)\n",
    "print(df_genus_log_drop08.max().max(), df_genus_log_drop08.min().min())"
   ]
  },
  {
   "cell_type": "code",
   "execution_count": 0,
   "metadata": {
    "application/vnd.databricks.v1+cell": {
     "cellMetadata": {
      "byteLimit": 2048000,
      "rowLimit": 10000
     },
     "inputWidgets": {},
     "nuid": "b6c1b07e-fa0f-4931-a846-4187b4a5fd5e",
     "showTitle": false,
     "tableResultSettingsMap": {},
     "title": ""
    }
   },
   "outputs": [],
   "source": [
    "\n",
    "plot_data_distribution(df_genus_log_drop08, 'Log10 non-correlated Genus-level Abundance')"
   ]
  },
  {
   "cell_type": "code",
   "execution_count": 0,
   "metadata": {
    "application/vnd.databricks.v1+cell": {
     "cellMetadata": {},
     "inputWidgets": {},
     "nuid": "4f99d2e1-20c4-43ab-867d-452ef300fa86",
     "showTitle": false,
     "tableResultSettingsMap": {},
     "title": ""
    }
   },
   "outputs": [],
   "source": [
    "df_genus_log_drop08_scaled = (df_genus_log - df_genus_log_drop08.min().min())/(df_genus_log_drop08.max().max() - df_genus_log_drop08.min().min())\n",
    "print(df_genus_log_drop08_scaled.min().min(), df_genus_log_drop08_scaled.max().max())\n"
   ]
  },
  {
   "cell_type": "code",
   "execution_count": 0,
   "metadata": {
    "application/vnd.databricks.v1+cell": {
     "cellMetadata": {
      "byteLimit": 2048000,
      "rowLimit": 10000
     },
     "inputWidgets": {},
     "nuid": "e67a4cbd-817d-4b31-b843-be40fae24a7b",
     "showTitle": false,
     "tableResultSettingsMap": {},
     "title": ""
    }
   },
   "outputs": [],
   "source": [
    "plot_data_distribution(df_genus_log_drop08_scaled, 'Scaled Log10 non-correlated Genus-level Abundance')"
   ]
  },
  {
   "cell_type": "code",
   "execution_count": 0,
   "metadata": {
    "application/vnd.databricks.v1+cell": {
     "cellMetadata": {
      "byteLimit": 2048000,
      "rowLimit": 10000
     },
     "inputWidgets": {},
     "nuid": "f80186ec-792f-4d54-9486-3a56847dd0fd",
     "showTitle": false,
     "tableResultSettingsMap": {},
     "title": ""
    }
   },
   "outputs": [],
   "source": [
    "df_genus_log_drop08_scaled"
   ]
  },
  {
   "cell_type": "code",
   "execution_count": 0,
   "metadata": {
    "application/vnd.databricks.v1+cell": {
     "cellMetadata": {
      "byteLimit": 2048000,
      "rowLimit": 10000
     },
     "inputWidgets": {},
     "nuid": "7b29881a-1809-47b8-bde5-3f9f0224d828",
     "showTitle": false,
     "tableResultSettingsMap": {},
     "title": ""
    }
   },
   "outputs": [],
   "source": [
    "import os\n",
    "\n",
    "if os.path.exists('../data/processed_genus_log_drop08_scaled.csv'):\n",
    "    df_genus_log_drop08_scaled = pd.read_csv('../data/processed_genus_log_drop08_scaled.csv', sep='\\t', header=0, index_col=0)\n",
    "else:\n",
    "    df_genus_log_drop08_scaled.to_csv('../data/processed_genus_log_drop08_scaled.csv', sep='\\t', header=True, index=True)\n"
   ]
  }
 ],
 "metadata": {
  "application/vnd.databricks.v1+notebook": {
   "computePreferences": null,
   "dashboards": [],
   "environmentMetadata": null,
   "inputWidgetPreferences": null,
   "language": "python",
   "notebookMetadata": {
    "pythonIndentUnit": 4
   },
   "notebookName": "01_cMD_relative_Preprocessing",
   "widgets": {}
  },
  "kernelspec": {
   "display_name": "ai-omic",
   "language": "python",
   "name": "python3"
  },
  "language_info": {
   "name": "python"
  }
 },
 "nbformat": 4,
 "nbformat_minor": 0
}
