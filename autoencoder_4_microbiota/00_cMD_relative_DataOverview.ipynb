{
 "cells": [
  {
   "cell_type": "markdown",
   "metadata": {
    "application/vnd.databricks.v1+cell": {
     "cellMetadata": {
      "byteLimit": 2048000,
      "rowLimit": 10000
     },
     "inputWidgets": {},
     "nuid": "730f29f8-c48f-429d-a5f0-ef85ec80336a",
     "showTitle": false,
     "tableResultSettingsMap": {},
     "title": ""
    }
   },
   "source": [
    "Check the data structure before prediction\n"
   ]
  },
  {
   "cell_type": "code",
   "execution_count": 0,
   "metadata": {
    "application/vnd.databricks.v1+cell": {
     "cellMetadata": {
      "byteLimit": 2048000,
      "rowLimit": 10000
     },
     "inputWidgets": {},
     "nuid": "263045b6-ae3a-4c2b-aa94-ff4b4c2e15d0",
     "showTitle": false,
     "tableResultSettingsMap": {},
     "title": ""
    }
   },
   "outputs": [],
   "source": [
    "import numpy as np\n",
    "import pandas as pd\n",
    "import seaborn as sns\n",
    "import matplotlib.pyplot as plt\n",
    "from sklearn.model_selection import train_test_split\n"
   ]
  },
  {
   "cell_type": "markdown",
   "metadata": {
    "application/vnd.databricks.v1+cell": {
     "cellMetadata": {},
     "inputWidgets": {},
     "nuid": "caa2c7da-5da4-43de-8fcf-735e441e9038",
     "showTitle": false,
     "tableResultSettingsMap": {},
     "title": ""
    }
   },
   "source": [
    "## presence and nonzero distribution"
   ]
  },
  {
   "cell_type": "code",
   "execution_count": 0,
   "metadata": {
    "application/vnd.databricks.v1+cell": {
     "cellMetadata": {
      "byteLimit": 2048000,
      "rowLimit": 10000
     },
     "inputWidgets": {},
     "nuid": "4982a37a-d25f-478d-ac4f-b1e06f93becd",
     "showTitle": false,
     "tableResultSettingsMap": {},
     "title": ""
    }
   },
   "outputs": [],
   "source": [
    "from visualization_utils import *"
   ]
  },
  {
   "cell_type": "code",
   "execution_count": 0,
   "metadata": {
    "application/vnd.databricks.v1+cell": {
     "cellMetadata": {
      "byteLimit": 2048000,
      "rowLimit": 10000
     },
     "inputWidgets": {},
     "nuid": "e9c0d6bd-5245-4e51-887c-47ab5d844af4",
     "showTitle": false,
     "tableResultSettingsMap": {},
     "title": ""
    }
   },
   "outputs": [],
   "source": [
    "%fs ls /dbfs/data/"
   ]
  },
  {
   "cell_type": "markdown",
   "metadata": {
    "application/vnd.databricks.v1+cell": {
     "cellMetadata": {
      "byteLimit": 2048000,
      "rowLimit": 10000
     },
     "inputWidgets": {},
     "nuid": "4bac45aa-c4e5-4688-9955-edca4e23ca69",
     "showTitle": false,
     "tableResultSettingsMap": {},
     "title": ""
    }
   },
   "source": [
    "## diversity vs age & other factors\n"
   ]
  },
  {
   "cell_type": "code",
   "execution_count": 0,
   "metadata": {
    "application/vnd.databricks.v1+cell": {
     "cellMetadata": {
      "byteLimit": 2048000,
      "rowLimit": 10000
     },
     "inputWidgets": {},
     "nuid": "6934ab5d-7d12-4830-a1ad-b131cfe7a1dd",
     "showTitle": false,
     "tableResultSettingsMap": {},
     "title": ""
    }
   },
   "outputs": [],
   "source": [
    "# df_age = pd.read_csv(\"../data/age.csv\", header=None, index_col=0, sep='\\t')\n",
    "# # df_age = df_age[df_age[1]>=18]  # todo remove after test \n",
    "# y = df_age.to_numpy().reshape(-1, 1).flatten()\n",
    "\n",
    "# y_class = y//10\n",
    "# y_class[y_class==9] = 8 \n",
    "# train_idx, test_idx = train_test_split(range(len(y)), test_size=0.2, stratify=y_class, random_state=42)  \n",
    "\n",
    "df_abundance = pd.read_csv(\"../data/taxa_data.txt\", sep='\\t', header=0, index_col=0)\n",
    "df_abundance.columns = df_abundance.columns.str.replace('[', '').str.replace(']', '')\n",
    "df_abundance = df_abundance.fillna(0)\n",
    "\n",
    "df_genus = df_abundance.groupby(df_abundance.columns.str.split(' ').str[0], axis=1).sum()\n",
    "\n",
    "df_genus\n",
    "# X_train, X_test, y_train, y_test = X[train_idx], X[test_idx], y[train_idx], y[test_idx]"
   ]
  },
  {
   "cell_type": "code",
   "execution_count": 0,
   "metadata": {
    "application/vnd.databricks.v1+cell": {
     "cellMetadata": {
      "byteLimit": 2048000,
      "rowLimit": 10000
     },
     "inputWidgets": {},
     "nuid": "749b95e7-afe4-4798-9a35-4afaec524122",
     "showTitle": false,
     "tableResultSettingsMap": {},
     "title": ""
    }
   },
   "outputs": [],
   "source": [
    "df_meta = pd.read_csv(\"../data/metadata.txt\", sep='\\t', header=0, index_col=0)\n",
    "df_meta"
   ]
  },
  {
   "cell_type": "code",
   "execution_count": 0,
   "metadata": {
    "application/vnd.databricks.v1+cell": {
     "cellMetadata": {
      "byteLimit": 2048000,
      "rowLimit": 10000
     },
     "inputWidgets": {},
     "nuid": "ba5f531f-f59c-4992-899d-1a9f5d07d211",
     "showTitle": false,
     "tableResultSettingsMap": {},
     "title": ""
    }
   },
   "outputs": [],
   "source": [
    "col_factors = ['age', 'antibiotics_current_use', 'gender', 'country', 'non_westernized', 'sequencing_platform', 'disease', \"study_condition\"]"
   ]
  },
  {
   "cell_type": "code",
   "execution_count": 0,
   "metadata": {
    "application/vnd.databricks.v1+cell": {
     "cellMetadata": {
      "byteLimit": 2048000,
      "rowLimit": 10000
     },
     "inputWidgets": {},
     "nuid": "40f00b30-563c-4329-9c8e-8cdd5ac02d07",
     "showTitle": false,
     "tableResultSettingsMap": {},
     "title": ""
    }
   },
   "outputs": [],
   "source": [
    "df_meta.loc[~df_meta.age.isna(), 'age'] = df_meta.loc[~df_meta.age.isna(), 'age'].astype(int)"
   ]
  },
  {
   "cell_type": "code",
   "execution_count": 0,
   "metadata": {
    "application/vnd.databricks.v1+cell": {
     "cellMetadata": {
      "byteLimit": 2048000,
      "rowLimit": 10000
     },
     "inputWidgets": {},
     "nuid": "ea839a8d-e740-499b-af13-5e9fa2672dfd",
     "showTitle": false,
     "tableResultSettingsMap": {},
     "title": ""
    }
   },
   "outputs": [],
   "source": [
    "diversity_species = df_abundance.astype(bool).sum(axis=1)\n",
    "diversity_genus = df_genus.astype(bool).sum(axis=1)\n",
    "\n",
    "diversity_species = df_abundance.astype(bool).sum(axis=1)\n",
    "diversity_genus = df_genus.astype(bool).sum(axis=1)\n",
    "df_diversity = pd.concat([diversity_genus, diversity_species], axis=1, ignore_index=False)\n",
    "df_diversity.columns=['num_genus', 'num_species']\n",
    "\n",
    "df_diversity = pd.concat([df_diversity, df_meta[col_factors]], axis=1, ignore_index=False)\n",
    "\n",
    "\n",
    "\n",
    "# df_diversity = pd.concat([df_age, diversity_species, diversity_genus], axis=1, ignore_index=False)\n",
    "# df_diversity.columns = ['age', 'num_species', 'num_genus']\n",
    "# df_diversity.dropna(inplace=True, axis=0)\n",
    "# df_diversity.age = df_diversity.age.astype(int)\n",
    "# df_diversity"
   ]
  },
  {
   "cell_type": "code",
   "execution_count": 0,
   "metadata": {
    "application/vnd.databricks.v1+cell": {
     "cellMetadata": {
      "byteLimit": 2048000,
      "rowLimit": 10000
     },
     "inputWidgets": {},
     "nuid": "7bb753f7-96f2-4b0d-bd20-94fe118d9a61",
     "showTitle": false,
     "tableResultSettingsMap": {},
     "title": ""
    }
   },
   "outputs": [],
   "source": [
    "plt.figure(figsize=(12, 5))\n",
    "plt.subplot(121)\n",
    "sns.histplot(df_diversity['num_species'], kde=True)\n",
    "plt.xlabel('# species')\n",
    "plt.ylabel('Frequency')\n",
    "plt.title('Distribution of Number of Species')\n",
    "\n",
    "plt.subplot(122)\n",
    "sns.histplot(df_diversity['num_genus'], kde=True)\n",
    "plt.xlabel('# genus')\n",
    "plt.ylabel('Frequency')\n",
    "plt.title('Distribution of Number of Genus')\n",
    "\n",
    "plt.tight_layout()\n",
    "plt.show()"
   ]
  },
  {
   "cell_type": "code",
   "execution_count": 0,
   "metadata": {
    "application/vnd.databricks.v1+cell": {
     "cellMetadata": {
      "byteLimit": 2048000,
      "rowLimit": 10000
     },
     "inputWidgets": {},
     "nuid": "605520ed-1a89-4252-8c71-43b09931888c",
     "showTitle": false,
     "tableResultSettingsMap": {},
     "title": ""
    }
   },
   "outputs": [],
   "source": [
    "df_health_counts = df_meta[['study_condition', 'disease']].copy()\n",
    "df_health_counts['study_condition'] = df_health_counts['study_condition'].apply(\n",
    "    lambda x: 'control' if x == 'control' else 'case'\n",
    ")\n",
    "df_health_counts['disease'] = df_health_counts['disease'].apply(\n",
    "    lambda x: 'healthy' if x == 'healthy' else 'disease'\n",
    ")\n",
    "# Pivot the DataFrame\n",
    "df_pivot = df_health_counts.pivot_table(\n",
    "    index='disease', \n",
    "    columns='study_condition', \n",
    "    aggfunc='size', \n",
    "    fill_value=0\n",
    ")\n",
    "\n",
    "# Display the pivoted DataFrame\n",
    "sns.heatmap(df_pivot, annot=True, fmt='d', cmap='Blues', cbar=False);"
   ]
  },
  {
   "cell_type": "code",
   "execution_count": 0,
   "metadata": {
    "application/vnd.databricks.v1+cell": {
     "cellMetadata": {
      "byteLimit": 2048000,
      "rowLimit": 10000
     },
     "inputWidgets": {},
     "nuid": "66ae68bd-1523-4e07-ad59-eb91b964915a",
     "showTitle": false,
     "tableResultSettingsMap": {},
     "title": ""
    }
   },
   "outputs": [],
   "source": [
    "\n",
    "df_diversity[[\"disease\", 'study_condition']] = df_health_counts[['disease','study_condition']]\n",
    "print(df_diversity.shape)\n",
    "plt.figure(figsize=(10, 20))\n",
    "for i, col in enumerate(col_factors):\n",
    "    plt.subplot(4, 2, i + 1)\n",
    "    sns.boxplot(data=df_diversity.dropna(subset=[col, 'num_species']), y='num_species', x=col)\n",
    "    plt.xticks(rotation=45)\n",
    "    plt.title(col)\n",
    "plt.tight_layout()"
   ]
  },
  {
   "cell_type": "code",
   "execution_count": 0,
   "metadata": {
    "application/vnd.databricks.v1+cell": {
     "cellMetadata": {
      "byteLimit": 2048000,
      "rowLimit": 10000
     },
     "inputWidgets": {},
     "nuid": "d16e63b4-5a29-4579-966b-4226420c1e66",
     "showTitle": false,
     "tableResultSettingsMap": {},
     "title": ""
    }
   },
   "outputs": [],
   "source": [
    "df_diversity.sequencing_platform.value_counts()"
   ]
  },
  {
   "cell_type": "code",
   "execution_count": 0,
   "metadata": {
    "application/vnd.databricks.v1+cell": {
     "cellMetadata": {
      "byteLimit": 2048000,
      "rowLimit": 10000
     },
     "inputWidgets": {},
     "nuid": "70bd9ea5-e44b-4750-893e-39fc503ef1b5",
     "showTitle": false,
     "tableResultSettingsMap": {},
     "title": ""
    }
   },
   "outputs": [],
   "source": [
    "import seaborn as sns\n",
    "\n",
    "plt.figure(figsize=(12, 5))\n",
    "plt.subplot(121)\n",
    "sns.boxplot(df_diversity, x='age', y='num_species')\n",
    "plt.xlabel('Age')\n",
    "plt.ylabel('# species')\n",
    "plt.xticks(ticks=range(0, int(df_diversity['age'].max()), 5), rotation=45)\n",
    "plt.title('Species diversity by age')\n",
    "plt.subplot(122)\n",
    "sns.boxplot(df_diversity[df_diversity['sequencing_platform'] !='IlluminaMiSeq'], x='age', y='num_species')\n",
    "plt.xlabel('Age')\n",
    "plt.ylabel('# genus')\n",
    "plt.xticks(ticks=range(0, int(df_diversity['age'].max()), 5), rotation = 45)\n",
    ";"
   ]
  },
  {
   "cell_type": "code",
   "execution_count": 0,
   "metadata": {
    "application/vnd.databricks.v1+cell": {
     "cellMetadata": {
      "byteLimit": 2048000,
      "rowLimit": 10000
     },
     "inputWidgets": {},
     "nuid": "7d444d75-b5cc-4d04-bdf4-fc13e97f90b2",
     "showTitle": false,
     "tableResultSettingsMap": {},
     "title": ""
    }
   },
   "outputs": [],
   "source": [
    "plt.plot(df_diversity['num_species'], df_diversity['num_genus'], '.')\n",
    "plt.xlabel('Number of Species')\n",
    "plt.ylabel('Number of Genus')\n",
    "plt.title('Number of Species vs Number of Genus')"
   ]
  },
  {
   "cell_type": "markdown",
   "metadata": {
    "application/vnd.databricks.v1+cell": {
     "cellMetadata": {
      "byteLimit": 2048000,
      "rowLimit": 10000
     },
     "inputWidgets": {},
     "nuid": "ef0e4d86-2304-4482-a3fd-a398cbd89075",
     "showTitle": false,
     "tableResultSettingsMap": {},
     "title": ""
    }
   },
   "source": [
    "## prediction using diversity"
   ]
  },
  {
   "cell_type": "code",
   "execution_count": 0,
   "metadata": {
    "application/vnd.databricks.v1+cell": {
     "cellMetadata": {
      "byteLimit": 2048000,
      "rowLimit": 10000
     },
     "inputWidgets": {},
     "nuid": "da7134f7-ed2e-4569-befa-9106d4035142",
     "showTitle": false,
     "tableResultSettingsMap": {},
     "title": ""
    }
   },
   "outputs": [],
   "source": [
    "!pip install xgboost\n"
   ]
  },
  {
   "cell_type": "code",
   "execution_count": 0,
   "metadata": {
    "application/vnd.databricks.v1+cell": {
     "cellMetadata": {
      "byteLimit": 2048000,
      "rowLimit": 10000
     },
     "inputWidgets": {},
     "nuid": "9025f76f-2325-4676-8320-61dc51acb3fc",
     "showTitle": false,
     "tableResultSettingsMap": {},
     "title": ""
    }
   },
   "outputs": [],
   "source": [
    "from sklearn.model_selection import train_test_split\n",
    "from sklearn.linear_model import LinearRegression\n",
    "from sklearn.metrics import mean_squared_error\n",
    "\n",
    "\n",
    "# Prepare the data\n",
    "y = df_meta[(~df_meta.age.isna()) &(df_meta.age>0) & (df_meta.disease=='healthy')& (df_meta.study_condition =='control')].age\n",
    "ind_samples = y.index\n",
    "X = df_diversity[['num_species']].loc[ind_samples, :].to_numpy()\n",
    "y = y.to_numpy()\n",
    "print(X.shape, y.shape)\n",
    "\n",
    "# Split the data into training and testing sets\n",
    "X_train, X_test, y_train, y_test = train_test_split(X, y, test_size=0.2, random_state=42)\n",
    "\n",
    "from xgboost import XGBRegressor\n",
    "\n",
    "# Create and train the linear regression model\n",
    "model_linear = LinearRegression()\n",
    "model_linear.fit(X_train, y_train)\n",
    "\n",
    "# Create and train the XGBoost regressor model\n",
    "model_xg = XGBRegressor()\n",
    "model_xg.fit(X_train, y_train)\n",
    "\n",
    "# Make predictions\n",
    "y_pred_linear = model_linear.predict(X_test)\n",
    "y_pred_xgb = model_xg.predict(X_test)"
   ]
  },
  {
   "cell_type": "code",
   "execution_count": 0,
   "metadata": {
    "application/vnd.databricks.v1+cell": {
     "cellMetadata": {
      "byteLimit": 2048000,
      "rowLimit": 10000
     },
     "inputWidgets": {},
     "nuid": "c32f3fbe-3673-4de4-816f-a28c757d0685",
     "showTitle": false,
     "tableResultSettingsMap": {},
     "title": ""
    }
   },
   "outputs": [],
   "source": [
    "# Calculate the mean squared error and R-squared for linear regression\n",
    "mse_linear = mean_squared_error(y_test, y_pred_linear)\n",
    "r2_linear = model_linear.score(X_test, y_test)\n",
    "\n",
    "# Calculate the mean squared error and R-squared for XGBoost regressor\n",
    "mse_xg = mean_squared_error(y_test, y_pred_xgb)\n",
    "r2_xg = model_xg.score(X_test, y_test)\n",
    "\n",
    "# Plot y_pred_linear vs y_test, and y_pred_xgb vs y_test, in two subplots\n",
    "plt.figure(figsize=(9, 4.5))\n",
    "\n",
    "# Subplot for Linear Regression\n",
    "plt.subplot(1, 2, 1)\n",
    "plt.scatter(y_test, y_pred_linear, alpha=0.5)\n",
    "plt.xlabel('Actual Age')\n",
    "plt.ylabel('Predicted Age (Linear Regression)')\n",
    "plt.title('Actual Age vs Predicted Age (Linear Regression)')\n",
    "plt.plot([y_test.min(), y_test.max()], [y_test.min(), y_test.max()], 'k--', lw=2)\n",
    "plt.text(0.05, 0.95, f'R2: {r2_linear:.2f}\\nMSE: {mse_linear:.2f}', transform=plt.gca().transAxes, \n",
    "         fontsize=12, verticalalignment='top', bbox=dict(boxstyle='round,pad=0.3', edgecolor='black', facecolor='white'))\n",
    "\n",
    "# Subplot for XGBoost Regressor\n",
    "plt.subplot(1, 2, 2)\n",
    "plt.scatter(y_test, y_pred_xgb, alpha=0.5)\n",
    "plt.xlabel('Actual Age')\n",
    "plt.ylabel('Predicted Age (XGBoost)')\n",
    "plt.title('Actual Age vs Predicted Age (XGBoost)')\n",
    "plt.plot([y_test.min(), y_test.max()], [y_test.min(), y_test.max()], 'k--', lw=2)\n",
    "plt.text(0.05, 0.95, f'R2: {r2_xg:.2f}\\nMSE: {mse_xg:.2f}', transform=plt.gca().transAxes, \n",
    "         fontsize=12, verticalalignment='top', bbox=dict(boxstyle='round,pad=0.3', edgecolor='black', facecolor='white'))\n",
    "\n",
    "plt.tight_layout()\n"
   ]
  },
  {
   "cell_type": "markdown",
   "metadata": {
    "application/vnd.databricks.v1+cell": {
     "cellMetadata": {
      "byteLimit": 2048000,
      "rowLimit": 10000
     },
     "inputWidgets": {},
     "nuid": "96ba9cb6-c4ad-4cac-8ffc-370f8d0d55cf",
     "showTitle": false,
     "tableResultSettingsMap": {},
     "title": ""
    }
   },
   "source": [
    "## prediction using presence"
   ]
  },
  {
   "cell_type": "code",
   "execution_count": 0,
   "metadata": {
    "application/vnd.databricks.v1+cell": {
     "cellMetadata": {
      "byteLimit": 2048000,
      "rowLimit": 10000
     },
     "inputWidgets": {},
     "nuid": "ec3429f7-ba32-4c80-a1b4-d616ef32131f",
     "showTitle": false,
     "tableResultSettingsMap": {},
     "title": ""
    }
   },
   "outputs": [],
   "source": [
    "from sklearn.metrics import r2_score\n",
    "# y = y[y >= 18]\n",
    "y_class = y//10 \n",
    "y_class[y_class==9] = 8  \n",
    "train_idx, test_idx = train_test_split(range(len(y)), test_size=0.2, stratify=y_class, random_state=42)  \n",
    "X = df_abundance.loc[ind_samples, :].to_numpy()\n",
    "X = X.astype(bool).astype(float)\n",
    "\n",
    "X_train, X_test, y_train, y_test = X[train_idx], X[test_idx], y[train_idx], y[test_idx]"
   ]
  },
  {
   "cell_type": "code",
   "execution_count": 0,
   "metadata": {
    "application/vnd.databricks.v1+cell": {
     "cellMetadata": {
      "byteLimit": 2048000,
      "rowLimit": 10000
     },
     "inputWidgets": {},
     "nuid": "6b3aefe7-f01a-4830-a093-89705b4806c2",
     "showTitle": false,
     "tableResultSettingsMap": {},
     "title": ""
    }
   },
   "outputs": [],
   "source": [
    "xgb_model = XGBRegressor(n_estimators=200, learning_rate=0.05, max_depth=4)\n",
    "# xgb_model = XGBRegressor()\n",
    "xgb_model.fit(X_train, y_train)\n",
    "y_pred = xgb_model.predict(X_test)\n",
    "# Plot y_pred vs y_test with text for R-squared and MSE\n",
    "plt.figure(figsize=(6, 4.5))\n",
    "plt.scatter(y_test, y_pred, alpha=0.5)\n",
    "plt.xlabel('Actual Age')\n",
    "plt.ylabel('Predicted Age')\n",
    "plt.title('Actual Age vs Predicted Age')\n",
    "plt.plot([y_test.min(), y_test.max()], [y_test.min(), y_test.max()], 'k--', lw=2)\n",
    "\n",
    "# Calculate R-squared and MSE\n",
    "mse = mean_squared_error(y_test, y_pred)\n",
    "r2 = r2_score(y_test, y_pred)\n",
    "\n",
    "# Add text for R-squared and MSE\n",
    "plt.text(0.05, 0.95, f'R2: {r2:.2f}\\nMSE: {mse:.2f}', transform=plt.gca().transAxes, \n",
    "         fontsize=12, verticalalignment='top', bbox=dict(boxstyle='round,pad=0.3', edgecolor='black', facecolor='white'))\n",
    "\n",
    "plt.tight_layout()\n",
    "plt.show()\n"
   ]
  },
  {
   "cell_type": "code",
   "execution_count": 0,
   "metadata": {
    "application/vnd.databricks.v1+cell": {
     "cellMetadata": {
      "byteLimit": 2048000,
      "rowLimit": 10000
     },
     "inputWidgets": {},
     "nuid": "419502a0-f1fc-48fe-a6c7-6e203ca83892",
     "showTitle": false,
     "tableResultSettingsMap": {},
     "title": ""
    }
   },
   "outputs": [],
   "source": [
    "feature_importance = xgb_model.feature_importances_\n",
    "\n",
    "feature_names = df_abundance.columns\n",
    "importance_df = pd.DataFrame({'Feature': feature_names, 'Importance': feature_importance})\n",
    "importance_df = importance_df.sort_values(by='Importance', ascending=False)\n",
    "\n",
    "plt.figure(figsize=(6, 4))\n",
    "sns.barplot(importance_df.head(10), y ='Feature', x='Importance')\n",
    "plt.xlabel('Importance')\n",
    "plt.ylabel('Feature')\n",
    "plt.title('Feature Importance from XGBoost Model')\n",
    "plt.gca().invert_yaxis()\n",
    "plt.show()"
   ]
  },
  {
   "cell_type": "code",
   "execution_count": 0,
   "metadata": {
    "application/vnd.databricks.v1+cell": {
     "cellMetadata": {
      "byteLimit": 2048000,
      "rowLimit": 10000
     },
     "inputWidgets": {},
     "nuid": "e2ab12fb-51ec-4983-bda2-f7d887fbbba6",
     "showTitle": false,
     "tableResultSettingsMap": {},
     "title": ""
    }
   },
   "outputs": [],
   "source": [
    "!pip install shap"
   ]
  },
  {
   "cell_type": "code",
   "execution_count": 0,
   "metadata": {
    "application/vnd.databricks.v1+cell": {
     "cellMetadata": {
      "byteLimit": 2048000,
      "rowLimit": 10000
     },
     "inputWidgets": {},
     "nuid": "872504c3-a5d3-413f-b36d-24b1f85dc3c7",
     "showTitle": false,
     "tableResultSettingsMap": {},
     "title": ""
    }
   },
   "outputs": [],
   "source": [
    "!pip install numpy==1.24"
   ]
  },
  {
   "cell_type": "code",
   "execution_count": 0,
   "metadata": {
    "application/vnd.databricks.v1+cell": {
     "cellMetadata": {
      "byteLimit": 2048000,
      "rowLimit": 10000
     },
     "inputWidgets": {},
     "nuid": "960d052d-04ec-4868-a5b7-5f126d5693de",
     "showTitle": false,
     "tableResultSettingsMap": {},
     "title": ""
    }
   },
   "outputs": [],
   "source": [
    "import shap\n",
    "# Initialize the SHAP explainer\n",
    "explainer = shap.Explainer(xgb_model, df_abundance)\n",
    "\n",
    "# Calculate SHAP values\n",
    "shap_values = explainer(df_abundance)\n",
    "\n",
    "# Plot the SHAP summary\n",
    "shap.summary_plot(shap_values, df_abundance)"
   ]
  },
  {
   "cell_type": "code",
   "execution_count": 0,
   "metadata": {
    "application/vnd.databricks.v1+cell": {
     "cellMetadata": {
      "byteLimit": 2048000,
      "rowLimit": 10000
     },
     "inputWidgets": {},
     "nuid": "e7daf146-ba69-451e-a245-41bb890396ff",
     "showTitle": false,
     "tableResultSettingsMap": {},
     "title": ""
    }
   },
   "outputs": [],
   "source": [
    "# from databricks import automl\n",
    "\n",
    "# # Combine the dataframes\n",
    "# df_combined = pd.DataFrame(X)\n",
    "# df_combined['age'] = y \n",
    "\n",
    "# # Run AutoML for regression\n",
    "# summary = automl.regress(df_combined, target_col=\"age\", timeout_minutes=30)\n",
    "\n",
    "# # Display the summary of the AutoML run\n",
    "# display(summary)\n"
   ]
  },
  {
   "cell_type": "markdown",
   "metadata": {
    "application/vnd.databricks.v1+cell": {
     "cellMetadata": {
      "byteLimit": 2048000,
      "rowLimit": 10000
     },
     "inputWidgets": {},
     "nuid": "bd4d8e4c-c576-4409-b9a4-4b033ee3e491",
     "showTitle": false,
     "tableResultSettingsMap": {},
     "title": ""
    }
   },
   "source": [
    "## feature correlation with target"
   ]
  },
  {
   "cell_type": "code",
   "execution_count": 0,
   "metadata": {
    "application/vnd.databricks.v1+cell": {
     "cellMetadata": {
      "byteLimit": 2048000,
      "rowLimit": 10000
     },
     "inputWidgets": {},
     "nuid": "88db3700-2831-4950-a3d2-31685460ccd7",
     "showTitle": false,
     "tableResultSettingsMap": {},
     "title": ""
    }
   },
   "outputs": [],
   "source": [
    "from scipy.stats import spearmanr\n",
    "correlations = df_abundance.loc[ind_samples].apply(lambda x: spearmanr(x, y)[0])\n",
    "correlations_sorted = correlations.dropna().sort_values()\n",
    "\n",
    "plt.figure(figsize=(16, 4))\n",
    "plt.subplot(1, 2, 1)\n",
    "correlations_sorted.head(10).plot(kind='barh')\n",
    "plt.xlabel('Spearman Correlation with Age')\n",
    "plt.ylabel('Species')\n",
    "plt.title('Species by their Correlation to Age')\n",
    "# plt.yticks(fontsize=)\n",
    "plt.subplot(1, 2, 2)\n",
    "correlations_sorted.tail(10).plot(kind='barh')\n",
    "plt.xlabel('Spearman Correlation with Age')\n",
    "plt.ylabel('Species')\n",
    "plt.title('Species by their Correlation to Age')\n",
    "# plt.yticks(fontsize=6)\n",
    "plt.tight_layout();"
   ]
  },
  {
   "cell_type": "code",
   "execution_count": 0,
   "metadata": {
    "application/vnd.databricks.v1+cell": {
     "cellMetadata": {
      "byteLimit": 2048000,
      "rowLimit": 10000
     },
     "inputWidgets": {},
     "nuid": "fd6509fc-ee55-4412-9e29-5aacd2eda7b5",
     "showTitle": false,
     "tableResultSettingsMap": {},
     "title": ""
    }
   },
   "outputs": [],
   "source": [
    "from scipy.stats import spearmanr\n",
    "correlations = df_genus.loc[ind_samples].apply(lambda x: spearmanr(x, y)[0])\n",
    "correlations_sorted = correlations.dropna().sort_values()\n",
    "\n",
    "plt.figure(figsize=(16, 4))\n",
    "plt.subplot(1, 2, 1)\n",
    "correlations_sorted.head(10).plot(kind='barh')\n",
    "plt.xlabel('Spearman Correlation with Age')\n",
    "plt.ylabel('Genus')\n",
    "plt.title('Genus by their Correlation to Age')\n",
    "# plt.yticks(fontsize=)\n",
    "plt.subplot(1, 2, 2)\n",
    "correlations_sorted.tail(10).plot(kind='barh')\n",
    "plt.xlabel('Spearman Correlation with Age')\n",
    "plt.ylabel('Genus')\n",
    "plt.title('Genus by their Correlation to Age')\n",
    "# plt.yticks(fontsize=6)\n",
    "plt.tight_layout();"
   ]
  },
  {
   "cell_type": "code",
   "execution_count": 0,
   "metadata": {
    "application/vnd.databricks.v1+cell": {
     "cellMetadata": {
      "byteLimit": 2048000,
      "rowLimit": 10000
     },
     "inputWidgets": {},
     "nuid": "be894181-627f-4dec-93d6-17d18f53c827",
     "showTitle": false,
     "tableResultSettingsMap": {},
     "title": ""
    }
   },
   "outputs": [],
   "source": [
    "df_abundance = df_abundance.loc[df_age.index]\n",
    "correlations = df_abundance.apply(lambda x: spearmanr(x, df_age[1])[0])\n",
    "correlations_sorted = correlations.dropna().sort_values()\n",
    "\n",
    "plt.figure(figsize=(8, 12))\n",
    "correlations_sorted.plot(kind='barh')\n",
    "plt.xlabel('Spearman Correlation with Age')\n",
    "plt.ylabel('Genus')\n",
    "plt.title('Species by their Correlation to Age')\n",
    "plt.yticks(fontsize=6);"
   ]
  },
  {
   "cell_type": "code",
   "execution_count": 0,
   "metadata": {
    "application/vnd.databricks.v1+cell": {
     "cellMetadata": {
      "byteLimit": 2048000,
      "rowLimit": 10000
     },
     "inputWidgets": {},
     "nuid": "d4a53f57-47c4-4a2d-8e8f-5c60f555de3c",
     "showTitle": false,
     "tableResultSettingsMap": {},
     "title": ""
    }
   },
   "outputs": [],
   "source": [
    "print(correlations_sorted.head(20), correlations_sorted.tails(20))"
   ]
  },
  {
   "cell_type": "markdown",
   "metadata": {
    "application/vnd.databricks.v1+cell": {
     "cellMetadata": {
      "byteLimit": 2048000,
      "rowLimit": 10000
     },
     "inputWidgets": {},
     "nuid": "dbefaaca-f0f2-42f7-9b46-ce5be6119f01",
     "showTitle": false,
     "tableResultSettingsMap": {},
     "title": ""
    }
   },
   "source": [
    "## log - drop associated - scaled data\n"
   ]
  },
  {
   "cell_type": "code",
   "execution_count": 0,
   "metadata": {
    "application/vnd.databricks.v1+cell": {
     "cellMetadata": {
      "byteLimit": 2048000,
      "rowLimit": 10000
     },
     "inputWidgets": {},
     "nuid": "79d0982f-7072-401c-ac02-c999254464f4",
     "showTitle": false,
     "tableResultSettingsMap": {},
     "title": ""
    }
   },
   "outputs": [],
   "source": [
    "\n",
    "\n",
    "df_age = pd.read_csv(\"../data/age.csv\", header=None, index_col=0, sep='\\t')\n",
    "# df_age = df_age[df_age[1]>=18]  # todo remove after test \n",
    "y = df_age.to_numpy().reshape(-1, 1).flatten()\n",
    "\n",
    "y_class = y//10\n",
    "y_class[y_class==9] = 8 \n",
    "train_idx, test_idx = train_test_split(range(len(y)), test_size=0.2, stratify=y_class, random_state=42)  \n",
    "\n",
    "X = pd.read_csv(\"../data/processed_log_drop08_scaled.csv\", header=0, index_col=0, sep='\\t').loc[df_age.index, :].to_numpy()\n",
    "X_train, X_test, y_train, y_test = X[train_idx], X[test_idx], y[train_idx], y[test_idx]\n"
   ]
  },
  {
   "cell_type": "code",
   "execution_count": 0,
   "metadata": {
    "application/vnd.databricks.v1+cell": {
     "cellMetadata": {
      "byteLimit": 2048000,
      "rowLimit": 10000
     },
     "inputWidgets": {},
     "nuid": "3e9502bd-7e50-47e6-9369-43dc7ae7011e",
     "showTitle": false,
     "tableResultSettingsMap": {},
     "title": ""
    }
   },
   "outputs": [],
   "source": [
    "# df_age = pd.read_csv(\"../data/age.csv\", sep='\\t', header=None, index_col=0)\n",
    "# df_abundance = pd.read_csv(\"../data/processed_abundance.csv\", sep='\\t', header=0, index_col=0).loc[df_age.index, :]\n",
    "# df_log = pd.read_csv(\"../data/processed_log_abundance.csv\", sep='\\t', header=0, index_col=0).loc[df_age.index, :]\n"
   ]
  },
  {
   "cell_type": "code",
   "execution_count": 0,
   "metadata": {
    "application/vnd.databricks.v1+cell": {
     "cellMetadata": {
      "byteLimit": 2048000,
      "rowLimit": 10000
     },
     "inputWidgets": {},
     "nuid": "b7552357-7330-4cc9-9bdc-430972e60031",
     "showTitle": false,
     "tableResultSettingsMap": {},
     "title": ""
    }
   },
   "outputs": [],
   "source": [
    "sns.histplot(X.flatten());"
   ]
  },
  {
   "cell_type": "code",
   "execution_count": 0,
   "metadata": {
    "application/vnd.databricks.v1+cell": {
     "cellMetadata": {
      "byteLimit": 2048000,
      "rowLimit": 10000
     },
     "inputWidgets": {},
     "nuid": "ab257eb5-58ac-4704-9954-0d8134c2481b",
     "showTitle": false,
     "tableResultSettingsMap": {},
     "title": ""
    }
   },
   "outputs": [],
   "source": [
    "sns.histplot(X.flatten()[X.flatten() >0 ]);"
   ]
  },
  {
   "cell_type": "code",
   "execution_count": 0,
   "metadata": {
    "application/vnd.databricks.v1+cell": {
     "cellMetadata": {
      "byteLimit": 2048000,
      "rowLimit": 10000
     },
     "inputWidgets": {},
     "nuid": "cbb5c1bd-41e7-47f8-a983-6ccd5f875394",
     "showTitle": false,
     "tableResultSettingsMap": {},
     "title": ""
    }
   },
   "outputs": [],
   "source": [
    "# plt.figure(figsize=(15, 5))\n",
    "# plt.subplot(121)\n",
    "# sns.histplot(df_abundance.to_numpy().flatten())\n",
    "# plt.subplot(122)\n",
    "# sns.histplot(df_log.to_numpy().flatten());"
   ]
  },
  {
   "cell_type": "code",
   "execution_count": 0,
   "metadata": {
    "application/vnd.databricks.v1+cell": {
     "cellMetadata": {
      "byteLimit": 2048000,
      "rowLimit": 10000
     },
     "inputWidgets": {},
     "nuid": "8eb1cc96-9444-4571-a7bf-fc18e8a7dabe",
     "showTitle": false,
     "tableResultSettingsMap": {},
     "title": ""
    }
   },
   "outputs": [],
   "source": [
    "# plt.figure(figsize=(15, 5))\n",
    "# plt.subplot(121)\n",
    "# sns.histplot(df_abundance.to_numpy().flatten()[df_abundance.to_numpy().flatten() != 0])\n",
    "# plt.subplot(122)\n",
    "# sns.histplot(df_log.to_numpy().flatten()[df_log.to_numpy().flatten() >-6 ]);"
   ]
  },
  {
   "cell_type": "code",
   "execution_count": 0,
   "metadata": {
    "application/vnd.databricks.v1+cell": {
     "cellMetadata": {
      "byteLimit": 2048000,
      "rowLimit": 10000
     },
     "inputWidgets": {},
     "nuid": "3cf5af3f-1b28-4f10-9318-bdac4cc60b21",
     "showTitle": false,
     "tableResultSettingsMap": {},
     "title": ""
    }
   },
   "outputs": [],
   "source": [
    "# from sklearn.preprocessing import MinMaxScaler, StandardScaler\n",
    "\n",
    "# scaler = StandardScaler()\n",
    "# df_log_scaled = scaler.fit_transform(df_log)\n",
    "\n",
    "# df_log_scaled.loc[df_log > -6] = pd.DataFrame(df_log_scaled, index=df_log.index, columns=df_log.columns)\n",
    "# df_log_scaled"
   ]
  },
  {
   "cell_type": "code",
   "execution_count": 0,
   "metadata": {
    "application/vnd.databricks.v1+cell": {
     "cellMetadata": {
      "byteLimit": 2048000,
      "rowLimit": 10000
     },
     "inputWidgets": {},
     "nuid": "20918bb0-d708-4947-9597-a9c3e9bea32a",
     "showTitle": false,
     "tableResultSettingsMap": {},
     "title": ""
    }
   },
   "outputs": [],
   "source": [
    "# sns.histplot(df_log_scaled.to_numpy().flatten(), bins=50, kde=True;"
   ]
  },
  {
   "cell_type": "code",
   "execution_count": 0,
   "metadata": {
    "application/vnd.databricks.v1+cell": {
     "cellMetadata": {
      "byteLimit": 2048000,
      "rowLimit": 10000
     },
     "inputWidgets": {},
     "nuid": "8a116f81-7a99-489f-b41e-0a2016452b51",
     "showTitle": false,
     "tableResultSettingsMap": {},
     "title": ""
    }
   },
   "outputs": [],
   "source": [
    "# df_log_scaled.describe()"
   ]
  },
  {
   "cell_type": "code",
   "execution_count": 0,
   "metadata": {
    "application/vnd.databricks.v1+cell": {
     "cellMetadata": {
      "byteLimit": 2048000,
      "rowLimit": 10000
     },
     "inputWidgets": {},
     "nuid": "5c888795-8a1b-4451-848e-72960c4eed0a",
     "showTitle": false,
     "tableResultSettingsMap": {},
     "title": ""
    }
   },
   "outputs": [],
   "source": [
    "# sns.histplot(df_log_scaled.to_numpy().flatten()[df_log_scaled.to_numpy().flatten()>0]);"
   ]
  },
  {
   "cell_type": "code",
   "execution_count": 0,
   "metadata": {
    "application/vnd.databricks.v1+cell": {
     "cellMetadata": {
      "byteLimit": 2048000,
      "rowLimit": 10000
     },
     "inputWidgets": {},
     "nuid": "508d65c4-eb7c-4a85-8f24-d941caf4e2be",
     "showTitle": false,
     "tableResultSettingsMap": {},
     "title": ""
    }
   },
   "outputs": [],
   "source": [
    "import scipy.stats as stats\n",
    "\n",
    "stat, p_value = stats.normaltest(X[X != 0])\n",
    "print(stat)\n",
    "print(f\" non zero data - Normality test p-value: {p_value:.5f}\")"
   ]
  },
  {
   "cell_type": "code",
   "execution_count": 0,
   "metadata": {
    "application/vnd.databricks.v1+cell": {
     "cellMetadata": {
      "byteLimit": 2048000,
      "rowLimit": 10000
     },
     "inputWidgets": {},
     "nuid": "2356a07b-9519-4e00-965e-9952ccff04a5",
     "showTitle": false,
     "tableResultSettingsMap": {},
     "title": ""
    }
   },
   "outputs": [],
   "source": [
    "\n",
    "\n",
    "\n",
    "# # Perform normality test\n",
    "# stat, p_value = stats.normaltest(df_abundance.to_numpy()[df_abundance.to_numpy() != 0])\n",
    "# print(stat)\n",
    "# print(f\"abundance non zero data - Normality test p-value: {p_value:.5f}\")\n",
    "# stat, p_value = stats.normaltest(df_log.to_numpy()[df_abundance.to_numpy() != 0])\n",
    "# print(stat)\n",
    "# print(f\"log abundance non zero data - Normality test p-value: {p_value:.5f}\")"
   ]
  },
  {
   "cell_type": "code",
   "execution_count": 0,
   "metadata": {
    "application/vnd.databricks.v1+cell": {
     "cellMetadata": {
      "byteLimit": 2048000,
      "rowLimit": 10000
     },
     "inputWidgets": {},
     "nuid": "eec6bb97-9913-40af-82dd-6765ac81c49a",
     "showTitle": false,
     "tableResultSettingsMap": {},
     "title": ""
    }
   },
   "outputs": [],
   "source": [
    "stats.normaltest(y)"
   ]
  },
  {
   "cell_type": "markdown",
   "metadata": {
    "application/vnd.databricks.v1+cell": {
     "cellMetadata": {
      "byteLimit": 2048000,
      "rowLimit": 10000
     },
     "inputWidgets": {},
     "nuid": "d9a0d9ca-ac34-4f04-8a0b-1db0044a2e8d",
     "showTitle": false,
     "tableResultSettingsMap": {},
     "title": ""
    }
   },
   "source": []
  },
  {
   "cell_type": "code",
   "execution_count": 0,
   "metadata": {
    "application/vnd.databricks.v1+cell": {
     "cellMetadata": {
      "byteLimit": 2048000,
      "rowLimit": 10000
     },
     "inputWidgets": {},
     "nuid": "96fd6802-ef80-430d-912f-646f845671e2",
     "showTitle": false,
     "tableResultSettingsMap": {},
     "title": ""
    }
   },
   "outputs": [],
   "source": [
    "# X_abundance = df_abundance.fillna(0).to_numpy()\n",
    "# X_log = df_log.to_numpy()\n",
    "\n",
    "# y = df_age.to_numpy().reshape(-1, 1).flatten()\n"
   ]
  },
  {
   "cell_type": "markdown",
   "metadata": {
    "application/vnd.databricks.v1+cell": {
     "cellMetadata": {
      "byteLimit": 2048000,
      "rowLimit": 10000
     },
     "inputWidgets": {},
     "nuid": "e41018f1-95ca-4bd4-ace8-b4ef66724d32",
     "showTitle": false,
     "tableResultSettingsMap": {},
     "title": ""
    }
   },
   "source": [
    "## check if data is linear or nonlinear"
   ]
  },
  {
   "cell_type": "code",
   "execution_count": 0,
   "metadata": {
    "application/vnd.databricks.v1+cell": {
     "cellMetadata": {
      "byteLimit": 2048000,
      "rowLimit": 10000
     },
     "inputWidgets": {},
     "nuid": "3fc584c3-c9bc-4b05-b892-79b83048c586",
     "showTitle": false,
     "tableResultSettingsMap": {},
     "title": ""
    }
   },
   "outputs": [],
   "source": [
    "X!=0"
   ]
  },
  {
   "cell_type": "code",
   "execution_count": 0,
   "metadata": {
    "application/vnd.databricks.v1+cell": {
     "cellMetadata": {
      "byteLimit": 2048000,
      "rowLimit": 10000
     },
     "inputWidgets": {},
     "nuid": "b4847941-f290-4aa0-8de4-bc28ec9f94a2",
     "showTitle": false,
     "tableResultSettingsMap": {},
     "title": ""
    }
   },
   "outputs": [],
   "source": [
    "plt.figure(figsize=(12, 4))\n",
    "plt.subplot(131)\n",
    "corr_matrix_xy = np.corrcoef(X, y, rowvar=False)[-1, :-1]\n",
    "sns.histplot(corr_matrix_xy, bins=50, kde=True)\n",
    "plt.xlabel(\"Correlation with Target\")\n",
    "plt.ylabel(\"Feature Count\")\n",
    "plt.title(\"scaled log abundance Feature-Target Correlation dist\")\n",
    "plt.subplot(132)\n",
    "corr_matrix_sumxy =  np.corrcoef(X.sum(axis=1), y, rowvar=False)[-1, :-1]\n",
    "sns.histplot(corr_matrix_sumxy, bins=50, kde=True)\n",
    "plt.xlabel(\"Correlation with Target\")\n",
    "plt.ylabel(\"Feature Count\")\n",
    "plt.title(\"sum scaled log abundance Feature-Target Correlation dist\")\n",
    "plt.subplot(133)\n",
    "corr_matrix_sumpresencexy =  np.corrcoef((X !=0).sum(axis=1), y, rowvar=False)[-1, :-1]\n",
    "sns.histplot(corr_matrix_sumpresencexy, bins=50, kde=True)\n",
    "plt.xlabel(\"Correlation with Target\")\n",
    "plt.ylabel(\"Feature Count\")\n",
    "plt.title(\"sum presence  Feature-Target Correlation dist\");"
   ]
  },
  {
   "cell_type": "code",
   "execution_count": 0,
   "metadata": {
    "application/vnd.databricks.v1+cell": {
     "cellMetadata": {
      "byteLimit": 2048000,
      "rowLimit": 10000
     },
     "inputWidgets": {},
     "nuid": "c698836b-dec3-4455-a2e2-3bfc451cc4f3",
     "showTitle": false,
     "tableResultSettingsMap": {},
     "title": ""
    }
   },
   "outputs": [],
   "source": [
    "# # Compute correlation with target variable\n",
    "# corr_matrix_xy = np.corrcoef(X_abundance, y, rowvar=False)[-1, :-1]\n"
   ]
  },
  {
   "cell_type": "code",
   "execution_count": 0,
   "metadata": {
    "application/vnd.databricks.v1+cell": {
     "cellMetadata": {
      "byteLimit": 2048000,
      "rowLimit": 10000
     },
     "inputWidgets": {},
     "nuid": "293542ce-ccb4-48b1-b5b2-8925061f3674",
     "showTitle": false,
     "tableResultSettingsMap": {},
     "title": ""
    }
   },
   "outputs": [],
   "source": [
    "\n",
    "\n",
    "# # Compute correlation matrix between X and y using numpy\n",
    "# corr_matrix_xlogy = np.corrcoef(X_log, y, rowvar=False)[-1, :-1]\n"
   ]
  },
  {
   "cell_type": "code",
   "execution_count": 0,
   "metadata": {
    "application/vnd.databricks.v1+cell": {
     "cellMetadata": {
      "byteLimit": 2048000,
      "rowLimit": 10000
     },
     "inputWidgets": {},
     "nuid": "f5e7d0c8-370b-44e3-87cb-0c3aab63032c",
     "showTitle": false,
     "tableResultSettingsMap": {},
     "title": ""
    }
   },
   "outputs": [],
   "source": [
    "\n",
    "# # Plot correlation\n",
    "# plt.figure(figsize=(15, 5))\n",
    "# plt.subplot(121)\n",
    "# sns.histplot(corr_matrix_xy, bins=50, kde=True)\n",
    "# plt.xlabel(\"Correlation with Target\")\n",
    "# plt.ylabel(\"Feature Count\")\n",
    "# plt.title(\"Abundance Feature-Target Correlation Distribution\")\n",
    "# plt.subplot(122)\n",
    "# sns.histplot(corr_matrix_xlogy, bins=50, kde=True)\n",
    "# plt.xlabel(\"Correlation with Target\")\n",
    "# plt.ylabel(\"Feature Count\")\n",
    "# plt.title(\"Log Abundance Feature-Target Correlation Distribution\");"
   ]
  },
  {
   "cell_type": "markdown",
   "metadata": {
    "application/vnd.databricks.v1+cell": {
     "cellMetadata": {
      "byteLimit": 2048000,
      "rowLimit": 10000
     },
     "inputWidgets": {},
     "nuid": "8f440356-7eed-4830-9879-dc4e615b9b49",
     "showTitle": false,
     "tableResultSettingsMap": {},
     "title": ""
    }
   },
   "source": [
    "**-> no clear correlation between X and y, nonlinear data**"
   ]
  },
  {
   "cell_type": "code",
   "execution_count": 0,
   "metadata": {
    "application/vnd.databricks.v1+cell": {
     "cellMetadata": {
      "byteLimit": 2048000,
      "rowLimit": 10000
     },
     "inputWidgets": {},
     "nuid": "11e33a17-e7c5-4356-9705-a4135e4e92e8",
     "showTitle": false,
     "tableResultSettingsMap": {},
     "title": ""
    }
   },
   "outputs": [],
   "source": [
    "corr_matrix_xlogscaledx = np.corrcoef(X, rowvar=False)\n",
    "sns.heatmap(corr_matrix_xlogscaledx, cmap=\"coolwarm\", vmin=-1, vmax=1)\n",
    "plt.title(\"Feature Correlation Heatmap - scaled log\")"
   ]
  },
  {
   "cell_type": "code",
   "execution_count": 0,
   "metadata": {
    "application/vnd.databricks.v1+cell": {
     "cellMetadata": {
      "byteLimit": 2048000,
      "rowLimit": 10000
     },
     "inputWidgets": {},
     "nuid": "ee5670b0-ccd7-4b92-a29a-ea8d71a85fc8",
     "showTitle": false,
     "tableResultSettingsMap": {},
     "title": ""
    }
   },
   "outputs": [],
   "source": [
    "corr_matrix_xlogx = np.corrcoef(X_log, rowvar=False)"
   ]
  },
  {
   "cell_type": "code",
   "execution_count": 0,
   "metadata": {
    "application/vnd.databricks.v1+cell": {
     "cellMetadata": {
      "byteLimit": 2048000,
      "rowLimit": 10000
     },
     "inputWidgets": {},
     "nuid": "ab850dbb-be0a-4fbf-8c83-b09b61f4b137",
     "showTitle": false,
     "tableResultSettingsMap": {},
     "title": ""
    }
   },
   "outputs": [],
   "source": [
    "corr_matrix_xx = np.corrcoef(X_abundance, rowvar=False)"
   ]
  },
  {
   "cell_type": "code",
   "execution_count": 0,
   "metadata": {
    "application/vnd.databricks.v1+cell": {
     "cellMetadata": {
      "byteLimit": 2048000,
      "rowLimit": 10000
     },
     "inputWidgets": {},
     "nuid": "f351bd7f-ec04-47c7-9c92-23a34ae8adc2",
     "showTitle": false,
     "tableResultSettingsMap": {},
     "title": ""
    }
   },
   "outputs": [],
   "source": [
    "plt.figure(figsize=(20, 8))\n",
    "plt.subplot(121)\n",
    "sns.heatmap(corr_matrix_xx, cmap=\"coolwarm\", vmin=-1, vmax=1)\n",
    "plt.title(\"Feature Correlation Heatmap\")\n",
    "plt.subplot(122)\n",
    "sns.heatmap(corr_matrix_xlogx, cmap=\"coolwarm\", vmin=-1, vmax=1)\n",
    "plt.title(\"Feature Correlation Heatmap - log transformed\")\n",
    "plt.tight_layout()"
   ]
  },
  {
   "cell_type": "code",
   "execution_count": 0,
   "metadata": {
    "application/vnd.databricks.v1+cell": {
     "cellMetadata": {
      "byteLimit": 2048000,
      "rowLimit": 10000
     },
     "inputWidgets": {},
     "nuid": "446c90c1-8d35-49a7-8fcd-7de697c0ba1a",
     "showTitle": false,
     "tableResultSettingsMap": {},
     "title": ""
    }
   },
   "outputs": [],
   "source": [
    "import itertools\n",
    "\n",
    "# Get pairs of features with correlation higher than 0.5\n",
    "def get_high_corr_pairs(corr_matrix, threshold=0.8):\n",
    "    corr_matrix = pd.DataFrame(corr_matrix, index=df_abundance.columns, columns=df_abundance.columns)\n",
    "    pairs = []\n",
    "    for i, j in itertools.combinations(range(corr_matrix.shape[0]), 2):\n",
    "        if abs(corr_matrix.iloc[i, j]) > threshold:\n",
    "            pairs.append((corr_matrix.index[i], corr_matrix.columns[j], corr_matrix.iloc[i, j]))\n",
    "    return pairs\n",
    "\n",
    "high_corr_pairs_xx = get_high_corr_pairs(corr_matrix_xx)\n",
    "high_corr_pairs_xlogx = get_high_corr_pairs(corr_matrix_xlogx)\n",
    "\n",
    "high_corr_pairs_xx, high_corr_pairs_xlogx"
   ]
  },
  {
   "cell_type": "code",
   "execution_count": 0,
   "metadata": {
    "application/vnd.databricks.v1+cell": {
     "cellMetadata": {
      "byteLimit": 2048000,
      "rowLimit": 10000
     },
     "inputWidgets": {},
     "nuid": "1cf93e08-fd33-44ac-a924-7e8ec3a8207f",
     "showTitle": false,
     "tableResultSettingsMap": {},
     "title": ""
    }
   },
   "outputs": [],
   "source": [
    "len(high_corr_pairs_xx), len(high_corr_pairs_xlogx)"
   ]
  },
  {
   "cell_type": "code",
   "execution_count": 0,
   "metadata": {
    "application/vnd.databricks.v1+cell": {
     "cellMetadata": {
      "byteLimit": 2048000,
      "rowLimit": 10000
     },
     "inputWidgets": {},
     "nuid": "84e15113-6bec-470d-9b1c-492b498c9914",
     "showTitle": false,
     "tableResultSettingsMap": {},
     "title": ""
    }
   },
   "outputs": [],
   "source": [
    "import itertools\n",
    "\n",
    "# Get pairs of features with correlation higher than 0.5\n",
    "def get_high_corr_pairs(corr_matrix, threshold=0.8):\n",
    "    corr_matrix = pd.DataFrame(corr_matrix)\n",
    "    pairs = []\n",
    "    for i, j in itertools.combinations(range(corr_matrix.shape[0]), 2):\n",
    "        if abs(corr_matrix.iloc[i, j]) > threshold:\n",
    "            pairs.append((corr_matrix.index[i], corr_matrix.columns[j], corr_matrix.iloc[i, j]))\n",
    "    return pairs\n",
    "\n",
    "len(get_high_corr_pairs(corr_matrix_xlogscaledx))"
   ]
  },
  {
   "cell_type": "code",
   "execution_count": 0,
   "metadata": {
    "application/vnd.databricks.v1+cell": {
     "cellMetadata": {
      "byteLimit": 2048000,
      "rowLimit": 10000
     },
     "inputWidgets": {},
     "nuid": "d05fe74b-93d2-4800-9588-e51679a701d6",
     "showTitle": false,
     "tableResultSettingsMap": {},
     "title": ""
    }
   },
   "outputs": [],
   "source": []
  },
  {
   "cell_type": "markdown",
   "metadata": {
    "application/vnd.databricks.v1+cell": {
     "cellMetadata": {
      "byteLimit": 2048000,
      "rowLimit": 10000
     },
     "inputWidgets": {},
     "nuid": "7fe4b5c1-3c83-46a2-b61c-09002a3ba461",
     "showTitle": false,
     "tableResultSettingsMap": {},
     "title": ""
    }
   },
   "source": [
    "**-> drop correlated features within X (preprocessing)**"
   ]
  },
  {
   "cell_type": "markdown",
   "metadata": {
    "application/vnd.databricks.v1+cell": {
     "cellMetadata": {
      "byteLimit": 2048000,
      "rowLimit": 10000
     },
     "inputWidgets": {},
     "nuid": "45a79321-387d-484c-a552-d106e4764394",
     "showTitle": false,
     "tableResultSettingsMap": {},
     "title": ""
    }
   },
   "source": [
    "linear regressor"
   ]
  },
  {
   "cell_type": "code",
   "execution_count": 0,
   "metadata": {
    "application/vnd.databricks.v1+cell": {
     "cellMetadata": {
      "byteLimit": 2048000,
      "rowLimit": 10000
     },
     "inputWidgets": {},
     "nuid": "2b35a825-2048-442e-8b5c-5c6298d8cb44",
     "showTitle": false,
     "tableResultSettingsMap": {},
     "title": ""
    }
   },
   "outputs": [],
   "source": [
    "from sklearn.model_selection import train_test_split\n",
    "\n",
    "X_train, X_test, y_train, y_test = train_test_split(X, y, test_size=0.2, random_state=42)"
   ]
  },
  {
   "cell_type": "code",
   "execution_count": 0,
   "metadata": {
    "application/vnd.databricks.v1+cell": {
     "cellMetadata": {
      "byteLimit": 2048000,
      "rowLimit": 10000
     },
     "inputWidgets": {},
     "nuid": "72798261-da65-4fde-b375-f21ca50ec865",
     "showTitle": false,
     "tableResultSettingsMap": {},
     "title": ""
    }
   },
   "outputs": [],
   "source": [
    "from sklearn.tree import DecisionTreeRegressor\n",
    "from sklearn.metrics import mean_squared_error\n",
    "from sklearn.linear_model import LinearRegression\n",
    "from sklearn.metrics import r2_score\n",
    "\n",
    "# Train Linear Regression\n",
    "lin_model = LinearRegression()\n",
    "lin_model.fit(X_train, y_train)\n",
    "y_pred_lin = lin_model.predict(X_test)\n",
    "\n",
    "# Train Decision Tree\n",
    "tree_model = DecisionTreeRegressor(max_depth=5)\n",
    "tree_model.fit(X_train, y_train)\n",
    "y_pred_tree = tree_model.predict(X_test)\n",
    "\n",
    "\n",
    "# Compare performance\n",
    "mae_lin = mean_squared_error(y_test, y_pred_lin)\n",
    "mae_tree = mean_squared_error(y_test, y_pred_tree)\n",
    "\n",
    "print(f\"Linear Model MAE: {mae_lin:.4f}\")\n",
    "print(f\"Decision Tree MAE: {mae_tree:.4f}\")\n",
    "\n",
    "# Calculate R2 scores\n",
    "r2_lin = r2_score(y_test, y_pred_lin)\n",
    "r2_tree = r2_score(y_test, y_pred_tree)\n",
    "\n",
    "print(f\"Linear Model R2: {r2_lin:.4f}\")\n",
    "print(f\"Decision Tree R2: {r2_tree:.4f}\")\n",
    "\n",
    "\n",
    "if mae_tree < mae_lin * 0.9:\n",
    "    print(\"Data likely has nonlinear relationships.\")\n",
    "else:\n",
    "    print(\"Data is mostly linear.\")\n",
    "\n",
    "\n",
    "\n"
   ]
  },
  {
   "cell_type": "code",
   "execution_count": 0,
   "metadata": {
    "application/vnd.databricks.v1+cell": {
     "cellMetadata": {
      "byteLimit": 2048000,
      "rowLimit": 10000
     },
     "inputWidgets": {},
     "nuid": "8d0d5818-cc9c-4579-a654-ae0be544dbe9",
     "showTitle": false,
     "tableResultSettingsMap": {},
     "title": ""
    }
   },
   "outputs": [],
   "source": [
    "plt.figure(figsize=(12, 4))\n",
    "\n",
    "plt.subplot(121)\n",
    "plt.scatter(y_test, y_pred_lin, alpha=0.5, s=6)\n",
    "plt.plot([min(y_test), max(y_test)], [min(y_test), max(y_test)], color='r', linestyle='--')\n",
    "plt.xlabel(\"True value\")\n",
    "plt.ylabel(\"predicted value\")\n",
    "plt.title(f\"Linear Regressor (R2: {r2_lin:.4f})\")\n",
    "\n",
    "plt.subplot(122)\n",
    "plt.scatter(y_test, y_pred_tree, alpha=0.5, s=6)\n",
    "plt.plot([min(y_test), max(y_test)], [min(y_test), max(y_test)], color='r', linestyle='--')\n",
    "plt.xlabel(\"True value\")\n",
    "plt.ylabel(\"predicted value\")\n",
    "plt.title(f\"Tree Regressor (R2: {r2_tree:.4f})\")\n",
    "\n",
    "plt.show()"
   ]
  },
  {
   "cell_type": "markdown",
   "metadata": {
    "application/vnd.databricks.v1+cell": {
     "cellMetadata": {
      "byteLimit": 2048000,
      "rowLimit": 10000
     },
     "inputWidgets": {},
     "nuid": "c9e9f2cf-8dd0-4521-8cfa-6385e91afaae",
     "showTitle": false,
     "tableResultSettingsMap": {},
     "title": ""
    }
   },
   "source": [
    "## try prediction without dimension reduction"
   ]
  },
  {
   "cell_type": "code",
   "execution_count": 0,
   "metadata": {
    "application/vnd.databricks.v1+cell": {
     "cellMetadata": {
      "byteLimit": 2048000,
      "rowLimit": 10000
     },
     "inputWidgets": {},
     "nuid": "7fe71d27-328f-44e8-975c-d4cca3850ae2",
     "showTitle": false,
     "tableResultSettingsMap": {},
     "title": ""
    }
   },
   "outputs": [],
   "source": [
    "\n",
    "from sklearn.ensemble import GradientBoostingRegressor as XGBRegressor\n",
    "\n",
    "# Train XGBoost model\n",
    "xgb_model = XGBRegressor()\n",
    "xgb_model.fit(X_train, y_train)\n",
    "y_pred_xgb = xgb_model.predict(X_test)\n",
    "\n",
    "mae_xgb = mean_squared_error(y_test, y_pred_xgb)\n",
    "print(f\"XGBoost MAE: {mae_xgb:.4f}\")\n",
    "\n",
    "r2_xgb = r2_score(y_test, y_pred_xgb)\n",
    "\n",
    "\n",
    "plt.figure(figsize=(6, 4))\n",
    "\n",
    "plt.scatter(y_test, y_pred_xgb, alpha=0.5, s=6)\n",
    "plt.plot([min(y_test), max(y_test)], [min(y_test), max(y_test)], color='r', linestyle='--')\n",
    "plt.xlabel(\"True value\")\n",
    "plt.ylabel(\"predicted value\")\n",
    "plt.title(f\"XGBoost Regressor (R2: {r2_xgb:.4f})\")\n",
    "plt.show()"
   ]
  },
  {
   "cell_type": "markdown",
   "metadata": {
    "application/vnd.databricks.v1+cell": {
     "cellMetadata": {
      "byteLimit": 2048000,
      "rowLimit": 10000
     },
     "inputWidgets": {},
     "nuid": "0aae7ba1-f590-48a9-b4d0-37b87f51f0bc",
     "showTitle": false,
     "tableResultSettingsMap": {},
     "title": ""
    }
   },
   "source": [
    "## Dimension reduction by Feature Selection (Using XGB model)"
   ]
  },
  {
   "cell_type": "code",
   "execution_count": 0,
   "metadata": {
    "application/vnd.databricks.v1+cell": {
     "cellMetadata": {
      "byteLimit": 2048000,
      "rowLimit": 10000
     },
     "inputWidgets": {},
     "nuid": "7280df3a-ec91-4677-81d4-2bb9771ee332",
     "showTitle": false,
     "tableResultSettingsMap": {},
     "title": ""
    }
   },
   "outputs": [],
   "source": [
    "# Get feature importance scores\n",
    "importance = xgb_model.feature_importances_\n",
    "\n"
   ]
  },
  {
   "cell_type": "code",
   "execution_count": 0,
   "metadata": {
    "application/vnd.databricks.v1+cell": {
     "cellMetadata": {
      "byteLimit": 2048000,
      "rowLimit": 10000
     },
     "inputWidgets": {},
     "nuid": "255bac50-e038-45af-bb38-c57498964555",
     "showTitle": false,
     "tableResultSettingsMap": {},
     "title": ""
    }
   },
   "outputs": [],
   "source": [
    "min_mae = 100000\n",
    "max_r2 = 0\n",
    "best_y_pred = None\n",
    "best_k = 0\n",
    "\n",
    "for k in range(100, 500, 50):\n",
    "\n",
    "    # Select top features\n",
    "    top_k_features = np.argsort(importance)[-k:]\n",
    "    X_train_reduced = X_train[:, top_k_features]\n",
    "    X_test_reduced = X_test[:, top_k_features]\n",
    "\n",
    "    # prediction using reduced features\n",
    "    model = XGBRegressor()\n",
    "    model.fit(X_train_reduced, y_train)\n",
    "\n",
    "    # Evaluate\n",
    "    y_pred = model.predict(X_test_reduced)\n",
    "    mae_xgb_reduced = mean_squared_error(y_test, y_pred)\n",
    "    r2_xgb_reduced = r2_score(y_test, y_pred)\n",
    "    if mae_xgb_reduced < min_mae:\n",
    "        min_mae = mae_xgb_reduced\n",
    "        best_y_pred = y_pred\n",
    "        best_k = k\n",
    "    \n",
    "\n",
    "plt.figure(figsize=(6, 4))\n",
    "\n",
    "plt.scatter(y_test, best_y_pred, alpha=0.5, s=6)\n",
    "plt.plot([min(y_test), max(y_test)], [min(y_test), max(y_test)], color='r', linestyle='--')\n",
    "plt.xlabel(\"True value\")\n",
    "plt.ylabel(\"predicted value\")\n",
    "plt.title(f\"Xgboost prediction with reduced features (R2: {max_r2:.4f})\")\n",
    "plt.show()\n",
    "\n",
    "\n",
    "print(f\"XGBoost MAE: {min_mae:.4f}\")\n",
    "\n",
    "print(f\"The best feature number k: {best_k}\")\n"
   ]
  },
  {
   "cell_type": "code",
   "execution_count": 0,
   "metadata": {
    "application/vnd.databricks.v1+cell": {
     "cellMetadata": {
      "byteLimit": 2048000,
      "rowLimit": 10000
     },
     "inputWidgets": {},
     "nuid": "56da5ab1-c0a6-4c8b-a320-b3e0608556cc",
     "showTitle": false,
     "tableResultSettingsMap": {},
     "title": ""
    }
   },
   "outputs": [],
   "source": [
    "# from sklearn.model_selection import GridSearchCV\n",
    "\n",
    "# # Define the parameter grid\n",
    "# param_grid = {\n",
    "#     'n_estimators': [100, 200, 300],\n",
    "#     'max_depth': [3, 4, 5],\n",
    "#     'learning_rate': [0.01, 0.1, 0.2],\n",
    "#     'subsample': [0.7, 0.8, 0.9]\n",
    "# }\n",
    "\n",
    "# # Initialize the XGBRegressor\n",
    "# xgb = XGBRegressor()\n",
    "\n",
    "# # Initialize GridSearchCV\n",
    "# grid_search = GridSearchCV(estimator=xgb, param_grid=param_grid, cv=5, scoring='neg_mean_squared_error', n_jobs=-1)\n",
    "\n",
    "# # Fit GridSearchCV\n",
    "# # Select top features\n",
    "# top_k_features = np.argsort(importance)[-k:]\n",
    "# X_train_reduced = X_train[:, top_k_features]\n",
    "# X_test_reduced = X_test[:, top_k_features]\n",
    "\n",
    "# grid_search.fit(X_train_reduced, y_train)\n",
    "\n",
    "# # Get the best parameters\n",
    "# best_params = grid_search.best_params_\n",
    "# best_params"
   ]
  },
  {
   "cell_type": "code",
   "execution_count": 0,
   "metadata": {
    "application/vnd.databricks.v1+cell": {
     "cellMetadata": {
      "byteLimit": 2048000,
      "rowLimit": 10000
     },
     "inputWidgets": {},
     "nuid": "c7db0ca4-524e-4467-8b01-e170d08a96fc",
     "showTitle": false,
     "tableResultSettingsMap": {},
     "title": ""
    }
   },
   "outputs": [],
   "source": [
    "# # Initialize the XGBRegressor with the best parameters\n",
    "# best_model = XGBRegressor(**best_params)\n",
    "\n",
    "# # Fit the model on the reduced training data\n",
    "# best_model.fit(X_train_reduced, y_train)\n",
    "\n",
    "# # Predict using the reduced test data\n",
    "# best_y_pred = best_model.predict(X_test_reduced)\n",
    "\n",
    "# # Evaluate the model\n",
    "# mae_best_model = mean_squared_error(y_test, best_y_pred)\n",
    "# r2_best_model = r2_score(y_test, best_y_pred)\n",
    "\n",
    "# # Display the results\n",
    "# plt.figure(figsize=(6, 4))\n",
    "# plt.scatter(y_test, best_y_pred, alpha=0.5, s=6)\n",
    "# plt.plot([min(y_test), max(y_test)], [min(y_test), max(y_test)], color='r', linestyle='--')\n",
    "# plt.xlabel(\"True value\")\n",
    "# plt.ylabel(\"Predicted value\")\n",
    "# plt.title(f\"XGBoost prediction with best parameters (R2: {r2_best_model:.4f})\")\n",
    "# plt.show()\n",
    "\n",
    "# print(f\"XGBoost MAE with best parameters: {mae_best_model:.4f}\")\n",
    "# print(f\"XGBoost R2 with best parameters: {r2_best_model:.4f}\")"
   ]
  },
  {
   "cell_type": "markdown",
   "metadata": {
    "application/vnd.databricks.v1+cell": {
     "cellMetadata": {
      "byteLimit": 2048000,
      "rowLimit": 10000
     },
     "inputWidgets": {},
     "nuid": "80467ed4-d0a2-4497-981e-2cecf52af234",
     "showTitle": false,
     "tableResultSettingsMap": {},
     "title": ""
    }
   },
   "source": [
    "**using reduced features, the xgb prediction is still not poor.**\n",
    "\n",
    "**-> use autoencoder to reduce the dimension of the features while keeping the latent data structure**"
   ]
  },
  {
   "cell_type": "markdown",
   "metadata": {
    "application/vnd.databricks.v1+cell": {
     "cellMetadata": {
      "byteLimit": 2048000,
      "rowLimit": 10000
     },
     "inputWidgets": {},
     "nuid": "68a169f8-e1f0-451c-a9f0-94fdde0a6d50",
     "showTitle": false,
     "tableResultSettingsMap": {},
     "title": ""
    }
   },
   "source": [
    "## check if data naturally clusters"
   ]
  },
  {
   "cell_type": "code",
   "execution_count": 0,
   "metadata": {
    "application/vnd.databricks.v1+cell": {
     "cellMetadata": {},
     "inputWidgets": {},
     "nuid": "d48988b8-e2fe-483a-97ab-a534bf3e812c",
     "showTitle": false,
     "tableResultSettingsMap": {},
     "title": ""
    }
   },
   "outputs": [],
   "source": [
    "from sklearn.decomposition import PCA\n",
    "from sklearn.manifold import TSNE\n",
    "\n",
    "# Reduce to 2D using PCA\n",
    "pca = PCA(n_components=2)\n",
    "X_pca = pca.fit_transform(X_train)\n",
    "\n",
    "# Reduce to 2D using t-SNE\n",
    "X_tsne = TSNE(n_components=2, perplexity=30, random_state=42).fit_transform(X_train)\n"
   ]
  },
  {
   "cell_type": "code",
   "execution_count": 0,
   "metadata": {
    "application/vnd.databricks.v1+cell": {
     "cellMetadata": {
      "byteLimit": 2048000,
      "rowLimit": 10000
     },
     "inputWidgets": {},
     "nuid": "8df01f37-ca34-48d8-9435-5be3d9945f6c",
     "showTitle": false,
     "tableResultSettingsMap": {},
     "title": ""
    }
   },
   "outputs": [],
   "source": [
    "\n",
    "# Plot PCA\n",
    "plt.figure(figsize=(12, 5))\n",
    "plt.subplot(1, 2, 1)\n",
    "plt.scatter(X_pca[:, 0], X_pca[:, 1], c=y_train, cmap='viridis',\n",
    "                          s=10, alpha=0.6, edgecolors='w', linewidths=0.5)\n",
    "\n",
    "plt.title(\"PCA Projection\")\n",
    "\n",
    "# Plot t-SNE\n",
    "plt.subplot(1, 2, 2)\n",
    "plt.scatter(X_tsne[:, 0], X_tsne[:, 1],  c=y_train, cmap='viridis',\n",
    "                          s=10, alpha=0.6, edgecolors='w', linewidths=0.5)\n",
    "plt.title(\"t-SNE Projection\")\n",
    "\n",
    "plt.show()"
   ]
  },
  {
   "cell_type": "markdown",
   "metadata": {
    "application/vnd.databricks.v1+cell": {
     "cellMetadata": {
      "byteLimit": 2048000,
      "rowLimit": 10000
     },
     "inputWidgets": {},
     "nuid": "022c8fed-2c34-479f-8c63-7327f3d12248",
     "showTitle": false,
     "tableResultSettingsMap": {},
     "title": ""
    }
   },
   "source": [
    "**-> data does not naturally form clusters by PCA but rather scattered**\n",
    "\n",
    "**t-SNE shows somewhat defined clusters but with overlap, it suggests some nonlinear structure but not very strong.**"
   ]
  },
  {
   "cell_type": "markdown",
   "metadata": {
    "application/vnd.databricks.v1+cell": {
     "cellMetadata": {
      "byteLimit": 2048000,
      "rowLimit": 10000
     },
     "inputWidgets": {},
     "nuid": "26819daf-56c9-47fd-84d3-5fc5acbd1e3b",
     "showTitle": false,
     "tableResultSettingsMap": {},
     "title": ""
    }
   },
   "source": [
    "## check data distribution"
   ]
  },
  {
   "cell_type": "markdown",
   "metadata": {
    "application/vnd.databricks.v1+cell": {
     "cellMetadata": {
      "byteLimit": 2048000,
      "rowLimit": 10000
     },
     "inputWidgets": {},
     "nuid": "4d556429-30b7-4293-b276-4dc5543a8711",
     "showTitle": false,
     "tableResultSettingsMap": {},
     "title": ""
    }
   },
   "source": [
    "As VAE assumes a Gaussian latent space, it works best when the data follows a roughly normal distribution"
   ]
  },
  {
   "cell_type": "code",
   "execution_count": 0,
   "metadata": {
    "application/vnd.databricks.v1+cell": {
     "cellMetadata": {
      "byteLimit": 2048000,
      "rowLimit": 10000
     },
     "inputWidgets": {},
     "nuid": "52c15f8b-634a-4c0d-b3b0-3b125650b717",
     "showTitle": false,
     "tableResultSettingsMap": {},
     "title": ""
    }
   },
   "outputs": [],
   "source": [
    "set(y_train_class)"
   ]
  },
  {
   "cell_type": "code",
   "execution_count": 0,
   "metadata": {
    "application/vnd.databricks.v1+cell": {
     "cellMetadata": {
      "byteLimit": 2048000,
      "rowLimit": 10000
     },
     "inputWidgets": {},
     "nuid": "aa88d002-0d7c-40ed-a6b0-21cdca4b14c8",
     "showTitle": false,
     "tableResultSettingsMap": {},
     "title": ""
    }
   },
   "outputs": [],
   "source": [
    "import scipy.stats as stats\n",
    "\n",
    "# age group\n",
    "y_train_class = ((y_train//20) * 20).astype(int)\n",
    "\n",
    "\n",
    "# Pick a few random features\n",
    "for i in np.random.choice(X_train.shape[1], 5, replace=False):\n",
    "    df = pd.DataFrame(X_train[:, [i]], columns=['feature'], )\n",
    "    df['age_class'] = y_train_class\n",
    "    plt.figure(figsize=(4, 3))\n",
    "    sns.histplot(data=df[df['feature']>-6], x='feature', kde=True, bins=50, hue='age_class')\n",
    "    # sns.histplot(data=df, x='feature', kde=True, bins=50, hue='age_class')\n",
    "    plt.title(f\"{df_abundance.columns[i]} Distribution\")\n",
    "    plt.show()\n",
    "\n",
    "    # Perform normality test\n",
    "    try:\n",
    "        stat, p_value = stats.normaltest(X_train[:, i][X_train[:, i]>-6])\n",
    "        print(f\"{df_abundance.columns[i]} - Normality test p-value: {p_value:.5f}\")\n",
    "    except ValueError:\n",
    "        print(f\"{df_abundance.columns[i]} - Skewness test is not valid with less than 8 samples; {sum(X_train[:, i]>-6)} samples were given.\")"
   ]
  },
  {
   "cell_type": "markdown",
   "metadata": {
    "application/vnd.databricks.v1+cell": {
     "cellMetadata": {
      "byteLimit": 2048000,
      "rowLimit": 10000
     },
     "inputWidgets": {},
     "nuid": "559751d7-cf1f-4f6b-851a-5ca253e969d9",
     "showTitle": false,
     "tableResultSettingsMap": {},
     "title": ""
    }
   },
   "source": [
    "**-> features are not Gaussian-like, but rather quite skewed (very sparse before log)**"
   ]
  },
  {
   "cell_type": "markdown",
   "metadata": {
    "application/vnd.databricks.v1+cell": {
     "cellMetadata": {
      "byteLimit": 2048000,
      "rowLimit": 10000
     },
     "inputWidgets": {},
     "nuid": "2e261bda-42c8-49ec-ba3d-831c6f756a6f",
     "showTitle": false,
     "tableResultSettingsMap": {},
     "title": ""
    }
   },
   "source": [
    "**conclusion: try both AE and VAE to reduce the feature dimension**"
   ]
  }
 ],
 "metadata": {
  "application/vnd.databricks.v1+notebook": {
   "computePreferences": null,
   "dashboards": [],
   "environmentMetadata": {
    "base_environment": "",
    "environment_version": "1"
   },
   "inputWidgetPreferences": null,
   "language": "python",
   "notebookMetadata": {
    "mostRecentlyExecutedCommandWithImplicitDF": {
     "commandId": 8407067111688548,
     "dataframes": [
      "_sqldf"
     ]
    },
    "pythonIndentUnit": 4
   },
   "notebookName": "00_cMD_relative_DataOverview",
   "widgets": {}
  },
  "language_info": {
   "name": "python"
  }
 },
 "nbformat": 4,
 "nbformat_minor": 0
}
