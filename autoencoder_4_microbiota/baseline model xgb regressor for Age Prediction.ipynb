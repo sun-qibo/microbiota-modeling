{
 "cells": [
  {
   "cell_type": "markdown",
   "metadata": {
    "application/vnd.databricks.v1+cell": {
     "cellMetadata": {
      "byteLimit": 2048000,
      "rowLimit": 10000
     },
     "inputWidgets": {},
     "nuid": "4c36d19d-1d7f-45a7-8cbd-94232bd11e21",
     "showTitle": false,
     "tableResultSettingsMap": {},
     "title": ""
    }
   },
   "source": [
    "baseline model using presence/absence or abundance as features to predict age"
   ]
  },
  {
   "cell_type": "markdown",
   "metadata": {
    "application/vnd.databricks.v1+cell": {
     "cellMetadata": {
      "byteLimit": 2048000,
      "rowLimit": 10000
     },
     "inputWidgets": {},
     "nuid": "dc33de9c-87cc-4e5a-bb80-296cc9cc2574",
     "showTitle": false,
     "tableResultSettingsMap": {},
     "title": ""
    }
   },
   "source": [
    "Prior knowledge\n",
    "1. diversity : increase in young adults, plateaus arond 40, dicrease in older adults\n",
    "2. older adults decrease in beneficial bacteria and increase in harmful bacteria\n",
    "\n",
    "\n",
    "\n",
    "\n",
    "De La Cuesta-Zuluaga, J., Kelley, S., Chen, Y., Escobar, J., Mueller, N., Ley, R., McDonald, D., Huang, S., Swafford, A., Knight, R., & Thackray, V. (2019). Age- and Sex-Dependent Patterns of Gut Microbial Diversity in Human Adults. mSystems, 4. https://doi.org/10.1128/mSystems.00261-19."
   ]
  },
  {
   "cell_type": "code",
   "execution_count": 0,
   "metadata": {
    "application/vnd.databricks.v1+cell": {
     "cellMetadata": {
      "byteLimit": 2048000,
      "rowLimit": 10000
     },
     "inputWidgets": {},
     "nuid": "263045b6-ae3a-4c2b-aa94-ff4b4c2e15d0",
     "showTitle": false,
     "tableResultSettingsMap": {},
     "title": ""
    }
   },
   "outputs": [],
   "source": [
    "import numpy as np\n",
    "import pandas as pd\n",
    "from sklearn.metrics import mean_squared_error, r2_score\n",
    "from sklearn.model_selection import train_test_split\n",
    "\n",
    "\n",
    "from xgboost import XGBRegressor\n",
    "from tqdm import tqdm\n",
    "import matplotlib.pyplot as plt\n",
    "import seaborn as sns\n",
    "\n"
   ]
  },
  {
   "cell_type": "markdown",
   "metadata": {
    "application/vnd.databricks.v1+cell": {
     "cellMetadata": {
      "byteLimit": 2048000,
      "rowLimit": 10000
     },
     "inputWidgets": {},
     "nuid": "ae3c0791-eec3-4363-a464-a9f052d2be00",
     "showTitle": false,
     "tableResultSettingsMap": {},
     "title": ""
    }
   },
   "source": [
    "## Load data"
   ]
  },
  {
   "cell_type": "code",
   "execution_count": 0,
   "metadata": {
    "application/vnd.databricks.v1+cell": {
     "cellMetadata": {
      "byteLimit": 2048000,
      "rowLimit": 10000
     },
     "inputWidgets": {},
     "nuid": "ef114a50-fe08-4548-9306-3b2bcc8d6be8",
     "showTitle": false,
     "tableResultSettingsMap": {},
     "title": ""
    }
   },
   "outputs": [],
   "source": [
    "df_age = pd.read_csv(\"../data/age.csv\", header=None, index_col=0, sep='\\t')\n",
    "df_age = df_age[df_age[1]>=18]  # todo remove after test \n",
    "y = df_age.to_numpy().reshape(-1, 1).flatten()\n",
    "\n",
    "y.shape"
   ]
  },
  {
   "cell_type": "code",
   "execution_count": 0,
   "metadata": {
    "application/vnd.databricks.v1+cell": {
     "cellMetadata": {
      "byteLimit": 2048000,
      "rowLimit": 10000
     },
     "inputWidgets": {},
     "nuid": "c6b965fa-fb32-47eb-8649-5dad2d8fe3e5",
     "showTitle": false,
     "tableResultSettingsMap": {},
     "title": ""
    }
   },
   "outputs": [],
   "source": [
    "y_class = y//10\n",
    "y_class[y_class==9] = 8 "
   ]
  },
  {
   "cell_type": "code",
   "execution_count": 0,
   "metadata": {
    "application/vnd.databricks.v1+cell": {
     "cellMetadata": {
      "byteLimit": 2048000,
      "rowLimit": 10000
     },
     "inputWidgets": {},
     "nuid": "a824e0f6-478c-495e-a4ee-1d7d01292843",
     "showTitle": false,
     "tableResultSettingsMap": {},
     "title": ""
    }
   },
   "outputs": [],
   "source": [
    "train_idx, test_idx = train_test_split(range(len(y)), test_size=0.2, stratify=y_class, random_state=42)  # split the data once so that index keeps the same for different types of X\n",
    "test_idx[:10]"
   ]
  },
  {
   "cell_type": "markdown",
   "metadata": {
    "application/vnd.databricks.v1+cell": {
     "cellMetadata": {
      "byteLimit": 2048000,
      "rowLimit": 10000
     },
     "inputWidgets": {},
     "nuid": "66ddb8b0-bcab-4f3a-88dc-f03e74e8729f",
     "showTitle": false,
     "tableResultSettingsMap": {},
     "title": ""
    }
   },
   "source": [
    "age >= 18 : [2140, 2182, 2987, 2103, 5, 3370, 3208, 2281, 41, 4598]"
   ]
  },
  {
   "cell_type": "markdown",
   "metadata": {
    "application/vnd.databricks.v1+cell": {
     "cellMetadata": {
      "byteLimit": 2048000,
      "rowLimit": 10000
     },
     "inputWidgets": {},
     "nuid": "6b6222e0-72af-4214-add6-a930912d1799",
     "showTitle": false,
     "tableResultSettingsMap": {},
     "title": ""
    }
   },
   "source": [
    "[4436, 2292, 4448, 4903, 2378, 842, 2625, 3097, 4898, 1911]"
   ]
  },
  {
   "cell_type": "code",
   "execution_count": 0,
   "metadata": {
    "application/vnd.databricks.v1+cell": {
     "cellMetadata": {
      "byteLimit": 2048000,
      "rowLimit": 10000
     },
     "inputWidgets": {},
     "nuid": "0468817f-3744-4f1a-b1f6-286d822602a3",
     "showTitle": false,
     "tableResultSettingsMap": {},
     "title": ""
    }
   },
   "outputs": [],
   "source": [
    "# X = pd.read_csv(\"../data/processed_log_drop08_scaled.csv\", header=0, index_col=0, sep='\\t').loc[df_age.index, :].to_numpy()\n",
    "df_genus = pd.read_csv(\"../data/processed_genus_log_drop08_scaled.csv\", header=0, index_col=0, sep='\\t').loc[df_age.index, :]\n",
    "X = df_genus.to_numpy()"
   ]
  },
  {
   "cell_type": "code",
   "execution_count": 0,
   "metadata": {
    "application/vnd.databricks.v1+cell": {
     "cellMetadata": {
      "byteLimit": 2048000,
      "rowLimit": 10000
     },
     "inputWidgets": {},
     "nuid": "0af1f421-748a-4491-be0c-1b1bebe9dc78",
     "showTitle": false,
     "tableResultSettingsMap": {},
     "title": ""
    }
   },
   "outputs": [],
   "source": [
    "# from scipy.stats import spearmanr\n",
    "# correlations = df_genus.apply(lambda x: spearmanr(x, y)[0])\n",
    "# correlations_sorted = correlations.dropna().sort_values()\n",
    "\n",
    "# plt.figure(figsize=(8, 12))\n",
    "# correlations_sorted.plot(kind='barh')\n",
    "# plt.xlabel('Spearman Correlation with Age')\n",
    "# plt.ylabel('Genus')\n",
    "# plt.title('Genus by their Correlation to Age')\n",
    "# plt.yticks(fontsize=6);"
   ]
  },
  {
   "cell_type": "code",
   "execution_count": 0,
   "metadata": {
    "application/vnd.databricks.v1+cell": {
     "cellMetadata": {
      "byteLimit": 2048000,
      "rowLimit": 10000
     },
     "inputWidgets": {},
     "nuid": "0f00b5d3-efd1-48b0-b6ed-e9d469a0291b",
     "showTitle": false,
     "tableResultSettingsMap": {},
     "title": ""
    }
   },
   "outputs": [],
   "source": [
    "X_presence = X>0\n",
    "X_train, X_test, y_train, y_test = X_presence[train_idx], X_presence[test_idx], y[train_idx], y[test_idx]\n",
    "xgb_model = XGBRegressor(n_estimators=200, learning_rate=0.05, max_depth=4)\n",
    "xgb_model.fit(X_train, y_train)\n",
    "y_pred = xgb_model.predict(X_test)\n",
    "# Plot y_pred vs y_test with text for R-squared and MSE\n",
    "plt.figure(figsize=(6, 4.5))\n",
    "plt.scatter(y_test, y_pred, alpha=0.5)\n",
    "plt.xlabel('Actual Age')\n",
    "plt.ylabel('Predicted Age')\n",
    "plt.title('Actual Age vs Predicted Age')\n",
    "plt.plot([y_test.min(), y_test.max()], [y_test.min(), y_test.max()], 'k--', lw=2)\n",
    "\n",
    "# Calculate R-squared and MSE\n",
    "mse = mean_squared_error(y_test, y_pred)\n",
    "r2 = r2_score(y_test, y_pred)\n",
    "\n",
    "# Add text for R-squared and MSE\n",
    "plt.text(0.05, 0.95, f'R2: {r2:.2f}\\nMSE: {mse:.2f}', transform=plt.gca().transAxes, \n",
    "         fontsize=12, verticalalignment='top', bbox=dict(boxstyle='round,pad=0.3', edgecolor='black', facecolor='white'))\n",
    "\n",
    "plt.tight_layout()\n",
    "plt.show()"
   ]
  },
  {
   "cell_type": "code",
   "execution_count": 0,
   "metadata": {
    "application/vnd.databricks.v1+cell": {
     "cellMetadata": {
      "byteLimit": 2048000,
      "rowLimit": 10000
     },
     "inputWidgets": {},
     "nuid": "ae3c4263-4b0f-426b-a5f2-ef32ccfcf67b",
     "showTitle": false,
     "tableResultSettingsMap": {},
     "title": ""
    }
   },
   "outputs": [],
   "source": [
    "import shap\n",
    "explainer = shap.Explainer(xgb_model, X_train, feature_names=df_genus.columns)\n",
    "shap_values = explainer(X_test)\n",
    "shap.summary_plot(shap_values, X_test)"
   ]
  },
  {
   "cell_type": "code",
   "execution_count": 0,
   "metadata": {
    "application/vnd.databricks.v1+cell": {
     "cellMetadata": {
      "byteLimit": 2048000,
      "rowLimit": 10000
     },
     "inputWidgets": {},
     "nuid": "78bf716d-dc5d-4ea1-bb15-0cc72c10602b",
     "showTitle": false,
     "tableResultSettingsMap": {},
     "title": ""
    }
   },
   "outputs": [],
   "source": [
    "# correlations_sorted.tail(20)"
   ]
  },
  {
   "cell_type": "code",
   "execution_count": 0,
   "metadata": {
    "application/vnd.databricks.v1+cell": {
     "cellMetadata": {
      "byteLimit": 2048000,
      "rowLimit": 10000
     },
     "inputWidgets": {},
     "nuid": "2d8eb6eb-a894-4339-ab62-79645e9db6e8",
     "showTitle": false,
     "tableResultSettingsMap": {},
     "title": ""
    }
   },
   "outputs": [],
   "source": [
    "# correlations_sorted.head(20)"
   ]
  },
  {
   "cell_type": "code",
   "execution_count": 0,
   "metadata": {
    "application/vnd.databricks.v1+cell": {
     "cellMetadata": {
      "byteLimit": 2048000,
      "rowLimit": 10000
     },
     "inputWidgets": {},
     "nuid": "c1615d7c-9544-413f-b69e-154f417e95f6",
     "showTitle": false,
     "tableResultSettingsMap": {},
     "title": ""
    }
   },
   "outputs": [],
   "source": [
    "# get the proportion of zeros in X\n",
    "p_zero = (X_train == 0).mean()\n",
    "print(p_zero)\n",
    "print(p_zero/(1-p_zero))\n",
    "print(1/(1-p_zero))\n",
    "print(1/p_zero)"
   ]
  },
  {
   "cell_type": "code",
   "execution_count": 0,
   "metadata": {
    "application/vnd.databricks.v1+cell": {
     "cellMetadata": {
      "byteLimit": 2048000,
      "rowLimit": 10000
     },
     "inputWidgets": {},
     "nuid": "69bedffb-688a-40e8-9e3a-43515208c4f6",
     "showTitle": false,
     "tableResultSettingsMap": {},
     "title": ""
    }
   },
   "outputs": [],
   "source": [
    "from sklearn.decomposition import PCA\n",
    "from sklearn.manifold import TSNE\n",
    "# import umap\n",
    "\n",
    "def plot_latent_space(latent, method='tsne', colorby = None, cbar_label=None):\n",
    "    if method == 'tsne':\n",
    "        reducer = TSNE(n_components=2, random_state=42)\n",
    "    elif method == 'pca':\n",
    "        reducer = PCA(n_components=2)\n",
    "    elif method == 'umap':\n",
    "        reducer = umap.UMAP(n_components=2, random_state=42)\n",
    "    else:\n",
    "        raise ValueError(\"Invalid method\")\n",
    "\n",
    "    reduced = reducer.fit_transform(latent)\n",
    "    \n",
    "    scatter = plt.scatter(reduced[:, 0], reduced[:, 1], \n",
    "                          c=colorby, cmap='viridis',\n",
    "                          s=10, alpha=0.6, edgecolors='w', linewidths=0.5)\n",
    "    plt.colorbar(scatter, label=cbar_label)\n",
    "    plt.xlabel('Dimension 1')\n",
    "    plt.ylabel('Dimension 2')"
   ]
  },
  {
   "cell_type": "code",
   "execution_count": 0,
   "metadata": {
    "application/vnd.databricks.v1+cell": {
     "cellMetadata": {
      "byteLimit": 2048000,
      "rowLimit": 10000
     },
     "inputWidgets": {},
     "nuid": "17b670a1-93c5-4c97-91aa-a834c4e86fd6",
     "showTitle": false,
     "tableResultSettingsMap": {},
     "title": ""
    }
   },
   "outputs": [],
   "source": [
    "non_zero_counts = (X_test != 0).sum(axis=1)\n",
    "\n",
    "plt.figure(figsize=(15, 4))\n",
    "\n",
    "plt.subplot(1, 2, 1)\n",
    "plot_latent_space(X_test, method='pca', colorby=non_zero_counts, cbar_label='Number of non-zero Features')\n",
    "plt.title('PCA')\n",
    "plt.subplot(122)\n",
    "plot_latent_space(X_test, method='tsne', colorby=non_zero_counts, cbar_label='Number of non-zero Features')\n",
    "plt.title('TSNE')\n",
    "plt.tight_layout()"
   ]
  },
  {
   "cell_type": "code",
   "execution_count": 0,
   "metadata": {
    "application/vnd.databricks.v1+cell": {
     "cellMetadata": {
      "byteLimit": 2048000,
      "rowLimit": 10000
     },
     "inputWidgets": {},
     "nuid": "689d6070-c123-455c-8c4c-6ecfb3437e37",
     "showTitle": false,
     "tableResultSettingsMap": {},
     "title": ""
    }
   },
   "outputs": [],
   "source": [
    "plt.figure(figsize=(15, 4))\n",
    "\n",
    "plt.subplot(1, 2, 1)\n",
    "plot_latent_space(X_test, method='pca', colorby=y_test, cbar_label='Number of non-zero Features')\n",
    "plt.title('PCA')\n",
    "plt.subplot(122)\n",
    "plot_latent_space(X_test, method='tsne', colorby=y_test, cbar_label='Number of non-zero Features')\n",
    "plt.title('TSNE')\n",
    "plt.tight_layout()"
   ]
  }
 ],
 "metadata": {
  "application/vnd.databricks.v1+notebook": {
   "computePreferences": null,
   "dashboards": [],
   "environmentMetadata": {
    "base_environment": "",
    "environment_version": "1"
   },
   "inputWidgetPreferences": null,
   "language": "python",
   "notebookMetadata": {
    "pythonIndentUnit": 4
   },
   "notebookName": "baseline model xgb regressor for Age Prediction",
   "widgets": {}
  },
  "language_info": {
   "name": "python"
  }
 },
 "nbformat": 4,
 "nbformat_minor": 0
}
