{
 "cells": [
  {
   "cell_type": "code",
   "execution_count": 0,
   "metadata": {
    "application/vnd.databricks.v1+cell": {
     "cellMetadata": {
      "byteLimit": 2048000,
      "rowLimit": 10000
     },
     "inputWidgets": {},
     "nuid": "263045b6-ae3a-4c2b-aa94-ff4b4c2e15d0",
     "showTitle": false,
     "tableResultSettingsMap": {},
     "title": ""
    }
   },
   "outputs": [],
   "source": [
    "import numpy as np\n",
    "import pandas as pd\n",
    "import seaborn as sns\n",
    "import matplotlib.pyplot as plt\n"
   ]
  },
  {
   "cell_type": "code",
   "execution_count": 0,
   "metadata": {
    "application/vnd.databricks.v1+cell": {
     "cellMetadata": {
      "byteLimit": 2048000,
      "rowLimit": 10000
     },
     "inputWidgets": {},
     "nuid": "de4a206f-8c65-4729-ba78-ad49c920fc13",
     "showTitle": false,
     "tableResultSettingsMap": {},
     "title": ""
    }
   },
   "outputs": [],
   "source": [
    "df_counts = pd.read_csv(\"../data/taxa_data_counts.csv\", sep=',', header=0, index_col=0)\n",
    "df_counts.columns = df_counts.columns.str.replace('[', '').str.replace(']', '')\n",
    "df_counts = df_counts.fillna(0)\n",
    "df_counts.insert(0, 'total_counts', df_counts.sum(axis=1))\n",
    "df_counts"
   ]
  },
  {
   "cell_type": "code",
   "execution_count": 0,
   "metadata": {
    "application/vnd.databricks.v1+cell": {
     "cellMetadata": {
      "byteLimit": 2048000,
      "rowLimit": 10000
     },
     "inputWidgets": {},
     "nuid": "8d85cf6f-ebf1-452d-9dca-c6cc8b8af525",
     "showTitle": false,
     "tableResultSettingsMap": {},
     "title": ""
    }
   },
   "outputs": [],
   "source": [
    "import matplotlib.pyplot as plt\n",
    "import seaborn as sns \n",
    "plt.figure(figsize=(12, 4))\n",
    "sns.histplot(data=df_counts[df_counts.total_counts < 5e6], x='total_counts', bins=100)\n",
    "plt.title('Distribution of Total Counts in Samples (zoom in samples total_counts < 5e6)')"
   ]
  },
  {
   "cell_type": "code",
   "execution_count": 0,
   "metadata": {
    "application/vnd.databricks.v1+cell": {
     "cellMetadata": {
      "byteLimit": 2048000,
      "rowLimit": 10000
     },
     "inputWidgets": {},
     "nuid": "26cb6b22-032e-4506-b91c-8301db75ddc6",
     "showTitle": false,
     "tableResultSettingsMap": {},
     "title": ""
    }
   },
   "outputs": [],
   "source": [
    "import matplotlib.pyplot as plt\n",
    "import seaborn as sns\n",
    "\n",
    "# Create bins of 10 million\n",
    "bins = range(0, 200000001, 10000000)\n",
    "df_counts['binned'] = pd.cut(df_counts['total_counts'], bins=bins)\n",
    "\n",
    "# Count the number of occurrences in each bin\n",
    "bin_counts = df_counts['binned'].value_counts().sort_index()\n",
    "\n",
    "# Calculate percentages\n",
    "bin_percentages = (bin_counts / bin_counts.sum()) * 100\n",
    "\n",
    "# Create a DataFrame for visualization\n",
    "bin_df = pd.DataFrame({'count': bin_counts, 'percentage': bin_percentages})\n",
    "\n",
    "# Plot the counts and percentages\n",
    "plt.figure(figsize=(12, 6))\n",
    "ax = sns.barplot(x=bin_df.index.astype(str), y=bin_df['count'], palette='viridis')\n",
    "ax.set_xticklabels(ax.get_xticklabels(), rotation=90)\n",
    "plt.title('Counts of Total Counts by Bins of 10 Million (First 20 Bins)')\n",
    "plt.xlabel('Total Counts Bins')\n",
    "plt.ylabel('Counts')\n",
    "\n",
    "# Annotate the bars with counts and percentages\n",
    "for p in ax.patches:\n",
    "    height = p.get_height()\n",
    "    ax.annotate(f'{int(height)}\\n({height / bin_counts.sum() * 100:.2f}%)', \n",
    "                (p.get_x() + p.get_width() / 2., height), \n",
    "                ha='center', va='center', \n",
    "                xytext=(0, 10), \n",
    "                textcoords='offset points')\n",
    "\n",
    "plt.show()"
   ]
  }
 ],
 "metadata": {
  "application/vnd.databricks.v1+notebook": {
   "computePreferences": null,
   "dashboards": [],
   "environmentMetadata": {
    "base_environment": "",
    "environment_version": "1"
   },
   "inputWidgetPreferences": null,
   "language": "python",
   "notebookMetadata": {
    "mostRecentlyExecutedCommandWithImplicitDF": {
     "commandId": 8407067111688548,
     "dataframes": [
      "_sqldf"
     ]
    },
    "pythonIndentUnit": 4
   },
   "notebookName": "00_cMD_Counts_DataOverview",
   "widgets": {}
  },
  "language_info": {
   "name": "python"
  }
 },
 "nbformat": 4,
 "nbformat_minor": 0
}
