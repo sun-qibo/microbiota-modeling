{
 "cells": [
  {
   "cell_type": "markdown",
   "metadata": {
    "application/vnd.databricks.v1+cell": {
     "cellMetadata": {
      "byteLimit": 2048000,
      "rowLimit": 10000
     },
     "inputWidgets": {},
     "nuid": "ae3c0791-eec3-4363-a464-a9f052d2be00",
     "showTitle": false,
     "tableResultSettingsMap": {},
     "title": ""
    }
   },
   "source": [
    "# data loading"
   ]
  },
  {
   "cell_type": "code",
   "execution_count": 0,
   "metadata": {
    "application/vnd.databricks.v1+cell": {
     "cellMetadata": {
      "byteLimit": 2048000,
      "rowLimit": 10000
     },
     "inputWidgets": {},
     "nuid": "263045b6-ae3a-4c2b-aa94-ff4b4c2e15d0",
     "showTitle": false,
     "tableResultSettingsMap": {},
     "title": ""
    }
   },
   "outputs": [],
   "source": [
    "import numpy as np\n",
    "import pandas as pd\n",
    "import torch\n",
    "import torch.nn as nn\n",
    "import torch.optim as optim\n",
    "from torch.utils.data import DataLoader, TensorDataset\n",
    "from sklearn.model_selection import KFold\n",
    "from sklearn.preprocessing import MinMaxScaler\n",
    "from sklearn.metrics import mean_squared_error, r2_score\n",
    "from sklearn.model_selection import train_test_split\n",
    "\n",
    "\n",
    "from xgboost import XGBRegressor\n",
    "from sklearn.ensemble import RandomForestRegressor\n",
    "\n",
    "from tqdm import tqdm\n",
    "import matplotlib.pyplot as plt\n",
    "import seaborn as sns\n",
    "\n",
    "# Check for GPU\n",
    "device = torch.device(\"cuda\" if torch.cuda.is_available() else \"cpu\")\n",
    "device\n"
   ]
  },
  {
   "cell_type": "code",
   "execution_count": 0,
   "metadata": {
    "application/vnd.databricks.v1+cell": {
     "cellMetadata": {
      "byteLimit": 2048000,
      "rowLimit": 10000
     },
     "inputWidgets": {},
     "nuid": "ef114a50-fe08-4548-9306-3b2bcc8d6be8",
     "showTitle": false,
     "tableResultSettingsMap": {},
     "title": ""
    }
   },
   "outputs": [],
   "source": [
    "df_age = pd.read_csv(\"../data/age.csv\", header=None, index_col=0, sep='\\t')\n",
    "y = df_age.to_numpy().reshape(-1, 1).flatten()\n",
    "\n",
    "df_abundance_log = pd.read_csv(\"../data/processed_log_abundance.csv\", header=0, index_col=0, sep='\\t')\n",
    "X_log = df_abundance_log.loc[df_age.index, :].to_numpy()\n",
    "\n",
    "df_abundance = pd.read_csv(\"../data/processed_abundance.csv\", sep='\\t', header=0, index_col=0)\n",
    "X_abundance = df_abundance.loc[df_age.index, :].to_numpy()\n",
    "\n",
    "\n",
    "y.shape, X_log.shape, X_abundance.shape"
   ]
  },
  {
   "cell_type": "code",
   "execution_count": 0,
   "metadata": {
    "application/vnd.databricks.v1+cell": {
     "cellMetadata": {
      "byteLimit": 2048000,
      "rowLimit": 10000
     },
     "inputWidgets": {},
     "nuid": "a30eba7b-9108-41ad-8bc3-278e99a8b06b",
     "showTitle": false,
     "tableResultSettingsMap": {},
     "title": ""
    }
   },
   "outputs": [],
   "source": [
    "X_presence = (X_abundance > 0).astype(int)\n",
    "dct_X = {'abundance':X_abundance, 'log': X_log, 'presence': X_presence}\n",
    "del df_age, df_abundance, df_abundance_log"
   ]
  },
  {
   "cell_type": "code",
   "execution_count": 0,
   "metadata": {
    "application/vnd.databricks.v1+cell": {
     "cellMetadata": {
      "byteLimit": 2048000,
      "rowLimit": 10000
     },
     "inputWidgets": {},
     "nuid": "c6b965fa-fb32-47eb-8649-5dad2d8fe3e5",
     "showTitle": false,
     "tableResultSettingsMap": {},
     "title": ""
    }
   },
   "outputs": [],
   "source": [
    "y_class = y//10\n",
    "y_class[y_class==9] = 8 "
   ]
  },
  {
   "cell_type": "code",
   "execution_count": 0,
   "metadata": {
    "application/vnd.databricks.v1+cell": {
     "cellMetadata": {
      "byteLimit": 2048000,
      "rowLimit": 10000
     },
     "inputWidgets": {},
     "nuid": "58eb5ba9-efbf-460e-b6f6-abf2d5c80b44",
     "showTitle": false,
     "tableResultSettingsMap": {},
     "title": ""
    }
   },
   "outputs": [],
   "source": [
    "sns.histplot(y_class)"
   ]
  },
  {
   "cell_type": "code",
   "execution_count": 0,
   "metadata": {
    "application/vnd.databricks.v1+cell": {
     "cellMetadata": {
      "byteLimit": 2048000,
      "rowLimit": 10000
     },
     "inputWidgets": {},
     "nuid": "a824e0f6-478c-495e-a4ee-1d7d01292843",
     "showTitle": false,
     "tableResultSettingsMap": {},
     "title": ""
    }
   },
   "outputs": [],
   "source": [
    "\n",
    "train_idx, test_idx = train_test_split(range(len(X_abundance)), test_size=0.2, stratify=y_class, random_state=42)  # split the data once so that index keeps the same for different types of X\n",
    "test_idx[:10]"
   ]
  },
  {
   "cell_type": "markdown",
   "metadata": {
    "application/vnd.databricks.v1+cell": {
     "cellMetadata": {
      "byteLimit": 2048000,
      "rowLimit": 10000
     },
     "inputWidgets": {},
     "nuid": "6b6222e0-72af-4214-add6-a930912d1799",
     "showTitle": false,
     "tableResultSettingsMap": {},
     "title": ""
    }
   },
   "source": [
    "[4436, 2292, 4448, 4903, 2378, 842, 2625, 3097, 4898, 1911]"
   ]
  },
  {
   "cell_type": "markdown",
   "metadata": {
    "application/vnd.databricks.v1+cell": {
     "cellMetadata": {
      "byteLimit": 2048000,
      "rowLimit": 10000
     },
     "inputWidgets": {},
     "nuid": "78e15adc-8df1-4492-834a-7a6fc73000f5",
     "showTitle": false,
     "tableResultSettingsMap": {},
     "title": ""
    }
   },
   "source": [
    "# model and training functions"
   ]
  },
  {
   "cell_type": "code",
   "execution_count": 0,
   "metadata": {
    "application/vnd.databricks.v1+cell": {
     "cellMetadata": {
      "byteLimit": 2048000,
      "rowLimit": 10000
     },
     "inputWidgets": {},
     "nuid": "45e4611b-0eae-4be2-b0d6-0715a44feffc",
     "showTitle": false,
     "tableResultSettingsMap": {},
     "title": ""
    }
   },
   "outputs": [],
   "source": [
    "# data type specific parameters\n",
    "def get_params(X_type):\n",
    "    if X_type == 'abundance':\n",
    "        scale_data = True\n",
    "        decoder_activation = None\n",
    "        ae_loss_function = nn.MSELoss(reduction='sum')   # calculate loss for non-zero values rather than averaging over all values, which could otherwise be dominated by the many zeros in the data.\n",
    "\n",
    "    elif X_type == 'log':\n",
    "        scale_data = True\n",
    "        decoder_activation = None\n",
    "        ae_loss_function = nn.MSELoss(reduction='sum')\n",
    "\n",
    "    elif X_type == 'presence':\n",
    "        scale_data = False  # no need to scale as the data is already between 0 and 1\n",
    "        decoder_activation = nn.Sigmoid()  # use sigmoid so that the output is binary\n",
    "        ae_loss_function = nn.BCELoss(reduction='sum')  # use binary loss                    # todo try focal ?\n",
    "\n",
    "    else:\n",
    "        raise ValueError(\"Invalid character for data type\")\n",
    "\n",
    "    # return {'scale_data': scale_data, 'decoder_activation': decoder_activation, 'ae_loss_function': ae_loss_function, 'ae_eval_metric': ae_eval_metric}\n",
    "    return scale_data, decoder_activation, ae_loss_function\n"
   ]
  },
  {
   "cell_type": "code",
   "execution_count": 0,
   "metadata": {
    "application/vnd.databricks.v1+cell": {
     "cellMetadata": {
      "byteLimit": 2048000,
      "rowLimit": 10000
     },
     "inputWidgets": {},
     "nuid": "afb50142-8608-46dd-a24d-9c0b753b33d7",
     "showTitle": false,
     "tableResultSettingsMap": {},
     "title": ""
    }
   },
   "outputs": [],
   "source": [
    "def get_data(x_type, y, scale_data):\n",
    "    X = dct_X[x_type]\n",
    "    # Assuming X and y are already defined as numpy arrays\n",
    "    X_train, X_test, y_train, y_test = X[train_idx], X[test_idx], y[train_idx], y[test_idx]\n",
    "    if scale_data:\n",
    "        scaler = MinMaxScaler()  # scale data so that they are between 0 and 1\n",
    "        X_train = scaler.fit_transform(X_train)\n",
    "        X_test = scaler.transform(X_test)\n",
    "    return X_train, X_test, y_train, y_test\n",
    "\n",
    "\n",
    "def get_dataloader(X_train_tensor, X_test_tensor, y_train_tensor, y_test_tensor, batch_size=64):\n",
    "    # Create TensorDatasets\n",
    "    train_dataset = TensorDataset(X_train_tensor, y_train_tensor)\n",
    "    test_dataset = TensorDataset(X_test_tensor, y_test_tensor)\n",
    "\n",
    "    # Create DataLoaders\n",
    "    train_loader = DataLoader(train_dataset, batch_size=batch_size, shuffle=True)\n",
    "    test_loader = DataLoader(test_dataset, batch_size=batch_size, shuffle=False)\n",
    "    return train_loader, test_loader\n"
   ]
  },
  {
   "cell_type": "code",
   "execution_count": 0,
   "metadata": {
    "application/vnd.databricks.v1+cell": {
     "cellMetadata": {
      "byteLimit": 2048000,
      "rowLimit": 10000
     },
     "inputWidgets": {},
     "nuid": "e555f58b-6829-4253-b6fd-944db0bbe2ca",
     "showTitle": false,
     "tableResultSettingsMap": {},
     "title": ""
    }
   },
   "outputs": [],
   "source": [
    "# Define models\n",
    "\n",
    "class ShallowAutoencoder(nn.Module):\n",
    "    def __init__(self, input_dim, latent_dim, decoder_activation):\n",
    "        super(ShallowAutoencoder, self).__init__()\n",
    "        self.encoder = nn.Sequential(\n",
    "            nn.Linear(input_dim, latent_dim),\n",
    "            nn.LeakyReLU()\n",
    "        )\n",
    "        self.decoder = nn.Sequential(\n",
    "            nn.Linear(latent_dim, input_dim),\n",
    "        )\n",
    "        self.decoder_activation = decoder_activation\n",
    "        self.regression_head = nn.Sequential(\n",
    "            nn.Linear(latent_dim, 1),\n",
    "            nn.ReLU()\n",
    "        )\n",
    "            \n",
    "\n",
    "    def forward(self, x):\n",
    "        encoded = self.encoder(x)\n",
    "        decoded = self.decoder(encoded)\n",
    "        if self.decoder_activation is not None:\n",
    "            decoded = self.decoder_activation(decoded)\n",
    "        regression_output = self.regression_head(encoded)\n",
    "        return encoded, decoded, regression_output\n",
    "\n",
    "class DeepAutoencoder(nn.Module):\n",
    "    def __init__(self, input_dim, latent_dim, decoder_activation):\n",
    "        super(DeepAutoencoder, self).__init__()\n",
    "        self.encoder = nn.Sequential(\n",
    "            nn.Linear(input_dim, input_dim//2),\n",
    "            nn.LeakyReLU(),\n",
    "            nn.Linear(input_dim//2, input_dim//4),\n",
    "            nn.LeakyReLU(),\n",
    "            nn.Linear(input_dim//4, latent_dim),\n",
    "            nn.LeakyReLU()\n",
    "        )\n",
    "        self.decoder = nn.Sequential(\n",
    "            nn.Linear(latent_dim, input_dim//4),\n",
    "            nn.LeakyReLU(),\n",
    "            nn.Linear(input_dim//4, input_dim//2),\n",
    "            nn.LeakyReLU(),\n",
    "            nn.Linear(input_dim//2, input_dim),\n",
    "        )\n",
    "        self.decoder_activation = decoder_activation\n",
    "        self.regression_head = nn.Sequential(\n",
    "            nn.Linear(latent_dim, 1),\n",
    "            nn.ReLU()\n",
    "        )\n",
    "\n",
    "    def forward(self, x):\n",
    "        encoded = self.encoder(x)\n",
    "        decoded = self.decoder(encoded)\n",
    "        if self.decoder_activation is not None:\n",
    "            decoded = self.decoder_activation(decoded)\n",
    "        regression_output = self.regression_head(encoded)\n",
    "        return encoded, decoded, regression_output\n",
    "    \n",
    "\n",
    "class VariationalAutoencoder(nn.Module):\n",
    "    def __init__(self, input_dim, latent_dim, decoder_activation):\n",
    "        super(VariationalAutoencoder, self).__init__()\n",
    "        self.encoder = nn.Sequential(\n",
    "            nn.Linear(input_dim, input_dim//2),\n",
    "            nn.LeakyReLU(),\n",
    "            nn.Linear(input_dim//2, input_dim//4),\n",
    "            nn.LeakyReLU(),\n",
    "\n",
    "        )\n",
    "        self.mu = nn.Linear( input_dim//4, latent_dim)\n",
    "        self.logvar = nn.Linear( input_dim//4, latent_dim)\n",
    "        self.decoder = nn.Sequential(\n",
    "            nn.Linear(latent_dim, input_dim//4),\n",
    "            nn.LeakyReLU(),\n",
    "            nn.Linear(input_dim//4, input_dim//2),\n",
    "            nn.LeakyReLU(),\n",
    "            nn.Linear(input_dim//2, input_dim),\n",
    "        )\n",
    "        self.decoder_activation = decoder_activation\n",
    "        self.regression_head = nn.Sequential(\n",
    "            nn.Linear(latent_dim, 1),\n",
    "            nn.ReLU()\n",
    "        )\n",
    "\n",
    "    def reparameterize(self, mu, logvar):\n",
    "        std = torch.exp(0.5 * logvar)\n",
    "        eps = torch.randn_like(std)\n",
    "        return mu + eps * std\n",
    "\n",
    "    def forward(self, x):\n",
    "        h = self.encoder(x)\n",
    "        mu, logvar = self.mu(h), self.logvar(h)\n",
    "        z = self.reparameterize(mu, logvar)\n",
    "        decoded = self.decoder(z)\n",
    "        if self.decoder_activation is not None:\n",
    "            decoded = self.decoder_activation(decoded)\n",
    "        regression_output = self.regression_head(z)\n",
    "        return z, decoded, regression_output, mu, logvar\n",
    "\n",
    "\n",
    "\n"
   ]
  },
  {
   "cell_type": "code",
   "execution_count": 0,
   "metadata": {
    "application/vnd.databricks.v1+cell": {
     "cellMetadata": {
      "byteLimit": 2048000,
      "rowLimit": 10000
     },
     "inputWidgets": {},
     "nuid": "469773c4-f442-4479-a36d-22fa808136ed",
     "showTitle": false,
     "tableResultSettingsMap": {},
     "title": ""
    }
   },
   "outputs": [],
   "source": [
    "# Training function\n",
    "\n",
    "def train_model(model, model_name, train_loader, test_loader, ae_loss_function, optimizer, reg_loss_function, lambda_ae, lambda_reg, num_epochs=50, patience=10):\n",
    "    min_val_loss = float('inf')\n",
    "    best_model = None  # for early stopping\n",
    "    early_stopping_counter = 0\n",
    "    lst_train_loss_ae = []\n",
    "    lst_train_loss_reg = []\n",
    "    lst_train_r2 = []\n",
    "    \n",
    "    lst_val_loss_ae = []\n",
    "    lst_val_loss_reg = []\n",
    "    lst_val_r2 = []\n",
    "\n",
    "    for epoch in range(num_epochs):\n",
    "        model.train()\n",
    "        train_loss_ae = 0.0\n",
    "        train_loss_reg = 0.0\n",
    "        train_r2 = 0.0\n",
    "        for X_batch, y_batch in train_loader:\n",
    "            optimizer.zero_grad()\n",
    "            if model_name == 'VariationalAutoencoder':\n",
    "                latent, reconstructed, regression_output, mu, logvar = model(X_batch)\n",
    "                loss_kl = -0.5 * torch.sum(1 + logvar - mu.pow(2) - logvar.exp())\n",
    "            else:\n",
    "                latent, reconstructed, regression_output = model(X_batch)\n",
    "                loss_kl = 0\n",
    "\n",
    "\n",
    "            loss_ae = ae_loss_function(reconstructed, X_batch) + loss_kl  # Reconstruction loss\n",
    "            loss_reg = reg_loss_function(regression_output.squeeze(), y_batch)  # Regression loss\n",
    "\n",
    "            \n",
    "            train_loss = lambda_ae * loss_ae  + lambda_reg * loss_reg\n",
    "            train_loss.backward()\n",
    "            optimizer.step()\n",
    "\n",
    "            train_loss_ae += loss_ae.item()\n",
    "            train_loss_reg += loss_reg.item()\n",
    "            train_r2 += r2_score(y_batch.cpu().detach().numpy(), regression_output.cpu().detach().numpy())\n",
    "        train_loss = (lambda_ae * train_loss_ae + lambda_reg * train_loss_reg)/len(train_loader)\n",
    "\n",
    "        lst_train_loss_ae.append(train_loss_ae/len(train_loader))\n",
    "        lst_train_loss_reg.append(train_loss_reg/len(train_loader))\n",
    "        lst_train_r2.append(train_r2/len(train_loader))\n",
    "\n",
    "\n",
    "        # Validation loss\n",
    "        model.eval()\n",
    "        val_loss_ae = 0.0\n",
    "        val_loss_reg = 0.0\n",
    "        val_r2 = 0.0\n",
    "        with torch.no_grad():\n",
    "            for X_batch, y_batch in test_loader:\n",
    "                if model_name == 'VariationalAutoencoder':\n",
    "                    latent, reconstructed, regression_output, mu, logvar = model(X_batch)\n",
    "                    loss_kl = -0.5 * torch.sum(1 + logvar - mu.pow(2) - logvar.exp()) \n",
    "                else:                \n",
    "                    latent, reconstructed, regression_output = model(X_batch)\n",
    "                    loss_kl = 0.0\n",
    "                # loss_l1 = torch.sum(torch.abs(latent)) # regularization term\n",
    "                # loss_ae = ae_loss_function(reconstructed, X_batch) + loss_kl + 0.01 * loss_l1  # Reconstruction loss\n",
    "                loss_ae = ae_loss_function(reconstructed, X_batch) + loss_kl \n",
    "                loss_reg = reg_loss_function(regression_output.squeeze(), y_batch)  # Regression loss\n",
    "\n",
    "                val_loss_ae += loss_ae.item()\n",
    "                val_loss_reg += loss_reg.item()\n",
    "                val_r2 += r2_score(y_batch.cpu().detach().numpy(), regression_output.cpu().detach().numpy())\n",
    "            val_loss = (lambda_ae * val_loss_ae + lambda_reg * val_loss_reg)/len(test_loader)\n",
    "            lst_val_loss_ae.append(val_loss_ae/len(test_loader))\n",
    "            lst_val_loss_reg.append(val_loss_reg/len(test_loader))\n",
    "            lst_val_r2.append(val_r2/len(test_loader))\n",
    "\n",
    "        if epoch % 5 == 0:\n",
    "            print(f'{model_name} Epoch {epoch+1}/{num_epochs}, Train Loss: {train_loss:.4f}, Val Loss: {val_loss:.4f}')\n",
    "\n",
    "        # # Early stopping\n",
    "        # if val_loss < min_val_loss:\n",
    "        #     min_val_loss = val_loss\n",
    "        #     best_model = model.state_dict()\n",
    "        #     early_stopping_counter = 0\n",
    "        # else:\n",
    "        #     early_stopping_counter += 1\n",
    "        #     if early_stopping_counter >= patience:\n",
    "        #         print(\"Early stopping\")\n",
    "        #         break\n",
    "\n",
    "    return best_model, lst_train_loss_ae, lst_train_loss_reg, lst_train_r2, lst_val_loss_ae, lst_val_loss_reg, lst_val_r2"
   ]
  },
  {
   "cell_type": "markdown",
   "metadata": {
    "application/vnd.databricks.v1+cell": {
     "cellMetadata": {
      "byteLimit": 2048000,
      "rowLimit": 10000
     },
     "inputWidgets": {},
     "nuid": "941c8ef6-0e7c-45f6-9bed-cf77bdc664f4",
     "showTitle": false,
     "tableResultSettingsMap": {},
     "title": ""
    }
   },
   "source": [
    "# start"
   ]
  },
  {
   "cell_type": "code",
   "execution_count": 0,
   "metadata": {
    "application/vnd.databricks.v1+cell": {
     "cellMetadata": {
      "byteLimit": 2048000,
      "rowLimit": 10000
     },
     "inputWidgets": {},
     "nuid": "7a88e597-905c-4d72-ab0b-c0c972fbf385",
     "showTitle": false,
     "tableResultSettingsMap": {},
     "title": ""
    }
   },
   "outputs": [],
   "source": [
    "# parameters to define before each experiment\n",
    "\n",
    "x_type = 'log'  # 'abundance' or 'presence' or 'log'\n",
    "latent_dim = 100\n",
    "lambda_ae = 1\n",
    "lambda_reg = 1 - lambda_ae\n",
    "num_epochs= 50\n",
    "patience = 10"
   ]
  },
  {
   "cell_type": "code",
   "execution_count": 0,
   "metadata": {
    "application/vnd.databricks.v1+cell": {
     "cellMetadata": {
      "byteLimit": 2048000,
      "rowLimit": 10000
     },
     "inputWidgets": {},
     "nuid": "585e3d96-247e-4578-be03-aa3bb5ef9048",
     "showTitle": false,
     "tableResultSettingsMap": {},
     "title": ""
    }
   },
   "outputs": [],
   "source": [
    "scale_data, decoder_activation, ae_loss_function = get_params(x_type)\n",
    "X_train, X_test, y_train, y_test = get_data(x_type, y, scale_data)\n",
    "# Convert to tensors and move to device\n",
    "X_train_tensor = torch.tensor(X_train, dtype=torch.float32).to(device)\n",
    "X_test_tensor = torch.tensor(X_test, dtype=torch.float32).to(device)\n",
    "y_train_tensor = torch.tensor(y_train, dtype=torch.float32).to(device)\n",
    "y_test_tensor = torch.tensor(y_test, dtype=torch.float32).to(device)\n",
    "train_loader, test_loader = get_dataloader(X_train_tensor, X_test_tensor, y_train_tensor, y_test_tensor, batch_size=64)\n",
    "input_dim = X_train.shape[1]"
   ]
  },
  {
   "cell_type": "code",
   "execution_count": 0,
   "metadata": {
    "application/vnd.databricks.v1+cell": {
     "cellMetadata": {
      "byteLimit": 2048000,
      "rowLimit": 10000
     },
     "inputWidgets": {},
     "nuid": "38a37def-f59a-4bce-9eea-7ca41353b2b3",
     "showTitle": false,
     "tableResultSettingsMap": {},
     "title": ""
    }
   },
   "outputs": [],
   "source": [
    "\n",
    "\n",
    "\n",
    "models = [\n",
    "\n",
    "    VariationalAutoencoder(input_dim, latent_dim, decoder_activation),\n",
    "    ShallowAutoencoder(input_dim, latent_dim, decoder_activation),\n",
    "    DeepAutoencoder(input_dim, latent_dim, decoder_activation),\n",
    "\n",
    "]\n",
    "\n",
    "model_names = [\n",
    "\n",
    "    \"VariationalAutoencoder\",\n",
    "    \"ShallowAutoencoder\",\n",
    "    \"DeepAutoencoder\",\n",
    "]\n",
    "\n",
    "\n",
    "dct_history = dict()\n",
    "dct_y_pred = dict()\n",
    "\n",
    "plt.figure(figsize=(15, 15))\n",
    "i = 1\n",
    "plt.subplot(4, 2, i)\n",
    "sns.histplot(X_test.flatten())\n",
    "plt.title('Test Set - Original Distribution')\n",
    "i+=1\n",
    "plt.subplot(4, 2, i )\n",
    "sns.histplot(X_test[X_test > 0].flatten())\n",
    "plt.title('Test Set - Original Distribution > 0')\n",
    "i+=1\n",
    "\n",
    "for model, model_name in zip(models, model_names):\n",
    "    \n",
    "    print(f\"Training {model_name}\")\n",
    "\n",
    "    model.to(device)\n",
    "    optimizer = optim.Adam(model.parameters(), lr=0.001)\n",
    "\n",
    "    # training\n",
    "    best_model,lst_train_loss_ae, lst_train_loss_reg, lst_train_r2, lst_val_loss_ae, lst_val_loss_reg, lst_val_r2 = train_model(model, model_name, train_loader, test_loader, ae_loss_function, optimizer=optimizer,reg_loss_function=nn.MSELoss(), num_epochs=num_epochs, patience=patience, lambda_ae=lambda_ae, lambda_reg=lambda_reg)\n",
    "\n",
    "    # # Save the best model\n",
    "    # torch.save(best_model, f\"model/{model_name}_best_model.pth\")\n",
    "\n",
    "    ## Save latent representations\n",
    "    # model.load_state_dict(best_model)\n",
    "    model.eval()\n",
    "    with torch.no_grad():\n",
    "        results = model(X_test_tensor)\n",
    "        # np.save(f\"model/{model_name}_latent_representations.npy\", results[0].cpu().detach().numpy())\n",
    "        X_train_latent = model(X_train_tensor)[0].cpu().detach().numpy()\n",
    "        X_val_latent = results[0].cpu().detach().numpy()\n",
    "\n",
    "    plt.subplot(4, 2, i)\n",
    "    sns.histplot(results[1].cpu().numpy().flatten())\n",
    "    plt.title(f'{model_name} - Latent Representation Distribution')\n",
    "    i+=1\n",
    "    plt.subplot(4, 2, i )\n",
    "    sns.histplot(results[1].cpu().numpy().flatten()[results[1].cpu().numpy().flatten()>0])\n",
    "    plt.title(f'{model_name} - Latent Representation Distribution > 0')\n",
    "    i+=1\n",
    "\n",
    "    # Log losses\n",
    "    dct_history[model_name] = {\n",
    "            \"train_loss_ae\": np.array(lst_train_loss_ae),\n",
    "            \"train_loss_reg\": np.array(lst_train_loss_reg),\n",
    "            \"train_r2\": np.array(lst_train_r2),\n",
    "            \"val_loss_ae\": np.array(lst_val_loss_ae),\n",
    "            \"val_loss_reg\": np.array(lst_val_loss_reg),\n",
    "            \"val_r2\": np.array(lst_val_r2)\n",
    "        }\n",
    "    \n",
    "    # log predicted values\n",
    "    dct_y_pred[model_name] = results[2].cpu().detach().numpy()\n",
    "\n",
    "\n",
    "\n",
    "    # Train XGBoost model on latent features\n",
    "    print(\"prediction using embedding by\", model_name)\n",
    "\n",
    "    # Train XGBoost model on latent features\n",
    "    xgb_model = XGBRegressor(n_estimators=500, learning_rate=0.05, max_depth=6)\n",
    "    xgb_model.fit(X_train_latent, y_train)  # Use the latent features as input for regression\n",
    "\n",
    "    # Predict on the validation set\n",
    "    dct_y_pred[model_name + '_xgb'] =  xgb_model.predict(X_val_latent)\n",
    "\n",
    "plt.tight_layout();"
   ]
  },
  {
   "cell_type": "code",
   "execution_count": 0,
   "metadata": {
    "application/vnd.databricks.v1+cell": {
     "cellMetadata": {
      "byteLimit": 2048000,
      "rowLimit": 10000
     },
     "inputWidgets": {},
     "nuid": "697879e9-3516-48d4-8337-ccbfe0e60921",
     "showTitle": false,
     "tableResultSettingsMap": {},
     "title": ""
    }
   },
   "outputs": [],
   "source": [
    "sns.histplot(X_test.flatten()[X_test.flatten()>0]);"
   ]
  },
  {
   "cell_type": "code",
   "execution_count": 0,
   "metadata": {
    "application/vnd.databricks.v1+cell": {
     "cellMetadata": {
      "byteLimit": 2048000,
      "rowLimit": 10000
     },
     "inputWidgets": {},
     "nuid": "25877cd6-c1a3-4a41-8e88-4ce53b551042",
     "showTitle": false,
     "tableResultSettingsMap": {},
     "title": ""
    }
   },
   "outputs": [],
   "source": [
    "sns.histplot(results[1].cpu().numpy().flatten());"
   ]
  },
  {
   "cell_type": "code",
   "execution_count": 0,
   "metadata": {
    "application/vnd.databricks.v1+cell": {
     "cellMetadata": {
      "byteLimit": 2048000,
      "rowLimit": 10000
     },
     "inputWidgets": {},
     "nuid": "8312d9b1-dbf9-4cfd-a5da-487ec3a1b5f7",
     "showTitle": false,
     "tableResultSettingsMap": {},
     "title": ""
    }
   },
   "outputs": [],
   "source": [
    "plt.figure(figsize=(10, 10))\n",
    "for i, (model_name, history) in enumerate(dct_history.items()):\n",
    "    plt.subplot(3, 2, 2 * i + 1)\n",
    "    plt.plot(history['train_loss_ae'], '-', label=f'Train', color='blue', alpha=0.5)\n",
    "    plt.plot(history['val_loss_ae'], '--', label=f'Validation', color='red', alpha=0.5)\n",
    "    plt.title(f'{model_name} - Reconstruction Loss')\n",
    "    plt.text\n",
    "    plt.xlabel('Epochs')\n",
    "    plt.ylabel('Reconstruction Loss')\n",
    "\n",
    "    plt.subplot(3, 2, 2 * i + 2)\n",
    "    plt.plot(history['train_loss_reg'], '-', label=f'Train', color='blue', alpha=0.5)\n",
    "    plt.plot(history['val_loss_reg'], '--', label=f'Validation', color='red', alpha=0.5)\n",
    "    plt.title(model_name)\n",
    "    plt.xlabel('Epochs')\n",
    "    plt.title(f'{model_name} - Regression Loss')\n",
    "    plt.legend(loc='upper left', bbox_to_anchor=(1, 1))\n",
    "    plt.grid(True)\n",
    "    plt.tight_layout()"
   ]
  },
  {
   "cell_type": "code",
   "execution_count": 0,
   "metadata": {
    "application/vnd.databricks.v1+cell": {
     "cellMetadata": {
      "byteLimit": 2048000,
      "rowLimit": 10000
     },
     "inputWidgets": {},
     "nuid": "0f404e3c-f835-4bb5-8d5d-68d3be5a5db1",
     "showTitle": false,
     "tableResultSettingsMap": {},
     "title": ""
    }
   },
   "outputs": [],
   "source": [
    "plt.figure(figsize=(10, 12))\n",
    "\n",
    "\n",
    "for i, (model_name, y_pred) in enumerate(dct_y_pred.items()):\n",
    "    \n",
    "    y_pred = y_pred.squeeze()\n",
    "\n",
    "    plt.subplot(3, 2, i + 1)\n",
    "\n",
    "    plt.scatter(y_test, y_pred, alpha=0.5, s=6)\n",
    "    plt.plot([y_test.min(), y_test.max()], [y_test.min(), y_test.max()], 'r--', lw=2)\n",
    "\n",
    "    plt.xlabel('True Values')\n",
    "    plt.ylabel('Predicted Values')\n",
    "    plt.title(f'{model_name} lambdaAE={lambda_ae}, lambdaReg={lambda_reg}')\n",
    "\n",
    "\n",
    "    # mask = (y_pred <= 100) & (y_pred >= 0)\n",
    "    # r2 = 1 - (np.sum((y_test[mask] - y_pred[mask]) ** 2) / np.sum((y_test[mask] - np.mean(y_test[mask])) ** 2))\n",
    "    r2 = r2_score(y_test, y_pred)\n",
    "    mse = mean_squared_error(y_test, y_pred)\n",
    "    plt.text(0.05, 0.95, f'R^2: {r2:.2f}\\nMSE: {mse:.2f}', transform=plt.gca().transAxes, fontsize=10, verticalalignment='top')\n",
    "\n",
    "    plt.tight_layout()"
   ]
  },
  {
   "cell_type": "code",
   "execution_count": 0,
   "metadata": {
    "application/vnd.databricks.v1+cell": {
     "cellMetadata": {
      "byteLimit": 2048000,
      "rowLimit": 10000
     },
     "inputWidgets": {},
     "nuid": "e9898a9e-7a7a-499e-a1a8-5db1f14e38ed",
     "showTitle": false,
     "tableResultSettingsMap": {},
     "title": ""
    }
   },
   "outputs": [],
   "source": [
    "# lambda_ae = 1\n",
    "# lambda_reg = 0\n",
    "# num_epochs = 100\n",
    "# patience = 20\n",
    "\n",
    "# # Dictionary to store the embeddings\n",
    "# dct_embedding = {}\n",
    "# # dct_loss_ae_emb = {}\n",
    "# dct_xgb_mse = {}\n",
    "# dct_xgb_r2 = {}\n",
    "\n",
    "\n",
    "# # Train each model with the specified lambda values and save the embeddings\n",
    "# for model, model_name in zip(models, model_names):\n",
    "    \n",
    "#     print(f\"Training {model_name}\")\n",
    "\n",
    "#     model.to(device)\n",
    "#     ae_loss_function = nn.MSELoss()\n",
    "#     reg_loss_function = nn.MSELoss()  \n",
    "#     optimizer = optim.Adam(model.parameters(), lr=0.001)\n",
    "#     best_model,lst_train_loss_ae, _, _, lst_val_loss_ae, _, _ = train_model(model, model_name, train_loader, test_loader, ae_loss_function, reg_loss_function, optimizer, num_epochs=num_epochs, patience=patience, lambda_ae=lambda_ae, lambda_reg=lambda_reg)\n",
    "\n",
    "#     dct_train_loss_ae_emb[model_name] = lst_train_loss_ae\n",
    "#     dct_val_loss_ae_emb[model_name] = lst_val_loss_ae\n",
    "\n",
    "#     # Save latent representations\n",
    "#     model.load_state_dict(best_model)\n",
    "#     model.eval()\n",
    "#     with torch.no_grad():\n",
    "#         X_train_latent = model(X_train_tensor)[0].cpu().detach().numpy(), \n",
    "#         X_val_latent = model(X_test_tensor)[0].cpu().detach().numpy()\n",
    "    \n",
    "#     print(\"prediction using embedding by\", model_name)\n",
    "\n",
    "#     # Train XGBoost model on latent features\n",
    "#     xgb_model = XGBRegressor(n_estimators=500, learning_rate=0.05, max_depth=6)\n",
    "#     xgb_model.fit(X_train_latent, y_train)  # Use the latent features as input for regression\n",
    "\n",
    "#     # Predict on the validation set\n",
    "#     y_pred = xgb_model.predict(X_val_latent)\n",
    "\n",
    "#     # Evaluate performance\n",
    "#     from sklearn.metrics import mean_squared_error, r2_score\n",
    "#     mse = mean_squared_error(y_test, y_pred)\n",
    "#     r2 = r2_score(y_test, y_pred)\n",
    "\n",
    "#     print(f\"XGBoost MSE: {mse:.4f}\")\n",
    "#     print(f\"XGBoost R²: {r2:.4f}\")\n",
    "#     dct_xgb_mse[f'xgb_{model_name}'] = mse\n",
    "#     dct_xgb_r2[f'xgb_{model_name}'] = r2\n",
    "\n",
    "\n",
    "\n"
   ]
  }
 ],
 "metadata": {
  "application/vnd.databricks.v1+notebook": {
   "computePreferences": null,
   "dashboards": [],
   "environmentMetadata": {
    "base_environment": "",
    "environment_version": "1"
   },
   "inputWidgetPreferences": null,
   "language": "python",
   "notebookMetadata": {
    "pythonIndentUnit": 4
   },
   "notebookName": "(stable version) Autoencoders 2 heads + xgb regressor for Age Prediction",
   "widgets": {}
  },
  "language_info": {
   "name": "python"
  }
 },
 "nbformat": 4,
 "nbformat_minor": 0
}
