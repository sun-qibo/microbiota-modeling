{
 "cells": [
  {
   "cell_type": "code",
   "execution_count": 0,
   "metadata": {
    "application/vnd.databricks.v1+cell": {
     "cellMetadata": {
      "byteLimit": 2048000,
      "rowLimit": 10000
     },
     "collapsed": true,
     "inputWidgets": {},
     "nuid": "be8ef31f-36cd-4738-8f98-41b008a1ebba",
     "showTitle": false,
     "tableResultSettingsMap": {},
     "title": ""
    }
   },
   "outputs": [],
   "source": [
    "# %load_ext tensorboard\n",
    "# from torch.utils.tensorboard import SummaryWriter\n"
   ]
  },
  {
   "cell_type": "code",
   "execution_count": 0,
   "metadata": {
    "application/vnd.databricks.v1+cell": {
     "cellMetadata": {
      "byteLimit": 2048000,
      "rowLimit": 10000
     },
     "inputWidgets": {},
     "nuid": "263045b6-ae3a-4c2b-aa94-ff4b4c2e15d0",
     "showTitle": false,
     "tableResultSettingsMap": {},
     "title": ""
    }
   },
   "outputs": [],
   "source": [
    "import numpy as np\n",
    "import pandas as pd\n",
    "import torch\n",
    "import torch.nn as nn\n",
    "import torch.optim as optim\n",
    "from torch.utils.data import DataLoader, TensorDataset\n",
    "from sklearn.preprocessing import MinMaxScaler\n",
    "from sklearn.metrics import mean_squared_error, r2_score\n",
    "from sklearn.model_selection import train_test_split\n",
    "\n",
    "\n",
    "from xgboost import XGBRegressor\n",
    "from tqdm import tqdm\n",
    "import matplotlib.pyplot as plt\n",
    "import seaborn as sns\n",
    "\n",
    "# Check for GPU\n",
    "device = torch.device(\"cuda\" if torch.cuda.is_available() else \"cpu\")\n",
    "device\n"
   ]
  },
  {
   "cell_type": "markdown",
   "metadata": {
    "application/vnd.databricks.v1+cell": {
     "cellMetadata": {
      "byteLimit": 2048000,
      "rowLimit": 10000
     },
     "inputWidgets": {},
     "nuid": "ae3c0791-eec3-4363-a464-a9f052d2be00",
     "showTitle": false,
     "tableResultSettingsMap": {},
     "title": ""
    }
   },
   "source": [
    "## Load data"
   ]
  },
  {
   "cell_type": "code",
   "execution_count": 0,
   "metadata": {
    "application/vnd.databricks.v1+cell": {
     "cellMetadata": {
      "byteLimit": 2048000,
      "rowLimit": 10000
     },
     "inputWidgets": {},
     "nuid": "ef114a50-fe08-4548-9306-3b2bcc8d6be8",
     "showTitle": false,
     "tableResultSettingsMap": {},
     "title": ""
    }
   },
   "outputs": [],
   "source": [
    "df_age = pd.read_csv(\"../data/age.csv\", header=None, index_col=0, sep='\\t')\n",
    "df_age = df_age[df_age[1]>=18]  # todo remove after test \n",
    "y = df_age.to_numpy().reshape(-1, 1).flatten()\n",
    "\n",
    "y.shape"
   ]
  },
  {
   "cell_type": "code",
   "execution_count": 0,
   "metadata": {
    "application/vnd.databricks.v1+cell": {
     "cellMetadata": {
      "byteLimit": 2048000,
      "rowLimit": 10000
     },
     "collapsed": true,
     "inputWidgets": {},
     "nuid": "c6b965fa-fb32-47eb-8649-5dad2d8fe3e5",
     "showTitle": false,
     "tableResultSettingsMap": {},
     "title": ""
    }
   },
   "outputs": [],
   "source": [
    "y_class = y//10\n",
    "y_class[y_class==9] = 8 "
   ]
  },
  {
   "cell_type": "code",
   "execution_count": 0,
   "metadata": {
    "application/vnd.databricks.v1+cell": {
     "cellMetadata": {
      "byteLimit": 2048000,
      "rowLimit": 10000
     },
     "collapsed": true,
     "inputWidgets": {},
     "nuid": "58eb5ba9-efbf-460e-b6f6-abf2d5c80b44",
     "showTitle": false,
     "tableResultSettingsMap": {},
     "title": ""
    }
   },
   "outputs": [],
   "source": [
    "sns.histplot(y_class)"
   ]
  },
  {
   "cell_type": "code",
   "execution_count": 0,
   "metadata": {
    "application/vnd.databricks.v1+cell": {
     "cellMetadata": {
      "byteLimit": 2048000,
      "rowLimit": 10000
     },
     "inputWidgets": {},
     "nuid": "a824e0f6-478c-495e-a4ee-1d7d01292843",
     "showTitle": false,
     "tableResultSettingsMap": {},
     "title": ""
    }
   },
   "outputs": [],
   "source": [
    "train_idx, test_idx = train_test_split(range(len(y)), test_size=0.2, stratify=y_class, random_state=42)  # split the data once so that index keeps the same for different types of X\n",
    "test_idx[:10]"
   ]
  },
  {
   "cell_type": "markdown",
   "metadata": {
    "application/vnd.databricks.v1+cell": {
     "cellMetadata": {
      "byteLimit": 2048000,
      "rowLimit": 10000
     },
     "inputWidgets": {},
     "nuid": "6b6222e0-72af-4214-add6-a930912d1799",
     "showTitle": false,
     "tableResultSettingsMap": {},
     "title": ""
    }
   },
   "source": [
    "[4436, 2292, 4448, 4903, 2378, 842, 2625, 3097, 4898, 1911]"
   ]
  },
  {
   "cell_type": "code",
   "execution_count": 0,
   "metadata": {
    "application/vnd.databricks.v1+cell": {
     "cellMetadata": {
      "byteLimit": 2048000,
      "rowLimit": 10000
     },
     "inputWidgets": {},
     "nuid": "093021e5-6218-4b3d-9deb-58e6b8975c0e",
     "showTitle": false,
     "tableResultSettingsMap": {},
     "title": ""
    }
   },
   "outputs": [],
   "source": [
    "X = pd.read_csv(\"../data/processed_genus_log_drop08_scaled.csv\", header=0, index_col=0, sep='\\t').loc[df_age.index, :].to_numpy()\n",
    "X_train, X_test, y_train, y_test = X[train_idx], X[test_idx], y[train_idx], y[test_idx]\n",
    "\n",
    "# Convert to tensors and move to device\n",
    "X_train_tensor = torch.tensor(X_train, dtype=torch.float32).to(device)\n",
    "X_test_tensor = torch.tensor(X_test, dtype=torch.float32).to(device)\n",
    "y_train_tensor = torch.tensor(y_train, dtype=torch.float32).to(device)\n",
    "y_test_tensor = torch.tensor(y_test, dtype=torch.float32).to(device)\n",
    "\n",
    "# Create TensorDatasets\n",
    "train_dataset = TensorDataset(X_train_tensor, y_train_tensor)\n",
    "test_dataset = TensorDataset(X_test_tensor, y_test_tensor)\n",
    "\n",
    "# Create DataLoaders\n",
    "batch_size = 64\n",
    "train_loader = DataLoader(train_dataset, batch_size=batch_size, shuffle=True)\n",
    "test_loader = DataLoader(test_dataset, batch_size=batch_size, shuffle=False)\n",
    "\n",
    "input_dim = X.shape[1]\n",
    "print(X_train.max())\n",
    "print(input_dim)"
   ]
  },
  {
   "cell_type": "code",
   "execution_count": 0,
   "metadata": {
    "application/vnd.databricks.v1+cell": {
     "cellMetadata": {
      "byteLimit": 2048000,
      "rowLimit": 10000
     },
     "inputWidgets": {},
     "nuid": "c1615d7c-9544-413f-b69e-154f417e95f6",
     "showTitle": false,
     "tableResultSettingsMap": {},
     "title": ""
    }
   },
   "outputs": [],
   "source": [
    "# get the proportion of zeros in X\n",
    "p_zero = (X_train == 0).mean()\n",
    "print(p_zero)\n",
    "print(p_zero/(1-p_zero))\n",
    "print(1/(1-p_zero))\n",
    "print(1/p_zero)"
   ]
  },
  {
   "cell_type": "code",
   "execution_count": 0,
   "metadata": {
    "application/vnd.databricks.v1+cell": {
     "cellMetadata": {
      "byteLimit": 2048000,
      "rowLimit": 10000
     },
     "inputWidgets": {},
     "nuid": "5cfafe89-219c-4260-82fe-331ef1e68da3",
     "showTitle": false,
     "tableResultSettingsMap": {},
     "title": ""
    }
   },
   "outputs": [],
   "source": [
    "xgb_model = XGBRegressor(n_estimators=200, learning_rate=0.05, max_depth=4)\n",
    "\n",
    "X_train_zeros = X_train == 0\n",
    "y_train = y_train\n",
    "xgb_model.fit(X_train_zeros, y_train)\n",
    "\n",
    "X_test_zeros = X_test == 0\n",
    "y_pred = xgb_model.predict(X_test_zeros)\n"
   ]
  },
  {
   "cell_type": "code",
   "execution_count": 0,
   "metadata": {
    "application/vnd.databricks.v1+cell": {
     "cellMetadata": {
      "byteLimit": 2048000,
      "rowLimit": 10000
     },
     "inputWidgets": {},
     "nuid": "55ec67ce-6841-4479-9a8b-cbb00d22cff9",
     "showTitle": false,
     "tableResultSettingsMap": {},
     "title": ""
    }
   },
   "outputs": [],
   "source": [
    "# Calculate R2 score and MSE\n",
    "r2 = r2_score(y_test, y_pred)\n",
    "mse = mean_squared_error(y_test, y_pred)\n",
    "\n",
    "# Plot y_pred vs y_test\n",
    "plt.figure(figsize=(10, 6))\n",
    "plt.scatter(y_test, y_pred, alpha=0.5)\n",
    "plt.plot([y_test.min(), y_test.max()], [y_test.min(), y_test.max()], 'r--', lw=2)\n",
    "plt.xlabel('Actual')\n",
    "plt.ylabel('Predicted')\n",
    "plt.title(f'Actual vs Predicted\\nR2: {r2:.2f}, MSE: {mse:.2f}')\n",
    "plt.show()"
   ]
  },
  {
   "cell_type": "markdown",
   "metadata": {
    "application/vnd.databricks.v1+cell": {
     "cellMetadata": {
      "byteLimit": 2048000,
      "rowLimit": 10000
     },
     "inputWidgets": {},
     "nuid": "c6bcc55c-994d-44e4-af09-f5a0c3a6c69f",
     "showTitle": false,
     "tableResultSettingsMap": {},
     "title": ""
    }
   },
   "source": [
    "## Models"
   ]
  },
  {
   "cell_type": "code",
   "execution_count": 0,
   "metadata": {
    "application/vnd.databricks.v1+cell": {
     "cellMetadata": {
      "byteLimit": 2048000,
      "rowLimit": 10000
     },
     "inputWidgets": {},
     "nuid": "2e9f6793-9289-48f5-8292-c44fe10e38be",
     "showTitle": false,
     "tableResultSettingsMap": {},
     "title": ""
    }
   },
   "outputs": [],
   "source": [
    "from models_vanilla import *\n",
    "from models_attention import *\n",
    "\n",
    "# todo  add noise (e.g., zero out random values) to the input during training and train the network to reconstruct the original data. This encourages the model to learn robust features despite the sparse noise."
   ]
  },
  {
   "cell_type": "code",
   "execution_count": 0,
   "metadata": {
    "application/vnd.databricks.v1+cell": {
     "cellMetadata": {
      "byteLimit": 2048000,
      "rowLimit": 10000
     },
     "inputWidgets": {},
     "nuid": "14cee2dc-dede-4e6a-a255-b3afc1a32244",
     "showTitle": false,
     "tableResultSettingsMap": {},
     "title": ""
    }
   },
   "outputs": [],
   "source": [
    "# from sklearn.preprocessing import QuantileTransformer\n",
    "\n",
    "# qt = QuantileTransformer(output_distribution='normal').fit(X_train[X_train!= 0].reshape(-1, 1))\n",
    "\n",
    "# def postprocess(reconstructed):\n",
    "#     reconstructed = reconstructed.cpu().numpy()\n",
    "#     print('reconstructed cpu shape', reconstructed.shape)\n",
    "#     mask = (reconstructed != 0)\n",
    "#     print('mask shape', mask.shape)\n",
    "#     print('masked reconstructed shape', reconstructed[mask].shape)\n",
    "#     nonzero_transformed = qt.transform(reconstructed[mask].reshape(-1, 1)).reshape(-1)\n",
    "#     print('nonzero_transformed shape', nonzero_transformed.shape)\n",
    "#     reconstructed[mask] = nonzero_transformed\n",
    "#     print(\"reconstructed shape\", reconstructed.shape)\n",
    "#     return torch.tensor(reconstructed,dtype=torch.float32).to(device)"
   ]
  },
  {
   "cell_type": "code",
   "execution_count": 0,
   "metadata": {
    "application/vnd.databricks.v1+cell": {
     "cellMetadata": {
      "byteLimit": 2048000,
      "rowLimit": 10000
     },
     "inputWidgets": {},
     "nuid": "7112bebc-9d02-4161-a370-859034b23993",
     "showTitle": false,
     "tableResultSettingsMap": {},
     "title": ""
    }
   },
   "outputs": [],
   "source": [
    "def postprocess(x):  # todo finish the postprocess function later\n",
    "    return x"
   ]
  },
  {
   "cell_type": "markdown",
   "metadata": {
    "application/vnd.databricks.v1+cell": {
     "cellMetadata": {
      "byteLimit": 2048000,
      "rowLimit": 10000
     },
     "inputWidgets": {},
     "nuid": "88781587-ddaf-4743-87c3-a734227fb504",
     "showTitle": false,
     "tableResultSettingsMap": {},
     "title": ""
    }
   },
   "source": [
    "## Loss Functions"
   ]
  },
  {
   "cell_type": "code",
   "execution_count": 0,
   "metadata": {
    "application/vnd.databricks.v1+cell": {
     "cellMetadata": {
      "byteLimit": 2048000,
      "rowLimit": 10000
     },
     "inputWidgets": {},
     "nuid": "dd52dcbe-9599-4c89-b552-471f708bc09d",
     "showTitle": false,
     "tableResultSettingsMap": {},
     "title": ""
    }
   },
   "outputs": [],
   "source": [
    "def masked_mse_loss(reconstructed, X_true):\n",
    "    mask = (X_true != 0).float()\n",
    "    return torch.mean(mask * (nn.Sigmoid()(reconstructed) - X_true)**2)"
   ]
  },
  {
   "cell_type": "code",
   "execution_count": 0,
   "metadata": {
    "application/vnd.databricks.v1+cell": {
     "cellMetadata": {
      "byteLimit": 2048000,
      "rowLimit": 10000
     },
     "inputWidgets": {},
     "nuid": "0f789e72-da17-4020-882f-c6095dd32bd1",
     "showTitle": false,
     "tableResultSettingsMap": {},
     "title": ""
    }
   },
   "outputs": [],
   "source": [
    "def masked_kl_loss(mu, logvar, X_true):\n",
    "    mask = (X_true !=0).float()\n",
    "    kl_per_dim = -0.5 * (1 + logvar - mu.pow(2) - logvar.exp())\n",
    "    non_zero_ratio = mask.mean(dim=1)\n",
    "    kl_weight = 0.1 + 0.9 * (1-non_zero_ratio.unsqueeze(1))\n",
    "    return torch.mean(kl_weight * kl_per_dim)"
   ]
  },
  {
   "cell_type": "markdown",
   "metadata": {
    "application/vnd.databricks.v1+cell": {
     "cellMetadata": {
      "byteLimit": 2048000,
      "rowLimit": 10000
     },
     "inputWidgets": {},
     "nuid": "56ca5cbb-7832-43e7-9c34-a50596e656be",
     "showTitle": false,
     "tableResultSettingsMap": {},
     "title": ""
    }
   },
   "source": [
    "## Training Function"
   ]
  },
  {
   "cell_type": "code",
   "execution_count": 0,
   "metadata": {
    "application/vnd.databricks.v1+cell": {
     "cellMetadata": {
      "byteLimit": 2048000,
      "rowLimit": 10000
     },
     "inputWidgets": {},
     "nuid": "469773c4-f442-4479-a36d-22fa808136ed",
     "showTitle": false,
     "tableResultSettingsMap": {},
     "title": ""
    }
   },
   "outputs": [],
   "source": [
    "# Training function\n",
    "\n",
    "def train_model(model, model_name, train_loader, test_loader, num_epochs_1=100, num_epochs_2 = 50, patience=10):\n",
    "    lst_train_nonzero_loss = []\n",
    "    lst_train_presence_loss = []\n",
    "    lst_val_nonzero_loss = []\n",
    "    lst_val_presence_loss = []\n",
    "    lst_train_loss = []\n",
    "    lst_val_loss = []\n",
    "\n",
    "    ######################################\n",
    "    #### training for presence by BCE ####\n",
    "    ######################################\n",
    "\n",
    "    min_val_loss = float('inf')\n",
    "    best_model = None \n",
    "    early_stopping_counter = 0\n",
    "    optimizer1 = optim.Adam(model.parameters(), lr=0.001)\n",
    "    for epoch in range(num_epochs_1):\n",
    "        model.train()\n",
    "        train_loss = 0.0\n",
    "        val_loss = 0.0\n",
    "        for X_batch, y_batch in train_loader:\n",
    "            optimizer1.zero_grad()\n",
    "            if model_name.endswith('VAE'):\n",
    "                latent, reconstructed,  mu, logvar = model(X_batch)\n",
    "            else:\n",
    "                latent, reconstructed = model(X_batch)\n",
    "            with torch.no_grad():\n",
    "                reconstructed = postprocess(reconstructed)\n",
    "            loss_presence = nn.BCEWithLogitsLoss()(reconstructed, (X_batch !=0).float())\n",
    "            loss_presence.backward()\n",
    "            optimizer1.step()            \n",
    "            train_loss += loss_presence.item()\n",
    "        train_loss = train_loss/len(train_loader)\n",
    "        lst_train_loss.append(train_loss)\n",
    "        lst_train_presence_loss.append(train_loss)\n",
    "\n",
    "        model.eval()\n",
    "        with torch.no_grad():\n",
    "            for X_batch, y_batch in test_loader:\n",
    "                if model_name.endswith('VAE'):\n",
    "                    latent, reconstructed,  mu, logvar = model(X_batch)\n",
    "                else:\n",
    "                    latent, reconstructed = model(X_batch)\n",
    "                reconstructed = postprocess(reconstructed)\n",
    "                loss_presence = nn.BCEWithLogitsLoss()(reconstructed, (X_batch !=0).float())\n",
    "                val_loss += loss_presence.item()                \n",
    "            val_loss = val_loss/len(test_loader)\n",
    "            lst_val_loss.append(val_loss)\n",
    "            lst_val_presence_loss.append(val_loss)\n",
    "\n",
    "        if epoch % 5 == 0:\n",
    "            print(f'{model_name} Presence Epoch {epoch+1}/{num_epochs_1}, Train Loss: {train_loss:.4f}, Val Loss: {val_loss:.4f}')\n",
    "        \n",
    "        # Early stopping\n",
    "        if val_loss < min_val_loss:\n",
    "            min_val_loss = val_loss\n",
    "            best_model = model.state_dict()\n",
    "            early_stopping_counter = 0\n",
    "        else:\n",
    "            early_stopping_counter += 1\n",
    "            if early_stopping_counter >= patience:\n",
    "                print(\"Early stopping at epoch\", epoch+1)\n",
    "                break\n",
    "\n",
    "\n",
    "    ###################################################\n",
    "    #### training for nonzero values by masked MSE ####\n",
    "    ###################################################\n",
    "\n",
    "    model.load_state_dict(best_model)\n",
    "\n",
    "    # freeze encoder parameters\n",
    "    # last_layer_id = [name.split('.')[0] for name, _ in model.named_parameters()][-1]\n",
    "    # for name, param in model.encoder.named_parameters():\n",
    "    #     if not last_layer_id in name:  # freeze all but last layer\n",
    "    #     # if '0' in name:  # freeze first layer\n",
    "    #         print(f\"freeze {name} of encoder\")\n",
    "    #         param.requires_grad = False\n",
    "\n",
    "    min_val_loss = float('inf')\n",
    "    early_stopping_counter = 0\n",
    "    optimizer2 = optim.Adam(model.parameters(), lr=0.0001)\n",
    "    for epoch in range(num_epochs_2):\n",
    "        model.train()\n",
    "        train_loss = 0.0\n",
    "        train_nonzero_loss = 0.0\n",
    "        train_presence_loss = 0.0\n",
    "        val_loss = 0.0\n",
    "        val_nonzero_loss = 0.0\n",
    "        val_presence_loss = 0.0\n",
    "        # alpha = max(0, 1 - epoch / 20)\n",
    "        alpha = 0.5 * (1 + np.cos(np.pi * epoch/num_epochs_2))\n",
    "        for X_batch, y_batch in train_loader:\n",
    "            optimizer2.zero_grad()\n",
    "            \n",
    "            if model_name.endswith('VAE'):\n",
    "                latent, reconstructed,  mu, logvar = model(X_batch)\n",
    "                loss_kl = masked_kl_loss(mu, logvar, X_batch)\n",
    "            else:\n",
    "                latent, reconstructed = model(X_batch)\n",
    "                loss_kl = 0\n",
    "            with torch.no_grad():\n",
    "                reconstructed = postprocess(reconstructed)\n",
    "            loss_presence = nn.BCEWithLogitsLoss()(reconstructed, (X_batch !=0).float())\n",
    "            loss_non_zero = masked_mse_loss(reconstructed, X_batch) + loss_kl\n",
    "            loss = alpha * loss_presence + (1 - alpha) * loss_non_zero\n",
    "            loss.backward()\n",
    "            optimizer2.step()\n",
    "            train_loss += loss.item()\n",
    "            train_nonzero_loss += loss_non_zero.item()\n",
    "            train_presence_loss += loss_presence.item()\n",
    "\n",
    "        train_loss = train_loss/len(train_loader)\n",
    "        lst_train_loss.append(train_loss)\n",
    "        lst_train_presence_loss.append(train_presence_loss/len(train_loader))\n",
    "        lst_train_nonzero_loss.append(train_nonzero_loss/len(train_loader))\n",
    "\n",
    "        model.eval()\n",
    "        with torch.no_grad():\n",
    "            for X_batch, y_batch in test_loader:\n",
    "                if model_name.endswith('VAE'):\n",
    "                    latent, reconstructed,  mu, logvar = model(X_batch)\n",
    "                    loss_kl = masked_kl_loss(mu, logvar, X_batch)\n",
    "                else:\n",
    "                    latent, reconstructed = model(X_batch)\n",
    "                    loss_kl = 0\n",
    "                reconstructed = postprocess(reconstructed)\n",
    "                loss_presence = nn.BCEWithLogitsLoss()(reconstructed, (X_batch !=0).float())\n",
    "                loss_non_zero = masked_mse_loss(reconstructed, X_batch) + loss_kl\n",
    "                loss = alpha * loss_presence + (1 - alpha) * loss_non_zero\n",
    "                val_loss += loss.item()\n",
    "                val_nonzero_loss += loss_non_zero.item()\n",
    "                val_presence_loss += loss_presence.item()\n",
    "\n",
    "            val_loss = val_loss/len(test_loader)\n",
    "            lst_val_loss.append(val_loss)\n",
    "            lst_val_presence_loss.append(val_presence_loss/len(test_loader))\n",
    "            lst_val_nonzero_loss.append(val_nonzero_loss/len(test_loader))\n",
    "\n",
    "        if epoch % 5 == 0:\n",
    "            print(f'{model_name} NonZero Epoch {epoch+1}/{num_epochs_2}, Train Loss: {train_loss:.4f}, Val Loss: {val_loss:.4f}')\n",
    "        \n",
    "        # Early stopping\n",
    "        if val_loss < min_val_loss:\n",
    "            min_val_loss = val_loss\n",
    "            best_model = model.state_dict()\n",
    "            early_stopping_counter = 0\n",
    "        else:\n",
    "            early_stopping_counter += 1\n",
    "            if early_stopping_counter >= patience:\n",
    "                print(\"Early stopping\")\n",
    "                break\n",
    "    return lst_train_loss, lst_val_loss, lst_train_presence_loss, lst_train_nonzero_loss, lst_val_presence_loss, lst_val_nonzero_loss, best_model"
   ]
  },
  {
   "cell_type": "markdown",
   "metadata": {
    "application/vnd.databricks.v1+cell": {
     "cellMetadata": {
      "byteLimit": 2048000,
      "rowLimit": 10000
     },
     "inputWidgets": {},
     "nuid": "941c8ef6-0e7c-45f6-9bed-cf77bdc664f4",
     "showTitle": false,
     "tableResultSettingsMap": {},
     "title": ""
    }
   },
   "source": [
    "# Start"
   ]
  },
  {
   "cell_type": "code",
   "execution_count": 0,
   "metadata": {
    "application/vnd.databricks.v1+cell": {
     "cellMetadata": {
      "byteLimit": 2048000,
      "rowLimit": 10000
     },
     "inputWidgets": {},
     "nuid": "7a88e597-905c-4d72-ab0b-c0c972fbf385",
     "showTitle": false,
     "tableResultSettingsMap": {},
     "title": ""
    }
   },
   "outputs": [],
   "source": [
    "# parameters to define before each experiment\n",
    "\n",
    "latent_dim = 20 # García-Jiménez et al. 2021 used latent_dim 10 to represent 717 taxa https://academic.oup.com/bioinformatics/article/37/10/1444/5988714\n",
    "\n",
    "num_epochs_1 = 50\n",
    "num_epochs_2 = 200\n",
    "patience = 10\n"
   ]
  },
  {
   "cell_type": "code",
   "execution_count": 0,
   "metadata": {
    "application/vnd.databricks.v1+cell": {
     "cellMetadata": {
      "byteLimit": 2048000,
      "rowLimit": 10000
     },
     "inputWidgets": {},
     "nuid": "7df4a832-44d1-456a-9965-96e3c599c66b",
     "showTitle": false,
     "tableResultSettingsMap": {},
     "title": ""
    }
   },
   "outputs": [],
   "source": [
    "import warnings\n",
    "warnings.filterwarnings(\"ignore\", category=UserWarning)\n",
    "from sklearn.metrics import f1_score\n",
    "import time\n",
    "\n",
    "models = [\n",
    "    AttentionAEend(input_dim, latent_dim),\n",
    "    AttentionAEmid(input_dim, latent_dim),\n",
    "    AttentionAEbegin(input_dim, latent_dim),\n",
    "    DeepShallowerAutoencoder(input_dim, latent_dim),\n",
    "    # DeepShallowAutoencoder(input_dim, latent_dim),\n",
    "    # # ShallowVAE(input_dim, latent_dim),\n",
    "    # # DeepVAE(input_dim, latent_dim),\n",
    "    # ShallowAutoencoder(input_dim, latent_dim),\n",
    "    # DeepAutoencoder(input_dim, latent_dim),\n",
    "\n",
    "\n",
    "]\n",
    "\n",
    "model_names = [\n",
    "    \"AttentionAEend\",\n",
    "    \"AttentionAEmid\",\n",
    "    \"AttentionAEbegin\",\n",
    "    \"DeepShallowerAE\",\n",
    "    # \"DeepShallowAE\",\n",
    "    # # \"ShallowVAE\",\n",
    "    # # \"DeepVAE\",\n",
    "    # \"ShallowAutoencoder\",\n",
    "    # \"DeepAutoencoder\",\n",
    "]\n",
    "\n",
    "# log_dirs = [f\"run/{model_name}\" for model_name in model_names]\n",
    "# dct_writer = dict()\n",
    "\n",
    "\n",
    "dct_history = dict()\n",
    "dct_y_pred = dict()\n",
    "dct_latent_vectors = dict()\n",
    "dct_X_reconstructed = dict()\n",
    "\n",
    "plt.figure(figsize=(18, 15))\n",
    "i = 1\n",
    "plt.subplot(5, 2, i)\n",
    "sns.histplot(X_test.flatten(), bins=100)\n",
    "plt.xlim(-0.35, 1.5)\n",
    "plt.ylim(0, 1.35e6)\n",
    "plt.title('Test Set - Original Distribution')\n",
    "i+=1\n",
    "plt.subplot(5, 2, i )\n",
    "plt.xlim(0, 1.5)\n",
    "plt.ylim(0, 12000)\n",
    "sns.histplot(X_test.flatten()[X_test.flatten()>0], bins=100)\n",
    "plt.title('Test Set - Original Distribution > 0')\n",
    "i+=1\n",
    "\n",
    "\n",
    "for model, model_name in zip(models, model_names):\n",
    "    log_dir = f\"run/{model_name}\"\n",
    "    # dct_writer[model_name] = SummaryWriter(log_dir=log_dir)\n",
    "\n",
    "    t0 = time.time()\n",
    "    print(f\"Training {model_name}\")\n",
    "\n",
    "    model.to(device)\n",
    "    # dct_writer[model_name].add_graph(model, X_train_tensor)\n",
    "    # dct_writer[model_name].close()\n",
    "    \n",
    "\n",
    "    # training\n",
    "    lst_train_loss, lst_val_loss, lst_train_presence_loss, lst_train_nonzero_loss, lst_val_presence_loss, lst_val_nonzero_loss, best_model = train_model(model, model_name, train_loader, test_loader, num_epochs_1=num_epochs_1, num_epochs_2=num_epochs_2, patience=patience)\n",
    "\n",
    "    model.load_state_dict(best_model)\n",
    "    t1 = time.time()\n",
    "    print(f'\\t\\t ------------ model trained, time used = {t1 - t0} seconds ------------')\n",
    "    print('model evaluating')\n",
    "    model.eval()\n",
    "    with torch.no_grad():\n",
    "        model_output = model(X_test_tensor)\n",
    "        X_test_latent, X_test_reconstructed = model_output[0], torch.sigmoid(model_output[1])\n",
    "        X_train_latent = model(X_train_tensor)[0].cpu().detach().numpy()\n",
    "    \n",
    "    t2 = time.time()\n",
    "    print(f'\\t\\t ------------ model applied on test set, time used = {t2 - t1} seconds ------------')\n",
    "\n",
    "    plt.subplot(5, 2, i)\n",
    "    sns.histplot(X_test_reconstructed.cpu().numpy().flatten(), bins=100)\n",
    "    plt.xlim(-0.35, 1.5)\n",
    "    # plt.ylim(0, 1.35e6)\n",
    "    plt.title(f'{model_name} - Reconstructed Distribution')\n",
    "    i+=1\n",
    "    plt.subplot(5, 2, i )\n",
    "    plt.xlim(0, 1.5)\n",
    "    plt.ylim(0, 12000)\n",
    "    sns.histplot(X_test_reconstructed.cpu().numpy().flatten()[X_test_reconstructed.cpu().numpy().flatten()>0], bins=100)\n",
    "    plt.title(f'{model_name} - Reconstructed Distribution > 0')\n",
    "    i+=1\n",
    "    # plt.subplot(5, 3, i )\n",
    "    # sns.histplot(nn.Sigmoid()(results[1]).cpu().numpy().flatten()>0.5, bins=100)\n",
    "    # plt.title(f'{model_name} - Presence Distribution')\n",
    "    # plt.text(0.5, 10000, f'F1 score = {f1_score(X_test.flatten()>0, nn.Sigmoid()(results[1]).cpu().numpy().flatten()>0.5):.2f}', fontsize=14)\n",
    "    # i+=1\n",
    "\n",
    "    \n",
    "    # Log losses\n",
    "    dct_history[model_name] = {\n",
    "            \"train_loss\": np.array(lst_train_loss),\n",
    "            \"val_loss\": np.array(lst_val_loss),\n",
    "            \"train_presence_loss\": np.array(lst_train_presence_loss),\n",
    "            \"train_nonzero_loss\": np.array(lst_train_nonzero_loss),\n",
    "            \"val_presence_loss\": np.array(lst_val_presence_loss),\n",
    "            \"val_nonzero_loss\": np.array(lst_val_nonzero_loss),\n",
    "        }\n",
    "    \n",
    "    # Train XGBoost model on latent features\n",
    "    print(\"prediction using embedding by\", model_name)\n",
    "    \n",
    "    # Train XGBoost model on latent features\n",
    "    xgb_model = XGBRegressor(n_estimators=200, learning_rate=0.05, max_depth=4)\n",
    "    xgb_model.fit(X_train_latent, y_train)  # Use the latent features as input for regression\n",
    "\n",
    "    # Predict on the validation set\n",
    "    dct_y_pred[model_name] =  xgb_model.predict(X_test_latent.cpu().detach().numpy())\n",
    "    \n",
    "    dct_latent_vectors[model_name] = X_test_latent.cpu().detach().numpy()\n",
    "    dct_X_reconstructed[model_name] = X_test_reconstructed.cpu().detach().numpy()\n",
    "\n",
    "    \n",
    "    t3 = time.time()\n",
    "    print(f'\\t\\t ------------ XGB trained and tested, time used = {t3 - t2} seconds ------------')\n",
    "\n",
    "plt.tight_layout();"
   ]
  },
  {
   "cell_type": "code",
   "execution_count": 0,
   "metadata": {
    "application/vnd.databricks.v1+cell": {
     "cellMetadata": {
      "byteLimit": 2048000,
      "rowLimit": 10000
     },
     "inputWidgets": {},
     "nuid": "2619a476-082c-4b1d-bbee-487892dcd758",
     "showTitle": false,
     "tableResultSettingsMap": {},
     "title": ""
    }
   },
   "outputs": [],
   "source": [
    "# for log_dir in log_dirs:\n",
    "#     %tensorboard --logdir $log_dir"
   ]
  },
  {
   "cell_type": "code",
   "execution_count": 0,
   "metadata": {
    "application/vnd.databricks.v1+cell": {
     "cellMetadata": {
      "byteLimit": 2048000,
      "rowLimit": 10000
     },
     "inputWidgets": {},
     "nuid": "ab40a888-d53d-42e5-89da-c45cc0509873",
     "showTitle": false,
     "tableResultSettingsMap": {},
     "title": ""
    }
   },
   "outputs": [],
   "source": [
    "import gc\n",
    "gc.collect()"
   ]
  },
  {
   "cell_type": "code",
   "execution_count": 0,
   "metadata": {
    "application/vnd.databricks.v1+cell": {
     "cellMetadata": {
      "byteLimit": 2048000,
      "rowLimit": 10000
     },
     "inputWidgets": {},
     "nuid": "a8c9be7b-b759-4b19-83a6-a397c3e7c00c",
     "showTitle": false,
     "tableResultSettingsMap": {},
     "title": ""
    }
   },
   "outputs": [],
   "source": [
    "from sklearn.decomposition import PCA\n",
    "from sklearn.manifold import TSNE\n",
    "# import umap\n",
    "\n",
    "def plot_latent_space(latent, method='tsne', colorby = None, cbar_label=None):\n",
    "    if method == 'tsne':\n",
    "        reducer = TSNE(n_components=2, random_state=42)\n",
    "    elif method == 'pca':\n",
    "        reducer = PCA(n_components=2)\n",
    "    elif method == 'umap':\n",
    "        reducer = umap.UMAP(n_components=2, random_state=42)\n",
    "    else:\n",
    "        raise ValueError(\"Invalid method\")\n",
    "\n",
    "    reduced = reducer.fit_transform(latent)\n",
    "    \n",
    "    scatter = plt.scatter(reduced[:, 0], reduced[:, 1], \n",
    "                          c=colorby, cmap='viridis',\n",
    "                          s=10, alpha=0.6, edgecolors='w', linewidths=0.5)\n",
    "    plt.colorbar(scatter, label=cbar_label)\n",
    "    plt.xlabel('Dimension 1')\n",
    "    plt.ylabel('Dimension 2')"
   ]
  },
  {
   "cell_type": "code",
   "execution_count": 0,
   "metadata": {
    "application/vnd.databricks.v1+cell": {
     "cellMetadata": {
      "byteLimit": 2048000,
      "rowLimit": 10000
     },
     "inputWidgets": {},
     "nuid": "8312d9b1-dbf9-4cfd-a5da-487ec3a1b5f7",
     "showTitle": false,
     "tableResultSettingsMap": {},
     "title": ""
    }
   },
   "outputs": [],
   "source": [
    "plt.figure(figsize=(15, 15))\n",
    "for i, (model_name, history) in enumerate(dct_history.items()):\n",
    "    plt.subplot(4, 3,  3*i + 1)\n",
    "    plt.plot(history['train_loss'], '-', label=f'Train', color='blue', alpha=0.5)\n",
    "    plt.plot(history['val_loss'], '--', label=f'Validation', color='red', alpha=0.5)\n",
    "    plt.title(f'{model_name} - Loss')\n",
    "    plt.legend()\n",
    "    plt.xlabel('Epochs')\n",
    "    plt.ylabel('Loss')\n",
    "\n",
    "    plt.subplot(4, 3,  3*i + 2)\n",
    "    plt.plot(history['train_presence_loss'], '-', label=f'Train', color='blue', alpha=0.5)\n",
    "    plt.plot(history['val_presence_loss'], '--', label=f'Validation', color='red', alpha=0.5)\n",
    "    plt.title(f'{model_name} - Presence Loss')\n",
    "    plt.legend()\n",
    "    plt.xlabel('Epochs')\n",
    "    plt.ylabel('Loss')\n",
    "\n",
    "    plt.subplot(4, 3,  3*i + 3)\n",
    "    plt.plot(history['train_nonzero_loss'], '-', label=f'Train', color='blue', alpha=0.5)\n",
    "    plt.plot(history['val_nonzero_loss'], '--', label=f'Validation', color='red', alpha=0.5)\n",
    "    plt.title(f'{model_name} - Non-zero Loss')\n",
    "    plt.legend()\n",
    "    plt.xlabel('Epochs')\n",
    "    plt.ylabel('Loss')\n",
    "\n",
    "\n",
    "\n",
    "plt.tight_layout()"
   ]
  },
  {
   "cell_type": "code",
   "execution_count": 0,
   "metadata": {
    "application/vnd.databricks.v1+cell": {
     "cellMetadata": {
      "byteLimit": 2048000,
      "rowLimit": 10000
     },
     "inputWidgets": {},
     "nuid": "0f404e3c-f835-4bb5-8d5d-68d3be5a5db1",
     "showTitle": false,
     "tableResultSettingsMap": {},
     "title": ""
    }
   },
   "outputs": [],
   "source": [
    "plt.figure(figsize=(5, 12))\n",
    "\n",
    "\n",
    "for i, (model_name, y_pred) in enumerate(dct_y_pred.items()):\n",
    "    \n",
    "    y_pred = y_pred.squeeze()\n",
    "\n",
    "    plt.subplot(4, 1, i + 1)\n",
    "\n",
    "    plt.scatter(y_test, y_pred, alpha=0.5, s=6)\n",
    "    plt.plot([y_test.min(), y_test.max()], [y_test.min(), y_test.max()], 'r--', lw=2)\n",
    "\n",
    "    plt.xlabel('True Values')\n",
    "    plt.ylabel('Predicted Values')\n",
    "    plt.title(model_name)\n",
    "\n",
    "\n",
    "    r2 = r2_score(y_test, y_pred)\n",
    "    mse = mean_squared_error(y_test, y_pred)\n",
    "    plt.text(0.05, 0.95, f'R^2: {r2:.2f}\\nMSE: {mse:.2f}', transform=plt.gca().transAxes, fontsize=10, verticalalignment='top')\n",
    "\n",
    "    plt.tight_layout()"
   ]
  },
  {
   "cell_type": "code",
   "execution_count": 0,
   "metadata": {
    "application/vnd.databricks.v1+cell": {
     "cellMetadata": {
      "byteLimit": 2048000,
      "rowLimit": 10000
     },
     "inputWidgets": {},
     "nuid": "94c3292e-7aa0-4d56-bf88-841684d5f392",
     "showTitle": false,
     "tableResultSettingsMap": {},
     "title": ""
    }
   },
   "outputs": [],
   "source": [
    "non_zero_counts = (X_test != 0).sum(axis=1)\n",
    "\n",
    "plt.figure(figsize=(15, 15))\n",
    "i = 1\n",
    "for model_name, latent_vectors in dct_latent_vectors.items():\n",
    "    plt.subplot(len(dct_latent_vectors), 2, i)\n",
    "    plot_latent_space(latent_vectors, method='pca', colorby=non_zero_counts, cbar_label='Number of non-zero Features')\n",
    "    plt.title(f'{model_name} - PCA')\n",
    "    i += 1\n",
    "    plt.subplot(len(dct_latent_vectors), 2, i)\n",
    "    plot_latent_space(latent_vectors, method='tsne', colorby=non_zero_counts, cbar_label='Number of non-zero Features')\n",
    "    plt.title(f'{model_name} - TSNE')\n",
    "    i+=1\n",
    "plt.tight_layout()"
   ]
  },
  {
   "cell_type": "code",
   "execution_count": 0,
   "metadata": {
    "application/vnd.databricks.v1+cell": {
     "cellMetadata": {
      "byteLimit": 2048000,
      "rowLimit": 10000
     },
     "inputWidgets": {},
     "nuid": "6286072b-cafe-487f-ae2d-04389a2303f0",
     "showTitle": false,
     "tableResultSettingsMap": {},
     "title": ""
    }
   },
   "outputs": [],
   "source": [
    "plt.figure(figsize=(15, 15))\n",
    "i = 1\n",
    "for model_name, latent_vectors in dct_latent_vectors.items():\n",
    "    plt.subplot(len(dct_latent_vectors), 2, i)\n",
    "    plot_latent_space(latent_vectors, method='pca', colorby=y_test, cbar_label='Age')\n",
    "    plt.title(f'{model_name} - PCA')\n",
    "    i += 1\n",
    "    plt.subplot(len(dct_latent_vectors), 2, i)\n",
    "    plot_latent_space(latent_vectors, method='tsne', colorby=y_test, cbar_label='Age')\n",
    "    plt.title(f'{model_name} - TSNE')\n",
    "    i+=1\n",
    "plt.tight_layout()"
   ]
  },
  {
   "cell_type": "code",
   "execution_count": 0,
   "metadata": {
    "application/vnd.databricks.v1+cell": {
     "cellMetadata": {
      "byteLimit": 2048000,
      "rowLimit": 10000
     },
     "inputWidgets": {},
     "nuid": "5fafa573-a4cc-4a5d-896b-c83473c096ed",
     "showTitle": false,
     "tableResultSettingsMap": {},
     "title": ""
    }
   },
   "outputs": [],
   "source": [
    "# !tensorboard --logdir log_dir"
   ]
  },
  {
   "cell_type": "code",
   "execution_count": 0,
   "metadata": {
    "application/vnd.databricks.v1+cell": {
     "cellMetadata": {
      "byteLimit": 2048000,
      "rowLimit": 10000
     },
     "inputWidgets": {},
     "nuid": "9e97441d-fbd8-4d3d-9433-c23909b66761",
     "showTitle": false,
     "tableResultSettingsMap": {},
     "title": ""
    }
   },
   "outputs": [],
   "source": [
    "# !tensorboard --logdir $log_dir"
   ]
  },
  {
   "cell_type": "code",
   "execution_count": 0,
   "metadata": {
    "application/vnd.databricks.v1+cell": {
     "cellMetadata": {
      "byteLimit": 2048000,
      "rowLimit": 10000
     },
     "inputWidgets": {},
     "nuid": "abfe91a1-26b6-44a0-a8ef-3730dc6d8576",
     "showTitle": false,
     "tableResultSettingsMap": {},
     "title": ""
    }
   },
   "outputs": [],
   "source": [
    "# !load_ext tensorboard\n",
    "# !tensorboard --logdir $log_dir -- port 6006"
   ]
  }
 ],
 "metadata": {
  "application/vnd.databricks.v1+notebook": {
   "computePreferences": null,
   "dashboards": [],
   "environmentMetadata": {
    "base_environment": "",
    "environment_version": "1"
   },
   "inputWidgetPreferences": null,
   "language": "python",
   "notebookMetadata": {
    "pythonIndentUnit": 4
   },
   "notebookName": "(stable version) Attention Deep Shallow AE + xgb regressor for Age Prediction",
   "widgets": {}
  },
  "language_info": {
   "name": "python"
  }
 },
 "nbformat": 4,
 "nbformat_minor": 0
}
