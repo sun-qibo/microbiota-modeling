{
 "cells": [
  {
   "cell_type": "markdown",
   "metadata": {
    "application/vnd.databricks.v1+cell": {
     "cellMetadata": {
      "byteLimit": 2048000,
      "rowLimit": 10000
     },
     "inputWidgets": {},
     "nuid": "ae3c0791-eec3-4363-a464-a9f052d2be00",
     "showTitle": false,
     "tableResultSettingsMap": {},
     "title": ""
    }
   },
   "source": [
    "# data loading"
   ]
  },
  {
   "cell_type": "code",
   "execution_count": 0,
   "metadata": {
    "application/vnd.databricks.v1+cell": {
     "cellMetadata": {
      "byteLimit": 2048000,
      "rowLimit": 10000
     },
     "inputWidgets": {},
     "nuid": "d43c4971-5970-4e8d-9d60-da2d01873d3f",
     "showTitle": false,
     "tableResultSettingsMap": {},
     "title": ""
    }
   },
   "outputs": [],
   "source": [
    "import numpy as np\n",
    "import pandas as pd\n",
    "import torch\n",
    "import torch.nn as nn\n",
    "import torch.optim as optim\n",
    "from torch.utils.data import DataLoader, TensorDataset\n",
    "from sklearn.model_selection import KFold\n",
    "from sklearn.preprocessing import MinMaxScaler\n",
    "from sklearn.metrics import mean_squared_error, r2_score\n",
    "from sklearn.model_selection import train_test_split\n",
    "\n",
    "\n",
    "from xgboost import XGBRegressor\n",
    "from sklearn.ensemble import RandomForestRegressor\n",
    "\n",
    "from tqdm import tqdm\n",
    "import matplotlib.pyplot as plt\n",
    "import seaborn as sns\n",
    "\n",
    "# Check for GPU\n",
    "device = torch.device(\"cuda\" if torch.cuda.is_available() else \"cpu\")\n",
    "device\n"
   ]
  },
  {
   "cell_type": "code",
   "execution_count": 0,
   "metadata": {
    "application/vnd.databricks.v1+cell": {
     "cellMetadata": {
      "byteLimit": 2048000,
      "rowLimit": 10000
     },
     "inputWidgets": {},
     "nuid": "ef114a50-fe08-4548-9306-3b2bcc8d6be8",
     "showTitle": false,
     "tableResultSettingsMap": {},
     "title": ""
    }
   },
   "outputs": [],
   "source": [
    "df_age = pd.read_csv(\"../data/age.csv\", header=None, index_col=0, sep='\\t')\n",
    "y = df_age.to_numpy().reshape(-1, 1).flatten()\n",
    "\n",
    "y.shape"
   ]
  },
  {
   "cell_type": "code",
   "execution_count": 0,
   "metadata": {
    "application/vnd.databricks.v1+cell": {
     "cellMetadata": {
      "byteLimit": 2048000,
      "rowLimit": 10000
     },
     "inputWidgets": {},
     "nuid": "c6b965fa-fb32-47eb-8649-5dad2d8fe3e5",
     "showTitle": false,
     "tableResultSettingsMap": {},
     "title": ""
    }
   },
   "outputs": [],
   "source": [
    "# stratify by age group\n",
    "y_class = y//10\n",
    "y_class[y_class==9] = 8 "
   ]
  },
  {
   "cell_type": "code",
   "execution_count": 0,
   "metadata": {
    "application/vnd.databricks.v1+cell": {
     "cellMetadata": {
      "byteLimit": 2048000,
      "rowLimit": 10000
     },
     "inputWidgets": {},
     "nuid": "58eb5ba9-efbf-460e-b6f6-abf2d5c80b44",
     "showTitle": false,
     "tableResultSettingsMap": {},
     "title": ""
    }
   },
   "outputs": [],
   "source": [
    "sns.histplot(y_class)"
   ]
  },
  {
   "cell_type": "code",
   "execution_count": 0,
   "metadata": {
    "application/vnd.databricks.v1+cell": {
     "cellMetadata": {
      "byteLimit": 2048000,
      "rowLimit": 10000
     },
     "inputWidgets": {},
     "nuid": "a824e0f6-478c-495e-a4ee-1d7d01292843",
     "showTitle": false,
     "tableResultSettingsMap": {},
     "title": ""
    }
   },
   "outputs": [],
   "source": [
    "\n",
    "train_idx, test_idx = train_test_split(range(len(y)), test_size=0.2, stratify=y_class, random_state=42)  # split the data once so that index keeps the same for different types of X\n",
    "test_idx[:10]"
   ]
  },
  {
   "cell_type": "markdown",
   "metadata": {
    "application/vnd.databricks.v1+cell": {
     "cellMetadata": {
      "byteLimit": 2048000,
      "rowLimit": 10000
     },
     "inputWidgets": {},
     "nuid": "6b6222e0-72af-4214-add6-a930912d1799",
     "showTitle": false,
     "tableResultSettingsMap": {},
     "title": ""
    }
   },
   "source": [
    "[4436, 2292, 4448, 4903, 2378, 842, 2625, 3097, 4898, 1911]"
   ]
  },
  {
   "cell_type": "markdown",
   "metadata": {
    "application/vnd.databricks.v1+cell": {
     "cellMetadata": {
      "byteLimit": 2048000,
      "rowLimit": 10000
     },
     "inputWidgets": {},
     "nuid": "78e15adc-8df1-4492-834a-7a6fc73000f5",
     "showTitle": false,
     "tableResultSettingsMap": {},
     "title": ""
    }
   },
   "source": [
    "# model and training functions"
   ]
  },
  {
   "cell_type": "code",
   "execution_count": 0,
   "metadata": {
    "application/vnd.databricks.v1+cell": {
     "cellMetadata": {
      "byteLimit": 2048000,
      "rowLimit": 10000
     },
     "inputWidgets": {},
     "nuid": "45e4611b-0eae-4be2-b0d6-0715a44feffc",
     "showTitle": false,
     "tableResultSettingsMap": {},
     "title": ""
    }
   },
   "outputs": [],
   "source": [
    "# data type specific parameters\n",
    "def get_params(X_type):\n",
    "    if X_type == 'abundance':\n",
    "        scale_data = True\n",
    "        ae_loss_function = nn.MSELoss(reduction='sum')   # calculate loss for non-zero values rather than averaging over all values, which could otherwise be dominated by the many zeros in the data.\n",
    "\n",
    "    elif X_type == 'log':\n",
    "        scale_data = True\n",
    "        ae_loss_function = nn.MSELoss(reduction='none')  # todo sum\n",
    "\n",
    "    elif X_type == 'presence':\n",
    "        scale_data = False  # no need to scale as the data is already between 0 and 1\n",
    "        ae_loss_function = nn.BCELoss(reduction='sum')  # use binary loss                    # todo try focal ?\n",
    "\n",
    "    else:\n",
    "        raise ValueError(\"Invalid character for data type\")\n",
    "\n",
    "\n",
    "    return scale_data, ae_loss_function\n"
   ]
  },
  {
   "cell_type": "code",
   "execution_count": 0,
   "metadata": {
    "application/vnd.databricks.v1+cell": {
     "cellMetadata": {
      "byteLimit": 2048000,
      "rowLimit": 10000
     },
     "inputWidgets": {},
     "nuid": "7fdf801b-1a98-404e-aa45-f5b882b30218",
     "showTitle": false,
     "tableResultSettingsMap": {},
     "title": ""
    }
   },
   "outputs": [],
   "source": []
  },
  {
   "cell_type": "code",
   "execution_count": 0,
   "metadata": {
    "application/vnd.databricks.v1+cell": {
     "cellMetadata": {
      "byteLimit": 2048000,
      "rowLimit": 10000
     },
     "inputWidgets": {},
     "nuid": "afb50142-8608-46dd-a24d-9c0b753b33d7",
     "showTitle": false,
     "tableResultSettingsMap": {},
     "title": ""
    }
   },
   "outputs": [],
   "source": [
    "def get_data(x_type, y, scale_data):\n",
    "    if x_type == 'log':\n",
    "        X = pd.read_csv(\"../data/processed_log_abundance.csv\", header=0, index_col=0, sep='\\t').loc[df_age.index, :].to_numpy()\n",
    "    elif x_type == 'abundance':\n",
    "        X = pd.read_csv(\"../data/processed_abundance.csv\", sep='\\t', header=0, index_col=0).loc[df_age.index, :].to_numpy()\n",
    "    elif x_type == 'presence':\n",
    "        X = pd.read_csv(\"../data/processed_abundance.csv\", sep='\\t', header=0, index_col=0).loc[df_age.index, :].to_numpy()\n",
    "        X = (X > 0).astype(int)\n",
    "    else:\n",
    "        raise ValueError(\"Invalid character for data type\")\n",
    "        \n",
    "    X_train, X_test, y_train, y_test = X[train_idx], X[test_idx], y[train_idx], y[test_idx]\n",
    "    if scale_data:\n",
    "        # scale data so that they are between 0 and 1\n",
    "        # scaler = MinMaxScaler()\n",
    "        # X_train = scaler.fit_transform(X_train)\n",
    "        # X_test = scaler.transform(X_test)\n",
    "        if x_type == 'log':\n",
    "            # X_train = (X_train + 6)/8\n",
    "            # X_test = (X_test + 6)/8\n",
    "            pass\n",
    "        elif x_type == 'abundance':\n",
    "            scaler = MinMaxScaler()\n",
    "            X_train = scaler.fit_transform(X_train)\n",
    "            X_test = scaler.transform(X_test)  # todo check if this is the right scaling\n",
    "    return X_train, X_test, y_train, y_test\n",
    "\n",
    "\n",
    "def get_dataloader(X_train_tensor, X_test_tensor, y_train_tensor, y_test_tensor, batch_size=64):\n",
    "    # Create TensorDatasets\n",
    "    train_dataset = TensorDataset(X_train_tensor, y_train_tensor)\n",
    "    test_dataset = TensorDataset(X_test_tensor, y_test_tensor)\n",
    "\n",
    "    # Create DataLoaders\n",
    "    train_loader = DataLoader(train_dataset, batch_size=batch_size, shuffle=True)\n",
    "    test_loader = DataLoader(test_dataset, batch_size=batch_size, shuffle=False)\n",
    "    return train_loader, test_loader\n"
   ]
  },
  {
   "cell_type": "code",
   "execution_count": 0,
   "metadata": {
    "application/vnd.databricks.v1+cell": {
     "cellMetadata": {
      "byteLimit": 2048000,
      "rowLimit": 10000
     },
     "inputWidgets": {},
     "nuid": "e555f58b-6829-4253-b6fd-944db0bbe2ca",
     "showTitle": false,
     "tableResultSettingsMap": {},
     "title": ""
    }
   },
   "outputs": [],
   "source": [
    "# Define models\n",
    "\n",
    "# todo  add noise (e.g., zero out random values) to the input during training and train the network to reconstruct the original data. This encourages the model to learn robust features despite the sparse noise.\n",
    "\n",
    "\n",
    "# # todo track reconstruction error (e.g., MSE, BCE) only on the non-zero entries\n",
    "# reconstruction_loss = nn.BCELoss(reduction='none')(decoded, inputs)\n",
    "# non_zero_mask = inputs > 0  # Mask to focus only on non-zero entries\n",
    "# loss = reconstruction_loss * non_zero_mask\n",
    "\n",
    "class ShallowAutoencoder(nn.Module):\n",
    "    def __init__(self, input_dim, latent_dim):\n",
    "        super(ShallowAutoencoder, self).__init__()\n",
    "        self.encoder = nn.Sequential(\n",
    "            nn.Linear(input_dim, latent_dim),\n",
    "            nn.LeakyReLU()\n",
    "        )\n",
    "        self.decoder1 = nn.Sequential(\n",
    "            nn.Linear(latent_dim, input_dim),\n",
    "        )\n",
    "        self.decoder2 = nn.Sequential(\n",
    "            nn.Linear(input_dim, latent_dim),\n",
    "            nn.Sigmoid()  # presence\n",
    "        )\n",
    "        self.regression_head = nn.Sequential(\n",
    "            nn.Linear(latent_dim, 1),\n",
    "            nn.ReLU()\n",
    "        )\n",
    "            \n",
    "    def forward(self, x):\n",
    "        encoded = self.encoder(x)\n",
    "        decoded1 = self.decoder1(encoded)\n",
    "        decoded2 = self.decoder2(encoded)\n",
    "        regression_output = self.regression_head(encoded)\n",
    "        return encoded, decoded1, decoded2, regression_output\n",
    "\n",
    "class DeepAutoencoder(nn.Module):\n",
    "    def __init__(self, input_dim, latent_dim):\n",
    "        super(DeepAutoencoder, self).__init__()\n",
    "        self.encoder = nn.Sequential(\n",
    "            nn.Linear(input_dim, input_dim//2),\n",
    "            nn.LeakyReLU(),\n",
    "            nn.Linear(input_dim//2, input_dim//4),\n",
    "            nn.LeakyReLU(),\n",
    "            nn.Linear(input_dim//4, latent_dim),\n",
    "            nn.LeakyReLU()\n",
    "        )\n",
    "        self.decoder1 = nn.Sequential(\n",
    "            nn.Linear(latent_dim, input_dim//4),\n",
    "            nn.LeakyReLU(),\n",
    "            nn.Linear(input_dim//4, input_dim//2),\n",
    "            nn.LeakyReLU(),\n",
    "            nn.Linear(input_dim//2, input_dim),\n",
    "        )\n",
    "        self.decoder2 = nn.Sequential(\n",
    "            nn.Linear(latent_dim, input_dim//4),\n",
    "            nn.LeakyReLU(),\n",
    "            nn.Linear(input_dim//4, input_dim//2),\n",
    "            nn.LeakyReLU(),\n",
    "            nn.Linear(input_dim//2, input_dim),\n",
    "            nn.Sigmoid()\n",
    "        )\n",
    "        self.regression_head = nn.Sequential(\n",
    "            nn.Linear(latent_dim, 1),\n",
    "            nn.ReLU()\n",
    "        )\n",
    "\n",
    "    def forward(self, x):\n",
    "        encoded = self.encoder(x)\n",
    "        decoded1 = self.decoder1(encoded)\n",
    "        decoded2 = self.decoder2(encoded)\n",
    "        regression_output = self.regression_head(encoded)\n",
    "        return encoded, decoded1, decoded2, regression_output\n",
    "    \n",
    "\n",
    "class ShallowVAE(nn.Module):\n",
    "    def __init__(self, input_dim, latent_dim):\n",
    "        super(ShallowVAE, self).__init__()\n",
    "        self.encoder = nn.Sequential(\n",
    "            nn.Linear(input_dim, input_dim//2),\n",
    "            nn.LeakyReLU(),\n",
    "        )\n",
    "        self.mu = nn.Linear( input_dim//2, latent_dim)\n",
    "        self.logvar = nn.Linear( input_dim//2, latent_dim)\n",
    "        self.decoder1 = nn.Sequential(\n",
    "            nn.Linear(latent_dim, input_dim//2),\n",
    "            nn.LeakyReLU(),\n",
    "            nn.Linear(input_dim//2, input_dim),\n",
    "        )\n",
    "        self.decoder2 = nn.Sequential(\n",
    "            nn.Linear(latent_dim, input_dim//2),\n",
    "            nn.LeakyReLU(),\n",
    "            nn.Linear(input_dim//2, input_dim),\n",
    "        )\n",
    "        self.regression_head = nn.Sequential(\n",
    "            nn.Linear(latent_dim, 1),\n",
    "            nn.ReLU()\n",
    "        )\n",
    "\n",
    "    def reparameterize(self, mu, logvar):\n",
    "        std = torch.exp(0.5 * logvar)\n",
    "        eps = torch.randn_like(std)\n",
    "        return mu + eps * std\n",
    "\n",
    "    def forward(self, x):\n",
    "        h = self.encoder(x)\n",
    "        mu, logvar = self.mu(h), self.logvar(h)\n",
    "        encoded = self.reparameterize(mu, logvar)\n",
    "        decoded1 = self.decoder1(encoded)\n",
    "        decoded2 = self.decoder2(encoded)\n",
    "        regression_output = self.regression_head(encoded)\n",
    "        return encoded, decoded1, decoded2, regression_output, mu, logvar\n",
    "\n",
    "\n",
    "\n",
    "\n",
    "class DeepVAE(nn.Module):\n",
    "    def __init__(self, input_dim, latent_dim):\n",
    "        super(DeepVAE, self).__init__()\n",
    "        self.encoder = nn.Sequential(\n",
    "            nn.Linear(input_dim, input_dim//2),\n",
    "            nn.LeakyReLU(),\n",
    "            nn.Linear(input_dim//2, input_dim//4),\n",
    "            nn.LeakyReLU(),\n",
    "\n",
    "        )\n",
    "        self.mu = nn.Linear( input_dim//4, latent_dim)\n",
    "        self.logvar = nn.Linear( input_dim//4, latent_dim)\n",
    "        self.decoder1 = nn.Sequential(\n",
    "            nn.Linear(latent_dim, input_dim//4),\n",
    "            nn.LeakyReLU(),\n",
    "            nn.Linear(input_dim//4, input_dim//2),\n",
    "            nn.LeakyReLU(),\n",
    "            nn.Linear(input_dim//2, input_dim),\n",
    "        )\n",
    "        self.decoder2 = nn.Sequential(\n",
    "            nn.Linear(latent_dim, input_dim//4),\n",
    "            nn.LeakyReLU(),\n",
    "            nn.Linear(input_dim//4, input_dim//2),\n",
    "            nn.LeakyReLU(),\n",
    "            nn.Linear(input_dim//2, input_dim),\n",
    "            nn.Sigmoid()\n",
    "        )\n",
    "\n",
    "        self.regression_head = nn.Sequential(\n",
    "            nn.Linear(latent_dim, 1),\n",
    "            nn.ReLU()\n",
    "        )\n",
    "\n",
    "    def reparameterize(self, mu, logvar):\n",
    "        std = torch.exp(0.5 * logvar)\n",
    "        eps = torch.randn_like(std)\n",
    "        return mu + eps * std\n",
    "\n",
    "    def forward(self, x):\n",
    "        h = self.encoder(x)\n",
    "        mu, logvar = self.mu(h), self.logvar(h)\n",
    "        encoded = self.reparameterize(mu, logvar)\n",
    "        decoded1 = self.decoder1(encoded)\n",
    "        decoded2 = self.decoder2(encoded)\n",
    "        regression_output = self.regression_head(encoded)\n",
    "        return encoded, decoded1, decoded2, regression_output, mu, logvar\n",
    "\n",
    "\n"
   ]
  },
  {
   "cell_type": "code",
   "execution_count": 0,
   "metadata": {
    "application/vnd.databricks.v1+cell": {
     "cellMetadata": {
      "byteLimit": 2048000,
      "rowLimit": 10000
     },
     "inputWidgets": {},
     "nuid": "f1e7c404-4ec8-44c0-ab25-7b2a8abe60bd",
     "showTitle": false,
     "tableResultSettingsMap": {},
     "title": ""
    }
   },
   "outputs": [],
   "source": [
    "from torch.nn.functional import binary_cross_entropy, mse_loss\n",
    "def get_losses(y_true, X_true, regression_output, latent, presence, reconstructed, ae_loss_function, reg_loss_function):\n",
    "    loss_l1 = torch.mean(torch.abs(latent)) # regularization term\n",
    "    mask_non_zero = X_true != 0\n",
    "    X_true_masked = X_true[mask_non_zero]\n",
    "    reconstructed_masked = reconstructed[mask_non_zero]\n",
    "    loss_non_zero = mse_loss(reconstructed_masked, X_true_masked)\n",
    "    loss_presence = binary_cross_entropy(presence, X_true)\n",
    "    return loss_l1, loss_non_zero, loss_presence\n",
    "\n",
    "\n",
    "    "
   ]
  },
  {
   "cell_type": "code",
   "execution_count": 0,
   "metadata": {
    "application/vnd.databricks.v1+cell": {
     "cellMetadata": {
      "byteLimit": 2048000,
      "rowLimit": 10000
     },
     "inputWidgets": {},
     "nuid": "fde7dcd4-e003-4855-9fe2-6f78142a2a6d",
     "showTitle": false,
     "tableResultSettingsMap": {},
     "title": ""
    }
   },
   "outputs": [],
   "source": []
  },
  {
   "cell_type": "code",
   "execution_count": 0,
   "metadata": {
    "application/vnd.databricks.v1+cell": {
     "cellMetadata": {
      "byteLimit": 2048000,
      "rowLimit": 10000
     },
     "inputWidgets": {},
     "nuid": "469773c4-f442-4479-a36d-22fa808136ed",
     "showTitle": false,
     "tableResultSettingsMap": {},
     "title": ""
    }
   },
   "outputs": [],
   "source": [
    "# Training function\n",
    "\n",
    "def train_model(model, model_name, train_loader, test_loader, ae_loss_function, optimizer, reg_loss_function, lambda_ae, lambda_reg, alpha_l1 = 0, num_epochs=50, patience=10):\n",
    "    min_val_loss = float('inf')\n",
    "    best_model = None  # for early stopping\n",
    "    early_stopping_counter = 0\n",
    "    lst_train_loss_non_zero = []\n",
    "    lst_train_loss_presence = []\n",
    "    lst_train_loss_reg = []\n",
    "    lst_train_r2 = []\n",
    "    \n",
    "    lst_val_loss_non_zero = []\n",
    "    lst_val_loss_presence = []\n",
    "    lst_val_loss_reg = []\n",
    "    lst_val_r2 = []\n",
    "\n",
    "    for epoch in range(num_epochs):\n",
    "        model.train()\n",
    "        train_loss_non_zero = 0.0\n",
    "        train_loss_presence = 0.0\n",
    "        train_loss_reg = 0.0\n",
    "        combined_loss = 0.0\n",
    "        train_r2 = 0.0\n",
    "        for X_batch, y_batch in train_loader:\n",
    "            optimizer.zero_grad()\n",
    "            if model_name.endswith('VAE'):\n",
    "                latent, reconstructed, presence, regression_output, mu, logvar = model(X_batch)\n",
    "                loss_kl = -0.5 * torch.sum(1 + logvar - mu.pow(2) - logvar.exp())\n",
    "            else:\n",
    "                latent, reconstructed,presence, regression_output = model(X_batch)\n",
    "                loss_kl = 0.0\n",
    "           \n",
    "            loss_l1, loss_non_zero, loss_presence = get_losses(y_batch, X_batch, regression_output, latent, presence, reconstructed, ae_loss_function, reg_loss_function)\n",
    "            print(\"!!!!!!!!!!!!!check loss !!!!!!!!!!!!!!!!!!\")\n",
    "            print('loss_kl', loss_kl)\n",
    "            print('loss_presence',loss_presence)\n",
    "            print('loss_non_zero',loss_non_zero)\n",
    "            print('loss_l1',loss_l1)\n",
    "            # loss_ae = 0.5 * loss_non_zero + 0.5 * loss_presence + loss_kl + alpha_l1 * loss_l1 # Reconstruction loss\n",
    "            loss_ae = 0.5 * loss_non_zero + 0.5 * loss_presence + loss_kl\n",
    "            loss_reg = reg_loss_function(regression_output, y_batch)\n",
    "            combined_loss = lambda_ae * loss_ae  + lambda_reg * loss_reg\n",
    "            combined_loss.backward()\n",
    "            optimizer.step()\n",
    "            \n",
    "            train_loss_non_zero += loss_non_zero.item()\n",
    "            train_loss_presence += loss_presence.item()\n",
    "            train_loss_reg += loss_reg.item()\n",
    "            combined_loss += combined_loss.item()\n",
    "            train_r2 += r2_score(y_batch.cpu().detach().numpy(), regression_output.cpu().detach().numpy())\n",
    "        train_loss = combined_loss/len(train_loader)\n",
    "\n",
    "\n",
    "        lst_train_loss_non_zero.append(train_loss_non_zero/len(train_loader))\n",
    "        lst_train_loss_presence.append(train_loss_presence/len(train_loader))\n",
    "        lst_train_loss_reg.append(train_loss_reg/len(train_loader))\n",
    "        lst_train_r2.append(train_r2/len(train_loader))\n",
    "\n",
    "\n",
    "        # Validation loss\n",
    "        model.eval()\n",
    "        val_loss_non_zero = 0.0\n",
    "        val_loss_presence = 0.0\n",
    "        val_loss_reg = 0.0\n",
    "        val_r2 = 0.0\n",
    "        with torch.no_grad():\n",
    "            for X_batch, y_batch in test_loader:\n",
    "                if model_name.endswith('VAE'):\n",
    "                    latent, reconstructed,presence, regression_output, mu, logvar = model(X_batch)\n",
    "                    loss_kl = -0.5 * torch.sum(1 + logvar - mu.pow(2) - logvar.exp()) \n",
    "                else:                \n",
    "                    latent, reconstructed, presence, regression_output = model(X_batch)\n",
    "                    loss_kl = 0.0\n",
    "\n",
    "           \n",
    "                loss_l1, loss_non_zero, loss_presence = get_losses(y_batch, X_batch, regression_output, latent, presence, reconstructed, ae_loss_function, reg_loss_function)\n",
    "                loss_ae = 0.5 * loss_non_zero + 0.5 * loss_presence + loss_kl + alpha_l1 * loss_l1 # Reconstruction loss\n",
    "                loss_reg = reg_loss_function(regression_output, y_batch)\n",
    "                combined_loss = lambda_ae * loss_ae  + lambda_reg * loss_reg\n",
    "\n",
    "                val_loss_non_zero += loss_non_zero.item()\n",
    "                val_loss_presence += loss_presence.item()\n",
    "                val_loss_reg += loss_reg.item()\n",
    "                combined_loss += combined_loss.item()\n",
    "                val_r2 += r2_score(y_batch.cpu().detach().numpy(), regression_output.cpu().detach().numpy())\n",
    "            val_loss = combined_loss/len(test_loader)\n",
    "\n",
    "\n",
    "            lst_val_loss_non_zero.append(val_loss_non_zero/len(test_loader))\n",
    "            lst_val_loss_presence.append(val_loss_presence/len(test_loader))\n",
    "            lst_val_loss_reg.append(val_loss_reg/len(test_loader))\n",
    "            lst_val_r2.append(val_r2/len(test_loader))\n",
    "\n",
    "\n",
    "\n",
    "        if epoch % 5 == 0:\n",
    "            print(f'{model_name} Epoch {epoch+1}/{num_epochs}, Train Loss: {train_loss:.4f}, Val Loss: {val_loss:.4f}')\n",
    "\n",
    "        # # Early stopping\n",
    "        # if val_loss < min_val_loss:\n",
    "        #     min_val_loss = val_loss\n",
    "        #     best_model = model.state_dict()\n",
    "        #     early_stopping_counter = 0\n",
    "        # else:\n",
    "        #     early_stopping_counter += 1\n",
    "        #     if early_stopping_counter >= patience:\n",
    "        #         print(\"Early stopping\")\n",
    "        #         break\n",
    "\n",
    "    return lst_train_loss_non_zero, lst_train_loss_presence, lst_train_loss_reg, lst_train_r2, lst_val_loss_non_zero, lst_val_loss_presence, lst_val_loss_reg, lst_val_r2"
   ]
  },
  {
   "cell_type": "markdown",
   "metadata": {
    "application/vnd.databricks.v1+cell": {
     "cellMetadata": {
      "byteLimit": 2048000,
      "rowLimit": 10000
     },
     "inputWidgets": {},
     "nuid": "941c8ef6-0e7c-45f6-9bed-cf77bdc664f4",
     "showTitle": false,
     "tableResultSettingsMap": {},
     "title": ""
    }
   },
   "source": [
    "# start"
   ]
  },
  {
   "cell_type": "code",
   "execution_count": 0,
   "metadata": {
    "application/vnd.databricks.v1+cell": {
     "cellMetadata": {
      "byteLimit": 2048000,
      "rowLimit": 10000
     },
     "inputWidgets": {},
     "nuid": "7a88e597-905c-4d72-ab0b-c0c972fbf385",
     "showTitle": false,
     "tableResultSettingsMap": {},
     "title": ""
    }
   },
   "outputs": [],
   "source": [
    "# parameters to define before each experiment\n",
    "\n",
    "x_type = 'log'  # 'abundance' or 'presence' or 'log'\n",
    "latent_dim = 20  # García-Jiménez et al. 2021 used latent_dim 10 to represent 717 taxa https://academic.oup.com/bioinformatics/article/37/10/1444/5988714\n",
    "lambda_ae = 1\n",
    "lambda_reg = 1 - lambda_ae\n",
    "alpha_l1 = 0.0\n",
    "num_epochs= 200\n",
    "patience = num_epochs/4"
   ]
  },
  {
   "cell_type": "code",
   "execution_count": 0,
   "metadata": {
    "application/vnd.databricks.v1+cell": {
     "cellMetadata": {
      "byteLimit": 2048000,
      "rowLimit": 10000
     },
     "inputWidgets": {},
     "nuid": "585e3d96-247e-4578-be03-aa3bb5ef9048",
     "showTitle": false,
     "tableResultSettingsMap": {},
     "title": ""
    }
   },
   "outputs": [],
   "source": [
    "scale_data, ae_loss_function = get_params(x_type)\n",
    "X_train, X_test, y_train, y_test = get_data(x_type, y, scale_data)\n",
    "# Convert to tensors and move to device\n",
    "X_train_tensor = torch.tensor(X_train, dtype=torch.float32).to(device)\n",
    "X_test_tensor = torch.tensor(X_test, dtype=torch.float32).to(device)\n",
    "y_train_tensor = torch.tensor(y_train, dtype=torch.float32).to(device)\n",
    "y_test_tensor = torch.tensor(y_test, dtype=torch.float32).to(device)\n",
    "train_loader, test_loader = get_dataloader(X_train_tensor, X_test_tensor, y_train_tensor, y_test_tensor, batch_size=64)\n",
    "input_dim = X_train.shape[1]"
   ]
  },
  {
   "cell_type": "code",
   "execution_count": 0,
   "metadata": {
    "application/vnd.databricks.v1+cell": {
     "cellMetadata": {
      "byteLimit": 2048000,
      "rowLimit": 10000
     },
     "inputWidgets": {},
     "nuid": "c0e9e649-a76b-4709-bf7d-158363ada4b9",
     "showTitle": false,
     "tableResultSettingsMap": {},
     "title": ""
    }
   },
   "outputs": [],
   "source": [
    "y_test_tensor.shape"
   ]
  },
  {
   "cell_type": "code",
   "execution_count": 0,
   "metadata": {
    "application/vnd.databricks.v1+cell": {
     "cellMetadata": {
      "byteLimit": 2048000,
      "rowLimit": 10000
     },
     "inputWidgets": {},
     "nuid": "ee6509ce-c5c8-462c-9d6b-fc4945557586",
     "showTitle": false,
     "tableResultSettingsMap": {},
     "title": ""
    }
   },
   "outputs": [],
   "source": [
    "\n",
    "plt.subplot(121)\n",
    "sns.histplot(X_test.flatten())\n",
    "plt.title('Test Set - Original Distribution')\n",
    "\n",
    "plt.subplot(122)\n",
    "sns.histplot(X_test.flatten()[X_test.flatten()>0])\n",
    "plt.title('Test Set - Original Distribution > 0')\n"
   ]
  },
  {
   "cell_type": "code",
   "execution_count": 0,
   "metadata": {
    "application/vnd.databricks.v1+cell": {
     "cellMetadata": {
      "byteLimit": 2048000,
      "rowLimit": 10000
     },
     "inputWidgets": {},
     "nuid": "59bd1f39-2880-425b-bc1b-8a589035f60c",
     "showTitle": false,
     "tableResultSettingsMap": {},
     "title": ""
    }
   },
   "outputs": [],
   "source": [
    "len(train_loader)"
   ]
  },
  {
   "cell_type": "code",
   "execution_count": 0,
   "metadata": {
    "application/vnd.databricks.v1+cell": {
     "cellMetadata": {
      "byteLimit": 2048000,
      "rowLimit": 10000
     },
     "inputWidgets": {},
     "nuid": "b6cfc867-7314-4bc7-89f5-c31b340efec6",
     "showTitle": false,
     "tableResultSettingsMap": {},
     "title": ""
    }
   },
   "outputs": [],
   "source": [
    "model = ShallowVAE(input_dim, latent_dim)\n",
    "\n",
    "min_val_loss = float('inf')\n",
    "best_model = None  # for early stopping\n",
    "early_stopping_counter = 0\n",
    "lst_train_loss_non_zero = []\n",
    "lst_train_loss_presence = []\n",
    "lst_train_loss_reg = []\n",
    "lst_train_r2 = []\n",
    "\n",
    "lst_val_loss_non_zero = []\n",
    "lst_val_loss_presence = []\n",
    "lst_val_loss_reg = []\n",
    "lst_val_r2 = []\n",
    "\n",
    "for epoch in range(num_epochs):\n",
    "    model.train()\n",
    "    train_loss_non_zero = 0.0\n",
    "    train_loss_presence = 0.0\n",
    "    train_loss_reg = 0.0\n",
    "    combined_loss = 0.0\n",
    "    train_r2 = 0.0\n",
    "    for X_batch, y_batch in train_loader:\n",
    "        optimizer.zero_grad()\n",
    "        if model_name.endswith('VAE'):\n",
    "            latent, reconstructed, presence, regression_output, mu, logvar = model(X_batch)\n",
    "            loss_kl = -0.5 * torch.sum(1 + logvar - mu.pow(2) - logvar.exp())\n",
    "        else:\n",
    "            latent, reconstructed,presence, regression_output = model(X_batch)\n",
    "            loss_kl = 0.0\n",
    "        \n",
    "        loss_l1, loss_non_zero, loss_presence = get_losses(y_batch, X_batch, regression_output, latent, presence, reconstructed, ae_loss_function, reg_loss_function)\n",
    "        print(\"!!!!!!!!!!!!!check loss !!!!!!!!!!!!!!!!!!\")\n",
    "        print('loss_kl', loss_kl)\n",
    "        print('loss_presence',loss_presence)\n",
    "        print('loss_non_zero',loss_non_zero)\n",
    "        print('loss_l1',loss_l1)"
   ]
  },
  {
   "cell_type": "code",
   "execution_count": 0,
   "metadata": {
    "application/vnd.databricks.v1+cell": {
     "cellMetadata": {
      "byteLimit": 2048000,
      "rowLimit": 10000
     },
     "inputWidgets": {},
     "nuid": "38a37def-f59a-4bce-9eea-7ca41353b2b3",
     "showTitle": false,
     "tableResultSettingsMap": {},
     "title": ""
    }
   },
   "outputs": [],
   "source": [
    "\n",
    "\n",
    "\n",
    "models = [\n",
    "\n",
    "    ShallowVAE(input_dim, latent_dim),\n",
    "    DeepVAE(input_dim, latent_dim),\n",
    "    ShallowAutoencoder(input_dim, latent_dim),\n",
    "    DeepAutoencoder(input_dim, latent_dim),\n",
    "\n",
    "]\n",
    "\n",
    "model_names = [\n",
    "\n",
    "    \"ShallowVAE\",\n",
    "    \"DeepVAE\",\n",
    "    \"ShallowAutoencoder\",\n",
    "    \"DeepAutoencoder\",\n",
    "]\n",
    "\n",
    "\n",
    "dct_history = dict()\n",
    "dct_y_pred = dict()\n",
    "\n",
    "plt.figure(figsize=(18, 15))\n",
    "i = 1\n",
    "plt.subplot(5, 2, i)\n",
    "sns.histplot(X_test.flatten())\n",
    "plt.title('Test Set - Original Distribution')\n",
    "i+=1\n",
    "plt.subplot(5, 2, i )\n",
    "sns.histplot(X_test.flatten()[X_test.flatten()>0])\n",
    "plt.title('Test Set - Original Distribution > 0')\n",
    "i+=1\n",
    "\n",
    "for model, model_name in zip(models, model_names):\n",
    "    \n",
    "    print(f\"Training {model_name}\")\n",
    "\n",
    "    model.to(device)\n",
    "    optimizer = optim.Adam(model.parameters(), lr=0.001)\n",
    "\n",
    "    # training\n",
    "    model_history = train_model(model, model_name, train_loader, test_loader, ae_loss_function, optimizer=optimizer,reg_loss_function=nn.MSELoss(), num_epochs=num_epochs, patience=patience, lambda_ae=lambda_ae, lambda_reg=lambda_reg)\n",
    "\n",
    "    # # Save the best model\n",
    "    # torch.save(best_model, f\"model/{model_name}_best_model.pth\")\n",
    "\n",
    "    ## Save latent representations\n",
    "    # model.load_state_dict(best_model)\n",
    "    print('model evaluating')\n",
    "    model.eval()\n",
    "    with torch.no_grad():\n",
    "        results = model(X_test_tensor)\n",
    "        X_train_latent = model(X_train_tensor)[0].cpu().detach().numpy()\n",
    "        X_val_latent = results[0].cpu().detach().numpy()\n",
    "\n",
    "    plt.subplot(5, 2, i)\n",
    "    sns.histplot(results[1].cpu().numpy().flatten())\n",
    "    plt.title(f'{model_name} - Reconstructed Distribution')\n",
    "    i+=1\n",
    "    plt.subplot(5, 2, i )\n",
    "    sns.histplot(results[1].cpu().numpy().flatten()[results[1].cpu().numpy().flatten()>0])\n",
    "    plt.title(f'{model_name} - Reconstructed Distribution > 0')\n",
    "    i+=1\n",
    "\n",
    "    lst_train_loss_non_zero, lst_train_loss_presence, lst_train_loss_reg, lst_train_r2, lst_val_loss_non_zero, lst_val_loss_presence, lst_val_loss_reg, lst_val_r2 = model_history\n",
    "    \n",
    "    # Log losses\n",
    "    dct_history[model_name] = {\n",
    "            \"train_loss_non_zero\": np.array(lst_train_loss_non_zero),\n",
    "            \"train_loss_presence\": np.array(lst_train_loss_presence),\n",
    "            \"train_loss_reg\": np.array(lst_train_loss_reg),\n",
    "            \"train_r2\": np.array(lst_train_r2),\n",
    "            \"val_loss_non_zero\": np.array(lst_val_loss_non_zero),\n",
    "            \"val_loss_presence\": np.array(lst_val_loss_presence),\n",
    "            \"val_loss_reg\": np.array(lst_val_loss_reg),\n",
    "            \"val_r2\": np.array(lst_val_r2)\n",
    "        }\n",
    "    \n",
    "    # log predicted values\n",
    "    dct_y_pred[model_name] = results[3].cpu().detach().numpy()\n",
    "\n",
    "    # Train XGBoost model on latent features\n",
    "    print(\"prediction using embedding by\", model_name)\n",
    "\n",
    "    # Train XGBoost model on latent features\n",
    "    xgb_model = XGBRegressor(n_estimators=500, learning_rate=0.05, max_depth=6)\n",
    "    xgb_model.fit(X_train_latent, y_train)  # Use the latent features as input for regression\n",
    "\n",
    "    # Predict on the validation set\n",
    "    dct_y_pred[model_name + '_xgb'] =  xgb_model.predict(X_val_latent)\n",
    "\n",
    "plt.tight_layout();"
   ]
  },
  {
   "cell_type": "code",
   "execution_count": 0,
   "metadata": {
    "application/vnd.databricks.v1+cell": {
     "cellMetadata": {
      "byteLimit": 2048000,
      "rowLimit": 10000
     },
     "inputWidgets": {},
     "nuid": "7724eecd-1ba5-4deb-a4f1-b0e1423b49c8",
     "showTitle": false,
     "tableResultSettingsMap": {},
     "title": ""
    }
   },
   "outputs": [],
   "source": [
    "loss_l1.cpu()"
   ]
  },
  {
   "cell_type": "code",
   "execution_count": 0,
   "metadata": {
    "application/vnd.databricks.v1+cell": {
     "cellMetadata": {
      "byteLimit": 2048000,
      "rowLimit": 10000
     },
     "inputWidgets": {},
     "nuid": "559f4edc-6955-4136-95cd-dae04d1bb1d3",
     "showTitle": false,
     "tableResultSettingsMap": {},
     "title": ""
    }
   },
   "outputs": [],
   "source": [
    "plt.figure(figsize=(14, 10))\n",
    "for i, (model_name, history) in enumerate(dct_history.items()):\n",
    "    plt.subplot(4, 2, 2 * i + 1)\n",
    "    plt.plot(history['train_loss_ae'], '-', label=f'Train', color='blue', alpha=0.5)\n",
    "    plt.plot(history['val_loss_ae'], '--', label=f'Validation', color='red', alpha=0.5)\n",
    "    plt.title(f'{model_name} - Reconstruction Loss')\n",
    "    plt.text\n",
    "    plt.xlabel('Epochs')\n",
    "    plt.ylabel('Reconstruction Loss')\n",
    "\n",
    "    plt.subplot(4, 2, 2 * i + 2)\n",
    "    plt.plot(history['train_loss_reg'], '-', label=f'Train', color='blue', alpha=0.5)\n",
    "    plt.plot(history['val_loss_reg'], '--', label=f'Validation', color='red', alpha=0.5)\n",
    "    plt.title(model_name)\n",
    "    plt.xlabel('Epochs')\n",
    "    plt.title(f'{model_name} - Regression Loss')\n",
    "    plt.legend(loc='upper left', bbox_to_anchor=(1, 1))\n",
    "    plt.grid(True)\n",
    "    plt.tight_layout()"
   ]
  },
  {
   "cell_type": "code",
   "execution_count": 0,
   "metadata": {
    "application/vnd.databricks.v1+cell": {
     "cellMetadata": {
      "byteLimit": 2048000,
      "rowLimit": 10000
     },
     "inputWidgets": {},
     "nuid": "315c3d05-68fd-4eaf-aa71-83aa9f6c2753",
     "showTitle": false,
     "tableResultSettingsMap": {},
     "title": ""
    }
   },
   "outputs": [],
   "source": []
  },
  {
   "cell_type": "code",
   "execution_count": 0,
   "metadata": {
    "application/vnd.databricks.v1+cell": {
     "cellMetadata": {
      "byteLimit": 2048000,
      "rowLimit": 10000
     },
     "inputWidgets": {},
     "nuid": "0f404e3c-f835-4bb5-8d5d-68d3be5a5db1",
     "showTitle": false,
     "tableResultSettingsMap": {},
     "title": ""
    }
   },
   "outputs": [],
   "source": [
    "plt.figure(figsize=(10, 12))\n",
    "\n",
    "\n",
    "for i, (model_name, y_pred) in enumerate(dct_y_pred.items()):\n",
    "    \n",
    "    y_pred = y_pred.squeeze()\n",
    "\n",
    "    plt.subplot(4, 2, i + 1)\n",
    "\n",
    "    plt.scatter(y_test, y_pred, alpha=0.5, s=6)\n",
    "    plt.plot([y_test.min(), y_test.max()], [y_test.min(), y_test.max()], 'r--', lw=2)\n",
    "\n",
    "    plt.xlabel('True Values')\n",
    "    plt.ylabel('Predicted Values')\n",
    "    plt.title(f'{model_name} lambdaAE={lambda_ae}, lambdaReg={lambda_reg}')\n",
    "\n",
    "\n",
    "    # mask = (y_pred <= 100) & (y_pred >= 0)\n",
    "    # r2 = 1 - (np.sum((y_test[mask] - y_pred[mask]) ** 2) / np.sum((y_test[mask] - np.mean(y_test[mask])) ** 2))\n",
    "    r2 = r2_score(y_test, y_pred)\n",
    "    mse = mean_squared_error(y_test, y_pred)\n",
    "    plt.text(0.05, 0.95, f'R^2: {r2:.2f}\\nMSE: {mse:.2f}', transform=plt.gca().transAxes, fontsize=10, verticalalignment='top')\n",
    "\n",
    "    plt.tight_layout()"
   ]
  }
 ],
 "metadata": {
  "application/vnd.databricks.v1+notebook": {
   "computePreferences": null,
   "dashboards": [],
   "environmentMetadata": {
    "base_environment": "",
    "environment_version": "1"
   },
   "inputWidgetPreferences": null,
   "language": "python",
   "notebookMetadata": {
    "pythonIndentUnit": 4
   },
   "notebookName": "(Clone) Autoencoders 3 heads + xgb regressor for Age Prediction",
   "widgets": {}
  },
  "language_info": {
   "name": "python"
  }
 },
 "nbformat": 4,
 "nbformat_minor": 0
}
