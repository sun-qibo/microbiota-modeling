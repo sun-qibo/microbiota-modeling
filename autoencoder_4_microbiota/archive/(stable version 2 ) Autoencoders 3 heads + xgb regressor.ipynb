{
 "cells": [
  {
   "cell_type": "code",
   "execution_count": 0,
   "metadata": {
    "application/vnd.databricks.v1+cell": {
     "cellMetadata": {
      "byteLimit": 2048000,
      "rowLimit": 10000
     },
     "inputWidgets": {},
     "nuid": "9812fe40-53c1-4019-bd39-d68f091b506d",
     "showTitle": false,
     "tableResultSettingsMap": {},
     "title": ""
    }
   },
   "outputs": [],
   "source": [
    "# from torch.utils.tensorboard import SummaryWriter\n",
    "# log_dir = \"runs/test\"\n",
    "# writer = SummaryWriter(log_dir = log_dir)"
   ]
  },
  {
   "cell_type": "code",
   "execution_count": 0,
   "metadata": {
    "application/vnd.databricks.v1+cell": {
     "cellMetadata": {
      "byteLimit": 2048000,
      "rowLimit": 10000
     },
     "collapsed": true,
     "inputWidgets": {},
     "nuid": "263045b6-ae3a-4c2b-aa94-ff4b4c2e15d0",
     "showTitle": false,
     "tableResultSettingsMap": {},
     "title": ""
    }
   },
   "outputs": [],
   "source": [
    "import numpy as np\n",
    "import pandas as pd\n",
    "import torch\n",
    "import torch.nn as nn\n",
    "import torch.optim as optim\n",
    "from torch.utils.data import DataLoader, TensorDataset\n",
    "from sklearn.preprocessing import MinMaxScaler\n",
    "from sklearn.metrics import mean_squared_error, r2_score\n",
    "from sklearn.model_selection import train_test_split\n",
    "\n",
    "\n",
    "from xgboost import XGBRegressor\n",
    "from tqdm import tqdm\n",
    "import matplotlib.pyplot as plt\n",
    "import seaborn as sns\n",
    "\n",
    "# Check for GPU\n",
    "device = torch.device(\"cuda\" if torch.cuda.is_available() else \"cpu\")\n",
    "device\n"
   ]
  },
  {
   "cell_type": "markdown",
   "metadata": {
    "application/vnd.databricks.v1+cell": {
     "cellMetadata": {
      "byteLimit": 2048000,
      "rowLimit": 10000
     },
     "inputWidgets": {},
     "nuid": "ae3c0791-eec3-4363-a464-a9f052d2be00",
     "showTitle": false,
     "tableResultSettingsMap": {},
     "title": ""
    }
   },
   "source": [
    "## Load data"
   ]
  },
  {
   "cell_type": "code",
   "execution_count": 0,
   "metadata": {
    "application/vnd.databricks.v1+cell": {
     "cellMetadata": {
      "byteLimit": 2048000,
      "rowLimit": 10000
     },
     "inputWidgets": {},
     "nuid": "ef114a50-fe08-4548-9306-3b2bcc8d6be8",
     "showTitle": false,
     "tableResultSettingsMap": {},
     "title": ""
    }
   },
   "outputs": [],
   "source": [
    "df_age = pd.read_csv(\"../data/age.csv\", header=None, index_col=0, sep='\\t')\n",
    "y = df_age.to_numpy().reshape(-1, 1).flatten()\n",
    "\n",
    "y.shape"
   ]
  },
  {
   "cell_type": "code",
   "execution_count": 0,
   "metadata": {
    "application/vnd.databricks.v1+cell": {
     "cellMetadata": {
      "byteLimit": 2048000,
      "rowLimit": 10000
     },
     "collapsed": true,
     "inputWidgets": {},
     "nuid": "c6b965fa-fb32-47eb-8649-5dad2d8fe3e5",
     "showTitle": false,
     "tableResultSettingsMap": {},
     "title": ""
    }
   },
   "outputs": [],
   "source": [
    "y_class = y//10\n",
    "y_class[y_class==9] = 8 "
   ]
  },
  {
   "cell_type": "code",
   "execution_count": 0,
   "metadata": {
    "application/vnd.databricks.v1+cell": {
     "cellMetadata": {
      "byteLimit": 2048000,
      "rowLimit": 10000
     },
     "collapsed": true,
     "inputWidgets": {},
     "nuid": "58eb5ba9-efbf-460e-b6f6-abf2d5c80b44",
     "showTitle": false,
     "tableResultSettingsMap": {},
     "title": ""
    }
   },
   "outputs": [],
   "source": [
    "sns.histplot(y_class)"
   ]
  },
  {
   "cell_type": "code",
   "execution_count": 0,
   "metadata": {
    "application/vnd.databricks.v1+cell": {
     "cellMetadata": {
      "byteLimit": 2048000,
      "rowLimit": 10000
     },
     "inputWidgets": {},
     "nuid": "a824e0f6-478c-495e-a4ee-1d7d01292843",
     "showTitle": false,
     "tableResultSettingsMap": {},
     "title": ""
    }
   },
   "outputs": [],
   "source": [
    "train_idx, test_idx = train_test_split(range(len(y)), test_size=0.2, stratify=y_class, random_state=42)  # split the data once so that index keeps the same for different types of X\n",
    "test_idx[:10]"
   ]
  },
  {
   "cell_type": "markdown",
   "metadata": {
    "application/vnd.databricks.v1+cell": {
     "cellMetadata": {
      "byteLimit": 2048000,
      "rowLimit": 10000
     },
     "inputWidgets": {},
     "nuid": "6b6222e0-72af-4214-add6-a930912d1799",
     "showTitle": false,
     "tableResultSettingsMap": {},
     "title": ""
    }
   },
   "source": [
    "[4436, 2292, 4448, 4903, 2378, 842, 2625, 3097, 4898, 1911]"
   ]
  },
  {
   "cell_type": "code",
   "execution_count": 0,
   "metadata": {
    "application/vnd.databricks.v1+cell": {
     "cellMetadata": {
      "byteLimit": 2048000,
      "rowLimit": 10000
     },
     "inputWidgets": {},
     "nuid": "093021e5-6218-4b3d-9deb-58e6b8975c0e",
     "showTitle": false,
     "tableResultSettingsMap": {},
     "title": ""
    }
   },
   "outputs": [],
   "source": [
    "X = pd.read_csv(\"../data/processed_log_drop08_scaled.csv\", header=0, index_col=0, sep='\\t').loc[df_age.index, :].to_numpy()\n",
    "X_train, X_test, y_train, y_test = X[train_idx], X[test_idx], y[train_idx], y[test_idx]\n",
    "\n",
    "# Convert to tensors and move to device\n",
    "X_train_tensor = torch.tensor(X_train, dtype=torch.float32).to(device)\n",
    "X_test_tensor = torch.tensor(X_test, dtype=torch.float32).to(device)\n",
    "y_train_tensor = torch.tensor(y_train, dtype=torch.float32).to(device)\n",
    "y_test_tensor = torch.tensor(y_test, dtype=torch.float32).to(device)\n",
    "\n",
    "# Create TensorDatasets\n",
    "train_dataset = TensorDataset(X_train_tensor, y_train_tensor)\n",
    "test_dataset = TensorDataset(X_test_tensor, y_test_tensor)\n",
    "\n",
    "# Create DataLoaders\n",
    "batch_size = 64\n",
    "train_loader = DataLoader(train_dataset, batch_size=batch_size, shuffle=True)\n",
    "test_loader = DataLoader(test_dataset, batch_size=batch_size, shuffle=False)\n",
    "\n",
    "input_dim = X.shape[1]\n",
    "print(X_train.max())\n",
    "print(input_dim)"
   ]
  },
  {
   "cell_type": "code",
   "execution_count": 0,
   "metadata": {
    "application/vnd.databricks.v1+cell": {
     "cellMetadata": {
      "byteLimit": 2048000,
      "rowLimit": 10000
     },
     "inputWidgets": {},
     "nuid": "c1615d7c-9544-413f-b69e-154f417e95f6",
     "showTitle": false,
     "tableResultSettingsMap": {},
     "title": ""
    }
   },
   "outputs": [],
   "source": [
    "# get the proportion of zeros in X\n",
    "p_zero = (X_train == 0).mean()\n",
    "print(p_zero)\n",
    "print(p_zero/(1-p_zero))\n",
    "print(1/(1-p_zero))\n",
    "print(1/p_zero)"
   ]
  },
  {
   "cell_type": "code",
   "execution_count": 0,
   "metadata": {
    "application/vnd.databricks.v1+cell": {
     "cellMetadata": {
      "byteLimit": 2048000,
      "rowLimit": 10000
     },
     "inputWidgets": {},
     "nuid": "3c82c50c-240e-49aa-a0be-bbdaa4619190",
     "showTitle": false,
     "tableResultSettingsMap": {},
     "title": ""
    }
   },
   "outputs": [],
   "source": []
  },
  {
   "cell_type": "markdown",
   "metadata": {
    "application/vnd.databricks.v1+cell": {
     "cellMetadata": {
      "byteLimit": 2048000,
      "rowLimit": 10000
     },
     "inputWidgets": {},
     "nuid": "c6bcc55c-994d-44e4-af09-f5a0c3a6c69f",
     "showTitle": false,
     "tableResultSettingsMap": {},
     "title": ""
    }
   },
   "source": [
    "## Models"
   ]
  },
  {
   "cell_type": "code",
   "execution_count": 0,
   "metadata": {
    "application/vnd.databricks.v1+cell": {
     "cellMetadata": {
      "byteLimit": 2048000,
      "rowLimit": 10000
     },
     "inputWidgets": {},
     "nuid": "2e9f6793-9289-48f5-8292-c44fe10e38be",
     "showTitle": false,
     "tableResultSettingsMap": {},
     "title": ""
    }
   },
   "outputs": [],
   "source": [
    "from models_3_heads import *\n",
    "\n",
    "# todo  add noise (e.g., zero out random values) to the input during training and train the network to reconstruct the original data. This encourages the model to learn robust features despite the sparse noise."
   ]
  },
  {
   "cell_type": "markdown",
   "metadata": {
    "application/vnd.databricks.v1+cell": {
     "cellMetadata": {
      "byteLimit": 2048000,
      "rowLimit": 10000
     },
     "inputWidgets": {},
     "nuid": "88781587-ddaf-4743-87c3-a734227fb504",
     "showTitle": false,
     "tableResultSettingsMap": {},
     "title": ""
    }
   },
   "source": [
    "## Loss Functions"
   ]
  },
  {
   "cell_type": "code",
   "execution_count": 0,
   "metadata": {
    "application/vnd.databricks.v1+cell": {
     "cellMetadata": {
      "byteLimit": 2048000,
      "rowLimit": 10000
     },
     "inputWidgets": {},
     "nuid": "062b0cd1-3a40-42ac-a864-1ea37746a9c7",
     "showTitle": false,
     "tableResultSettingsMap": {},
     "title": ""
    }
   },
   "outputs": [],
   "source": [
    "# # todo track reconstruction error (e.g., MSE, BCE) only on the non-zero entries\n",
    "# reconstruction_loss = nn.BCELoss(reduction='none')(decoded, inputs)\n",
    "# non_zero_mask = inputs > 0  # Mask to focus only on non-zero entries\n",
    "# loss = reconstruction_loss * non_zero_mask\n",
    "\n",
    "# POS_WEIGHT = torch.tensor([p_zero/(1-p_zero)]).to(device)  # theoretical weight 15.44\n",
    "# POS_WEIGHT = torch.tensor([1000]).to(device)  # try an extreme value\n",
    "# POS_WEIGHT = torch.tensor([(1-p_zero)/p_zero]).to(device)  # in case I inversed it\n",
    "POS_WEIGHT = torch.tensor([1]).to(device)  # no weight\n",
    "print(POS_WEIGHT)\n",
    "\n",
    "WEIGHTS = torch.tensor([p_zero, 1-p_zero]).to(device)\n",
    "\n",
    "def get_losses(y_true, X_true, latent, presence, reconstructed):\n",
    "    # loss_l1 = torch.mean(torch.abs(latent)) # regularization term\n",
    "    # print('loss_l1', loss_l1) # check\n",
    "    mask_non_zero = (X_true != 0).float()\n",
    "    loss_non_zero = nn.MSELoss(reduction='none')(reconstructed, X_true) * mask_non_zero\n",
    "    # loss_presence = nn.BCELoss(weight=WEIGHTS)(presence, mask_non_zero).mean()\n",
    "    loss_presence = nn.BCEWithLogitsLoss(pos_weight=POS_WEIGHT, reduction='none')(presence, X_true).mean()  # use mask as presence absence matrix  # todo use focal instead of bce for balanced data?\n",
    "    return 0, loss_non_zero.mean(), loss_presence\n"
   ]
  },
  {
   "cell_type": "markdown",
   "metadata": {
    "application/vnd.databricks.v1+cell": {
     "cellMetadata": {
      "byteLimit": 2048000,
      "rowLimit": 10000
     },
     "inputWidgets": {},
     "nuid": "56ca5cbb-7832-43e7-9c34-a50596e656be",
     "showTitle": false,
     "tableResultSettingsMap": {},
     "title": ""
    }
   },
   "source": [
    "## Training Function"
   ]
  },
  {
   "cell_type": "code",
   "execution_count": 0,
   "metadata": {
    "application/vnd.databricks.v1+cell": {
     "cellMetadata": {
      "byteLimit": 2048000,
      "rowLimit": 10000
     },
     "inputWidgets": {},
     "nuid": "469773c4-f442-4479-a36d-22fa808136ed",
     "showTitle": false,
     "tableResultSettingsMap": {},
     "title": ""
    }
   },
   "outputs": [],
   "source": [
    "# Training function\n",
    "\n",
    "def train_model(model, model_name, train_loader, test_loader, optimizer, reg_loss_function, lambda_ae, lambda_reg, alpha_l1 = 0, num_epochs=50, patience=10):\n",
    "    min_val_loss = float('inf')\n",
    "    best_model = None  # for early stopping\n",
    "    early_stopping_counter = 0\n",
    "    lst_train_loss_non_zero = []\n",
    "    lst_train_loss_presence = []\n",
    "    lst_train_loss_reg = []\n",
    "    lst_train_r2 = []\n",
    "    \n",
    "    lst_val_loss_non_zero = []\n",
    "    lst_val_loss_presence = []\n",
    "    lst_val_loss_reg = []\n",
    "    lst_val_r2 = []\n",
    "\n",
    "    for epoch in range(num_epochs):\n",
    "        model.train()\n",
    "        train_loss_non_zero = 0.0\n",
    "        train_loss_presence = 0.0\n",
    "        train_loss_reg = 0.0\n",
    "        train_loss_combined = 0.0\n",
    "        train_r2 = 0.0\n",
    "        for X_batch, y_batch in train_loader:\n",
    "            optimizer.zero_grad()\n",
    "            if model_name.endswith('VAE'):\n",
    "                latent, presence, reconstructed, regression_output, mu, logvar = model(X_batch)\n",
    "                loss_kl = -0.5 * torch.sum(1 + logvar - mu.pow(2) - logvar.exp())\n",
    "            else:\n",
    "                latent, presence, reconstructed, regression_output = model(X_batch)\n",
    "                loss_kl = 0.0\n",
    "           \n",
    "            loss_l1, loss_non_zero, loss_presence = get_losses(y_batch, X_batch, latent, presence, reconstructed)\n",
    "            # loss_ae = 0.5 * loss_non_zero + 0.5 * loss_presence + loss_kl + alpha_l1 * loss_l1 # Reconstruction loss\n",
    "            loss_ae = ALPHA * loss_presence + BETA * loss_non_zero +  + loss_kl\n",
    "            loss_reg = reg_loss_function(regression_output, y_batch)\n",
    "            combined_loss = lambda_ae * loss_ae  + lambda_reg * loss_reg\n",
    "            combined_loss.backward()\n",
    "            optimizer.step()\n",
    "            \n",
    "            train_loss_non_zero += loss_non_zero.item()\n",
    "            train_loss_presence += loss_presence.item()\n",
    "            train_loss_reg += loss_reg.item()\n",
    "            train_loss_combined += combined_loss.item()\n",
    "            train_r2 += r2_score(y_batch.cpu().detach().numpy(), regression_output.cpu().detach().numpy())\n",
    "        train_loss_combined = train_loss_combined/len(train_loader)\n",
    "\n",
    "\n",
    "        lst_train_loss_non_zero.append(train_loss_non_zero/len(train_loader))\n",
    "        lst_train_loss_presence.append(train_loss_presence/len(train_loader))\n",
    "        lst_train_loss_reg.append(train_loss_reg/len(train_loader))\n",
    "        lst_train_r2.append(train_r2/len(train_loader))\n",
    "\n",
    "\n",
    "        # Validation loss\n",
    "        model.eval()\n",
    "        val_loss_non_zero = 0.0\n",
    "        val_loss_presence = 0.0\n",
    "        val_loss_reg = 0.0\n",
    "        val_combined_loss = 0.0\n",
    "        val_r2 = 0.0\n",
    "        with torch.no_grad():\n",
    "            for X_batch, y_batch in test_loader:\n",
    "                if model_name.endswith('VAE'):\n",
    "                    latent, presence, reconstructed, regression_output, mu, logvar = model(X_batch)\n",
    "                    loss_kl = -0.5 * torch.sum(1 + logvar - mu.pow(2) - logvar.exp()) \n",
    "                else:                \n",
    "                    latent, presence, reconstructed, regression_output = model(X_batch)\n",
    "                    loss_kl = 0.0\n",
    "\n",
    "           \n",
    "                loss_l1, loss_non_zero, loss_presence = get_losses(y_batch, X_batch, latent, presence, reconstructed)\n",
    "                loss_ae = ALPHA * loss_presence + BETA * loss_non_zero +  + loss_kl\n",
    "                loss_reg = reg_loss_function(regression_output, y_batch)\n",
    "                combined_loss = lambda_ae * loss_ae  + lambda_reg * loss_reg\n",
    "\n",
    "                val_loss_non_zero += loss_non_zero.item()\n",
    "                val_loss_presence += loss_presence.item()\n",
    "                val_loss_reg += loss_reg.item()\n",
    "                val_combined_loss += combined_loss.item()\n",
    "                val_r2 += r2_score(y_batch.cpu().detach().numpy(), regression_output.cpu().detach().numpy())\n",
    "            val_combined_loss = val_combined_loss/len(test_loader)\n",
    "\n",
    "\n",
    "            lst_val_loss_non_zero.append(val_loss_non_zero/len(test_loader))\n",
    "            lst_val_loss_presence.append(val_loss_presence/len(test_loader))\n",
    "            lst_val_loss_reg.append(val_loss_reg/len(test_loader))\n",
    "            lst_val_r2.append(val_r2/len(test_loader))\n",
    "\n",
    "            # writer.add_scalar(f'Train/Loss_combined_{model_name}', train_loss_combined, epoch)\n",
    "            # writer.add_scalar(f'Train/Loss_presence_{model_name}', train_loss_presence/len(train_loader), epoch)\n",
    "            # writer.add_scalar(f'Train/Loss_non_zero_{model_name}', train_loss_non_zero/len(train_loader), epoch)\n",
    "\n",
    "            # writer.add_scalar(f'Val/Loss_combined_{model_name}', val_combined_loss, epoch)\n",
    "            # writer.add_scalar(f'Val/Loss_presence_{model_name}', val_loss_presence/len(test_loader), epoch)\n",
    "            # writer.add_scalar(f'Val/Loss_non_zero_{model_name}', val_loss_non_zero/len(test_loader), epoch)\n",
    "\n",
    "        # writer.close()\n",
    "\n",
    "        if epoch % 5 == 0:\n",
    "            print(f'{model_name} Epoch {epoch+1}/{num_epochs}, Train Loss: {train_loss_combined:.4f}, Val Loss: {val_combined_loss:.4f}')\n",
    "\n",
    "        # # Early stopping\n",
    "        # if val_loss < min_val_loss:\n",
    "        #     min_val_loss = val_loss\n",
    "        #     best_model = model.state_dict()\n",
    "        #     early_stopping_counter = 0\n",
    "        # else:\n",
    "        #     early_stopping_counter += 1\n",
    "        #     if early_stopping_counter >= patience:\n",
    "        #         print(\"Early stopping\")\n",
    "        #         break\n",
    "\n",
    "    return lst_train_loss_non_zero, lst_train_loss_presence, lst_train_loss_reg, lst_train_r2, lst_val_loss_non_zero, lst_val_loss_presence, lst_val_loss_reg, lst_val_r2"
   ]
  },
  {
   "cell_type": "markdown",
   "metadata": {
    "application/vnd.databricks.v1+cell": {
     "cellMetadata": {
      "byteLimit": 2048000,
      "rowLimit": 10000
     },
     "inputWidgets": {},
     "nuid": "941c8ef6-0e7c-45f6-9bed-cf77bdc664f4",
     "showTitle": false,
     "tableResultSettingsMap": {},
     "title": ""
    }
   },
   "source": [
    "# Start"
   ]
  },
  {
   "cell_type": "code",
   "execution_count": 0,
   "metadata": {
    "application/vnd.databricks.v1+cell": {
     "cellMetadata": {
      "byteLimit": 2048000,
      "rowLimit": 10000
     },
     "inputWidgets": {},
     "nuid": "7a88e597-905c-4d72-ab0b-c0c972fbf385",
     "showTitle": false,
     "tableResultSettingsMap": {},
     "title": ""
    }
   },
   "outputs": [],
   "source": [
    "# parameters to define before each experiment\n",
    "\n",
    "x_type = 'log'  # 'abundance' or 'presence' or 'log'  # deprecated\n",
    "latent_dim = 20 # García-Jiménez et al. 2021 used latent_dim 10 to represent 717 taxa https://academic.oup.com/bioinformatics/article/37/10/1444/5988714\n",
    "\n",
    "num_epochs= 50\n",
    "patience = num_epochs//4\n",
    "\n",
    "ALPHA = 0 # decoder1 - presence\n",
    "BETA = 1  # decoder2 - nonzero values\n",
    "\n",
    "# ALPHA = 1 - p_zero # balanced by zero probability\n",
    "# BETA = p_zero  \n",
    "\n",
    "lambda_ae = 1\n",
    "lambda_reg = 1 - lambda_ae\n",
    "\n",
    "ALPHA, BETA"
   ]
  },
  {
   "cell_type": "code",
   "execution_count": 0,
   "metadata": {
    "application/vnd.databricks.v1+cell": {
     "cellMetadata": {
      "byteLimit": 2048000,
      "rowLimit": 10000
     },
     "inputWidgets": {},
     "nuid": "b80854ca-43c3-4440-91ea-a695303f4f6b",
     "showTitle": false,
     "tableResultSettingsMap": {},
     "title": ""
    }
   },
   "outputs": [],
   "source": []
  },
  {
   "cell_type": "code",
   "execution_count": 0,
   "metadata": {
    "application/vnd.databricks.v1+cell": {
     "cellMetadata": {
      "byteLimit": 2048000,
      "rowLimit": 10000
     },
     "inputWidgets": {},
     "nuid": "38a37def-f59a-4bce-9eea-7ca41353b2b3",
     "showTitle": false,
     "tableResultSettingsMap": {},
     "title": ""
    }
   },
   "outputs": [],
   "source": [
    "import warnings\n",
    "warnings.filterwarnings(\"ignore\", category=UserWarning)\n",
    "from sklearn.metrics import f1_score\n",
    "import time\n",
    "\n",
    "models = [\n",
    "    ShallowVAE(input_dim, latent_dim),\n",
    "    DeepVAE(input_dim, latent_dim),\n",
    "    ShallowAutoencoder(input_dim, latent_dim),\n",
    "    DeepAutoencoder(input_dim, latent_dim),\n",
    "\n",
    "]\n",
    "\n",
    "model_names = [\n",
    "    \"ShallowVAE\",\n",
    "    \"DeepVAE\",\n",
    "    \"ShallowAutoencoder\",\n",
    "    \"DeepAutoencoder\",\n",
    "\n",
    "]\n",
    "\n",
    "\n",
    "dct_history = dict()\n",
    "dct_y_pred = dict()\n",
    "\n",
    "plt.figure(figsize=(18, 15))\n",
    "i = 1\n",
    "plt.subplot(5, 3, i)\n",
    "sns.histplot(X_test.flatten(), bins=100)\n",
    "plt.xlim(-0.35, 1.5)\n",
    "plt.ylim(0, 1.35e6)\n",
    "plt.title('Test Set - Original Distribution')\n",
    "i+=1\n",
    "plt.subplot(5, 3, i )\n",
    "plt.xlim(0, 1.5)\n",
    "plt.ylim(0, 12000)\n",
    "sns.histplot(X_test.flatten()[X_test.flatten()>0])\n",
    "plt.title('Test Set - Original Distribution > 0')\n",
    "i+=1\n",
    "plt.subplot(5, 3, i)\n",
    "sns.histplot(X_test.flatten()>0, bins=100)\n",
    "plt.title('Test Set - Presence Distribution')\n",
    "i+=1\n",
    "\n",
    "\n",
    "for model, model_name in zip(models, model_names):\n",
    "    t0 = time.time()\n",
    "    print(f\"Training {model_name}\")\n",
    "\n",
    "    model.to(device)\n",
    "    optimizer = optim.Adam(model.parameters(), lr=0.001)\n",
    "\n",
    "    # training\n",
    "    model_history = train_model(model, model_name, train_loader, test_loader, optimizer=optimizer,reg_loss_function=nn.MSELoss(), num_epochs=num_epochs, patience=patience, lambda_ae=lambda_ae, lambda_reg=lambda_reg)\n",
    "\n",
    "    # # Save the best model\n",
    "    # torch.save(best_model, f\"model/{model_name}_best_model.pth\")\n",
    "\n",
    "    ## Save latent representations\n",
    "    # model.load_state_dict(best_model)\n",
    "    t1 = time.time()\n",
    "    print(f'\\t\\tmodel trained, time used = {t1 - t0} seconds')\n",
    "    print('model evaluating')\n",
    "    model.eval()\n",
    "    with torch.no_grad():\n",
    "        results = model(X_test_tensor)\n",
    "        X_train_latent = model(X_train_tensor)[0].cpu().detach().numpy()\n",
    "    \n",
    "    t2 = time.time()\n",
    "    print(f'\\t\\tmodel applied on test set, time used = {t2 - t1} seconds')\n",
    "\n",
    "    plt.subplot(5, 3, i)\n",
    "    sns.histplot(results[2].cpu().numpy().flatten())\n",
    "    plt.xlim(-0.35, 1.5)\n",
    "    # plt.ylim(0, 1.35e6)\n",
    "    plt.title(f'{model_name} - Reconstructed Distribution')\n",
    "    i+=1\n",
    "    plt.subplot(5, 3, i )\n",
    "    plt.xlim(0, 1.5)\n",
    "    plt.ylim(0, 12000)\n",
    "    sns.histplot(results[2].cpu().numpy().flatten()[results[2].cpu().numpy().flatten()>0])\n",
    "    plt.title(f'{model_name} - Reconstructed Distribution > 0')\n",
    "    i+=1\n",
    "    plt.subplot(5, 3, i )\n",
    "    # plt.xlim(0, 1.5)\n",
    "    # plt.ylim(0, 12000)\n",
    "    sns.histplot(nn.Sigmoid()(results[1]).cpu().numpy().flatten()>0.5, bins=100)\n",
    "    plt.title(f'{model_name} - Presence Distribution')\n",
    "    plt.text(0.5, 10000, f'F1 score = {f1_score(X_test.flatten()>0, nn.Sigmoid()(results[1]).cpu().numpy().flatten()>0.5):.2f}', fontsize=14)\n",
    "    i+=1\n",
    "\n",
    "    lst_train_loss_non_zero, lst_train_loss_presence, lst_train_loss_reg, lst_train_r2, lst_val_loss_non_zero, lst_val_loss_presence, lst_val_loss_reg, lst_val_r2 = model_history\n",
    "    \n",
    "    # Log losses\n",
    "    dct_history[model_name] = {\n",
    "            \"train_loss_non_zero\": np.array(lst_train_loss_non_zero),\n",
    "            \"train_loss_presence\": np.array(lst_train_loss_presence),\n",
    "            \"train_loss_reg\": np.array(lst_train_loss_reg),\n",
    "            \"train_r2\": np.array(lst_train_r2),\n",
    "            \"val_loss_non_zero\": np.array(lst_val_loss_non_zero),\n",
    "            \"val_loss_presence\": np.array(lst_val_loss_presence),\n",
    "            \"val_loss_reg\": np.array(lst_val_loss_reg),\n",
    "            \"val_r2\": np.array(lst_val_r2)\n",
    "        }\n",
    "    \n",
    "    # log predicted values\n",
    "    dct_y_pred[model_name] = results[3].cpu().detach().numpy()\n",
    "\n",
    "    # Train XGBoost model on latent features\n",
    "    print(\"prediction using embedding by\", model_name)\n",
    "    \n",
    "    # Train XGBoost model on latent features\n",
    "    xgb_model = XGBRegressor(n_estimators=200, learning_rate=0.05, max_depth=4)\n",
    "    xgb_model.fit(X_train_latent, y_train)  # Use the latent features as input for regression\n",
    "    \n",
    "    X_val_latent = results[0].cpu().detach().numpy()\n",
    "    # Predict on the validation set\n",
    "    dct_y_pred[model_name + '_xgb'] =  xgb_model.predict(X_val_latent)\n",
    "    \n",
    "    t3 = time.time()\n",
    "    print(f'\\t\\tXGB trained and tested, time used = {t3 - t2} seconds')\n",
    "\n",
    "plt.tight_layout();"
   ]
  },
  {
   "cell_type": "code",
   "execution_count": 0,
   "metadata": {
    "application/vnd.databricks.v1+cell": {
     "cellMetadata": {
      "byteLimit": 2048000,
      "rowLimit": 10000
     },
     "inputWidgets": {},
     "nuid": "b409d654-e8f4-4e36-9fd7-4808a8865621",
     "showTitle": false,
     "tableResultSettingsMap": {},
     "title": ""
    }
   },
   "outputs": [],
   "source": [
    "f1_score(X_test.flatten()>0, nn.Sigmoid()(results[1]).cpu().numpy().flatten()>0.5)"
   ]
  },
  {
   "cell_type": "code",
   "execution_count": 0,
   "metadata": {
    "application/vnd.databricks.v1+cell": {
     "cellMetadata": {
      "byteLimit": 2048000,
      "rowLimit": 10000
     },
     "inputWidgets": {},
     "nuid": "434a32d5-136c-4bf6-a50b-ae91f2a81ad5",
     "showTitle": false,
     "tableResultSettingsMap": {},
     "title": ""
    }
   },
   "outputs": [],
   "source": [
    "nn.Sigmoid()(results[1])"
   ]
  },
  {
   "cell_type": "code",
   "execution_count": 0,
   "metadata": {
    "application/vnd.databricks.v1+cell": {
     "cellMetadata": {
      "byteLimit": 2048000,
      "rowLimit": 10000
     },
     "inputWidgets": {},
     "nuid": "47a922be-211a-4d2f-b692-943f171f740e",
     "showTitle": false,
     "tableResultSettingsMap": {},
     "title": ""
    }
   },
   "outputs": [],
   "source": [
    "sns.histplot(nn.Sigmoid()(results[1]).cpu().numpy().flatten(), bins=100)"
   ]
  },
  {
   "cell_type": "code",
   "execution_count": 0,
   "metadata": {
    "application/vnd.databricks.v1+cell": {
     "cellMetadata": {
      "byteLimit": 2048000,
      "rowLimit": 10000
     },
     "inputWidgets": {},
     "nuid": "391182ad-b28e-4a2a-a3a2-12c5e7144a46",
     "showTitle": false,
     "tableResultSettingsMap": {},
     "title": ""
    }
   },
   "outputs": [],
   "source": [
    "POS_WEIGHT"
   ]
  },
  {
   "cell_type": "code",
   "execution_count": 0,
   "metadata": {
    "application/vnd.databricks.v1+cell": {
     "cellMetadata": {
      "byteLimit": 2048000,
      "rowLimit": 10000
     },
     "inputWidgets": {},
     "nuid": "ab40a888-d53d-42e5-89da-c45cc0509873",
     "showTitle": false,
     "tableResultSettingsMap": {},
     "title": ""
    }
   },
   "outputs": [],
   "source": [
    "import gc\n",
    "gc.collect()"
   ]
  },
  {
   "cell_type": "code",
   "execution_count": 0,
   "metadata": {
    "application/vnd.databricks.v1+cell": {
     "cellMetadata": {
      "byteLimit": 2048000,
      "rowLimit": 10000
     },
     "inputWidgets": {},
     "nuid": "6309d9ae-f851-4a95-a800-e845e67f5d38",
     "showTitle": false,
     "tableResultSettingsMap": {},
     "title": ""
    }
   },
   "outputs": [],
   "source": [
    "import gc\n",
    "import torch\n",
    "for i in range(3):\n",
    "    print(gc.collect())\n",
    "    torch.cuda.empty_cache()\n",
    "    print(gc.collect())"
   ]
  },
  {
   "cell_type": "code",
   "execution_count": 0,
   "metadata": {
    "application/vnd.databricks.v1+cell": {
     "cellMetadata": {
      "byteLimit": 2048000,
      "rowLimit": 10000
     },
     "inputWidgets": {},
     "nuid": "8312d9b1-dbf9-4cfd-a5da-487ec3a1b5f7",
     "showTitle": false,
     "tableResultSettingsMap": {},
     "title": ""
    }
   },
   "outputs": [],
   "source": [
    "plt.figure(figsize=(15, 10))\n",
    "for i, (model_name, history) in enumerate(dct_history.items()):\n",
    "    plt.subplot(4, 3, 3 * i + 1)\n",
    "    plt.plot(history['train_loss_non_zero'], '-', label=f'Train', color='blue', alpha=0.5)\n",
    "    plt.plot(history['val_loss_non_zero'], '--', label=f'Validation', color='red', alpha=0.5)\n",
    "    plt.title(f'{model_name} - Non-Zero Reconstruction Loss')\n",
    "    plt.text\n",
    "    plt.xlabel('Epochs')\n",
    "    plt.ylabel('Loss')\n",
    "\n",
    "    plt.subplot(4, 3, 3 * i + 2)\n",
    "    plt.plot(history['train_loss_presence'], '-', label=f'Train', color='blue', alpha=0.5)\n",
    "    plt.plot(history['val_loss_presence'], '--', label=f'Validation', color='red', alpha=0.5)\n",
    "    plt.title(model_name)\n",
    "    plt.xlabel('Epochs')\n",
    "    plt.title(f'{model_name} - Presence Loss')\n",
    "    plt.legend(loc='upper left', bbox_to_anchor=(1, 1))\n",
    "    plt.grid(True)\n",
    "\n",
    "\n",
    "    plt.subplot(4, 3, 3 * i + 3)\n",
    "    plt.plot(history['train_loss_reg'], '-', label=f'Train', color='blue', alpha=0.5)\n",
    "    plt.plot(history['val_loss_reg'], '--', label=f'Validation', color='red', alpha=0.5)\n",
    "    plt.title(model_name)\n",
    "    plt.xlabel('Epochs')\n",
    "    plt.title(f'{model_name} - Regression Loss')\n",
    "    plt.legend(loc='upper left', bbox_to_anchor=(1, 1))\n",
    "    plt.grid(True)\n",
    "plt.tight_layout()"
   ]
  },
  {
   "cell_type": "code",
   "execution_count": 0,
   "metadata": {
    "application/vnd.databricks.v1+cell": {
     "cellMetadata": {
      "byteLimit": 2048000,
      "rowLimit": 10000
     },
     "inputWidgets": {},
     "nuid": "0f404e3c-f835-4bb5-8d5d-68d3be5a5db1",
     "showTitle": false,
     "tableResultSettingsMap": {},
     "title": ""
    }
   },
   "outputs": [],
   "source": [
    "plt.figure(figsize=(10, 12))\n",
    "\n",
    "\n",
    "for i, (model_name, y_pred) in enumerate(dct_y_pred.items()):\n",
    "    \n",
    "    y_pred = y_pred.squeeze()\n",
    "\n",
    "    plt.subplot(4, 2, i + 1)\n",
    "\n",
    "    plt.scatter(y_test, y_pred, alpha=0.5, s=6)\n",
    "    plt.plot([y_test.min(), y_test.max()], [y_test.min(), y_test.max()], 'r--', lw=2)\n",
    "\n",
    "    plt.xlabel('True Values')\n",
    "    plt.ylabel('Predicted Values')\n",
    "    plt.title(f'{model_name} lambdaAE={lambda_ae}, lambdaReg={lambda_reg}')\n",
    "\n",
    "\n",
    "    r2 = r2_score(y_test, y_pred)\n",
    "    mse = mean_squared_error(y_test, y_pred)\n",
    "    plt.text(0.05, 0.95, f'R^2: {r2:.2f}\\nMSE: {mse:.2f}', transform=plt.gca().transAxes, fontsize=10, verticalalignment='top')\n",
    "\n",
    "    plt.tight_layout()"
   ]
  },
  {
   "cell_type": "code",
   "execution_count": 0,
   "metadata": {
    "application/vnd.databricks.v1+cell": {
     "cellMetadata": {
      "byteLimit": 2048000,
      "rowLimit": 10000
     },
     "inputWidgets": {},
     "nuid": "42ba93d9-e306-47d7-a37d-d15ecc7a7d5f",
     "showTitle": false,
     "tableResultSettingsMap": {},
     "title": ""
    }
   },
   "outputs": [],
   "source": [
    "log_dir = \"runs/test\""
   ]
  },
  {
   "cell_type": "code",
   "execution_count": 0,
   "metadata": {
    "application/vnd.databricks.v1+cell": {
     "cellMetadata": {
      "byteLimit": 2048000,
      "rowLimit": 10000
     },
     "inputWidgets": {},
     "nuid": "5fafa573-a4cc-4a5d-896b-c83473c096ed",
     "showTitle": false,
     "tableResultSettingsMap": {},
     "title": ""
    }
   },
   "outputs": [],
   "source": [
    "# !tensorboard --logdir log_dir"
   ]
  },
  {
   "cell_type": "code",
   "execution_count": 0,
   "metadata": {
    "application/vnd.databricks.v1+cell": {
     "cellMetadata": {
      "byteLimit": 2048000,
      "rowLimit": 10000
     },
     "inputWidgets": {},
     "nuid": "9e97441d-fbd8-4d3d-9433-c23909b66761",
     "showTitle": false,
     "tableResultSettingsMap": {},
     "title": ""
    }
   },
   "outputs": [],
   "source": [
    "# !tensorboard --logdir $log_dir"
   ]
  },
  {
   "cell_type": "code",
   "execution_count": 0,
   "metadata": {
    "application/vnd.databricks.v1+cell": {
     "cellMetadata": {
      "byteLimit": 2048000,
      "rowLimit": 10000
     },
     "inputWidgets": {},
     "nuid": "abfe91a1-26b6-44a0-a8ef-3730dc6d8576",
     "showTitle": false,
     "tableResultSettingsMap": {},
     "title": ""
    }
   },
   "outputs": [],
   "source": [
    "# !load_ext tensorboard\n",
    "# !tensorboard --logdir $log_dir -- port 6006"
   ]
  }
 ],
 "metadata": {
  "application/vnd.databricks.v1+notebook": {
   "computePreferences": null,
   "dashboards": [],
   "environmentMetadata": {
    "base_environment": "",
    "environment_version": "1"
   },
   "inputWidgetPreferences": null,
   "language": "python",
   "notebookMetadata": {
    "pythonIndentUnit": 4
   },
   "notebookName": "(stable version 2 ) Autoencoders 3 heads + xgb regressor",
   "widgets": {}
  },
  "language_info": {
   "name": "python"
  }
 },
 "nbformat": 4,
 "nbformat_minor": 0
}
