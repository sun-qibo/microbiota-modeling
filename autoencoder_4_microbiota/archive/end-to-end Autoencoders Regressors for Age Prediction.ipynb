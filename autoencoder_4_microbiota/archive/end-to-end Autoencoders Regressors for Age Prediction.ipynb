{
 "cells": [
  {
   "cell_type": "code",
   "execution_count": 0,
   "metadata": {
    "application/vnd.databricks.v1+cell": {
     "cellMetadata": {
      "byteLimit": 2048000,
      "rowLimit": 10000
     },
     "inputWidgets": {},
     "nuid": "263045b6-ae3a-4c2b-aa94-ff4b4c2e15d0",
     "showTitle": false,
     "tableResultSettingsMap": {},
     "title": ""
    }
   },
   "outputs": [],
   "source": [
    "import numpy as np\n",
    "import pandas as pd\n",
    "import torch\n",
    "import torch.nn as nn\n",
    "import torch.optim as optim\n",
    "from torch.utils.data import DataLoader, TensorDataset\n",
    "from sklearn.model_selection import KFold\n",
    "from sklearn.preprocessing import StandardScaler\n",
    "from sklearn.metrics import mean_squared_error\n",
    "\n",
    "from xgboost import XGBRegressor\n",
    "from sklearn.ensemble import RandomForestRegressor\n",
    "\n",
    "from tqdm import tqdm\n",
    "import matplotlib.pyplot as plt\n",
    "\n",
    "\n",
    "# Check for GPU\n",
    "device = torch.device(\"cuda\" if torch.cuda.is_available() else \"cpu\")\n",
    "device\n"
   ]
  },
  {
   "cell_type": "code",
   "execution_count": 0,
   "metadata": {
    "application/vnd.databricks.v1+cell": {
     "cellMetadata": {
      "byteLimit": 2048000,
      "rowLimit": 10000
     },
     "inputWidgets": {},
     "nuid": "ef114a50-fe08-4548-9306-3b2bcc8d6be8",
     "showTitle": false,
     "tableResultSettingsMap": {},
     "title": ""
    }
   },
   "outputs": [],
   "source": [
    "\n",
    "data = pd.read_csv(\"../data/age_pred_dataset.csv\", header=0, index_col=0, sep='\\t')\n"
   ]
  },
  {
   "cell_type": "code",
   "execution_count": 0,
   "metadata": {
    "application/vnd.databricks.v1+cell": {
     "cellMetadata": {
      "byteLimit": 2048000,
      "rowLimit": 10000
     },
     "inputWidgets": {},
     "nuid": "96fd6802-ef80-430d-912f-646f845671e2",
     "showTitle": false,
     "tableResultSettingsMap": {},
     "title": ""
    }
   },
   "outputs": [],
   "source": [
    "y = data[\"age\"].to_numpy().reshape(-1, 1).flatten()\n",
    "X = data.drop([\"age\"], axis=1).to_numpy()\n",
    "y.shape, X.shape"
   ]
  },
  {
   "cell_type": "code",
   "execution_count": 0,
   "metadata": {
    "application/vnd.databricks.v1+cell": {
     "cellMetadata": {
      "byteLimit": 2048000,
      "rowLimit": 10000
     },
     "inputWidgets": {},
     "nuid": "afb50142-8608-46dd-a24d-9c0b753b33d7",
     "showTitle": false,
     "tableResultSettingsMap": {},
     "title": ""
    }
   },
   "outputs": [],
   "source": [
    "from sklearn.model_selection import train_test_split\n",
    "\n",
    "\n",
    "# Assuming X and y are already defined as numpy arrays\n",
    "X_train, X_test, y_train, y_test = train_test_split(X, y, test_size=0.2, random_state=42)\n",
    "\n",
    "# # Standardize data\n",
    "# scaler = StandardScaler()\n",
    "# X_train = scaler.fit_transform(X_train)\n",
    "# X_test = scaler.transform(X_test)\n",
    "\n",
    "# Convert to tensors and move to device\n",
    "X_train_tensor = torch.tensor(X_train, dtype=torch.float32).to(device)\n",
    "X_test_tensor = torch.tensor(X_test, dtype=torch.float32).to(device)\n",
    "y_train_tensor = torch.tensor(y_train, dtype=torch.float32).to(device)\n",
    "y_test_tensor = torch.tensor(y_test, dtype=torch.float32).to(device)\n",
    "\n",
    "\n",
    "# Create TensorDatasets\n",
    "train_dataset = TensorDataset(X_train_tensor, y_train_tensor)\n",
    "test_dataset = TensorDataset(X_test_tensor, y_test_tensor)\n",
    "\n",
    "# Create DataLoaders\n",
    "batch_size = 64\n",
    "train_loader = DataLoader(train_dataset, batch_size=batch_size, shuffle=True)\n",
    "test_loader = DataLoader(test_dataset, batch_size=batch_size, shuffle=False)\n"
   ]
  },
  {
   "cell_type": "code",
   "execution_count": 0,
   "metadata": {
    "application/vnd.databricks.v1+cell": {
     "cellMetadata": {
      "byteLimit": 2048000,
      "rowLimit": 10000
     },
     "inputWidgets": {},
     "nuid": "e555f58b-6829-4253-b6fd-944db0bbe2ca",
     "showTitle": false,
     "tableResultSettingsMap": {},
     "title": ""
    }
   },
   "outputs": [],
   "source": [
    "# Define models\n",
    "\n",
    "class ShallowAutoencoder(nn.Module):\n",
    "    def __init__(self, input_dim, latent_dim):\n",
    "        super(ShallowAutoencoder, self).__init__()\n",
    "        self.encoder = nn.Sequential(\n",
    "            nn.Linear(input_dim, latent_dim),\n",
    "            nn.ReLU()\n",
    "        )\n",
    "        self.decoder = nn.Sequential(\n",
    "            nn.Linear(latent_dim, input_dim),\n",
    "            nn.ReLU()\n",
    "        )\n",
    "        self.regression_head = nn.Linear(latent_dim, 1)\n",
    "\n",
    "    def forward(self, x):\n",
    "        encoded = self.encoder(x)\n",
    "        decoded = self.decoder(encoded)\n",
    "        regression_output = self.regression_head(encoded)\n",
    "        return encoded, decoded, regression_output\n",
    "\n",
    "class DeepAutoencoder(nn.Module):\n",
    "    def __init__(self, input_dim, latent_dim):\n",
    "        super(DeepAutoencoder, self).__init__()\n",
    "        self.encoder = nn.Sequential(\n",
    "            nn.Linear(input_dim, input_dim//2),\n",
    "            nn.ReLU(),\n",
    "            nn.Linear(input_dim//2, input_dim//4),\n",
    "            nn.ReLU(),\n",
    "            nn.Linear(input_dim//4, input_dim//16),\n",
    "            nn.ReLU(),\n",
    "            nn.Linear(input_dim//16, latent_dim),\n",
    "            nn.ReLU()\n",
    "        )\n",
    "        self.decoder = nn.Sequential(\n",
    "            nn.Linear(latent_dim, latent_dim * 2),\n",
    "            nn.ReLU(),\n",
    "            nn.Linear(latent_dim * 2, latent_dim * 4),\n",
    "            nn.ReLU(),\n",
    "            nn.Linear(latent_dim * 4, latent_dim * 16),\n",
    "            nn.ReLU(),\n",
    "            nn.Linear(latent_dim * 16, input_dim),\n",
    "            nn.ReLU()\n",
    "        )\n",
    "\n",
    "        self.regression_head = nn.Linear(latent_dim, 1)\n",
    "\n",
    "    def forward(self, x):\n",
    "        encoded = self.encoder(x)\n",
    "        decoded = self.decoder(encoded)\n",
    "        regression_output = self.regression_head(encoded)\n",
    "        return encoded, decoded, regression_output\n",
    "    \n",
    "\n",
    "class VariationalAutoencoder(nn.Module):\n",
    "    def __init__(self, input_dim, latent_dim):\n",
    "        super(VariationalAutoencoder, self).__init__()\n",
    "        self.encoder = nn.Sequential(\n",
    "            nn.Linear(input_dim, input_dim//4),\n",
    "            nn.ReLU(),\n",
    "            nn.Linear(input_dim//4, input_dim//16),\n",
    "            nn.ReLU(),\n",
    "            nn.Linear(input_dim//16, 50),\n",
    "            nn.ReLU()\n",
    "        )\n",
    "        self.mu = nn.Linear(50, latent_dim)\n",
    "        self.logvar = nn.Linear(50, latent_dim)\n",
    "        self.decoder = nn.Sequential(\n",
    "            nn.Linear(latent_dim, latent_dim * 4),\n",
    "            nn.ReLU(),\n",
    "            nn.Linear(latent_dim * 4, latent_dim * 16),\n",
    "            nn.ReLU(),\n",
    "            nn.Linear(latent_dim * 16, input_dim),\n",
    "            nn.ReLU()\n",
    "        )\n",
    "        self.regression_head = nn.Linear(latent_dim, 1)\n",
    "\n",
    "    def reparameterize(self, mu, logvar):\n",
    "        std = torch.exp(0.5 * logvar)\n",
    "        eps = torch.randn_like(std)\n",
    "        return mu + eps * std\n",
    "\n",
    "    def forward(self, x):\n",
    "        h = self.encoder(x)\n",
    "        mu, logvar = self.mu(h), self.logvar(h)\n",
    "        z = self.reparameterize(mu, logvar)\n",
    "        decoded = self.decoder(z)\n",
    "        regression_output = self.regression_head(z)\n",
    "        return z, decoded, regression_output\n",
    "\n",
    "\n"
   ]
  },
  {
   "cell_type": "code",
   "execution_count": 0,
   "metadata": {
    "application/vnd.databricks.v1+cell": {
     "cellMetadata": {
      "byteLimit": 2048000,
      "rowLimit": 10000
     },
     "inputWidgets": {},
     "nuid": "469773c4-f442-4479-a36d-22fa808136ed",
     "showTitle": false,
     "tableResultSettingsMap": {},
     "title": ""
    }
   },
   "outputs": [],
   "source": [
    "\n",
    "# Training function\n",
    "def train_model(model, name, train_loader, test_loader, criterion_ae, criterion_reg, optimizer, lambda_ae=1.0, lambda_reg=1.0, num_epochs=50, patience=10):\n",
    "    best_loss = float('inf')\n",
    "    best_model = None\n",
    "    early_stopping_counter = 0\n",
    "    train_losses = []\n",
    "    val_losses = []\n",
    "\n",
    "    for epoch in range(num_epochs):\n",
    "        model.train()\n",
    "        train_loss = 0.0\n",
    "        for X_batch, y_batch in train_loader:\n",
    "            optimizer.zero_grad()\n",
    "            latent, reconstructed, regression_output = model(X_batch)\n",
    "\n",
    "            loss_ae = criterion_ae(reconstructed, X_batch)  # Reconstruction loss\n",
    "            loss_reg = criterion_reg(regression_output.squeeze(), y_batch)  # Regression loss\n",
    "            loss = lambda_ae * loss_ae + lambda_reg * loss_reg\n",
    "\n",
    "            loss.backward()\n",
    "            optimizer.step()\n",
    "            train_loss += loss.item() * X_batch.size(0)\n",
    "        train_loss /= len(train_loader.dataset)\n",
    "        train_losses.append(train_loss)\n",
    "\n",
    "        # Validation loss\n",
    "        model.eval()\n",
    "        val_loss = 0.0\n",
    "        with torch.no_grad():\n",
    "            for X_batch, y_batch in test_loader:\n",
    "                latent, reconstructed, regression_output = model(X_batch)\n",
    "                loss_ae = criterion_ae(reconstructed, X_batch)  # Reconstruction loss\n",
    "                loss_reg = criterion_reg(regression_output.squeeze(), y_batch)  # Regression loss\n",
    "                loss = lambda_ae * loss_ae + lambda_reg * loss_reg\n",
    "                val_loss += loss.item() * X_batch.size(0)\n",
    "        val_loss /= len(test_loader.dataset)\n",
    "        val_losses.append(val_loss)\n",
    "\n",
    "        print(f'Epoch {epoch+1}/{num_epochs}, Train Loss: {train_loss:.4f}, Val Loss: {val_loss:.4f}')\n",
    "\n",
    "        # Early stopping\n",
    "        if val_loss < best_loss:\n",
    "            best_loss = val_loss\n",
    "            best_model = model.state_dict()\n",
    "            early_stopping_counter = 0\n",
    "        else:\n",
    "            early_stopping_counter += 1\n",
    "            if early_stopping_counter >= patience:\n",
    "                print(\"Early stopping\")\n",
    "                break\n",
    "\n",
    "    return best_model, train_losses, val_losses"
   ]
  },
  {
   "cell_type": "code",
   "execution_count": 0,
   "metadata": {
    "application/vnd.databricks.v1+cell": {
     "cellMetadata": {
      "byteLimit": 2048000,
      "rowLimit": 10000
     },
     "inputWidgets": {},
     "nuid": "38a37def-f59a-4bce-9eea-7ca41353b2b3",
     "showTitle": false,
     "tableResultSettingsMap": {},
     "title": ""
    }
   },
   "outputs": [],
   "source": [
    "\n",
    "dict_history = dict()\n",
    "dict_y_pred = dict()\n",
    "\n",
    "\n",
    "models = [\n",
    "\n",
    "    VariationalAutoencoder(X.shape[1], 16),\n",
    "    ShallowAutoencoder(X.shape[1], 16),\n",
    "    DeepAutoencoder(X.shape[1], 16),\n",
    "\n",
    "]\n",
    "\n",
    "model_names = [\n",
    "\n",
    "    \"VariationalAutoencoder\",\n",
    "    \"ShallowAutoencoder\",\n",
    "    \"DeepAutoencoder\",\n",
    "    # \"LinearRegressor\",\n",
    "    \"XGBoostRegressor\",\n",
    "    \"RandomForestRegressor\",\n",
    "\n",
    "]\n",
    "\n",
    "\n",
    "for model, name in zip(models, model_names):\n",
    "    \n",
    "    print(f\"Training {name}\")\n",
    "    if name in ['VariationalAutoencoder', 'ShallowAutoencoder', 'DeepAutoencoder']:\n",
    "        model.to(device)\n",
    "        criterion_ae = nn.MSELoss()\n",
    "        criterion_reg = nn.MSELoss()  # todo choose metric \n",
    "        optimizer = optim.Adam(model.parameters(), lr=0.001)\n",
    "        best_model, train_losses, val_losses = train_model(model, name, train_loader, test_loader, criterion_ae, criterion_reg, optimizer, num_epochs=50, lambda_ae=1, lambda_reg=1)\n",
    "\n",
    "        # Save the best model\n",
    "        torch.save(best_model, f\"{name}_best_model.pth\")\n",
    "\n",
    "        # Save latent representations\n",
    "        model.load_state_dict(best_model)\n",
    "        model.eval()\n",
    "        with torch.no_grad():\n",
    "            latent, reconstructed, regression_output = model(X_test_tensor)\n",
    "            # np.save(f\"{name}_latent_representations.npy\", latent_representations.cpu().numpy())\n",
    "\n",
    "        # Log losses\n",
    "        dict_history[name] = {\n",
    "                \"train_losses\": np.array(train_losses),\n",
    "                \"val_losses\": np.array(val_losses)\n",
    "            }\n",
    "        \n",
    "        # log predicted values\n",
    "        dict_y_pred[name] = regression_output.cpu().numpy()\n",
    "    else: \n",
    "        model.fit(X_train, y_train)\n",
    "        dict_y_pred[name] = model.predict(X_test)\n"
   ]
  },
  {
   "cell_type": "code",
   "execution_count": 0,
   "metadata": {
    "application/vnd.databricks.v1+cell": {
     "cellMetadata": {
      "byteLimit": 2048000,
      "rowLimit": 10000
     },
     "inputWidgets": {},
     "nuid": "8312d9b1-dbf9-4cfd-a5da-487ec3a1b5f7",
     "showTitle": false,
     "tableResultSettingsMap": {},
     "title": ""
    }
   },
   "outputs": [],
   "source": [
    "\n",
    "plt.figure(figsize=(5, 12))\n",
    "for i, (model_name, history) in enumerate(dict_history.items()):\n",
    "    plt.subplot(3,1, i + 1)\n",
    "    plt.plot(history['train_losses'], label=f'{model_name} Train Loss')\n",
    "    plt.plot(history['val_losses'], label=f'{model_name} Validation Loss')\n",
    "    plt.xlabel('Epochs')\n",
    "    plt.ylabel('Loss')\n",
    "    plt.title(model_name)\n",
    "    plt.legend()\n",
    "    plt.grid(True)\n",
    "    plt.tight_layout()\n",
    "\n"
   ]
  },
  {
   "cell_type": "code",
   "execution_count": 0,
   "metadata": {
    "application/vnd.databricks.v1+cell": {
     "cellMetadata": {
      "byteLimit": 2048000,
      "rowLimit": 10000
     },
     "inputWidgets": {},
     "nuid": "0f404e3c-f835-4bb5-8d5d-68d3be5a5db1",
     "showTitle": false,
     "tableResultSettingsMap": {},
     "title": ""
    }
   },
   "outputs": [],
   "source": [
    "plt.figure(figsize=(12, 12))\n",
    "\n",
    "\n",
    "for i, (model_name, y_pred) in enumerate(dict_y_pred.items()):\n",
    "    \n",
    "    y_pred = y_pred.squeeze()\n",
    "\n",
    "    plt.subplot(3, 2, i + 1)\n",
    "\n",
    "    plt.scatter(y_test, y_pred, alpha=0.5)\n",
    "    plt.plot([y_test.min(), y_test.max()], [y_test.min(), y_test.max()], 'r--', lw=2)\n",
    "\n",
    "    plt.xlabel('True Values')\n",
    "    plt.ylabel('Predicted Values')\n",
    "    plt.title(model_name)\n",
    "\n",
    "\n",
    "    mask = (y_pred <= 100) & (y_pred >= 0)\n",
    "    r2 = 1 - (np.sum((y_test[mask] - y_pred[mask]) ** 2) / np.sum((y_test[mask] - np.mean(y_test[mask])) ** 2))\n",
    "    plt.text(0.05, 0.95, f'R^2: {r2:.2f}', transform=plt.gca().transAxes, fontsize=12, verticalalignment='top')\n",
    "\n",
    "    plt.tight_layout()"
   ]
  }
 ],
 "metadata": {
  "application/vnd.databricks.v1+notebook": {
   "computePreferences": null,
   "dashboards": [],
   "environmentMetadata": {
    "base_environment": "",
    "environment_version": "1"
   },
   "inputWidgetPreferences": null,
   "language": "python",
   "notebookMetadata": {
    "pythonIndentUnit": 4
   },
   "notebookName": "end-to-end Autoencoders Regressors for Age Prediction",
   "widgets": {}
  },
  "language_info": {
   "name": "python"
  }
 },
 "nbformat": 4,
 "nbformat_minor": 0
}
