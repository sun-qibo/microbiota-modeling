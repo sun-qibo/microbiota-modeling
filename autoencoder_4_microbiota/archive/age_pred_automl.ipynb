{
 "cells": [
  {
   "cell_type": "code",
   "execution_count": 0,
   "metadata": {
    "application/vnd.databricks.v1+cell": {
     "cellMetadata": {
      "byteLimit": 2048000,
      "rowLimit": 10000
     },
     "inputWidgets": {},
     "nuid": "d52b0a79-8324-4c37-917b-4c239c6c4777",
     "showTitle": false,
     "tableResultSettingsMap": {},
     "title": ""
    }
   },
   "outputs": [],
   "source": [
    "import optuna"
   ]
  },
  {
   "cell_type": "code",
   "execution_count": 0,
   "metadata": {
    "application/vnd.databricks.v1+cell": {
     "cellMetadata": {
      "byteLimit": 2048000,
      "rowLimit": 10000
     },
     "inputWidgets": {},
     "nuid": "f3cfb7d7-d9ff-48da-89b4-98a1324b550c",
     "showTitle": false,
     "tableResultSettingsMap": {},
     "title": ""
    }
   },
   "outputs": [],
   "source": [
    "import numpy as np\n",
    "import pandas as pd\n",
    "import tensorflow as tf\n",
    "from tensorflow.keras import layers, models, losses, callbacks, regularizers\n",
    "from sklearn.model_selection import KFold\n",
    "from sklearn.preprocessing import StandardScaler\n",
    "from tensorflow.keras import backend as K\n",
    "import optuna\n",
    "import os\n",
    "\n",
    "# Ensure reproducibility\n",
    "np.random.seed(42)\n",
    "tf.random.set_seed(42)\n",
    "\n",
    "# Check GPU availability\n",
    "device = \"/GPU:0\" if tf.config.list_physical_devices('GPU') else \"/CPU:0\"\n",
    "\n",
    "# # Example input (X) and target (y) for demonstration purposes\n",
    "# n_samples = 16000\n",
    "# n_features = 1641\n",
    "# X = np.random.rand(n_samples, n_features).astype(np.float32)\n",
    "# y = np.random.rand(n_samples).astype(np.float32)\n",
    "\n",
    "\n",
    "# Parameters\n",
    "batch_size = 256\n",
    "latent_dim = 50\n",
    "n_splits = 5\n",
    "\n",
    "def build_shallow_autoencoder(input_dim, latent_dim, hidden_units):\n",
    "    inputs = layers.Input(shape=(input_dim,))\n",
    "    encoded = layers.Dense(hidden_units, activation='relu')(inputs)\n",
    "    latent = layers.Dense(latent_dim, activation='relu')(encoded)\n",
    "    decoded = layers.Dense(hidden_units, activation='relu')(latent)\n",
    "    outputs = layers.Dense(input_dim)(decoded)\n",
    "    autoencoder = models.Model(inputs, outputs)\n",
    "    encoder = models.Model(inputs, latent)\n",
    "    return autoencoder, encoder\n",
    "\n",
    "def train_and_optimize_model(X, y, model_name, kfold):\n",
    "    def objective(trial):\n",
    "        latent_dim = trial.suggest_int(\"latent_dim\", 10, 100)\n",
    "        hidden_units = trial.suggest_int(\"hidden_units\", 128, 1024)\n",
    "        learning_rate = trial.suggest_loguniform(\"learning_rate\", 1e-4, 1e-2)\n",
    "\n",
    "        fold_results = []\n",
    "\n",
    "        for fold, (train_idx, val_idx) in enumerate(kfold.split(X, y)):\n",
    "            X_train, X_val = X[train_idx], X[val_idx]\n",
    "            y_train, y_val = y[train_idx], y[val_idx]\n",
    "\n",
    "            with tf.device(device):\n",
    "                autoencoder, _ = build_shallow_autoencoder(X.shape[1], latent_dim, hidden_units)\n",
    "                autoencoder.compile(optimizer=tf.keras.optimizers.Adam(learning_rate=learning_rate),\n",
    "                                    loss=losses.MeanSquaredError())\n",
    "                es = callbacks.EarlyStopping(patience=10, restore_best_weights=True)\n",
    "\n",
    "                history = autoencoder.fit(\n",
    "                    X_train, X_train,\n",
    "                    validation_data=(X_val, X_val),\n",
    "                    epochs=50,\n",
    "                    batch_size=batch_size,\n",
    "                    callbacks=[es],\n",
    "                    verbose=0\n",
    "                )\n",
    "\n",
    "                val_loss = autoencoder.evaluate(X_val, X_val, verbose=0)\n",
    "                fold_results.append(val_loss)\n",
    "\n",
    "        return np.mean(fold_results)\n",
    "\n",
    "    study = optuna.create_study(direction=\"minimize\")\n",
    "    study.optimize(objective, n_trials=20)\n",
    "\n",
    "    print(f\"Best trial for {model_name}: {study.best_trial.params}\")\n",
    "    return study.best_trial.params\n",
    "\n",
    "\n"
   ]
  },
  {
   "cell_type": "code",
   "execution_count": 0,
   "metadata": {
    "application/vnd.databricks.v1+cell": {
     "cellMetadata": {
      "byteLimit": 2048000,
      "rowLimit": 10000
     },
     "inputWidgets": {},
     "nuid": "863ba94a-edbd-4222-8ee5-2c9bc33b21c6",
     "showTitle": false,
     "tableResultSettingsMap": {},
     "title": ""
    }
   },
   "outputs": [],
   "source": [
    "import pandas as pd\n",
    "\n",
    "data = pd.read_csv(\"../data/age_pred_dataset.csv\", header=0, index_col=0, sep='\\t')\n",
    "data\n"
   ]
  },
  {
   "cell_type": "code",
   "execution_count": 0,
   "metadata": {
    "application/vnd.databricks.v1+cell": {
     "cellMetadata": {
      "byteLimit": 2048000,
      "rowLimit": 10000
     },
     "inputWidgets": {},
     "nuid": "d72aef1a-7749-4b66-9ff6-e4e8b7208106",
     "showTitle": false,
     "tableResultSettingsMap": {},
     "title": ""
    }
   },
   "outputs": [],
   "source": [
    "y = data[\"age\"].to_numpy()\n",
    "X = data.drop([\"age\"], axis=1).to_numpy()\n",
    "y.shape, X.shape"
   ]
  },
  {
   "cell_type": "code",
   "execution_count": 0,
   "metadata": {
    "application/vnd.databricks.v1+cell": {
     "cellMetadata": {
      "byteLimit": 2048000,
      "rowLimit": 10000
     },
     "inputWidgets": {},
     "nuid": "b4245671-4922-4924-bba3-fbc657543fa2",
     "showTitle": false,
     "tableResultSettingsMap": {},
     "title": ""
    }
   },
   "outputs": [],
   "source": [
    "\n",
    "# Standardize features and target\n",
    "scaler_X = StandardScaler()\n",
    "scaler_y = StandardScaler()\n",
    "X = scaler_X.fit_transform(X)\n",
    "y = scaler_y.fit_transform(y.reshape(-1, 1)).flatten()"
   ]
  },
  {
   "cell_type": "code",
   "execution_count": 0,
   "metadata": {
    "application/vnd.databricks.v1+cell": {
     "cellMetadata": {
      "byteLimit": 2048000,
      "rowLimit": 10000
     },
     "inputWidgets": {},
     "nuid": "3a07630e-18c5-4179-bbf4-734f20d21bd9",
     "showTitle": false,
     "tableResultSettingsMap": {},
     "title": ""
    }
   },
   "outputs": [],
   "source": [
    "# K-Fold cross-validator\n",
    "kfold = KFold(n_splits=n_splits, shuffle=True, random_state=42)\n",
    "\n",
    "# Optimize and train the shallow autoencoder\n",
    "shallow_params = train_and_optimize_model(X, y, \"Shallow_Autoencoder\", kfold)\n",
    "\n",
    "print(\"Optimization complete.\")"
   ]
  }
 ],
 "metadata": {
  "application/vnd.databricks.v1+notebook": {
   "computePreferences": null,
   "dashboards": [],
   "environmentMetadata": {
    "base_environment": "",
    "environment_version": "1"
   },
   "inputWidgetPreferences": null,
   "language": "python",
   "notebookMetadata": {
    "pythonIndentUnit": 4
   },
   "notebookName": "age_pred_automl",
   "widgets": {}
  },
  "language_info": {
   "name": "python"
  }
 },
 "nbformat": 4,
 "nbformat_minor": 0
}
