{
 "cells": [
  {
   "cell_type": "code",
   "execution_count": 0,
   "metadata": {
    "application/vnd.databricks.v1+cell": {
     "cellMetadata": {
      "byteLimit": 2048000,
      "rowLimit": 10000
     },
     "inputWidgets": {},
     "nuid": "864dc9ee-c9a2-4887-b399-becbb316191d",
     "showTitle": false,
     "tableResultSettingsMap": {},
     "title": ""
    }
   },
   "outputs": [],
   "source": [
    "%load_ext autoreload\n",
    "%autoreload 2"
   ]
  },
  {
   "cell_type": "code",
   "execution_count": 0,
   "metadata": {
    "application/vnd.databricks.v1+cell": {
     "cellMetadata": {
      "byteLimit": 2048000,
      "rowLimit": 10000
     },
     "inputWidgets": {},
     "nuid": "b14b76dc-e7c2-4c64-8782-94ee527080d4",
     "showTitle": false,
     "tableResultSettingsMap": {},
     "title": ""
    }
   },
   "outputs": [],
   "source": [
    "import os\n",
    "import warnings\n",
    "\n",
    "import numpy as np\n",
    "import pandas as pd\n",
    "\n",
    "import matplotlib.pyplot as plt\n",
    "import seaborn as sns\n",
    "%matplotlib inline\n",
    "warnings.filterwarnings('ignore')\n",
    "\n",
    "from utils import *"
   ]
  },
  {
   "cell_type": "code",
   "execution_count": 0,
   "metadata": {
    "application/vnd.databricks.v1+cell": {
     "cellMetadata": {
      "byteLimit": 2048000,
      "rowLimit": 10000
     },
     "inputWidgets": {},
     "nuid": "f55c941d-0e7a-4377-9bb6-4f09760a3886",
     "showTitle": false,
     "tableResultSettingsMap": {
      "0": {
       "dataGridStateBlob": "{\"version\":1,\"tableState\":{\"columnPinning\":{\"left\":[\"#row_number#\"],\"right\":[]},\"columnSizing\":{},\"columnVisibility\":{}},\"settings\":{\"columns\":{}},\"syncTimestamp\":1752752399219}",
       "filterBlob": null,
       "queryPlanFiltersBlob": null,
       "tableResultIndex": 0
      }
     },
     "title": ""
    }
   },
   "outputs": [],
   "source": [
    "df_raw = spark.table(\"onesource_eu_dev_rni.onebiome.mpa4_species_level_reformated\").toPandas()\n",
    "df_raw = df_raw.set_index(\"barcode\")\n",
    "display(df_raw)"
   ]
  },
  {
   "cell_type": "code",
   "execution_count": 0,
   "metadata": {
    "application/vnd.databricks.v1+cell": {
     "cellMetadata": {
      "byteLimit": 2048000,
      "rowLimit": 10000
     },
     "inputWidgets": {},
     "nuid": "9d053b9d-5488-493e-aea4-4e45d2769718",
     "showTitle": false,
     "tableResultSettingsMap": {},
     "title": ""
    }
   },
   "outputs": [],
   "source": [
    "# cols = sorted([col for col in df.columns if col.startswith('Pseudomonas')])\n",
    "# display(pd.DataFrame(cols, columns=['Pseudomonas_columns']))"
   ]
  },
  {
   "cell_type": "code",
   "execution_count": 0,
   "metadata": {
    "application/vnd.databricks.v1+cell": {
     "cellMetadata": {
      "byteLimit": 2048000,
      "rowLimit": 10000
     },
     "inputWidgets": {},
     "nuid": "bd820c29-187b-4df6-ac04-761d7c438708",
     "showTitle": false,
     "tableResultSettingsMap": {},
     "title": ""
    }
   },
   "outputs": [],
   "source": [
    "# display(df.loc[df[\"Pseudomonas_b_oryzihabitans\"] != df[\"Pseudomonas_b_oryzihabitans_b\"], ['Pseudomonas_b_oryzihabitans', 'Pseudomonas_b_oryzihabitans_b']])\n",
    "\n"
   ]
  },
  {
   "cell_type": "code",
   "execution_count": 0,
   "metadata": {
    "application/vnd.databricks.v1+cell": {
     "cellMetadata": {
      "byteLimit": 2048000,
      "rowLimit": 10000
     },
     "inputWidgets": {},
     "nuid": "c0c47f64-891d-4ad8-a1ec-37a14a232d20",
     "showTitle": false,
     "tableResultSettingsMap": {
      "0": {
       "dataGridStateBlob": "{\"version\":1,\"tableState\":{\"columnPinning\":{\"left\":[\"#row_number#\"],\"right\":[]},\"columnSizing\":{},\"columnVisibility\":{}},\"settings\":{\"columns\":{}},\"syncTimestamp\":1752752870847}",
       "filterBlob": null,
       "queryPlanFiltersBlob": null,
       "tableResultIndex": 0
      }
     },
     "title": ""
    }
   },
   "outputs": [],
   "source": [
    "def clean_suffix_and_combine_columns(df):\n",
    "    # Step 1: Clean suffix in column names\n",
    "    df.columns = [' '.join([part for part in col.split('_') if len(part) > 1]) for col in df.columns]\n",
    "    # Step 2: Combine duplicate columns by summing their values\n",
    "    df = df.groupby(df.columns, axis=1).sum()\n",
    "    return df\n",
    "\n",
    "df_cleaned = clean_suffix_and_combine_columns(df_raw)\n",
    "print(df_cleaned.shape)\n",
    "display(df_cleaned)"
   ]
  },
  {
   "cell_type": "code",
   "execution_count": 0,
   "metadata": {
    "application/vnd.databricks.v1+cell": {
     "cellMetadata": {
      "byteLimit": 2048000,
      "rowLimit": 10000
     },
     "inputWidgets": {},
     "nuid": "12bc5dda-1d6f-43b2-8959-ce7b095d8327",
     "showTitle": false,
     "tableResultSettingsMap": {},
     "title": ""
    }
   },
   "outputs": [],
   "source": [
    "import pandas as pd\n",
    "\n",
    "col_splits = [col.split(' ') for col in df_cleaned.columns]\n",
    "\n",
    "counts = {\n",
    "    'two_words': sum(len(parts) == 2 for parts in col_splits),\n",
    "    'more_than_two_words': sum(len(parts) > 2 for parts in col_splits),\n",
    "    'last_word_unknown': sum(parts[-1] == 'unknown' for parts in col_splits),\n",
    "    'last_word_startswith_sp': sum(parts[-1].startswith('sp') for parts in col_splits),\n",
    "    'not_startswith_letter': sum(not col[0].isalpha() for col in df_cleaned.columns)\n",
    "}\n",
    "\n",
    "pd.DataFrame([counts], index=['counts']).transpose()\n"
   ]
  },
  {
   "cell_type": "code",
   "execution_count": 0,
   "metadata": {
    "application/vnd.databricks.v1+cell": {
     "cellMetadata": {
      "byteLimit": 2048000,
      "rowLimit": 10000
     },
     "inputWidgets": {},
     "nuid": "96d5344d-1daf-406d-bd9d-92509f277e6b",
     "showTitle": false,
     "tableResultSettingsMap": {},
     "title": ""
    }
   },
   "outputs": [],
   "source": [
    "cols_more_than_two_words = [col for col in df_cleaned.columns if len(col.split(' ')) > 2]\n",
    "display(pd.DataFrame(cols_more_than_two_words, columns=['columns_with_more_than_two_words']))"
   ]
  },
  {
   "cell_type": "code",
   "execution_count": 0,
   "metadata": {
    "application/vnd.databricks.v1+cell": {
     "cellMetadata": {
      "byteLimit": 2048000,
      "rowLimit": 10000
     },
     "inputWidgets": {},
     "nuid": "cb54c405-8990-41de-929f-dab1a5b6d7c6",
     "showTitle": false,
     "tableResultSettingsMap": {},
     "title": ""
    }
   },
   "outputs": [],
   "source": [
    "plot_data_distribution(df_cleaned, 'relative species abundance')"
   ]
  },
  {
   "cell_type": "code",
   "execution_count": 0,
   "metadata": {
    "application/vnd.databricks.v1+cell": {
     "cellMetadata": {
      "byteLimit": 2048000,
      "rowLimit": 10000
     },
     "inputWidgets": {},
     "nuid": "10ac7415-48e1-4472-9d82-4480297dd2b3",
     "showTitle": false,
     "tableResultSettingsMap": {},
     "title": ""
    }
   },
   "outputs": [],
   "source": [
    "df_cleaned.to_csv('../data/dicaprio_mpa4_species.csv', sep='\\t', header=True, index=True)"
   ]
  },
  {
   "cell_type": "markdown",
   "metadata": {
    "application/vnd.databricks.v1+cell": {
     "cellMetadata": {
      "byteLimit": 2048000,
      "rowLimit": 10000
     },
     "inputWidgets": {},
     "nuid": "ed702b0a-075f-45ce-b4f2-a0a5865e1372",
     "showTitle": false,
     "tableResultSettingsMap": {},
     "title": ""
    }
   },
   "source": [
    "**to genus**"
   ]
  },
  {
   "cell_type": "code",
   "execution_count": 0,
   "metadata": {
    "application/vnd.databricks.v1+cell": {
     "cellMetadata": {
      "byteLimit": 2048000,
      "rowLimit": 10000
     },
     "inputWidgets": {},
     "nuid": "88ae8cf6-d0ce-4454-b152-f5ae2f13c259",
     "showTitle": false,
     "tableResultSettingsMap": {},
     "title": ""
    }
   },
   "outputs": [],
   "source": [
    "df_genus = df_cleaned.groupby(df_cleaned.columns.str.split(' ').str[0], axis=1).sum()\n",
    "print(df_genus.shape)\n",
    "plot_data_distribution(df_genus, 'genus relative rebundance')"
   ]
  },
  {
   "cell_type": "code",
   "execution_count": 0,
   "metadata": {
    "application/vnd.databricks.v1+cell": {
     "cellMetadata": {
      "byteLimit": 2048000,
      "rowLimit": 10000
     },
     "inputWidgets": {},
     "nuid": "b0e38c14-bdb6-4759-a5d2-e086618efbf9",
     "showTitle": false,
     "tableResultSettingsMap": {},
     "title": ""
    }
   },
   "outputs": [],
   "source": [
    "df_genus.to_csv('../data/dicaprio_mpa4_genus.csv', sep='\\t', header=True, index=True)"
   ]
  },
  {
   "cell_type": "markdown",
   "metadata": {
    "application/vnd.databricks.v1+cell": {
     "cellMetadata": {
      "byteLimit": 2048000,
      "rowLimit": 10000
     },
     "inputWidgets": {},
     "nuid": "40e226b9-7c8e-4a95-a0ee-adf0ab4ba1ac",
     "showTitle": false,
     "tableResultSettingsMap": {},
     "title": ""
    }
   },
   "source": [
    "**log transformation**"
   ]
  },
  {
   "cell_type": "code",
   "execution_count": 0,
   "metadata": {
    "application/vnd.databricks.v1+cell": {
     "cellMetadata": {
      "byteLimit": 2048000,
      "rowLimit": 10000
     },
     "inputWidgets": {},
     "nuid": "a6f26d76-2f20-443d-8cf3-4f9326080143",
     "showTitle": false,
     "tableResultSettingsMap": {},
     "title": ""
    }
   },
   "outputs": [],
   "source": [
    "def abundance_table_log_transformation(df):\n",
    "    pseudo_count = 10 ** np.log10(df[df > 0].min().min()**2 / df.max().max())\n",
    "    print(\"pseudo count added: \", pseudo_count)\n",
    "    return df.applymap(lambda x: np.log10(x + pseudo_count))\n",
    "\n",
    "df_species_log = abundance_table_log_transformation(df_cleaned)\n",
    "plot_data_distribution(df_species_log, 'Log10 species-level counts')"
   ]
  },
  {
   "cell_type": "code",
   "execution_count": 0,
   "metadata": {
    "application/vnd.databricks.v1+cell": {
     "cellMetadata": {
      "byteLimit": 2048000,
      "rowLimit": 10000
     },
     "inputWidgets": {},
     "nuid": "b1133d77-c3d6-400c-bd11-d2369ea533b3",
     "showTitle": false,
     "tableResultSettingsMap": {},
     "title": ""
    }
   },
   "outputs": [],
   "source": [
    "df_genus_log = abundance_table_log_transformation(df_genus)\n",
    "plot_data_distribution(df_genus_log, 'Log10 genus-level counts')"
   ]
  },
  {
   "cell_type": "markdown",
   "metadata": {
    "application/vnd.databricks.v1+cell": {
     "cellMetadata": {
      "byteLimit": 2048000,
      "rowLimit": 10000
     },
     "inputWidgets": {},
     "nuid": "327fd724-57b6-4660-b4ce-e3c9b0ea11ad",
     "showTitle": false,
     "tableResultSettingsMap": {},
     "title": ""
    }
   },
   "source": [
    "**rescale to 0-1**"
   ]
  },
  {
   "cell_type": "code",
   "execution_count": 0,
   "metadata": {
    "application/vnd.databricks.v1+cell": {
     "cellMetadata": {
      "byteLimit": 2048000,
      "rowLimit": 10000
     },
     "inputWidgets": {},
     "nuid": "0aca5472-7e55-4163-b36b-ba4f52650d95",
     "showTitle": false,
     "tableResultSettingsMap": {},
     "title": ""
    }
   },
   "outputs": [],
   "source": [
    "def log_abundance_table_rescale(df):\n",
    "    return (df - df.min().min())/(df.max().max() - df.min().min())\n",
    "\n",
    "df_species_log_scaled = log_abundance_table_rescale(df_species_log)\n",
    "plot_data_distribution(df_species_log_scaled, 'Rescaled_log10 species-level relative abundance')"
   ]
  },
  {
   "cell_type": "code",
   "execution_count": 0,
   "metadata": {
    "application/vnd.databricks.v1+cell": {
     "cellMetadata": {
      "byteLimit": 2048000,
      "rowLimit": 10000
     },
     "inputWidgets": {},
     "nuid": "8693d917-e192-4c62-a35e-7041395244fc",
     "showTitle": false,
     "tableResultSettingsMap": {},
     "title": ""
    }
   },
   "outputs": [],
   "source": [
    "df_genus_log_scaled = log_abundance_table_rescale(df_genus_log)\n",
    "plot_data_distribution(df_genus_log_scaled, 'Rescaled_log10 genus-level relative abundance')"
   ]
  },
  {
   "cell_type": "code",
   "execution_count": 0,
   "metadata": {
    "application/vnd.databricks.v1+cell": {
     "cellMetadata": {
      "byteLimit": 2048000,
      "rowLimit": 10000
     },
     "inputWidgets": {},
     "nuid": "1bbe1159-3f16-4720-b4b9-579058ebae86",
     "showTitle": false,
     "tableResultSettingsMap": {},
     "title": ""
    }
   },
   "outputs": [],
   "source": [
    "df_genus_log_scaled.to_csv('../data/dicaprio_mpa4_genus_log_scaled.csv', sep='\\t', header=True, index=True)\n",
    "df_species_log_scaled.to_csv('../data/dicaprio_mpa4_species_log_scaled.csv', sep='\\t', header=True, index=True)\n"
   ]
  },
  {
   "cell_type": "code",
   "execution_count": 0,
   "metadata": {
    "application/vnd.databricks.v1+cell": {
     "cellMetadata": {
      "byteLimit": 2048000,
      "rowLimit": 10000
     },
     "inputWidgets": {},
     "nuid": "6ff52eef-5891-419d-bc66-d53146442249",
     "showTitle": false,
     "tableResultSettingsMap": {},
     "title": ""
    }
   },
   "outputs": [],
   "source": [
    "df_genus_log_scaled_reduced = feature_reduction_pipeline(df_genus_log_scaled, variance_threshold=0.01, correlation_threshold=0.8, viz_corr_clusters=False, fname='dicaprio_mpa4_genus_log_scaled_reduced')"
   ]
  },
  {
   "cell_type": "code",
   "execution_count": 0,
   "metadata": {
    "application/vnd.databricks.v1+cell": {
     "cellMetadata": {
      "byteLimit": 2048000,
      "rowLimit": 10000
     },
     "inputWidgets": {},
     "nuid": "6bf7f4d6-a09a-4b7e-a3b3-17aa9ca31028",
     "showTitle": false,
     "tableResultSettingsMap": {},
     "title": ""
    }
   },
   "outputs": [],
   "source": [
    "plot_data_distribution(df_genus_log_scaled_reduced, 'Log10 Genus-level counts after feature reduction')"
   ]
  },
  {
   "cell_type": "code",
   "execution_count": 0,
   "metadata": {
    "application/vnd.databricks.v1+cell": {
     "cellMetadata": {
      "byteLimit": 2048000,
      "rowLimit": 10000
     },
     "inputWidgets": {},
     "nuid": "895881d2-730a-400d-bb1d-31a32691d3d9",
     "showTitle": false,
     "tableResultSettingsMap": {},
     "title": ""
    }
   },
   "outputs": [],
   "source": [
    "df_genus_log_scaled_reduced.to_csv('../data/dicaprio_mpa4_genus_log_scaled_reduced.csv', sep='\\t', header=True, index=True)"
   ]
  },
  {
   "cell_type": "markdown",
   "metadata": {
    "application/vnd.databricks.v1+cell": {
     "cellMetadata": {},
     "inputWidgets": {},
     "nuid": "ec0891d0-0c8f-43a2-9454-db9dcba846d5",
     "showTitle": false,
     "tableResultSettingsMap": {},
     "title": ""
    }
   },
   "source": [
    "# end"
   ]
  }
 ],
 "metadata": {
  "application/vnd.databricks.v1+notebook": {
   "computePreferences": null,
   "dashboards": [],
   "environmentMetadata": null,
   "inputWidgetPreferences": null,
   "language": "python",
   "notebookMetadata": {
    "pythonIndentUnit": 4
   },
   "notebookName": "21_DicaprioMPA4_DataPreprocessing",
   "widgets": {}
  },
  "kernelspec": {
   "display_name": "ai-omic",
   "language": "python",
   "name": "python3"
  },
  "language_info": {
   "name": "python"
  }
 },
 "nbformat": 4,
 "nbformat_minor": 0
}
