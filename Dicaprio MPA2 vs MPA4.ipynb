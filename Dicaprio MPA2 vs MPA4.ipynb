{
 "cells": [
  {
   "cell_type": "markdown",
   "metadata": {
    "application/vnd.databricks.v1+cell": {
     "cellMetadata": {
      "byteLimit": 2048000,
      "rowLimit": 10000
     },
     "inputWidgets": {},
     "nuid": "af593c49-4728-4e55-a241-d81caec9eab0",
     "showTitle": false,
     "tableResultSettingsMap": {},
     "title": ""
    }
   },
   "source": [
    "# Comparison between MPA2 and MPA4 of Dicaprio Data\n",
    "\n",
    "using the species level data, \n",
    "- compare if the column names (i.e. species) are aligned, how many shared and different, if it's possible to mapping\n",
    "- compare the abundance of the shared columns "
   ]
  },
  {
   "cell_type": "code",
   "execution_count": 0,
   "metadata": {
    "application/vnd.databricks.v1+cell": {
     "cellMetadata": {
      "byteLimit": 2048000,
      "rowLimit": 10000
     },
     "inputWidgets": {},
     "nuid": "fd0f1547-d5d2-4827-9906-d2f030812081",
     "showTitle": false,
     "tableResultSettingsMap": {},
     "title": ""
    }
   },
   "outputs": [],
   "source": [
    "import pandas as pd"
   ]
  },
  {
   "cell_type": "code",
   "execution_count": 0,
   "metadata": {
    "application/vnd.databricks.v1+cell": {
     "cellMetadata": {
      "byteLimit": 2048000,
      "rowLimit": 10000
     },
     "inputWidgets": {},
     "nuid": "13b63cee-5f8e-40a4-96f0-dbf3ab1ed31d",
     "showTitle": false,
     "tableResultSettingsMap": {},
     "title": ""
    }
   },
   "outputs": [],
   "source": [
    "# Load MPA2 processed species table\n",
    "mpa2_df = spark.table(\"onesource_eu_dev_rni.onebiome.mpa_2_species_table\").toPandas().fillna(0)\n",
    "print(mpa2_df.shape)"
   ]
  },
  {
   "cell_type": "code",
   "execution_count": 0,
   "metadata": {
    "application/vnd.databricks.v1+cell": {
     "cellMetadata": {
      "byteLimit": 2048000,
      "rowLimit": 10000
     },
     "inputWidgets": {},
     "nuid": "0dc74122-fb1d-41b1-aa44-579a196671fc",
     "showTitle": false,
     "tableResultSettingsMap": {},
     "title": ""
    }
   },
   "outputs": [],
   "source": [
    "# Load MPA4 processed species table\n",
    "mpa4_df = pd.read_csv('data/dicaprio_mpa4_species.csv', sep='\\t', header=0, index_col=0)\n",
    "print(mpa4_df.shape)"
   ]
  },
  {
   "cell_type": "code",
   "execution_count": 0,
   "metadata": {
    "application/vnd.databricks.v1+cell": {
     "cellMetadata": {
      "byteLimit": 2048000,
      "rowLimit": 10000
     },
     "inputWidgets": {},
     "nuid": "a3036fad-068e-4adb-8f20-8cc2ee703948",
     "showTitle": false,
     "tableResultSettingsMap": {},
     "title": ""
    }
   },
   "outputs": [],
   "source": [
    "# keep only shared samples in mpa2\n",
    "print(\"original sample size:\",  len(mpa2_df)) \n",
    "mpa2_shared_df = mpa2_df[mpa2_df['_id'].isin(list(mpa4_df.index.astype(str)))]\n",
    "print(\"shared sample size:\",  len(mpa2_shared_df)) \n"
   ]
  },
  {
   "cell_type": "code",
   "execution_count": 0,
   "metadata": {
    "application/vnd.databricks.v1+cell": {
     "cellMetadata": {
      "byteLimit": 2048000,
      "rowLimit": 10000
     },
     "inputWidgets": {},
     "nuid": "7bb54bf6-a451-4a40-98d5-0fa306ec0a34",
     "showTitle": false,
     "tableResultSettingsMap": {},
     "title": ""
    }
   },
   "outputs": [],
   "source": [
    "%pip install matplotlib-venn"
   ]
  },
  {
   "cell_type": "code",
   "execution_count": 0,
   "metadata": {
    "application/vnd.databricks.v1+cell": {
     "cellMetadata": {
      "byteLimit": 2048000,
      "rowLimit": 10000
     },
     "inputWidgets": {},
     "nuid": "f752cc34-664c-4784-8ce1-9840005afb76",
     "showTitle": false,
     "tableResultSettingsMap": {},
     "title": ""
    }
   },
   "outputs": [],
   "source": [
    "mpa2_shared_df = mpa2_shared_df.set_index('_id')\n",
    "mpa2_shared_df.columns = [col.replace('_', ' ') for col in mpa2_shared_df.columns]\n",
    "\n",
    "mpa4_df.columns = [col.replace('unknown', 'unclassified') for col in mpa4_df.columns]"
   ]
  },
  {
   "cell_type": "code",
   "execution_count": 0,
   "metadata": {
    "application/vnd.databricks.v1+cell": {
     "cellMetadata": {
      "byteLimit": 2048000,
      "rowLimit": 10000
     },
     "inputWidgets": {},
     "nuid": "87114a17-4282-4ba9-bae9-97d6209e5025",
     "showTitle": false,
     "tableResultSettingsMap": {},
     "title": ""
    }
   },
   "outputs": [],
   "source": [
    "# compare the column names \n",
    "import matplotlib.pyplot as plt\n",
    "import seaborn as sns\n",
    "\n",
    "cols_mpa4 = set(mpa4_df.columns)\n",
    "cols_mpa2 = set(mpa2_shared_df.columns)\n",
    "\n",
    "venn_labels = {\n",
    "    '10': 'MPA4 only',\n",
    "    '01': 'MPA2 only',\n",
    "    '11': 'Shared'\n",
    "}\n",
    "\n",
    "from matplotlib_venn import venn2\n",
    "\n",
    "plt.figure(figsize=(8,6))\n",
    "venn2([cols_mpa4, cols_mpa2], set_labels=('MPA4', 'MPA2'))\n",
    "plt.title('Venn Diagram of Species')\n",
    "plt.show()"
   ]
  },
  {
   "cell_type": "code",
   "execution_count": 0,
   "metadata": {
    "application/vnd.databricks.v1+cell": {
     "cellMetadata": {
      "byteLimit": 2048000,
      "rowLimit": 10000
     },
     "inputWidgets": {},
     "nuid": "04a067a4-89dc-4258-894a-174cadcbc327",
     "showTitle": false,
     "tableResultSettingsMap": {},
     "title": ""
    }
   },
   "outputs": [],
   "source": [
    "cols_mpa4_genus = set(col.split(' ')[0].capitalize() for col in mpa4_df.columns)\n",
    "cols_mpa2_genus = set(col.split(' ')[0].capitalize() for col in mpa2_shared_df.columns)\n",
    "\n",
    "\n",
    "venn_labels = {\n",
    "    '10': 'MPA4 only',\n",
    "    '01': 'MPA2 only',\n",
    "    '11': 'Shared'\n",
    "}\n",
    "\n",
    "from matplotlib_venn import venn2\n",
    "\n",
    "plt.figure(figsize=(8,6))\n",
    "venn2([cols_mpa4_genus, cols_mpa2_genus], set_labels=('MPA4', 'MPA2'))\n",
    "plt.title('Venn Diagram of Genus')\n",
    "plt.show()"
   ]
  },
  {
   "cell_type": "code",
   "execution_count": 0,
   "metadata": {
    "application/vnd.databricks.v1+cell": {
     "cellMetadata": {
      "byteLimit": 2048000,
      "rowLimit": 10000
     },
     "inputWidgets": {},
     "nuid": "b5ba75bb-2423-4def-bda4-ef09bad87552",
     "showTitle": false,
     "tableResultSettingsMap": {},
     "title": ""
    }
   },
   "outputs": [],
   "source": [
    "sorted(list(cols_mpa2_genus - cols_mpa4_genus))"
   ]
  },
  {
   "cell_type": "code",
   "execution_count": 0,
   "metadata": {
    "application/vnd.databricks.v1+cell": {
     "cellMetadata": {
      "byteLimit": 2048000,
      "rowLimit": 10000
     },
     "inputWidgets": {},
     "nuid": "189f968a-1759-4c1c-acaf-c90c629e0fb5",
     "showTitle": false,
     "tableResultSettingsMap": {},
     "title": ""
    }
   },
   "outputs": [],
   "source": [
    "sorted(list(cols_mpa4_genus - cols_mpa2_genus))"
   ]
  },
  {
   "cell_type": "code",
   "execution_count": 0,
   "metadata": {
    "application/vnd.databricks.v1+cell": {
     "cellMetadata": {},
     "inputWidgets": {},
     "nuid": "3f4f3882-27ae-48ab-9968-a81a38e0638a",
     "showTitle": false,
     "tableResultSettingsMap": {},
     "title": ""
    }
   },
   "outputs": [],
   "source": [
    "# keep the shared columns, make visualization comparison by\n",
    "#  1. heatmaps of differences\n",
    "#  2. "
   ]
  }
 ],
 "metadata": {
  "application/vnd.databricks.v1+notebook": {
   "computePreferences": null,
   "dashboards": [],
   "environmentMetadata": {
    "base_environment": "",
    "environment_version": "2"
   },
   "inputWidgetPreferences": null,
   "language": "python",
   "notebookMetadata": {
    "pythonIndentUnit": 4
   },
   "notebookName": "Dicaprio MPA2 vs MPA4",
   "widgets": {}
  },
  "language_info": {
   "name": "python"
  }
 },
 "nbformat": 4,
 "nbformat_minor": 0
}
